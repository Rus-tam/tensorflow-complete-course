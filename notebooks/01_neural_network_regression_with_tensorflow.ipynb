{
  "nbformat": 4,
  "nbformat_minor": 0,
  "metadata": {
    "colab": {
      "provenance": [],
      "mount_file_id": "https://github.com/Rus-tam/tensorflow-complete-course/blob/main/notebooks/01_neural_network_regression_with_tensorflow.ipynb",
      "authorship_tag": "ABX9TyO7NI+gAk8Z448P0sag+cSu"
    },
    "kernelspec": {
      "name": "python3",
      "display_name": "Python 3"
    },
    "language_info": {
      "name": "python"
    }
  },
  "cells": [
    {
      "cell_type": "markdown",
      "source": [
        "## Introduction to Regression with Neural Networks in TensorFlow\n",
        "There are many definitions for a regression problem but in our case, we're going to simplify it: predicting a numerical variable based on some other combination of variables, even shorter... predicting a number"
      ],
      "metadata": {
        "id": "L4t4gG39p2Mc"
      }
    },
    {
      "cell_type": "code",
      "source": [
        "# Import TensorFlow\n",
        "import tensorflow as tf\n",
        "print(tf.__version__)"
      ],
      "metadata": {
        "colab": {
          "base_uri": "https://localhost:8080/"
        },
        "id": "YICHdZj-p_0n",
        "outputId": "73e75a13-db97-4cbc-bb8f-44e56b9ad919"
      },
      "execution_count": 1,
      "outputs": [
        {
          "output_type": "stream",
          "name": "stdout",
          "text": [
            "2.11.0\n"
          ]
        }
      ]
    },
    {
      "cell_type": "markdown",
      "source": [
        "## Creating data to view and fit"
      ],
      "metadata": {
        "id": "xnH8iUg1sGnS"
      }
    },
    {
      "cell_type": "code",
      "source": [
        "import numpy as np\n",
        "import matplotlib.pyplot as plt\n",
        "\n",
        "# Create features\n",
        "X = np.array([-7.0, -4.0, -1.0, 2.0, 5.0, 8.0, 11.0, 14.0])\n",
        "\n",
        "# Create labels\n",
        "y = np.array([3.0, 6.0, 9.0, 12.0, 15.0, 18.0, 21.0, 24.0])\n",
        "\n",
        "# Visualize it\n",
        "plt.scatter(X, y);"
      ],
      "metadata": {
        "colab": {
          "base_uri": "https://localhost:8080/",
          "height": 269
        },
        "id": "69KS6J7wsYeG",
        "outputId": "5b8942fe-ce7e-4da5-8496-113164be5f6d"
      },
      "execution_count": 2,
      "outputs": [
        {
          "output_type": "display_data",
          "data": {
            "text/plain": [
              "<Figure size 432x288 with 1 Axes>"
            ],
            "image/png": "[encoded data removed]"
          },
          "metadata": {
            "needs_background": "light"
          }
        }
      ]
    },
    {
      "cell_type": "code",
      "source": [
        "y == X + 10"
      ],
      "metadata": {
        "id": "B3c5IxaCs5Xu",
        "colab": {
          "base_uri": "https://localhost:8080/"
        },
        "outputId": "3850ca0e-c994-49c8-d754-1d2e97a2b3ec"
      },
      "execution_count": 3,
      "outputs": [
        {
          "output_type": "execute_result",
          "data": {
            "text/plain": [
              "array([ True,  True,  True,  True,  True,  True,  True,  True])"
            ]
          },
          "metadata": {},
          "execution_count": 3
        }
      ]
    },
    {
      "cell_type": "markdown",
      "source": [
        "## Input and output shapes"
      ],
      "metadata": {
        "id": "eAYsJjucuLbv"
      }
    },
    {
      "cell_type": "code",
      "source": [
        "# Create a demo tensor for our housing price prediction problem\n",
        "house_info = tf.constant(['bedroom', 'bathroom', 'garage'])\n",
        "house_price = tf.constant([939700])\n",
        "house_info, house_price"
      ],
      "metadata": {
        "colab": {
          "base_uri": "https://localhost:8080/"
        },
        "id": "WDtOSnZ6uOJh",
        "outputId": "5beba926-409f-46c5-c29d-8e2a624079df"
      },
      "execution_count": 4,
      "outputs": [
        {
          "output_type": "execute_result",
          "data": {
            "text/plain": [
              "(<tf.Tensor: shape=(3,), dtype=string, numpy=array([b'bedroom', b'bathroom', b'garage'], dtype=object)>,\n",
              " <tf.Tensor: shape=(1,), dtype=int32, numpy=array([939700], dtype=int32)>)"
            ]
          },
          "metadata": {},
          "execution_count": 4
        }
      ]
    },
    {
      "cell_type": "code",
      "source": [
        "input_shape = X[0].shape\n",
        "output_shape = y[0].shape\n",
        "input_shape, output_shape"
      ],
      "metadata": {
        "colab": {
          "base_uri": "https://localhost:8080/"
        },
        "id": "URJZdzV6uwTS",
        "outputId": "b557751e-db6b-4256-fd5f-71257a7e5229"
      },
      "execution_count": 5,
      "outputs": [
        {
          "output_type": "execute_result",
          "data": {
            "text/plain": [
              "((), ())"
            ]
          },
          "metadata": {},
          "execution_count": 5
        }
      ]
    },
    {
      "cell_type": "code",
      "source": [
        "# Turn our NumPy arrays into tensors\n",
        "X = tf.constant(X)\n",
        "y = tf.constant(y)\n",
        "X, y"
      ],
      "metadata": {
        "colab": {
          "base_uri": "https://localhost:8080/"
        },
        "id": "bwv4EGH-u_QA",
        "outputId": "dc3599eb-d823-4ec7-bedb-c464a02b9bd9"
      },
      "execution_count": 6,
      "outputs": [
        {
          "output_type": "execute_result",
          "data": {
            "text/plain": [
              "(<tf.Tensor: shape=(8,), dtype=float64, numpy=array([-7., -4., -1.,  2.,  5.,  8., 11., 14.])>,\n",
              " <tf.Tensor: shape=(8,), dtype=float64, numpy=array([ 3.,  6.,  9., 12., 15., 18., 21., 24.])>)"
            ]
          },
          "metadata": {},
          "execution_count": 6
        }
      ]
    },
    {
      "cell_type": "code",
      "source": [
        "input_shape = X[0].shape\n",
        "output_shape = y[0].shape\n",
        "input_shape, output_shape"
      ],
      "metadata": {
        "colab": {
          "base_uri": "https://localhost:8080/"
        },
        "id": "vmZZgAuXwoXt",
        "outputId": "5cbb7d14-9f57-4f98-df04-cccf11afda18"
      },
      "execution_count": 7,
      "outputs": [
        {
          "output_type": "execute_result",
          "data": {
            "text/plain": [
              "(TensorShape([]), TensorShape([]))"
            ]
          },
          "metadata": {},
          "execution_count": 7
        }
      ]
    },
    {
      "cell_type": "markdown",
      "source": [
        "## Steps in modelling with TensorFlow\n",
        "\n",
        "1. **Creating a model** - define the input and output layers, as well the hidden layers of a deep learning model\n",
        "2. **Compiling a model** - define the loss function (in order words, the function which tells our model how wrong it is) and the optimizer (tells our model how to improve the patterns its learning) and evaluation metrics (what we can use to interpret the performance of our model).\n",
        "3. **Fitting a model** - letting the model try to find patterns between X & y (features and labels)."
      ],
      "metadata": {
        "id": "-SpOWiv7wwsQ"
      }
    },
    {
      "cell_type": "code",
      "source": [
        "# Set random seed\n",
        "tf.random.set_seed(42)\n",
        "\n",
        "# 1. Create a model using the Sequential API\n",
        "model = tf.keras.Sequential([\n",
        "    tf.keras.layers.Dense(1)\n",
        "])\n",
        "\n",
        "# 2. Compile the model\n",
        "model.compile(loss=tf.keras.losses.mae,\n",
        "              optimizer=tf.keras.optimizers.SGD(),\n",
        "              metrics=['mae'])\n",
        "\n",
        "# 3. Fit the model\n",
        "model.fit(tf.expand_dims(X, axis=-1), y, epochs=5)"
      ],
      "metadata": {
        "colab": {
          "base_uri": "https://localhost:8080/"
        },
        "id": "Sf3uFIsWyJwP",
        "outputId": "6862bcb3-c790-464f-c0bc-8a3a0722af9f"
      },
      "execution_count": 8,
      "outputs": [
        {
          "output_type": "stream",
          "name": "stdout",
          "text": [
            "Epoch 1/5\n",
            "1/1 [==============================] - 1s 578ms/step - loss: 13.2615 - mae: 13.2615\n",
            "Epoch 2/5\n",
            "1/1 [==============================] - 0s 9ms/step - loss: 13.1290 - mae: 13.1290\n",
            "Epoch 3/5\n",
            "1/1 [==============================] - 0s 10ms/step - loss: 12.9965 - mae: 12.9965\n",
            "Epoch 4/5\n",
            "1/1 [==============================] - 0s 6ms/step - loss: 12.8640 - mae: 12.8640\n",
            "Epoch 5/5\n",
            "1/1 [==============================] - 0s 12ms/step - loss: 12.7315 - mae: 12.7315\n"
          ]
        },
        {
          "output_type": "execute_result",
          "data": {
            "text/plain": [
              "<keras.callbacks.History at 0x7fbebc251820>"
            ]
          },
          "metadata": {},
          "execution_count": 8
        }
      ]
    },
    {
      "cell_type": "code",
      "source": [
        "# Check out X and y\n",
        "X, y"
      ],
      "metadata": {
        "colab": {
          "base_uri": "https://localhost:8080/"
        },
        "id": "j7-I4FtPyYhQ",
        "outputId": "f72e51b9-32fa-4c88-bb34-efd94c5ebe70"
      },
      "execution_count": 9,
      "outputs": [
        {
          "output_type": "execute_result",
          "data": {
            "text/plain": [
              "(<tf.Tensor: shape=(8,), dtype=float64, numpy=array([-7., -4., -1.,  2.,  5.,  8., 11., 14.])>,\n",
              " <tf.Tensor: shape=(8,), dtype=float64, numpy=array([ 3.,  6.,  9., 12., 15., 18., 21., 24.])>)"
            ]
          },
          "metadata": {},
          "execution_count": 9
        }
      ]
    },
    {
      "cell_type": "code",
      "source": [
        "# Try and make a prediction using our model\n",
        "y_pred = model.predict([17.0])\n",
        "y_pred"
      ],
      "metadata": {
        "colab": {
          "base_uri": "https://localhost:8080/"
        },
        "id": "Xq_wGG_p3UlD",
        "outputId": "f21e4c35-0f25-495a-fdba-b542f521bb6e"
      },
      "execution_count": 10,
      "outputs": [
        {
          "output_type": "stream",
          "name": "stdout",
          "text": [
            "1/1 [==============================] - 0s 259ms/step\n"
          ]
        },
        {
          "output_type": "execute_result",
          "data": {
            "text/plain": [
              "array([[4.1835303]], dtype=float32)"
            ]
          },
          "metadata": {},
          "execution_count": 10
        }
      ]
    },
    {
      "cell_type": "code",
      "source": [
        "y_pred + 11"
      ],
      "metadata": {
        "colab": {
          "base_uri": "https://localhost:8080/"
        },
        "id": "gCShjcuZ3dz2",
        "outputId": "2eb26e40-93aa-439a-c2f5-e93cea84cd2a"
      },
      "execution_count": 11,
      "outputs": [
        {
          "output_type": "execute_result",
          "data": {
            "text/plain": [
              "array([[15.183531]], dtype=float32)"
            ]
          },
          "metadata": {},
          "execution_count": 11
        }
      ]
    },
    {
      "cell_type": "markdown",
      "source": [
        "## Improving our model\n",
        "\n",
        "We can improve our model, by altering the steps we took to create a model.\n",
        "\n",
        "1. **Creating a model** - here we might add more layers, increase the number of hidden units( also called neurons) within each of the hidden layers, change the activation function of each layer.\n",
        "2. **Compiling a model** - here we might change the optimization function or perhaps the **learning rate** of the optimization function.\n",
        "3. **Fitting a model** - here we might fit a model for more **epochs** (leave it training for longer) or on more data (give the model more examples to learn from).\n"
      ],
      "metadata": {
        "id": "nBfuyXk24J6c"
      }
    },
    {
      "cell_type": "code",
      "source": [
        "# Let's rebuild our model\n",
        "\n",
        "# 1. Create the model\n",
        "model = tf.keras.Sequential([\n",
        "    tf.keras.layers.Dense(1)\n",
        "])\n",
        "\n",
        "# 2. Compile the model\n",
        "model.compile(loss=tf.keras.losses.mae,\n",
        "              optimizer=tf.keras.optimizers.SGD(),\n",
        "              metrics=[\"mae\"])\n",
        "\n",
        "# 3. Fit the model (this time we'll train for longer)\n",
        "model.fit(tf.expand_dims(X, axis=-1), y, epochs=100)"
      ],
      "metadata": {
        "colab": {
          "base_uri": "https://localhost:8080/"
        },
        "id": "SWizP2-w-L9A",
        "outputId": "deae556a-eb96-48dd-c83c-a45bfae16567"
      },
      "execution_count": 12,
      "outputs": [
        {
          "output_type": "stream",
          "name": "stdout",
          "text": [
            "Epoch 1/100\n",
            "1/1 [==============================] - 0s 370ms/step - loss: 21.6785 - mae: 21.6785\n",
            "Epoch 2/100\n",
            "1/1 [==============================] - 0s 13ms/step - loss: 21.2854 - mae: 21.2854\n",
            "Epoch 3/100\n",
            "1/1 [==============================] - 0s 12ms/step - loss: 20.8923 - mae: 20.8923\n",
            "Epoch 4/100\n",
            "1/1 [==============================] - 0s 16ms/step - loss: 20.5144 - mae: 20.5144\n",
            "Epoch 5/100\n",
            "1/1 [==============================] - 0s 15ms/step - loss: 20.2331 - mae: 20.2331\n",
            "Epoch 6/100\n",
            "1/1 [==============================] - 0s 17ms/step - loss: 19.9519 - mae: 19.9519\n",
            "Epoch 7/100\n",
            "1/1 [==============================] - 0s 12ms/step - loss: 19.6706 - mae: 19.6706\n",
            "Epoch 8/100\n",
            "1/1 [==============================] - 0s 9ms/step - loss: 19.3894 - mae: 19.3894\n",
            "Epoch 9/100\n",
            "1/1 [==============================] - 0s 8ms/step - loss: 19.1081 - mae: 19.1081\n",
            "Epoch 10/100\n",
            "1/1 [==============================] - 0s 12ms/step - loss: 18.8269 - mae: 18.8269\n",
            "Epoch 11/100\n",
            "1/1 [==============================] - 0s 15ms/step - loss: 18.5456 - mae: 18.5456\n",
            "Epoch 12/100\n",
            "1/1 [==============================] - 0s 11ms/step - loss: 18.2644 - mae: 18.2644\n",
            "Epoch 13/100\n",
            "1/1 [==============================] - 0s 7ms/step - loss: 17.9831 - mae: 17.9831\n",
            "Epoch 14/100\n",
            "1/1 [==============================] - 0s 14ms/step - loss: 17.7019 - mae: 17.7019\n",
            "Epoch 15/100\n",
            "1/1 [==============================] - 0s 15ms/step - loss: 17.4206 - mae: 17.4206\n",
            "Epoch 16/100\n",
            "1/1 [==============================] - 0s 13ms/step - loss: 17.1394 - mae: 17.1394\n",
            "Epoch 17/100\n",
            "1/1 [==============================] - 0s 7ms/step - loss: 16.8581 - mae: 16.8581\n",
            "Epoch 18/100\n",
            "1/1 [==============================] - 0s 6ms/step - loss: 16.5769 - mae: 16.5769\n",
            "Epoch 19/100\n",
            "1/1 [==============================] - 0s 7ms/step - loss: 16.2956 - mae: 16.2956\n",
            "Epoch 20/100\n",
            "1/1 [==============================] - 0s 11ms/step - loss: 16.0144 - mae: 16.0144\n",
            "Epoch 21/100\n",
            "1/1 [==============================] - 0s 12ms/step - loss: 15.7331 - mae: 15.7331\n",
            "Epoch 22/100\n",
            "1/1 [==============================] - 0s 13ms/step - loss: 15.4519 - mae: 15.4519\n",
            "Epoch 23/100\n",
            "1/1 [==============================] - 0s 10ms/step - loss: 15.1706 - mae: 15.1706\n",
            "Epoch 24/100\n",
            "1/1 [==============================] - 0s 12ms/step - loss: 14.8894 - mae: 14.8894\n",
            "Epoch 25/100\n",
            "1/1 [==============================] - 0s 14ms/step - loss: 14.6525 - mae: 14.6525\n",
            "Epoch 26/100\n",
            "1/1 [==============================] - 0s 10ms/step - loss: 14.5200 - mae: 14.5200\n",
            "Epoch 27/100\n",
            "1/1 [==============================] - 0s 11ms/step - loss: 14.3875 - mae: 14.3875\n",
            "Epoch 28/100\n",
            "1/1 [==============================] - 0s 8ms/step - loss: 14.2550 - mae: 14.2550\n",
            "Epoch 29/100\n",
            "1/1 [==============================] - 0s 8ms/step - loss: 14.1225 - mae: 14.1225\n",
            "Epoch 30/100\n",
            "1/1 [==============================] - 0s 8ms/step - loss: 13.9900 - mae: 13.9900\n",
            "Epoch 31/100\n",
            "1/1 [==============================] - 0s 19ms/step - loss: 13.8575 - mae: 13.8575\n",
            "Epoch 32/100\n",
            "1/1 [==============================] - 0s 16ms/step - loss: 13.7250 - mae: 13.7250\n",
            "Epoch 33/100\n",
            "1/1 [==============================] - 0s 7ms/step - loss: 13.5925 - mae: 13.5925\n",
            "Epoch 34/100\n",
            "1/1 [==============================] - 0s 10ms/step - loss: 13.4600 - mae: 13.4600\n",
            "Epoch 35/100\n",
            "1/1 [==============================] - 0s 18ms/step - loss: 13.3275 - mae: 13.3275\n",
            "Epoch 36/100\n",
            "1/1 [==============================] - 0s 7ms/step - loss: 13.1950 - mae: 13.1950\n",
            "Epoch 37/100\n",
            "1/1 [==============================] - 0s 7ms/step - loss: 13.0625 - mae: 13.0625\n",
            "Epoch 38/100\n",
            "1/1 [==============================] - 0s 8ms/step - loss: 12.9300 - mae: 12.9300\n",
            "Epoch 39/100\n",
            "1/1 [==============================] - 0s 9ms/step - loss: 12.7975 - mae: 12.7975\n",
            "Epoch 40/100\n",
            "1/1 [==============================] - 0s 14ms/step - loss: 12.6650 - mae: 12.6650\n",
            "Epoch 41/100\n",
            "1/1 [==============================] - 0s 9ms/step - loss: 12.5325 - mae: 12.5325\n",
            "Epoch 42/100\n",
            "1/1 [==============================] - 0s 11ms/step - loss: 12.4000 - mae: 12.4000\n",
            "Epoch 43/100\n",
            "1/1 [==============================] - 0s 11ms/step - loss: 12.2675 - mae: 12.2675\n",
            "Epoch 44/100\n",
            "1/1 [==============================] - 0s 9ms/step - loss: 12.1350 - mae: 12.1350\n",
            "Epoch 45/100\n",
            "1/1 [==============================] - 0s 9ms/step - loss: 12.0025 - mae: 12.0025\n",
            "Epoch 46/100\n",
            "1/1 [==============================] - 0s 8ms/step - loss: 11.8700 - mae: 11.8700\n",
            "Epoch 47/100\n",
            "1/1 [==============================] - 0s 9ms/step - loss: 11.7375 - mae: 11.7375\n",
            "Epoch 48/100\n",
            "1/1 [==============================] - 0s 9ms/step - loss: 11.6050 - mae: 11.6050\n",
            "Epoch 49/100\n",
            "1/1 [==============================] - 0s 9ms/step - loss: 11.4725 - mae: 11.4725\n",
            "Epoch 50/100\n",
            "1/1 [==============================] - 0s 7ms/step - loss: 11.3400 - mae: 11.3400\n",
            "Epoch 51/100\n",
            "1/1 [==============================] - 0s 8ms/step - loss: 11.2075 - mae: 11.2075\n",
            "Epoch 52/100\n",
            "1/1 [==============================] - 0s 8ms/step - loss: 11.0750 - mae: 11.0750\n",
            "Epoch 53/100\n",
            "1/1 [==============================] - 0s 11ms/step - loss: 10.9425 - mae: 10.9425\n",
            "Epoch 54/100\n",
            "1/1 [==============================] - 0s 11ms/step - loss: 10.8100 - mae: 10.8100\n",
            "Epoch 55/100\n",
            "1/1 [==============================] - 0s 11ms/step - loss: 10.6775 - mae: 10.6775\n",
            "Epoch 56/100\n",
            "1/1 [==============================] - 0s 15ms/step - loss: 10.5450 - mae: 10.5450\n",
            "Epoch 57/100\n",
            "1/1 [==============================] - 0s 13ms/step - loss: 10.4125 - mae: 10.4125\n",
            "Epoch 58/100\n",
            "1/1 [==============================] - 0s 8ms/step - loss: 10.2800 - mae: 10.2800\n",
            "Epoch 59/100\n",
            "1/1 [==============================] - 0s 14ms/step - loss: 10.1475 - mae: 10.1475\n",
            "Epoch 60/100\n",
            "1/1 [==============================] - 0s 9ms/step - loss: 10.0150 - mae: 10.0150\n",
            "Epoch 61/100\n",
            "1/1 [==============================] - 0s 13ms/step - loss: 9.8825 - mae: 9.8825\n",
            "Epoch 62/100\n",
            "1/1 [==============================] - 0s 15ms/step - loss: 9.7500 - mae: 9.7500\n",
            "Epoch 63/100\n",
            "1/1 [==============================] - 0s 12ms/step - loss: 9.6175 - mae: 9.6175\n",
            "Epoch 64/100\n",
            "1/1 [==============================] - 0s 12ms/step - loss: 9.4850 - mae: 9.4850\n",
            "Epoch 65/100\n",
            "1/1 [==============================] - 0s 15ms/step - loss: 9.3525 - mae: 9.3525\n",
            "Epoch 66/100\n",
            "1/1 [==============================] - 0s 14ms/step - loss: 9.2200 - mae: 9.2200\n",
            "Epoch 67/100\n",
            "1/1 [==============================] - 0s 9ms/step - loss: 9.0875 - mae: 9.0875\n",
            "Epoch 68/100\n",
            "1/1 [==============================] - 0s 10ms/step - loss: 8.9550 - mae: 8.9550\n",
            "Epoch 69/100\n",
            "1/1 [==============================] - 0s 12ms/step - loss: 8.8225 - mae: 8.8225\n",
            "Epoch 70/100\n",
            "1/1 [==============================] - 0s 8ms/step - loss: 8.6900 - mae: 8.6900\n",
            "Epoch 71/100\n",
            "1/1 [==============================] - 0s 10ms/step - loss: 8.5575 - mae: 8.5575\n",
            "Epoch 72/100\n",
            "1/1 [==============================] - 0s 11ms/step - loss: 8.4250 - mae: 8.4250\n",
            "Epoch 73/100\n",
            "1/1 [==============================] - 0s 14ms/step - loss: 8.2925 - mae: 8.2925\n",
            "Epoch 74/100\n",
            "1/1 [==============================] - 0s 10ms/step - loss: 8.1600 - mae: 8.1600\n",
            "Epoch 75/100\n",
            "1/1 [==============================] - 0s 10ms/step - loss: 8.0275 - mae: 8.0275\n",
            "Epoch 76/100\n",
            "1/1 [==============================] - 0s 11ms/step - loss: 7.8950 - mae: 7.8950\n",
            "Epoch 77/100\n",
            "1/1 [==============================] - 0s 12ms/step - loss: 7.7625 - mae: 7.7625\n",
            "Epoch 78/100\n",
            "1/1 [==============================] - 0s 9ms/step - loss: 7.6300 - mae: 7.6300\n",
            "Epoch 79/100\n",
            "1/1 [==============================] - 0s 10ms/step - loss: 7.4975 - mae: 7.4975\n",
            "Epoch 80/100\n",
            "1/1 [==============================] - 0s 13ms/step - loss: 7.3650 - mae: 7.3650\n",
            "Epoch 81/100\n",
            "1/1 [==============================] - 0s 12ms/step - loss: 7.2325 - mae: 7.2325\n",
            "Epoch 82/100\n",
            "1/1 [==============================] - 0s 10ms/step - loss: 7.1000 - mae: 7.1000\n",
            "Epoch 83/100\n",
            "1/1 [==============================] - 0s 9ms/step - loss: 6.9675 - mae: 6.9675\n",
            "Epoch 84/100\n",
            "1/1 [==============================] - 0s 15ms/step - loss: 6.9281 - mae: 6.9281\n",
            "Epoch 85/100\n",
            "1/1 [==============================] - 0s 16ms/step - loss: 6.9225 - mae: 6.9225\n",
            "Epoch 86/100\n",
            "1/1 [==============================] - 0s 6ms/step - loss: 6.9169 - mae: 6.9169\n",
            "Epoch 87/100\n",
            "1/1 [==============================] - 0s 8ms/step - loss: 6.9113 - mae: 6.9113\n",
            "Epoch 88/100\n",
            "1/1 [==============================] - 0s 9ms/step - loss: 6.9056 - mae: 6.9056\n",
            "Epoch 89/100\n",
            "1/1 [==============================] - 0s 12ms/step - loss: 6.9000 - mae: 6.9000\n",
            "Epoch 90/100\n",
            "1/1 [==============================] - 0s 13ms/step - loss: 6.8944 - mae: 6.8944\n",
            "Epoch 91/100\n",
            "1/1 [==============================] - 0s 6ms/step - loss: 6.8888 - mae: 6.8888\n",
            "Epoch 92/100\n",
            "1/1 [==============================] - 0s 13ms/step - loss: 6.8831 - mae: 6.8831\n",
            "Epoch 93/100\n",
            "1/1 [==============================] - 0s 12ms/step - loss: 6.8775 - mae: 6.8775\n",
            "Epoch 94/100\n",
            "1/1 [==============================] - 0s 8ms/step - loss: 6.8719 - mae: 6.8719\n",
            "Epoch 95/100\n",
            "1/1 [==============================] - 0s 8ms/step - loss: 6.8663 - mae: 6.8663\n",
            "Epoch 96/100\n",
            "1/1 [==============================] - 0s 12ms/step - loss: 6.8606 - mae: 6.8606\n",
            "Epoch 97/100\n",
            "1/1 [==============================] - 0s 14ms/step - loss: 6.8550 - mae: 6.8550\n",
            "Epoch 98/100\n",
            "1/1 [==============================] - 0s 11ms/step - loss: 6.8494 - mae: 6.8494\n",
            "Epoch 99/100\n",
            "1/1 [==============================] - 0s 15ms/step - loss: 6.8438 - mae: 6.8438\n",
            "Epoch 100/100\n",
            "1/1 [==============================] - 0s 10ms/step - loss: 6.8381 - mae: 6.8381\n"
          ]
        },
        {
          "output_type": "execute_result",
          "data": {
            "text/plain": [
              "<keras.callbacks.History at 0x7fbec01048b0>"
            ]
          },
          "metadata": {},
          "execution_count": 12
        }
      ]
    },
    {
      "cell_type": "code",
      "source": [
        "# Remind ourselfs of the data\n",
        "X, y"
      ],
      "metadata": {
        "colab": {
          "base_uri": "https://localhost:8080/"
        },
        "id": "oqUJB_ZDBi49",
        "outputId": "0b52fa31-9433-4056-cffe-bc9512c56c84"
      },
      "execution_count": 13,
      "outputs": [
        {
          "output_type": "execute_result",
          "data": {
            "text/plain": [
              "(<tf.Tensor: shape=(8,), dtype=float64, numpy=array([-7., -4., -1.,  2.,  5.,  8., 11., 14.])>,\n",
              " <tf.Tensor: shape=(8,), dtype=float64, numpy=array([ 3.,  6.,  9., 12., 15., 18., 21., 24.])>)"
            ]
          },
          "metadata": {},
          "execution_count": 13
        }
      ]
    },
    {
      "cell_type": "code",
      "source": [
        "# Let's see if our model's prediction has improved...\n",
        "y_pred = model.predict([17.0])\n",
        "y_pred"
      ],
      "metadata": {
        "colab": {
          "base_uri": "https://localhost:8080/"
        },
        "id": "u_IzXLwmCESU",
        "outputId": "4d10d206-2b47-4cb7-897c-c4c3b787f3e3"
      },
      "execution_count": 14,
      "outputs": [
        {
          "output_type": "stream",
          "name": "stdout",
          "text": [
            "1/1 [==============================] - 0s 88ms/step\n"
          ]
        },
        {
          "output_type": "execute_result",
          "data": {
            "text/plain": [
              "array([[29.559357]], dtype=float32)"
            ]
          },
          "metadata": {},
          "execution_count": 14
        }
      ]
    },
    {
      "cell_type": "code",
      "source": [
        "# Let's see if we can make another change to improve our model\n",
        "\n",
        "# 1. Create the model (this time with an extra hidden layers with 100 hidden units)\n",
        "model = tf.keras.Sequential([\n",
        "    tf.keras.layers.Dense(100, activation='relu'),\n",
        "    tf.keras.layers.Dense(100, activation='relu'),\n",
        "    tf.keras.layers.Dense(1)\n",
        "])\n",
        "\n",
        "# 2. Compile the model\n",
        "model.compile(loss='mae',\n",
        "              optimizer=tf.keras.optimizers.Adam(learning_rate=0.01),\n",
        "              metrics=['mae'])\n",
        "\n",
        "# 3. Fit the model\n",
        "model.fit(tf.expand_dims(X, axis=-1), y, epochs=100)"
      ],
      "metadata": {
        "colab": {
          "base_uri": "https://localhost:8080/"
        },
        "id": "FH2Q1tNSCQew",
        "outputId": "871c9ae7-8274-4ce5-f4ed-1eff41e2dd51"
      },
      "execution_count": 15,
      "outputs": [
        {
          "output_type": "stream",
          "name": "stdout",
          "text": [
            "Epoch 1/100\n",
            "1/1 [==============================] - 1s 905ms/step - loss: 13.0399 - mae: 13.0399\n",
            "Epoch 2/100\n",
            "1/1 [==============================] - 0s 11ms/step - loss: 10.0203 - mae: 10.0203\n",
            "Epoch 3/100\n",
            "1/1 [==============================] - 0s 9ms/step - loss: 7.8224 - mae: 7.8224\n",
            "Epoch 4/100\n",
            "1/1 [==============================] - 0s 8ms/step - loss: 5.2496 - mae: 5.2496\n",
            "Epoch 5/100\n",
            "1/1 [==============================] - 0s 13ms/step - loss: 4.1734 - mae: 4.1734\n",
            "Epoch 6/100\n",
            "1/1 [==============================] - 0s 11ms/step - loss: 5.5597 - mae: 5.5597\n",
            "Epoch 7/100\n",
            "1/1 [==============================] - 0s 11ms/step - loss: 6.1502 - mae: 6.1502\n",
            "Epoch 8/100\n",
            "1/1 [==============================] - 0s 9ms/step - loss: 6.0168 - mae: 6.0168\n",
            "Epoch 9/100\n",
            "1/1 [==============================] - 0s 12ms/step - loss: 5.4292 - mae: 5.4292\n",
            "Epoch 10/100\n",
            "1/1 [==============================] - 0s 9ms/step - loss: 4.5623 - mae: 4.5623\n",
            "Epoch 11/100\n",
            "1/1 [==============================] - 0s 14ms/step - loss: 3.8332 - mae: 3.8332\n",
            "Epoch 12/100\n",
            "1/1 [==============================] - 0s 19ms/step - loss: 3.6980 - mae: 3.6980\n",
            "Epoch 13/100\n",
            "1/1 [==============================] - 0s 10ms/step - loss: 4.1688 - mae: 4.1688\n",
            "Epoch 14/100\n",
            "1/1 [==============================] - 0s 10ms/step - loss: 4.2581 - mae: 4.2581\n",
            "Epoch 15/100\n",
            "1/1 [==============================] - 0s 11ms/step - loss: 3.8162 - mae: 3.8162\n",
            "Epoch 16/100\n",
            "1/1 [==============================] - 0s 11ms/step - loss: 3.3799 - mae: 3.3799\n",
            "Epoch 17/100\n",
            "1/1 [==============================] - 0s 11ms/step - loss: 3.4654 - mae: 3.4654\n",
            "Epoch 18/100\n",
            "1/1 [==============================] - 0s 14ms/step - loss: 3.7750 - mae: 3.7750\n",
            "Epoch 19/100\n",
            "1/1 [==============================] - 0s 13ms/step - loss: 3.8889 - mae: 3.8889\n",
            "Epoch 20/100\n",
            "1/1 [==============================] - 0s 8ms/step - loss: 3.6632 - mae: 3.6632\n",
            "Epoch 21/100\n",
            "1/1 [==============================] - 0s 16ms/step - loss: 3.2461 - mae: 3.2461\n",
            "Epoch 22/100\n",
            "1/1 [==============================] - 0s 17ms/step - loss: 2.9303 - mae: 2.9303\n",
            "Epoch 23/100\n",
            "1/1 [==============================] - 0s 11ms/step - loss: 2.7358 - mae: 2.7358\n",
            "Epoch 24/100\n",
            "1/1 [==============================] - 0s 10ms/step - loss: 2.7228 - mae: 2.7228\n",
            "Epoch 25/100\n",
            "1/1 [==============================] - 0s 9ms/step - loss: 2.5898 - mae: 2.5898\n",
            "Epoch 26/100\n",
            "1/1 [==============================] - 0s 8ms/step - loss: 2.3461 - mae: 2.3461\n",
            "Epoch 27/100\n",
            "1/1 [==============================] - 0s 11ms/step - loss: 2.1178 - mae: 2.1178\n",
            "Epoch 28/100\n",
            "1/1 [==============================] - 0s 7ms/step - loss: 1.9514 - mae: 1.9514\n",
            "Epoch 29/100\n",
            "1/1 [==============================] - 0s 11ms/step - loss: 1.8518 - mae: 1.8518\n",
            "Epoch 30/100\n",
            "1/1 [==============================] - 0s 13ms/step - loss: 1.4981 - mae: 1.4981\n",
            "Epoch 31/100\n",
            "1/1 [==============================] - 0s 12ms/step - loss: 1.0299 - mae: 1.0299\n",
            "Epoch 32/100\n",
            "1/1 [==============================] - 0s 11ms/step - loss: 1.0028 - mae: 1.0028\n",
            "Epoch 33/100\n",
            "1/1 [==============================] - 0s 11ms/step - loss: 0.5100 - mae: 0.5100\n",
            "Epoch 34/100\n",
            "1/1 [==============================] - 0s 11ms/step - loss: 0.7440 - mae: 0.7440\n",
            "Epoch 35/100\n",
            "1/1 [==============================] - 0s 19ms/step - loss: 0.4717 - mae: 0.4717\n",
            "Epoch 36/100\n",
            "1/1 [==============================] - 0s 12ms/step - loss: 0.4165 - mae: 0.4165\n",
            "Epoch 37/100\n",
            "1/1 [==============================] - 0s 14ms/step - loss: 0.9367 - mae: 0.9367\n",
            "Epoch 38/100\n",
            "1/1 [==============================] - 0s 13ms/step - loss: 0.5116 - mae: 0.5116\n",
            "Epoch 39/100\n",
            "1/1 [==============================] - 0s 15ms/step - loss: 1.3241 - mae: 1.3241\n",
            "Epoch 40/100\n",
            "1/1 [==============================] - 0s 11ms/step - loss: 1.5478 - mae: 1.5478\n",
            "Epoch 41/100\n",
            "1/1 [==============================] - 0s 15ms/step - loss: 1.4105 - mae: 1.4105\n",
            "Epoch 42/100\n",
            "1/1 [==============================] - 0s 11ms/step - loss: 0.6914 - mae: 0.6914\n",
            "Epoch 43/100\n",
            "1/1 [==============================] - 0s 11ms/step - loss: 1.3390 - mae: 1.3390\n",
            "Epoch 44/100\n",
            "1/1 [==============================] - 0s 9ms/step - loss: 1.5305 - mae: 1.5305\n",
            "Epoch 45/100\n",
            "1/1 [==============================] - 0s 9ms/step - loss: 1.0152 - mae: 1.0152\n",
            "Epoch 46/100\n",
            "1/1 [==============================] - 0s 13ms/step - loss: 0.6063 - mae: 0.6063\n",
            "Epoch 47/100\n",
            "1/1 [==============================] - 0s 11ms/step - loss: 0.8966 - mae: 0.8966\n",
            "Epoch 48/100\n",
            "1/1 [==============================] - 0s 10ms/step - loss: 0.6050 - mae: 0.6050\n",
            "Epoch 49/100\n",
            "1/1 [==============================] - 0s 15ms/step - loss: 0.5951 - mae: 0.5951\n",
            "Epoch 50/100\n",
            "1/1 [==============================] - 0s 11ms/step - loss: 0.7819 - mae: 0.7819\n",
            "Epoch 51/100\n",
            "1/1 [==============================] - 0s 9ms/step - loss: 0.3328 - mae: 0.3328\n",
            "Epoch 52/100\n",
            "1/1 [==============================] - 0s 11ms/step - loss: 0.8242 - mae: 0.8242\n",
            "Epoch 53/100\n",
            "1/1 [==============================] - 0s 12ms/step - loss: 0.8777 - mae: 0.8777\n",
            "Epoch 54/100\n",
            "1/1 [==============================] - 0s 13ms/step - loss: 0.3468 - mae: 0.3468\n",
            "Epoch 55/100\n",
            "1/1 [==============================] - 0s 8ms/step - loss: 0.9612 - mae: 0.9612\n",
            "Epoch 56/100\n",
            "1/1 [==============================] - 0s 12ms/step - loss: 1.3261 - mae: 1.3261\n",
            "Epoch 57/100\n",
            "1/1 [==============================] - 0s 11ms/step - loss: 1.0718 - mae: 1.0718\n",
            "Epoch 58/100\n",
            "1/1 [==============================] - 0s 11ms/step - loss: 0.3150 - mae: 0.3150\n",
            "Epoch 59/100\n",
            "1/1 [==============================] - 0s 10ms/step - loss: 0.9609 - mae: 0.9609\n",
            "Epoch 60/100\n",
            "1/1 [==============================] - 0s 9ms/step - loss: 1.4569 - mae: 1.4569\n",
            "Epoch 61/100\n",
            "1/1 [==============================] - 0s 10ms/step - loss: 1.3828 - mae: 1.3828\n",
            "Epoch 62/100\n",
            "1/1 [==============================] - 0s 10ms/step - loss: 0.8852 - mae: 0.8852\n",
            "Epoch 63/100\n",
            "1/1 [==============================] - 0s 15ms/step - loss: 0.2179 - mae: 0.2179\n",
            "Epoch 64/100\n",
            "1/1 [==============================] - 0s 11ms/step - loss: 0.5770 - mae: 0.5770\n",
            "Epoch 65/100\n",
            "1/1 [==============================] - 0s 11ms/step - loss: 0.3838 - mae: 0.3838\n",
            "Epoch 66/100\n",
            "1/1 [==============================] - 0s 10ms/step - loss: 0.5909 - mae: 0.5909\n",
            "Epoch 67/100\n",
            "1/1 [==============================] - 0s 17ms/step - loss: 0.7380 - mae: 0.7380\n",
            "Epoch 68/100\n",
            "1/1 [==============================] - 0s 13ms/step - loss: 0.5230 - mae: 0.5230\n",
            "Epoch 69/100\n",
            "1/1 [==============================] - 0s 15ms/step - loss: 0.3472 - mae: 0.3472\n",
            "Epoch 70/100\n",
            "1/1 [==============================] - 0s 9ms/step - loss: 0.4224 - mae: 0.4224\n",
            "Epoch 71/100\n",
            "1/1 [==============================] - 0s 9ms/step - loss: 0.1332 - mae: 0.1332\n",
            "Epoch 72/100\n",
            "1/1 [==============================] - 0s 12ms/step - loss: 0.3003 - mae: 0.3003\n",
            "Epoch 73/100\n",
            "1/1 [==============================] - 0s 22ms/step - loss: 0.1535 - mae: 0.1535\n",
            "Epoch 74/100\n",
            "1/1 [==============================] - 0s 12ms/step - loss: 0.3620 - mae: 0.3620\n",
            "Epoch 75/100\n",
            "1/1 [==============================] - 0s 10ms/step - loss: 0.1771 - mae: 0.1771\n",
            "Epoch 76/100\n",
            "1/1 [==============================] - 0s 8ms/step - loss: 0.3668 - mae: 0.3668\n",
            "Epoch 77/100\n",
            "1/1 [==============================] - 0s 11ms/step - loss: 0.2174 - mae: 0.2174\n",
            "Epoch 78/100\n",
            "1/1 [==============================] - 0s 7ms/step - loss: 0.5933 - mae: 0.5933\n",
            "Epoch 79/100\n",
            "1/1 [==============================] - 0s 7ms/step - loss: 0.6425 - mae: 0.6425\n",
            "Epoch 80/100\n",
            "1/1 [==============================] - 0s 11ms/step - loss: 0.2098 - mae: 0.2098\n",
            "Epoch 81/100\n",
            "1/1 [==============================] - 0s 7ms/step - loss: 0.7682 - mae: 0.7682\n",
            "Epoch 82/100\n",
            "1/1 [==============================] - 0s 11ms/step - loss: 1.0493 - mae: 1.0493\n",
            "Epoch 83/100\n",
            "1/1 [==============================] - 0s 12ms/step - loss: 0.8661 - mae: 0.8661\n",
            "Epoch 84/100\n",
            "1/1 [==============================] - 0s 14ms/step - loss: 0.2462 - mae: 0.2462\n",
            "Epoch 85/100\n",
            "1/1 [==============================] - 0s 12ms/step - loss: 0.8373 - mae: 0.8373\n",
            "Epoch 86/100\n",
            "1/1 [==============================] - 0s 16ms/step - loss: 1.2871 - mae: 1.2871\n",
            "Epoch 87/100\n",
            "1/1 [==============================] - 0s 13ms/step - loss: 1.1247 - mae: 1.1247\n",
            "Epoch 88/100\n",
            "1/1 [==============================] - 0s 12ms/step - loss: 0.4568 - mae: 0.4568\n",
            "Epoch 89/100\n",
            "1/1 [==============================] - 0s 10ms/step - loss: 0.6344 - mae: 0.6344\n",
            "Epoch 90/100\n",
            "1/1 [==============================] - 0s 8ms/step - loss: 1.1082 - mae: 1.1082\n",
            "Epoch 91/100\n",
            "1/1 [==============================] - 0s 12ms/step - loss: 1.0895 - mae: 1.0895\n",
            "Epoch 92/100\n",
            "1/1 [==============================] - 0s 8ms/step - loss: 0.6424 - mae: 0.6424\n",
            "Epoch 93/100\n",
            "1/1 [==============================] - 0s 13ms/step - loss: 0.2535 - mae: 0.2535\n",
            "Epoch 94/100\n",
            "1/1 [==============================] - 0s 12ms/step - loss: 0.6011 - mae: 0.6011\n",
            "Epoch 95/100\n",
            "1/1 [==============================] - 0s 13ms/step - loss: 0.4068 - mae: 0.4068\n",
            "Epoch 96/100\n",
            "1/1 [==============================] - 0s 11ms/step - loss: 0.2740 - mae: 0.2740\n",
            "Epoch 97/100\n",
            "1/1 [==============================] - 0s 17ms/step - loss: 0.4129 - mae: 0.4129\n",
            "Epoch 98/100\n",
            "1/1 [==============================] - 0s 10ms/step - loss: 0.1121 - mae: 0.1121\n",
            "Epoch 99/100\n",
            "1/1 [==============================] - 0s 18ms/step - loss: 0.2693 - mae: 0.2693\n",
            "Epoch 100/100\n",
            "1/1 [==============================] - 0s 12ms/step - loss: 0.1366 - mae: 0.1366\n"
          ]
        },
        {
          "output_type": "execute_result",
          "data": {
            "text/plain": [
              "<keras.callbacks.History at 0x7fbeadf618b0>"
            ]
          },
          "metadata": {},
          "execution_count": 15
        }
      ]
    },
    {
      "cell_type": "code",
      "source": [
        "# Let's remind ourselves of the data\n",
        "X, y"
      ],
      "metadata": {
        "colab": {
          "base_uri": "https://localhost:8080/"
        },
        "id": "4luz-p5cFBgl",
        "outputId": "77f9505a-70e2-49f0-8170-95e6fb8f7ea6"
      },
      "execution_count": 16,
      "outputs": [
        {
          "output_type": "execute_result",
          "data": {
            "text/plain": [
              "(<tf.Tensor: shape=(8,), dtype=float64, numpy=array([-7., -4., -1.,  2.,  5.,  8., 11., 14.])>,\n",
              " <tf.Tensor: shape=(8,), dtype=float64, numpy=array([ 3.,  6.,  9., 12., 15., 18., 21., 24.])>)"
            ]
          },
          "metadata": {},
          "execution_count": 16
        }
      ]
    },
    {
      "cell_type": "code",
      "source": [
        "# Let's try to make a prediction\n",
        "model.predict([17.0])"
      ],
      "metadata": {
        "colab": {
          "base_uri": "https://localhost:8080/"
        },
        "id": "eKmmD2IwFYXv",
        "outputId": "6125f0a8-7f74-4f4a-dee9-0cac42acba66"
      },
      "execution_count": 17,
      "outputs": [
        {
          "output_type": "stream",
          "name": "stdout",
          "text": [
            "1/1 [==============================] - 0s 125ms/step\n"
          ]
        },
        {
          "output_type": "execute_result",
          "data": {
            "text/plain": [
              "array([[26.804596]], dtype=float32)"
            ]
          },
          "metadata": {},
          "execution_count": 17
        }
      ]
    },
    {
      "cell_type": "markdown",
      "source": [
        "## Evaluating model\n",
        "\n",
        "In practice, a typical workflow you'll go through when building neural networks is:\n",
        "\n",
        "```\n",
        "Build a model => fir it => evaluate it => tweak a model => fit it => evaluate it => tweak a model => fit it => evaluate it ...\n",
        "```"
      ],
      "metadata": {
        "id": "ElJnFJ41Fd9_"
      }
    },
    {
      "cell_type": "markdown",
      "source": [
        "When it comes to evaluation... there are 3 words you should memorize:\n",
        "\n",
        " > \"Visualize, visualize, visualize\"\n",
        "\n",
        "It's a good idea to visualize:\n",
        "* The data - what data are we working with? What does it look like?\n",
        "* The model itself - what does our model look like?\n",
        "* The training of a model - how does a model perform while it learns?\n",
        "* The predictions of the model - how do the predictions of a model line up against the ground truth (the original labels)?"
      ],
      "metadata": {
        "id": "sZGret4O5KN0"
      }
    },
    {
      "cell_type": "code",
      "source": [
        "# Make a bigger dataset\n",
        "X = tf.range(-100, 100, 4)\n",
        "X"
      ],
      "metadata": {
        "colab": {
          "base_uri": "https://localhost:8080/"
        },
        "id": "TBbv05-u5jXj",
        "outputId": "914c0154-ec35-439d-d87d-8eade4b691f4"
      },
      "execution_count": 18,
      "outputs": [
        {
          "output_type": "execute_result",
          "data": {
            "text/plain": [
              "<tf.Tensor: shape=(50,), dtype=int32, numpy=\n",
              "array([-100,  -96,  -92,  -88,  -84,  -80,  -76,  -72,  -68,  -64,  -60,\n",
              "        -56,  -52,  -48,  -44,  -40,  -36,  -32,  -28,  -24,  -20,  -16,\n",
              "        -12,   -8,   -4,    0,    4,    8,   12,   16,   20,   24,   28,\n",
              "         32,   36,   40,   44,   48,   52,   56,   60,   64,   68,   72,\n",
              "         76,   80,   84,   88,   92,   96], dtype=int32)>"
            ]
          },
          "metadata": {},
          "execution_count": 18
        }
      ]
    },
    {
      "cell_type": "code",
      "source": [
        "# Make labels for the dataset\n",
        "y = X + 10\n",
        "y"
      ],
      "metadata": {
        "colab": {
          "base_uri": "https://localhost:8080/"
        },
        "id": "VCQ9aTYR6iUk",
        "outputId": "5a782035-7044-4398-93b8-4ed8bccc4dd8"
      },
      "execution_count": 19,
      "outputs": [
        {
          "output_type": "execute_result",
          "data": {
            "text/plain": [
              "<tf.Tensor: shape=(50,), dtype=int32, numpy=\n",
              "array([-90, -86, -82, -78, -74, -70, -66, -62, -58, -54, -50, -46, -42,\n",
              "       -38, -34, -30, -26, -22, -18, -14, -10,  -6,  -2,   2,   6,  10,\n",
              "        14,  18,  22,  26,  30,  34,  38,  42,  46,  50,  54,  58,  62,\n",
              "        66,  70,  74,  78,  82,  86,  90,  94,  98, 102, 106], dtype=int32)>"
            ]
          },
          "metadata": {},
          "execution_count": 19
        }
      ]
    },
    {
      "cell_type": "code",
      "source": [
        "# Visualize data\n",
        "\n",
        "plt.plot(X, y);"
      ],
      "metadata": {
        "colab": {
          "base_uri": "https://localhost:8080/",
          "height": 265
        },
        "id": "oou174Lc6oQ0",
        "outputId": "5e6c13af-fce5-4174-83bf-1e136955c15d"
      },
      "execution_count": 20,
      "outputs": [
        {
          "output_type": "display_data",
          "data": {
            "text/plain": [
              "<Figure size 432x288 with 1 Axes>"
            ],
            "image/png": "[encoded data removed]"
          },
          "metadata": {
            "needs_background": "light"
          }
        }
      ]
    },
    {
      "cell_type": "markdown",
      "source": [
        "### The 3 sets...\n",
        "\n",
        "* Training set - the model learns from this data, which is typically 70-80 % of the total data you have available.\n",
        "* Validation set - the model gets tuned on this data, which is typically 10-15 % of the data available.\n",
        "* Test set - the model gets evaluated on this data to test what is has learned, this set is typically 10-15 % of the total data available."
      ],
      "metadata": {
        "id": "RJhLb8UI7m9f"
      }
    },
    {
      "cell_type": "code",
      "source": [
        "# Split the data into train and test sets\n",
        "X_train = X[:40] # first 40 are training samples (80% of the data)\n",
        "y_train = y[:40]\n",
        "\n",
        "X_test = X[40:] # last 10 are testing samples (20% of the data)\n",
        "y_test = y[40:]"
      ],
      "metadata": {
        "id": "gXIepBlP9MZ7"
      },
      "execution_count": 21,
      "outputs": []
    },
    {
      "cell_type": "markdown",
      "source": [
        "# Visualizing the data\n",
        "\n",
        "Now we're got our data in training and test sets... let's visualize it again!"
      ],
      "metadata": {
        "id": "rwle3Rec_Vs0"
      }
    },
    {
      "cell_type": "code",
      "source": [
        "plt.figure(figsize=(10, 7))\n",
        "# Plot training data in blue\n",
        "plt.scatter(X_train, y_train, c='b', label='Training data')\n",
        "# Plot testing data in green\n",
        "plt.scatter(X_test, y_test, c='g', label='Testing data')\n",
        "# Show a legend\n",
        "plt.legend();"
      ],
      "metadata": {
        "id": "aXZzgrbn_uIV",
        "outputId": "67fe9a88-33b4-403b-98e0-36e0d82d7f0f",
        "colab": {
          "base_uri": "https://localhost:8080/",
          "height": 428
        }
      },
      "execution_count": 22,
      "outputs": [
        {
          "output_type": "display_data",
          "data": {
            "text/plain": [
              "<Figure size 720x504 with 1 Axes>"
            ],
            "image/png": "[encoded data removed]"
          },
          "metadata": {
            "needs_background": "light"
          }
        }
      ]
    },
    {
      "cell_type": "code",
      "source": [
        "# Let's have a look at how to build a neural network for our data\n",
        "\n",
        "# 1. Create a model\n",
        "model = tf.keras.Sequential([\n",
        "    tf.keras.layers.Dense(1)\n",
        "])\n",
        "\n",
        "# 2. Compile the model\n",
        "model.compile(loss=tf.keras.losses.mae,\n",
        "              optimizer=tf.keras.optimizers.SGD(),\n",
        "              metrics=['mae'])\n",
        "\n",
        "# 3. Fit the model\n",
        "# model.fit(X_train, y_train, epoch=100)\n",
        "\n"
      ],
      "metadata": {
        "id": "GAkavUzKBDwL"
      },
      "execution_count": 23,
      "outputs": []
    },
    {
      "cell_type": "markdown",
      "source": [
        "### Visualizing the model"
      ],
      "metadata": {
        "id": "g0YBof-iC9WK"
      }
    },
    {
      "cell_type": "code",
      "source": [
        "model.summary()"
      ],
      "metadata": {
        "id": "ffUYyxBFDZ5V",
        "outputId": "2d085226-e1ca-4897-a8ff-21b0ea79af09",
        "colab": {
          "base_uri": "https://localhost:8080/",
          "height": 287
        }
      },
      "execution_count": 24,
      "outputs": [
        {
          "output_type": "error",
          "ename": "ValueError",
          "evalue": "ignored",
          "traceback": [
            "\u001b[0;31m---------------------------------------------------------------------------\u001b[0m",
            "\u001b[0;31mValueError\u001b[0m                                Traceback (most recent call last)",
            "\u001b[0;32m<ipython-input-24-5f15418b3570>\u001b[0m in \u001b[0;36m<module>\u001b[0;34m\u001b[0m\n\u001b[0;32m----> 1\u001b[0;31m \u001b[0mmodel\u001b[0m\u001b[0;34m.\u001b[0m\u001b[0msummary\u001b[0m\u001b[0;34m(\u001b[0m\u001b[0;34m)\u001b[0m\u001b[0;34m\u001b[0m\u001b[0;34m\u001b[0m\u001b[0m\n\u001b[0m",
            "\u001b[0;32m/usr/local/lib/python3.9/dist-packages/keras/engine/training.py\u001b[0m in \u001b[0;36msummary\u001b[0;34m(self, line_length, positions, print_fn, expand_nested, show_trainable, layer_range)\u001b[0m\n\u001b[1;32m   3290\u001b[0m         \"\"\"\n\u001b[1;32m   3291\u001b[0m         \u001b[0;32mif\u001b[0m \u001b[0;32mnot\u001b[0m \u001b[0mself\u001b[0m\u001b[0;34m.\u001b[0m\u001b[0mbuilt\u001b[0m\u001b[0;34m:\u001b[0m\u001b[0;34m\u001b[0m\u001b[0;34m\u001b[0m\u001b[0m\n\u001b[0;32m-> 3292\u001b[0;31m             raise ValueError(\n\u001b[0m\u001b[1;32m   3293\u001b[0m                 \u001b[0;34m\"This model has not yet been built. \"\u001b[0m\u001b[0;34m\u001b[0m\u001b[0;34m\u001b[0m\u001b[0m\n\u001b[1;32m   3294\u001b[0m                 \u001b[0;34m\"Build the model first by calling `build()` or by calling \"\u001b[0m\u001b[0;34m\u001b[0m\u001b[0;34m\u001b[0m\u001b[0m\n",
            "\u001b[0;31mValueError\u001b[0m: This model has not yet been built. Build the model first by calling `build()` or by calling the model on a batch of data."
          ]
        }
      ]
    },
    {
      "cell_type": "code",
      "source": [
        "# Let's create a model which builds automatically by defining the input_shape argument in the first layer\n",
        "tf.random.set_seed(42)\n",
        "\n",
        "# 1. Create a model (same as above)\n",
        "model = tf.keras.Sequential([\n",
        "    tf.keras.layers.Dense(10, input_shape=[1], name='input_layer'),\n",
        "    tf.keras.layers.Dense(1, name='output_layer')\n",
        "], name=\"model_1\")\n",
        "\n",
        "# 2. Compile the model\n",
        "model.compile(loss=tf.keras.losses.mae,\n",
        "              optimizer=tf.keras.optimizers.Adam(learning_rate=0.01),\n",
        "              metrics=['mae'])"
      ],
      "metadata": {
        "id": "zam_4fIbDcYf"
      },
      "execution_count": 25,
      "outputs": []
    },
    {
      "cell_type": "code",
      "source": [
        "model.summary()"
      ],
      "metadata": {
        "id": "jKbmhRsLDwUz",
        "outputId": "9cf53881-e242-4960-daf7-d49c165f7e36",
        "colab": {
          "base_uri": "https://localhost:8080/"
        }
      },
      "execution_count": 26,
      "outputs": [
        {
          "output_type": "stream",
          "name": "stdout",
          "text": [
            "Model: \"model_1\"\n",
            "_________________________________________________________________\n",
            " Layer (type)                Output Shape              Param #   \n",
            "=================================================================\n",
            " input_layer (Dense)         (None, 10)                20        \n",
            "                                                                 \n",
            " output_layer (Dense)        (None, 1)                 11        \n",
            "                                                                 \n",
            "=================================================================\n",
            "Total params: 31\n",
            "Trainable params: 31\n",
            "Non-trainable params: 0\n",
            "_________________________________________________________________\n"
          ]
        }
      ]
    },
    {
      "cell_type": "markdown",
      "source": [
        "* Total params - total number of parameters in the model.\n",
        "* Trainable parameters - these are the parameters (patterns) the model can update as it trains.\n",
        "* Non-trainable params - these parameters aren't updated during training (this is typical when you bring in already learn patterns or parameters from other models during ***transfer learning***)."
      ],
      "metadata": {
        "id": "y8IoXD1eFn61"
      }
    },
    {
      "cell_type": "code",
      "source": [
        "# Let's fit our model\n",
        "# 3. Fit the model\n",
        "model.fit(X_train, y_train, epochs=500, verbose=0)"
      ],
      "metadata": {
        "id": "2tm0LaQ8FUsu",
        "outputId": "e8794ad6-f711-4f36-d07c-cfd2d9fe5d8e",
        "colab": {
          "base_uri": "https://localhost:8080/"
        }
      },
      "execution_count": 27,
      "outputs": [
        {
          "output_type": "execute_result",
          "data": {
            "text/plain": [
              "<keras.callbacks.History at 0x7fbeaf65f220>"
            ]
          },
          "metadata": {},
          "execution_count": 27
        }
      ]
    },
    {
      "cell_type": "code",
      "source": [
        "# Get a summary of outr model\n",
        "model.summary()"
      ],
      "metadata": {
        "id": "P7XFhz6HIppm",
        "colab": {
          "base_uri": "https://localhost:8080/"
        },
        "outputId": "7fc8312b-18f7-4590-d54b-8a6ff3fa807d"
      },
      "execution_count": 28,
      "outputs": [
        {
          "output_type": "stream",
          "name": "stdout",
          "text": [
            "Model: \"model_1\"\n",
            "_________________________________________________________________\n",
            " Layer (type)                Output Shape              Param #   \n",
            "=================================================================\n",
            " input_layer (Dense)         (None, 10)                20        \n",
            "                                                                 \n",
            " output_layer (Dense)        (None, 1)                 11        \n",
            "                                                                 \n",
            "=================================================================\n",
            "Total params: 31\n",
            "Trainable params: 31\n",
            "Non-trainable params: 0\n",
            "_________________________________________________________________\n"
          ]
        }
      ]
    },
    {
      "cell_type": "code",
      "source": [
        "from tensorflow.keras.utils import plot_model\n",
        "\n",
        "plot_model(model, show_shapes=True)"
      ],
      "metadata": {
        "colab": {
          "base_uri": "https://localhost:8080/",
          "height": 312
        },
        "id": "ftLdRKbxtfYC",
        "outputId": "f5eaa034-a371-4822-f175-21ec5438a26c"
      },
      "execution_count": 29,
      "outputs": [
        {
          "output_type": "execute_result",
          "data": {
            "image/png": "[encoded data removed]",
            "text/plain": [
              "<IPython.core.display.Image object>"
            ]
          },
          "metadata": {},
          "execution_count": 29
        }
      ]
    },
    {
      "cell_type": "markdown",
      "source": [
        "### Visualizing our model's predictions\n",
        "\n",
        "To visualize predictions, it's a good idea to plot them against the ground truth labels.\n",
        "\n",
        "Often you'll see this in the form of `y_test` or `y_true` versus `y_pred` (ground truth versus your model)"
      ],
      "metadata": {
        "id": "X5K1288exHh8"
      }
    },
    {
      "cell_type": "code",
      "source": [
        "# Make some predictions\n",
        "y_pred = model.predict(X_test)\n",
        "y_pred"
      ],
      "metadata": {
        "colab": {
          "base_uri": "https://localhost:8080/"
        },
        "id": "zIvJIxY0zPeI",
        "outputId": "2abc36c4-7eb6-48ca-ca28-df545a71b1c7"
      },
      "execution_count": 30,
      "outputs": [
        {
          "output_type": "stream",
          "name": "stdout",
          "text": [
            "1/1 [==============================] - 0s 81ms/step\n"
          ]
        },
        {
          "output_type": "execute_result",
          "data": {
            "text/plain": [
              "array([[ 69.921005],\n",
              "       [ 73.917465],\n",
              "       [ 77.91394 ],\n",
              "       [ 81.910416],\n",
              "       [ 85.90689 ],\n",
              "       [ 89.903366],\n",
              "       [ 93.89984 ],\n",
              "       [ 97.89632 ],\n",
              "       [101.89278 ],\n",
              "       [105.88925 ]], dtype=float32)"
            ]
          },
          "metadata": {},
          "execution_count": 30
        }
      ]
    },
    {
      "cell_type": "code",
      "source": [
        "y_test"
      ],
      "metadata": {
        "colab": {
          "base_uri": "https://localhost:8080/"
        },
        "id": "pksI_Eiz0PUa",
        "outputId": "29465ab1-3d76-475e-ebcb-e146fe3806b2"
      },
      "execution_count": 31,
      "outputs": [
        {
          "output_type": "execute_result",
          "data": {
            "text/plain": [
              "<tf.Tensor: shape=(10,), dtype=int32, numpy=array([ 70,  74,  78,  82,  86,  90,  94,  98, 102, 106], dtype=int32)>"
            ]
          },
          "metadata": {},
          "execution_count": 31
        }
      ]
    },
    {
      "cell_type": "code",
      "source": [
        "# let's create a plotting function\n",
        "def plot_predictions(train_data=X_train,\n",
        "                     train_labels=y_train,\n",
        "                     test_data=X_test,\n",
        "                     test_labels=y_test,\n",
        "                     predictions=y_pred):\n",
        "  \"\"\"\n",
        "  Plots training data, tests and compares predictions to ground truht labels.\n",
        "  \"\"\"\n",
        "  plt.figure(figsize=(10, 7))\n",
        "  # Plot training data in blue\n",
        "  plt.scatter(train_data, train_labels, c='b', label=\"Training data\")\n",
        "  # Plot testing data in green\n",
        "  plt.scatter(test_data, test_labels, c='g', label='Testing data')\n",
        "  # Plot model's predictions in red\n",
        "  plt.scatter(test_data, predictions, c='r', label='Predictions')\n",
        "  # Show the legend\n",
        "  plt.legend();"
      ],
      "metadata": {
        "id": "JDbG2lDE0aLK"
      },
      "execution_count": 32,
      "outputs": []
    },
    {
      "cell_type": "code",
      "source": [
        "plot_predictions(train_data=X_train,\n",
        "                 train_labels=y_train,\n",
        "                 test_data=X_test,\n",
        "                 test_labels=y_test,\n",
        "                 predictions=y_pred)"
      ],
      "metadata": {
        "colab": {
          "base_uri": "https://localhost:8080/",
          "height": 428
        },
        "id": "IR_oVJUu0fyO",
        "outputId": "54e145e5-4c6d-4c41-cc64-38f85ded278a"
      },
      "execution_count": 33,
      "outputs": [
        {
          "output_type": "display_data",
          "data": {
            "text/plain": [
              "<Figure size 720x504 with 1 Axes>"
            ],
            "image/png": "[encoded data removed]"
          },
          "metadata": {
            "needs_background": "light"
          }
        }
      ]
    },
    {
      "cell_type": "markdown",
      "source": [
        "### Evaluating our model's predictions with regression evaluation metrics\n",
        "\n",
        "Depending on the problem you're working on, there will be different evaluation metrics to evaluate your model's prformance.\n",
        "\n",
        "Since we're working on regression, two of the main metrics:\n",
        "* MAE - mean absolute error, \"on average, how wrong is each of model's predictions\"\n",
        "* MSE - mean square error, \"square the average errors\""
      ],
      "metadata": {
        "id": "N25wwGfi2FEx"
      }
    },
    {
      "cell_type": "code",
      "source": [
        "# Evaluate the model on the test\n",
        "model.evaluate(X_test, y_test)"
      ],
      "metadata": {
        "id": "T0vgDEAn_P4Y",
        "colab": {
          "base_uri": "https://localhost:8080/"
        },
        "outputId": "85a8917a-dea8-42f6-d3e4-cb08bf65a7fd"
      },
      "execution_count": 34,
      "outputs": [
        {
          "output_type": "stream",
          "name": "stdout",
          "text": [
            "1/1 [==============================] - 0s 170ms/step - loss: 0.0949 - mae: 0.0949\n"
          ]
        },
        {
          "output_type": "execute_result",
          "data": {
            "text/plain": [
              "[0.09487609565258026, 0.09487609565258026]"
            ]
          },
          "metadata": {},
          "execution_count": 34
        }
      ]
    },
    {
      "cell_type": "code",
      "source": [
        "# Calculate the mean absolute error\n",
        "y_pred = tf.constant(y_pred)\n",
        "mae = tf.metrics.mean_absolute_error(y_true=y_test, y_pred=tf.squeeze(y_pred))\n",
        "mae"
      ],
      "metadata": {
        "colab": {
          "base_uri": "https://localhost:8080/"
        },
        "id": "xlz45oNsNkyd",
        "outputId": "61da39fc-f6fe-4b74-b294-6ce3a07c866c"
      },
      "execution_count": 35,
      "outputs": [
        {
          "output_type": "execute_result",
          "data": {
            "text/plain": [
              "<tf.Tensor: shape=(), dtype=float32, numpy=0.09487305>"
            ]
          },
          "metadata": {},
          "execution_count": 35
        }
      ]
    },
    {
      "cell_type": "code",
      "source": [
        "# Calculate the mean square error\n",
        "mse = tf.metrics.mean_squared_error(y_true=y_test,\n",
        "                                    y_pred=tf.squeeze(y_pred))\n",
        "mse"
      ],
      "metadata": {
        "colab": {
          "base_uri": "https://localhost:8080/"
        },
        "id": "HtZrryC4PMjd",
        "outputId": "44cb310f-e91b-481a-c70a-9e14b70a0af9"
      },
      "execution_count": 36,
      "outputs": [
        {
          "output_type": "execute_result",
          "data": {
            "text/plain": [
              "<tf.Tensor: shape=(), dtype=float32, numpy=0.009103527>"
            ]
          },
          "metadata": {},
          "execution_count": 36
        }
      ]
    },
    {
      "cell_type": "code",
      "source": [
        "# Make some functions to reuse MAE and MSE\n",
        "def mae(y_true, y_pred):\n",
        "  return tf.metrics.mean_absolute_error(y_true=y_true,\n",
        "                                       y_pred=tf.squeeze(y_pred))\n",
        "  \n",
        "def mse(y_true, y_pred):\n",
        "  return tf.metrics.mean_squared_error(y_true=y_true,\n",
        "                                       y_pred=tf.squeeze(y_pred))"
      ],
      "metadata": {
        "id": "b0PO8wMiRPK7"
      },
      "execution_count": 37,
      "outputs": []
    },
    {
      "cell_type": "markdown",
      "source": [
        "### Running experiments to improve our model\n",
        "\n",
        "\n",
        "```\n",
        "Build model -> fir it -> evaluate it -> tweak it -> fit it -> evaluate it -> tweak it -> fit it -> evaluate it ...\n",
        "```\n",
        "\n",
        "1. Get more data - get more examples for your model to train on (more opportunities to learn patterns or relationships between features and labels).\n",
        "2. Make your model larger (using a more complex model) - this might come in the form of more layers or more hidden units in each layer.\n",
        "3. Train for longer - give your model more of chance to find patterns in the data.\n",
        "\n",
        "Let's do 3 modelling experiments:\n",
        "1. `model_1` - same as the original model, 1 layer, trained for 100 epochs.\n",
        "2. `model_2` - 2 layers, trained for 100 epochs.\n",
        "3. `model_3` - 2 layers, trained for 500 epochs"
      ],
      "metadata": {
        "id": "Xu7XGGelUYM_"
      }
    },
    {
      "cell_type": "code",
      "source": [
        "X_train, y_train"
      ],
      "metadata": {
        "colab": {
          "base_uri": "https://localhost:8080/"
        },
        "id": "s34_fO_6HH3O",
        "outputId": "dd9183c7-60c0-4625-f286-6de491c80cba"
      },
      "execution_count": 38,
      "outputs": [
        {
          "output_type": "execute_result",
          "data": {
            "text/plain": [
              "(<tf.Tensor: shape=(40,), dtype=int32, numpy=\n",
              " array([-100,  -96,  -92,  -88,  -84,  -80,  -76,  -72,  -68,  -64,  -60,\n",
              "         -56,  -52,  -48,  -44,  -40,  -36,  -32,  -28,  -24,  -20,  -16,\n",
              "         -12,   -8,   -4,    0,    4,    8,   12,   16,   20,   24,   28,\n",
              "          32,   36,   40,   44,   48,   52,   56], dtype=int32)>,\n",
              " <tf.Tensor: shape=(40,), dtype=int32, numpy=\n",
              " array([-90, -86, -82, -78, -74, -70, -66, -62, -58, -54, -50, -46, -42,\n",
              "        -38, -34, -30, -26, -22, -18, -14, -10,  -6,  -2,   2,   6,  10,\n",
              "         14,  18,  22,  26,  30,  34,  38,  42,  46,  50,  54,  58,  62,\n",
              "         66], dtype=int32)>)"
            ]
          },
          "metadata": {},
          "execution_count": 38
        }
      ]
    },
    {
      "cell_type": "markdown",
      "source": [
        "**Build**  `model_1`"
      ],
      "metadata": {
        "id": "9Vs4ZoPDFkiO"
      }
    },
    {
      "cell_type": "code",
      "source": [
        "# Set random seed\n",
        "tf.random.set_seed(42)\n",
        "\n",
        "# 1. Create the model\n",
        "model_1 = tf.keras.Sequential([\n",
        "    tf.keras.layers.Dense(1)\n",
        "])\n",
        "\n",
        "# 2. Compile model\n",
        "model_1.compile(loss=tf.keras.losses.mae,\n",
        "                optimizer=tf.keras.optimizers.SGD(),\n",
        "                metrics=[\"mae\"])\n",
        "\n",
        "# 3. Fit the model\n",
        "model_1.fit(tf.expand_dims(X_train, axis=-1), y_train, epochs=100, verbose=0)"
      ],
      "metadata": {
        "id": "dWhaMCt5VQLP",
        "outputId": "907d612a-5552-45db-f403-5ae17a30cc7b",
        "colab": {
          "base_uri": "https://localhost:8080/"
        }
      },
      "execution_count": 39,
      "outputs": [
        {
          "output_type": "execute_result",
          "data": {
            "text/plain": [
              "<keras.callbacks.History at 0x7fbec2921b80>"
            ]
          },
          "metadata": {},
          "execution_count": 39
        }
      ]
    },
    {
      "cell_type": "code",
      "source": [
        "# Make and plot predictions for model_1\n",
        "y_preds_1 = model_1.predict(X_test)\n",
        "plot_predictions(predictions=y_preds_1)"
      ],
      "metadata": {
        "id": "Sewa6eW6Wyl8",
        "colab": {
          "base_uri": "https://localhost:8080/",
          "height": 483
        },
        "outputId": "fa9e4743-98fa-476e-ba69-2764af37d46c"
      },
      "execution_count": 40,
      "outputs": [
        {
          "output_type": "stream",
          "name": "stderr",
          "text": [
            "WARNING:tensorflow:5 out of the last 5 calls to <function Model.make_predict_function.<locals>.predict_function at 0x7fbec29934c0> triggered tf.function retracing. Tracing is expensive and the excessive number of tracings could be due to (1) creating @tf.function repeatedly in a loop, (2) passing tensors with different shapes, (3) passing Python objects instead of tensors. For (1), please define your @tf.function outside of the loop. For (2), @tf.function has reduce_retracing=True option that can avoid unnecessary retracing. For (3), please refer to https://www.tensorflow.org/guide/function#controlling_retracing and https://www.tensorflow.org/api_docs/python/tf/function for  more details.\n"
          ]
        },
        {
          "output_type": "stream",
          "name": "stdout",
          "text": [
            "1/1 [==============================] - 0s 39ms/step\n"
          ]
        },
        {
          "output_type": "display_data",
          "data": {
            "text/plain": [
              "<Figure size 720x504 with 1 Axes>"
            ],
            "image/png": "[encoded data removed]"
          },
          "metadata": {
            "needs_background": "light"
          }
        }
      ]
    },
    {
      "cell_type": "code",
      "source": [
        "# Calculate model_1 evaluation metrics\n",
        "mae_1 = mae(y_test, y_preds_1)\n",
        "mse_1 = mse(y_test, y_preds_1)\n",
        "mae_1, mse_1"
      ],
      "metadata": {
        "colab": {
          "base_uri": "https://localhost:8080/"
        },
        "id": "euUVzVybH7zi",
        "outputId": "45e98a84-7321-416c-bbcc-4ca5564da4ee"
      },
      "execution_count": 41,
      "outputs": [
        {
          "output_type": "execute_result",
          "data": {
            "text/plain": [
              "(<tf.Tensor: shape=(), dtype=float32, numpy=8.514237>,\n",
              " <tf.Tensor: shape=(), dtype=float32, numpy=78.93036>)"
            ]
          },
          "metadata": {},
          "execution_count": 41
        }
      ]
    },
    {
      "cell_type": "markdown",
      "source": [
        "**Build** `model_2`\n",
        "\n",
        "* 2 dense layers, trained for 100 epochs"
      ],
      "metadata": {
        "id": "52Z0cIe-Jjhg"
      }
    },
    {
      "cell_type": "code",
      "source": [
        "# Set random seed\n",
        "tf.random.set_seed(42)\n",
        "\n",
        "# 1. Creating model_2\n",
        "model_2 = tf.keras.Sequential([\n",
        "    tf.keras.layers.Dense(10),\n",
        "    tf.keras.layers.Dense(1)\n",
        "])\n",
        "\n",
        "# 2. Compile model_2\n",
        "model_2.compile(loss=tf.keras.losses.mae,\n",
        "                optimizer=tf.keras.optimizers.SGD(),\n",
        "                metrics=[\"mae\"])\n",
        "\n",
        "# 3. Fit the model_2\n",
        "model_2.fit(tf.expand_dims(X_train, axis=-1), y_train, epochs=100, verbose=0)"
      ],
      "metadata": {
        "colab": {
          "base_uri": "https://localhost:8080/"
        },
        "id": "QRrVFNioKmNn",
        "outputId": "c9112185-2545-4a16-d843-5fac0e819aea"
      },
      "execution_count": 42,
      "outputs": [
        {
          "output_type": "execute_result",
          "data": {
            "text/plain": [
              "<keras.callbacks.History at 0x7fbec277b070>"
            ]
          },
          "metadata": {},
          "execution_count": 42
        }
      ]
    },
    {
      "cell_type": "code",
      "source": [
        "# Make and plot predictions for model_2\n",
        "y_preds_2 = model_2.predict(X_test)\n",
        "plot_predictions(predictions=y_preds_2);"
      ],
      "metadata": {
        "colab": {
          "base_uri": "https://localhost:8080/",
          "height": 483
        },
        "id": "hx0e4uzPLh47",
        "outputId": "cf8b0a0a-f154-491f-917b-fd657c6eecb0"
      },
      "execution_count": 43,
      "outputs": [
        {
          "output_type": "stream",
          "name": "stderr",
          "text": [
            "WARNING:tensorflow:6 out of the last 6 calls to <function Model.make_predict_function.<locals>.predict_function at 0x7fbec27f9160> triggered tf.function retracing. Tracing is expensive and the excessive number of tracings could be due to (1) creating @tf.function repeatedly in a loop, (2) passing tensors with different shapes, (3) passing Python objects instead of tensors. For (1), please define your @tf.function outside of the loop. For (2), @tf.function has reduce_retracing=True option that can avoid unnecessary retracing. For (3), please refer to https://www.tensorflow.org/guide/function#controlling_retracing and https://www.tensorflow.org/api_docs/python/tf/function for  more details.\n"
          ]
        },
        {
          "output_type": "stream",
          "name": "stdout",
          "text": [
            "1/1 [==============================] - 0s 52ms/step\n"
          ]
        },
        {
          "output_type": "display_data",
          "data": {
            "text/plain": [
              "<Figure size 720x504 with 1 Axes>"
            ],
            "image/png": "[encoded data removed]"
          },
          "metadata": {
            "needs_background": "light"
          }
        }
      ]
    },
    {
      "cell_type": "code",
      "source": [
        "# Calculate model_2 evaluation metrics\n",
        "mae_2 = mae(y_test, y_preds_2)\n",
        "mse_2 = mse(y_test, y_preds_2)\n",
        "mae_2, mse_2"
      ],
      "metadata": {
        "colab": {
          "base_uri": "https://localhost:8080/"
        },
        "id": "864yfzl9Lwvg",
        "outputId": "d8ba4b63-a6dc-4454-87a5-39efa0f91171"
      },
      "execution_count": 44,
      "outputs": [
        {
          "output_type": "execute_result",
          "data": {
            "text/plain": [
              "(<tf.Tensor: shape=(), dtype=float32, numpy=42.88619>,\n",
              " <tf.Tensor: shape=(), dtype=float32, numpy=1864.7742>)"
            ]
          },
          "metadata": {},
          "execution_count": 44
        }
      ]
    },
    {
      "cell_type": "markdown",
      "source": [
        "**Build** `model_3`\n",
        "\n",
        "* 2 layers, trained for 500 epochs"
      ],
      "metadata": {
        "id": "6jzNxBj7L5Aj"
      }
    },
    {
      "cell_type": "code",
      "source": [
        "# Set random seed\n",
        "tf.random.set_seed(42)\n",
        "\n",
        "# 1. Creating model_3\n",
        "model_3 = tf.keras.Sequential([\n",
        "    tf.keras.layers.Dense(10),\n",
        "    tf.keras.layers.Dense(1)\n",
        "])\n",
        "\n",
        "# 2. Compile model_3\n",
        "model_3.compile(loss=tf.keras.losses.mae,\n",
        "                optimizer=tf.keras.optimizers.SGD(),\n",
        "                metrics=[\"mae\"])\n",
        "\n",
        "# 3. Fit the model_3\n",
        "model_3.fit(tf.expand_dims(X_train, axis=-1), y_train, epochs=500, verbose=0)"
      ],
      "metadata": {
        "id": "2hkX1HGoOklu",
        "outputId": "4cdbfb11-2ffe-4f12-9d43-4ec8c3c0904f",
        "colab": {
          "base_uri": "https://localhost:8080/"
        }
      },
      "execution_count": 45,
      "outputs": [
        {
          "output_type": "execute_result",
          "data": {
            "text/plain": [
              "<keras.callbacks.History at 0x7fbf3cfc3e80>"
            ]
          },
          "metadata": {},
          "execution_count": 45
        }
      ]
    },
    {
      "cell_type": "code",
      "source": [
        "# Make and plot predictions for model_3\n",
        "y_preds_3 = model_3.predict(X_test)\n",
        "plot_predictions(predictions=y_preds_3);"
      ],
      "metadata": {
        "id": "8JAVtB7eOs7Z",
        "outputId": "695cf6d2-475f-41c7-a0d4-f5690574e8b2",
        "colab": {
          "base_uri": "https://localhost:8080/",
          "height": 445
        }
      },
      "execution_count": 46,
      "outputs": [
        {
          "output_type": "stream",
          "name": "stdout",
          "text": [
            "1/1 [==============================] - 0s 45ms/step\n"
          ]
        },
        {
          "output_type": "display_data",
          "data": {
            "text/plain": [
              "<Figure size 720x504 with 1 Axes>"
            ],
            "image/png": "[encoded data removed]"
          },
          "metadata": {
            "needs_background": "light"
          }
        }
      ]
    },
    {
      "cell_type": "code",
      "source": [
        "# Calculate model_2 evaluation metrics\n",
        "mae_3 = mae(y_test, y_preds_3)\n",
        "mse_3 = mse(y_test, y_preds_3)\n",
        "mae_3, mse_3"
      ],
      "metadata": {
        "id": "S56A5uQMOzwQ",
        "outputId": "fbfb72e9-8262-457f-f479-6da7c89ee996",
        "colab": {
          "base_uri": "https://localhost:8080/"
        }
      },
      "execution_count": 47,
      "outputs": [
        {
          "output_type": "execute_result",
          "data": {
            "text/plain": [
              "(<tf.Tensor: shape=(), dtype=float32, numpy=68.66035>,\n",
              " <tf.Tensor: shape=(), dtype=float32, numpy=4800.6455>)"
            ]
          },
          "metadata": {},
          "execution_count": 47
        }
      ]
    },
    {
      "cell_type": "markdown",
      "source": [
        "**Note** You want to start with small experiments (small models) and make sure they work and then increase their scale when necessary."
      ],
      "metadata": {
        "id": "PC5aViJLEVoH"
      }
    },
    {
      "cell_type": "markdown",
      "source": [
        "## Compairing the results of our expirients\n",
        "\n",
        "We've run a few experiments, let's compare the results"
      ],
      "metadata": {
        "id": "1VWj5_sRO9B4"
      }
    },
    {
      "cell_type": "code",
      "source": [
        "# Let's compare our model's results using a pandas DataFrame\n",
        "import pandas as pd\n",
        "\n",
        "model_results = [['model_1', mae_1.numpy(), mse_1.numpy()],\n",
        "                 ['model_2', mae_2.numpy(), mse_2.numpy()],\n",
        "                 ['model_3', mae_3.numpy(), mse_3.numpy()]]\n",
        "all_results = pd.DataFrame(model_results, columns=['model', 'mae', 'mse'])\n",
        "all_results"
      ],
      "metadata": {
        "colab": {
          "base_uri": "https://localhost:8080/",
          "height": 143
        },
        "id": "xeRo6gvZBX8-",
        "outputId": "61d01826-77f1-40a1-a92f-c1e321e25838"
      },
      "execution_count": 48,
      "outputs": [
        {
          "output_type": "execute_result",
          "data": {
            "text/plain": [
              "     model        mae          mse\n",
              "0  model_1   8.514237    78.930359\n",
              "1  model_2  42.886189  1864.774170\n",
              "2  model_3  68.660347  4800.645508"
            ],
            "text/html": [
              "\n",
              "  <div id=\"df-bc1581ad-e2df-485d-9ae2-86d91978ffe6\">\n",
              "    <div class=\"colab-df-container\">\n",
              "      <div>\n",
              "<style scoped>\n",
              "    .dataframe tbody tr th:only-of-type {\n",
              "        vertical-align: middle;\n",
              "    }\n",
              "\n",
              "    .dataframe tbody tr th {\n",
              "        vertical-align: top;\n",
              "    }\n",
              "\n",
              "    .dataframe thead th {\n",
              "        text-align: right;\n",
              "    }\n",
              "</style>\n",
              "<table border=\"1\" class=\"dataframe\">\n",
              "  <thead>\n",
              "    <tr style=\"text-align: right;\">\n",
              "      <th></th>\n",
              "      <th>model</th>\n",
              "      <th>mae</th>\n",
              "      <th>mse</th>\n",
              "    </tr>\n",
              "  </thead>\n",
              "  <tbody>\n",
              "    <tr>\n",
              "      <th>0</th>\n",
              "      <td>model_1</td>\n",
              "      <td>8.514237</td>\n",
              "      <td>78.930359</td>\n",
              "    </tr>\n",
              "    <tr>\n",
              "      <th>1</th>\n",
              "      <td>model_2</td>\n",
              "      <td>42.886189</td>\n",
              "      <td>1864.774170</td>\n",
              "    </tr>\n",
              "    <tr>\n",
              "      <th>2</th>\n",
              "      <td>model_3</td>\n",
              "      <td>68.660347</td>\n",
              "      <td>4800.645508</td>\n",
              "    </tr>\n",
              "  </tbody>\n",
              "</table>\n",
              "</div>\n",
              "      <button class=\"colab-df-convert\" onclick=\"convertToInteractive('df-bc1581ad-e2df-485d-9ae2-86d91978ffe6')\"\n",
              "              title=\"Convert this dataframe to an interactive table.\"\n",
              "              style=\"display:none;\">\n",
              "        \n",
              "  <svg xmlns=\"http://www.w3.org/2000/svg\" height=\"24px\"viewBox=\"0 0 24 24\"\n",
              "       width=\"24px\">\n",
              "    <path d=\"M0 0h24v24H0V0z\" fill=\"none\"/>\n",
              "    <path d=\"M18.56 5.44l.94 2.06.94-2.06 2.06-.94-2.06-.94-.94-2.06-.94 2.06-2.06.94zm-11 1L8.5 8.5l.94-2.06 2.06-.94-2.06-.94L8.5 2.5l-.94 2.06-2.06.94zm10 10l.94 2.06.94-2.06 2.06-.94-2.06-.94-.94-2.06-.94 2.06-2.06.94z\"/><path d=\"M17.41 7.96l-1.37-1.37c-.4-.4-.92-.59-1.43-.59-.52 0-1.04.2-1.43.59L10.3 9.45l-7.72 7.72c-.78.78-.78 2.05 0 2.83L4 21.41c.39.39.9.59 1.41.59.51 0 1.02-.2 1.41-.59l7.78-7.78 2.81-2.81c.8-.78.8-2.07 0-2.86zM5.41 20L4 18.59l7.72-7.72 1.47 1.35L5.41 20z\"/>\n",
              "  </svg>\n",
              "      </button>\n",
              "      \n",
              "  <style>\n",
              "    .colab-df-container {\n",
              "      display:flex;\n",
              "      flex-wrap:wrap;\n",
              "      gap: 12px;\n",
              "    }\n",
              "\n",
              "    .colab-df-convert {\n",
              "      background-color: #E8F0FE;\n",
              "      border: none;\n",
              "      border-radius: 50%;\n",
              "      cursor: pointer;\n",
              "      display: none;\n",
              "      fill: #1967D2;\n",
              "      height: 32px;\n",
              "      padding: 0 0 0 0;\n",
              "      width: 32px;\n",
              "    }\n",
              "\n",
              "    .colab-df-convert:hover {\n",
              "      background-color: #E2EBFA;\n",
              "      box-shadow: 0px 1px 2px rgba(60, 64, 67, 0.3), 0px 1px 3px 1px rgba(60, 64, 67, 0.15);\n",
              "      fill: #174EA6;\n",
              "    }\n",
              "\n",
              "    [theme=dark] .colab-df-convert {\n",
              "      background-color: #3B4455;\n",
              "      fill: #D2E3FC;\n",
              "    }\n",
              "\n",
              "    [theme=dark] .colab-df-convert:hover {\n",
              "      background-color: #434B5C;\n",
              "      box-shadow: 0px 1px 3px 1px rgba(0, 0, 0, 0.15);\n",
              "      filter: drop-shadow(0px 1px 2px rgba(0, 0, 0, 0.3));\n",
              "      fill: #FFFFFF;\n",
              "    }\n",
              "  </style>\n",
              "\n",
              "      <script>\n",
              "        const buttonEl =\n",
              "          document.querySelector('#df-bc1581ad-e2df-485d-9ae2-86d91978ffe6 button.colab-df-convert');\n",
              "        buttonEl.style.display =\n",
              "          google.colab.kernel.accessAllowed ? 'block' : 'none';\n",
              "\n",
              "        async function convertToInteractive(key) {\n",
              "          const element = document.querySelector('#df-bc1581ad-e2df-485d-9ae2-86d91978ffe6');\n",
              "          const dataTable =\n",
              "            await google.colab.kernel.invokeFunction('convertToInteractive',\n",
              "                                                     [key], {});\n",
              "          if (!dataTable) return;\n",
              "\n",
              "          const docLinkHtml = 'Like what you see? Visit the ' +\n",
              "            '<a target=\"_blank\" href=https://colab.research.google.com/notebooks/data_table.ipynb>data table notebook</a>'\n",
              "            + ' to learn more about interactive tables.';\n",
              "          element.innerHTML = '';\n",
              "          dataTable['output_type'] = 'display_data';\n",
              "          await google.colab.output.renderOutput(dataTable, element);\n",
              "          const docLink = document.createElement('div');\n",
              "          docLink.innerHTML = docLinkHtml;\n",
              "          element.appendChild(docLink);\n",
              "        }\n",
              "      </script>\n",
              "    </div>\n",
              "  </div>\n",
              "  "
            ]
          },
          "metadata": {},
          "execution_count": 48
        }
      ]
    },
    {
      "cell_type": "markdown",
      "source": [
        "Looks like `model_2` performed the best"
      ],
      "metadata": {
        "id": "_0ljuVrBInQy"
      }
    },
    {
      "cell_type": "markdown",
      "source": [
        "**Note:** One of your main goals should be to minimize the time between your experiments. The more experiments you do, the more things you'll figure out which don't work and in turn, get closser to figuring out what does work. Remember the machine learning practitioner's motto: \"experiment, experiment, experiment\""
      ],
      "metadata": {
        "id": "sKZLITJbLg0g"
      }
    },
    {
      "cell_type": "markdown",
      "source": [
        "## Tracking your experiments\n",
        "\n",
        "One really good habbit in machine learning modelling is to track the results of your experiments.\n",
        "\n",
        "And when doing so, it can be tedious if you're running lots of experiments.\n",
        "\n",
        "Luckily, there are tools to help us!\n",
        "\n",
        "**Resource:** As you build more models, you'll want to look into using:\n",
        "* TensorBoard - a component of the TensorFlow library to help track modelling experiments (we'll see this later).\n",
        "* Weight & Biases - a tool for tracking all of kinds of machine learning experiments (plugs straight into TensorBoard).\n",
        "\n"
      ],
      "metadata": {
        "id": "tDjSwgVQMTgg"
      }
    },
    {
      "cell_type": "markdown",
      "source": [
        "## Saving our models\n",
        "\n",
        "Saving our models allows us to use them outside of Google Colab (or wherever they were trained) such as in a web application or a mobile app.\n",
        "\n",
        "There are two main formats we can save our model's too:\n",
        "1. The SavedModel format\n",
        "2. The HDF5 format"
      ],
      "metadata": {
        "id": "fZGDYGAzM0tB"
      }
    },
    {
      "cell_type": "code",
      "source": [
        "# Save model using the SaveModel format\n",
        "model_2.save('best_model_SavedModel_format')"
      ],
      "metadata": {
        "colab": {
          "base_uri": "https://localhost:8080/"
        },
        "id": "l1zJ6gm8RThz",
        "outputId": "2fb569c4-438b-4a08-9392-2572f8402d66"
      },
      "execution_count": 49,
      "outputs": [
        {
          "output_type": "stream",
          "name": "stderr",
          "text": [
            "WARNING:absl:Found untraced functions such as _update_step_xla while saving (showing 1 of 1). These functions will not be directly callable after loading.\n"
          ]
        }
      ]
    },
    {
      "cell_type": "code",
      "source": [
        "# Save model using the HDF5 format\n",
        "model_2.save(\"best_model_HGF5_format.h5\")"
      ],
      "metadata": {
        "id": "9606lWt6St4O"
      },
      "execution_count": 50,
      "outputs": []
    },
    {
      "cell_type": "markdown",
      "source": [
        "## Loading in a saved model"
      ],
      "metadata": {
        "id": "iS-9XZ6KVwko"
      }
    },
    {
      "cell_type": "code",
      "source": [
        "# Load in the SavedModel format model\n",
        "loaded_SavedModel_format = tf.keras.models.load_model('/content/best_model_SavedModel_format')\n",
        "loaded_SavedModel_format.summary()"
      ],
      "metadata": {
        "colab": {
          "base_uri": "https://localhost:8080/"
        },
        "id": "BSUkXgUxWz-8",
        "outputId": "d93813bb-a58e-4f0d-9728-9bdf77ec5a45"
      },
      "execution_count": 51,
      "outputs": [
        {
          "output_type": "stream",
          "name": "stdout",
          "text": [
            "Model: \"sequential_5\"\n",
            "_________________________________________________________________\n",
            " Layer (type)                Output Shape              Param #   \n",
            "=================================================================\n",
            " dense_7 (Dense)             (None, 10)                20        \n",
            "                                                                 \n",
            " dense_8 (Dense)             (None, 1)                 11        \n",
            "                                                                 \n",
            "=================================================================\n",
            "Total params: 31\n",
            "Trainable params: 31\n",
            "Non-trainable params: 0\n",
            "_________________________________________________________________\n"
          ]
        }
      ]
    },
    {
      "cell_type": "code",
      "source": [
        "model_2.summary()"
      ],
      "metadata": {
        "colab": {
          "base_uri": "https://localhost:8080/"
        },
        "id": "YbHLCsNWXQmY",
        "outputId": "11d6d8ba-2f82-40a2-a0fa-03816e31b9c1"
      },
      "execution_count": 52,
      "outputs": [
        {
          "output_type": "stream",
          "name": "stdout",
          "text": [
            "Model: \"sequential_5\"\n",
            "_________________________________________________________________\n",
            " Layer (type)                Output Shape              Param #   \n",
            "=================================================================\n",
            " dense_7 (Dense)             (None, 10)                20        \n",
            "                                                                 \n",
            " dense_8 (Dense)             (None, 1)                 11        \n",
            "                                                                 \n",
            "=================================================================\n",
            "Total params: 31\n",
            "Trainable params: 31\n",
            "Non-trainable params: 0\n",
            "_________________________________________________________________\n"
          ]
        }
      ]
    },
    {
      "cell_type": "code",
      "source": [
        "# Compare model_2 predictions with SavedModel format model prediction\n",
        "model_2_preds = model_2.predict(X_test)\n",
        "loaded_SavedModel_format_preds = loaded_SavedModel_format.predict(X_test)\n",
        "model_2_preds == loaded_SavedModel_format_preds"
      ],
      "metadata": {
        "colab": {
          "base_uri": "https://localhost:8080/"
        },
        "id": "htFDjs9oXVfb",
        "outputId": "52013ee3-db1a-476c-dd88-ab32b2b87fc6"
      },
      "execution_count": 53,
      "outputs": [
        {
          "output_type": "stream",
          "name": "stdout",
          "text": [
            "1/1 [==============================] - 0s 36ms/step\n",
            "1/1 [==============================] - 0s 45ms/step\n"
          ]
        },
        {
          "output_type": "execute_result",
          "data": {
            "text/plain": [
              "array([[ True],\n",
              "       [ True],\n",
              "       [ True],\n",
              "       [ True],\n",
              "       [ True],\n",
              "       [ True],\n",
              "       [ True],\n",
              "       [ True],\n",
              "       [ True],\n",
              "       [ True]])"
            ]
          },
          "metadata": {},
          "execution_count": 53
        }
      ]
    },
    {
      "cell_type": "code",
      "source": [
        "mae(y_true=y_test, y_pred=model_2_preds) == mae(y_true=y_test, y_pred=loaded_SavedModel_format_preds)"
      ],
      "metadata": {
        "colab": {
          "base_uri": "https://localhost:8080/"
        },
        "id": "qtodMzxVX9nT",
        "outputId": "09d5b8dd-96a2-4d59-84a2-8d9e5c28cd99"
      },
      "execution_count": 54,
      "outputs": [
        {
          "output_type": "execute_result",
          "data": {
            "text/plain": [
              "<tf.Tensor: shape=(), dtype=bool, numpy=True>"
            ]
          },
          "metadata": {},
          "execution_count": 54
        }
      ]
    },
    {
      "cell_type": "code",
      "source": [
        "# Load in a model using the .h5 format\n",
        "loaded_h5_model = tf.keras.models.load_model('/content/best_model_HGF5_format.h5')\n",
        "loaded_h5_model.summary()"
      ],
      "metadata": {
        "colab": {
          "base_uri": "https://localhost:8080/"
        },
        "id": "LrM2J14RYV3A",
        "outputId": "75d96043-4f82-4a96-c6e5-8b9b58a4a3ac"
      },
      "execution_count": 55,
      "outputs": [
        {
          "output_type": "stream",
          "name": "stdout",
          "text": [
            "Model: \"sequential_5\"\n",
            "_________________________________________________________________\n",
            " Layer (type)                Output Shape              Param #   \n",
            "=================================================================\n",
            " dense_7 (Dense)             (None, 10)                20        \n",
            "                                                                 \n",
            " dense_8 (Dense)             (None, 1)                 11        \n",
            "                                                                 \n",
            "=================================================================\n",
            "Total params: 31\n",
            "Trainable params: 31\n",
            "Non-trainable params: 0\n",
            "_________________________________________________________________\n"
          ]
        }
      ]
    },
    {
      "cell_type": "code",
      "source": [
        "model_2.summary()"
      ],
      "metadata": {
        "colab": {
          "base_uri": "https://localhost:8080/"
        },
        "id": "1Vv5MfIXaAiR",
        "outputId": "eef5c8b7-f23c-45c2-c74d-aa67194b85c4"
      },
      "execution_count": 56,
      "outputs": [
        {
          "output_type": "stream",
          "name": "stdout",
          "text": [
            "Model: \"sequential_5\"\n",
            "_________________________________________________________________\n",
            " Layer (type)                Output Shape              Param #   \n",
            "=================================================================\n",
            " dense_7 (Dense)             (None, 10)                20        \n",
            "                                                                 \n",
            " dense_8 (Dense)             (None, 1)                 11        \n",
            "                                                                 \n",
            "=================================================================\n",
            "Total params: 31\n",
            "Trainable params: 31\n",
            "Non-trainable params: 0\n",
            "_________________________________________________________________\n"
          ]
        }
      ]
    },
    {
      "cell_type": "code",
      "source": [
        "# Check to see if loaded .h5 model predictions match model_2\n",
        "\n",
        "model_2_preds = model_2.predict(X_test)\n",
        "loaded_h5_model_preds = loaded_h5_model.predict(X_test)\n",
        "model_2_preds == loaded_h5_model_preds"
      ],
      "metadata": {
        "colab": {
          "base_uri": "https://localhost:8080/"
        },
        "id": "wsg-qSAoaFMo",
        "outputId": "d335036c-c5da-4456-a90e-7071d91d2c14"
      },
      "execution_count": 57,
      "outputs": [
        {
          "output_type": "stream",
          "name": "stdout",
          "text": [
            "1/1 [==============================] - 0s 20ms/step\n",
            "1/1 [==============================] - 0s 41ms/step\n"
          ]
        },
        {
          "output_type": "execute_result",
          "data": {
            "text/plain": [
              "array([[ True],\n",
              "       [ True],\n",
              "       [ True],\n",
              "       [ True],\n",
              "       [ True],\n",
              "       [ True],\n",
              "       [ True],\n",
              "       [ True],\n",
              "       [ True],\n",
              "       [ True]])"
            ]
          },
          "metadata": {},
          "execution_count": 57
        }
      ]
    },
    {
      "cell_type": "markdown",
      "source": [
        "## Download a model (or any other file) from Google Colab\n",
        "\n",
        "If you want to download your files from Google Colab:\n",
        "1. You can go to the \"files\" tab and right click on the file you're after and click \"download\"\n",
        "2. Use code (see the cell bellow)\n",
        "3. Save it to Google Drive by connecting Google Drive and copying it there (see 2nd code cell below)."
      ],
      "metadata": {
        "id": "n42ghxNHapcZ"
      }
    },
    {
      "cell_type": "code",
      "source": [
        "# Download a file from Google Colab\n",
        "from google.colab import files\n",
        "files.download(\"/content/best_model_HGF5_format.h5\")"
      ],
      "metadata": {
        "colab": {
          "base_uri": "https://localhost:8080/",
          "height": 17
        },
        "id": "B0aX8E--T2iI",
        "outputId": "02989912-41a5-4500-bc86-6263f2c1844c"
      },
      "execution_count": 58,
      "outputs": [
        {
          "output_type": "display_data",
          "data": {
            "text/plain": [
              "<IPython.core.display.Javascript object>"
            ],
            "application/javascript": [
              "\n",
              "    async function download(id, filename, size) {\n",
              "      if (!google.colab.kernel.accessAllowed) {\n",
              "        return;\n",
              "      }\n",
              "      const div = document.createElement('div');\n",
              "      const label = document.createElement('label');\n",
              "      label.textContent = `Downloading \"${filename}\": `;\n",
              "      div.appendChild(label);\n",
              "      const progress = document.createElement('progress');\n",
              "      progress.max = size;\n",
              "      div.appendChild(progress);\n",
              "      document.body.appendChild(div);\n",
              "\n",
              "      const buffers = [];\n",
              "      let downloaded = 0;\n",
              "\n",
              "      const channel = await google.colab.kernel.comms.open(id);\n",
              "      // Send a message to notify the kernel that we're ready.\n",
              "      channel.send({})\n",
              "\n",
              "      for await (const message of channel.messages) {\n",
              "        // Send a message to notify the kernel that we're ready.\n",
              "        channel.send({})\n",
              "        if (message.buffers) {\n",
              "          for (const buffer of message.buffers) {\n",
              "            buffers.push(buffer);\n",
              "            downloaded += buffer.byteLength;\n",
              "            progress.value = downloaded;\n",
              "          }\n",
              "        }\n",
              "      }\n",
              "      const blob = new Blob(buffers, {type: 'application/binary'});\n",
              "      const a = document.createElement('a');\n",
              "      a.href = window.URL.createObjectURL(blob);\n",
              "      a.download = filename;\n",
              "      div.appendChild(a);\n",
              "      a.click();\n",
              "      div.remove();\n",
              "    }\n",
              "  "
            ]
          },
          "metadata": {}
        },
        {
          "output_type": "display_data",
          "data": {
            "text/plain": [
              "<IPython.core.display.Javascript object>"
            ],
            "application/javascript": [
              "download(\"download_0ed7653a-f4d4-4ffb-a387-c44837f13418\", \"best_model_HGF5_format.h5\", 21952)"
            ]
          },
          "metadata": {}
        }
      ]
    },
    {
      "cell_type": "code",
      "source": [
        "# Save a files from Google Colab to Google Drive (requires mounting Google Drive)\n",
        "!cp /content/best_model_HGF5_format.h5 /content/drive/MyDrive"
      ],
      "metadata": {
        "id": "iXyyeAoBUq7-"
      },
      "execution_count": 59,
      "outputs": []
    },
    {
      "cell_type": "markdown",
      "source": [
        "## A larger example"
      ],
      "metadata": {
        "id": "NukUAVQHVY6U"
      }
    },
    {
      "cell_type": "code",
      "source": [
        "# Import required libraries\n",
        "import tensorflow as tf\n",
        "import pandas as pd\n",
        "import matplotlib.pyplot as plt"
      ],
      "metadata": {
        "id": "uRW-ULc3ZaW3"
      },
      "execution_count": 60,
      "outputs": []
    },
    {
      "cell_type": "code",
      "source": [
        "# read in the insurance dataset\n",
        "insurance = pd.read_csv(\"https://raw.githubusercontent.com/stedy/Machine-Learning-with-R-datasets/master/insurance.csv\")\n",
        "insurance.head()"
      ],
      "metadata": {
        "colab": {
          "base_uri": "https://localhost:8080/",
          "height": 206
        },
        "id": "wjcsr2m-aWrt",
        "outputId": "b8ed751c-243e-44ab-be64-fce8c53189a2"
      },
      "execution_count": 61,
      "outputs": [
        {
          "output_type": "execute_result",
          "data": {
            "text/plain": [
              "   age     sex     bmi  children smoker     region      charges\n",
              "0   19  female  27.900         0    yes  southwest  16884.92400\n",
              "1   18    male  33.770         1     no  southeast   1725.55230\n",
              "2   28    male  33.000         3     no  southeast   4449.46200\n",
              "3   33    male  22.705         0     no  northwest  21984.47061\n",
              "4   32    male  28.880         0     no  northwest   3866.85520"
            ],
            "text/html": [
              "\n",
              "  <div id=\"df-34c4ee77-3976-4896-a66c-0f21b194d08c\">\n",
              "    <div class=\"colab-df-container\">\n",
              "      <div>\n",
              "<style scoped>\n",
              "    .dataframe tbody tr th:only-of-type {\n",
              "        vertical-align: middle;\n",
              "    }\n",
              "\n",
              "    .dataframe tbody tr th {\n",
              "        vertical-align: top;\n",
              "    }\n",
              "\n",
              "    .dataframe thead th {\n",
              "        text-align: right;\n",
              "    }\n",
              "</style>\n",
              "<table border=\"1\" class=\"dataframe\">\n",
              "  <thead>\n",
              "    <tr style=\"text-align: right;\">\n",
              "      <th></th>\n",
              "      <th>age</th>\n",
              "      <th>sex</th>\n",
              "      <th>bmi</th>\n",
              "      <th>children</th>\n",
              "      <th>smoker</th>\n",
              "      <th>region</th>\n",
              "      <th>charges</th>\n",
              "    </tr>\n",
              "  </thead>\n",
              "  <tbody>\n",
              "    <tr>\n",
              "      <th>0</th>\n",
              "      <td>19</td>\n",
              "      <td>female</td>\n",
              "      <td>27.900</td>\n",
              "      <td>0</td>\n",
              "      <td>yes</td>\n",
              "      <td>southwest</td>\n",
              "      <td>16884.92400</td>\n",
              "    </tr>\n",
              "    <tr>\n",
              "      <th>1</th>\n",
              "      <td>18</td>\n",
              "      <td>male</td>\n",
              "      <td>33.770</td>\n",
              "      <td>1</td>\n",
              "      <td>no</td>\n",
              "      <td>southeast</td>\n",
              "      <td>1725.55230</td>\n",
              "    </tr>\n",
              "    <tr>\n",
              "      <th>2</th>\n",
              "      <td>28</td>\n",
              "      <td>male</td>\n",
              "      <td>33.000</td>\n",
              "      <td>3</td>\n",
              "      <td>no</td>\n",
              "      <td>southeast</td>\n",
              "      <td>4449.46200</td>\n",
              "    </tr>\n",
              "    <tr>\n",
              "      <th>3</th>\n",
              "      <td>33</td>\n",
              "      <td>male</td>\n",
              "      <td>22.705</td>\n",
              "      <td>0</td>\n",
              "      <td>no</td>\n",
              "      <td>northwest</td>\n",
              "      <td>21984.47061</td>\n",
              "    </tr>\n",
              "    <tr>\n",
              "      <th>4</th>\n",
              "      <td>32</td>\n",
              "      <td>male</td>\n",
              "      <td>28.880</td>\n",
              "      <td>0</td>\n",
              "      <td>no</td>\n",
              "      <td>northwest</td>\n",
              "      <td>3866.85520</td>\n",
              "    </tr>\n",
              "  </tbody>\n",
              "</table>\n",
              "</div>\n",
              "      <button class=\"colab-df-convert\" onclick=\"convertToInteractive('df-34c4ee77-3976-4896-a66c-0f21b194d08c')\"\n",
              "              title=\"Convert this dataframe to an interactive table.\"\n",
              "              style=\"display:none;\">\n",
              "        \n",
              "  <svg xmlns=\"http://www.w3.org/2000/svg\" height=\"24px\"viewBox=\"0 0 24 24\"\n",
              "       width=\"24px\">\n",
              "    <path d=\"M0 0h24v24H0V0z\" fill=\"none\"/>\n",
              "    <path d=\"M18.56 5.44l.94 2.06.94-2.06 2.06-.94-2.06-.94-.94-2.06-.94 2.06-2.06.94zm-11 1L8.5 8.5l.94-2.06 2.06-.94-2.06-.94L8.5 2.5l-.94 2.06-2.06.94zm10 10l.94 2.06.94-2.06 2.06-.94-2.06-.94-.94-2.06-.94 2.06-2.06.94z\"/><path d=\"M17.41 7.96l-1.37-1.37c-.4-.4-.92-.59-1.43-.59-.52 0-1.04.2-1.43.59L10.3 9.45l-7.72 7.72c-.78.78-.78 2.05 0 2.83L4 21.41c.39.39.9.59 1.41.59.51 0 1.02-.2 1.41-.59l7.78-7.78 2.81-2.81c.8-.78.8-2.07 0-2.86zM5.41 20L4 18.59l7.72-7.72 1.47 1.35L5.41 20z\"/>\n",
              "  </svg>\n",
              "      </button>\n",
              "      \n",
              "  <style>\n",
              "    .colab-df-container {\n",
              "      display:flex;\n",
              "      flex-wrap:wrap;\n",
              "      gap: 12px;\n",
              "    }\n",
              "\n",
              "    .colab-df-convert {\n",
              "      background-color: #E8F0FE;\n",
              "      border: none;\n",
              "      border-radius: 50%;\n",
              "      cursor: pointer;\n",
              "      display: none;\n",
              "      fill: #1967D2;\n",
              "      height: 32px;\n",
              "      padding: 0 0 0 0;\n",
              "      width: 32px;\n",
              "    }\n",
              "\n",
              "    .colab-df-convert:hover {\n",
              "      background-color: #E2EBFA;\n",
              "      box-shadow: 0px 1px 2px rgba(60, 64, 67, 0.3), 0px 1px 3px 1px rgba(60, 64, 67, 0.15);\n",
              "      fill: #174EA6;\n",
              "    }\n",
              "\n",
              "    [theme=dark] .colab-df-convert {\n",
              "      background-color: #3B4455;\n",
              "      fill: #D2E3FC;\n",
              "    }\n",
              "\n",
              "    [theme=dark] .colab-df-convert:hover {\n",
              "      background-color: #434B5C;\n",
              "      box-shadow: 0px 1px 3px 1px rgba(0, 0, 0, 0.15);\n",
              "      filter: drop-shadow(0px 1px 2px rgba(0, 0, 0, 0.3));\n",
              "      fill: #FFFFFF;\n",
              "    }\n",
              "  </style>\n",
              "\n",
              "      <script>\n",
              "        const buttonEl =\n",
              "          document.querySelector('#df-34c4ee77-3976-4896-a66c-0f21b194d08c button.colab-df-convert');\n",
              "        buttonEl.style.display =\n",
              "          google.colab.kernel.accessAllowed ? 'block' : 'none';\n",
              "\n",
              "        async function convertToInteractive(key) {\n",
              "          const element = document.querySelector('#df-34c4ee77-3976-4896-a66c-0f21b194d08c');\n",
              "          const dataTable =\n",
              "            await google.colab.kernel.invokeFunction('convertToInteractive',\n",
              "                                                     [key], {});\n",
              "          if (!dataTable) return;\n",
              "\n",
              "          const docLinkHtml = 'Like what you see? Visit the ' +\n",
              "            '<a target=\"_blank\" href=https://colab.research.google.com/notebooks/data_table.ipynb>data table notebook</a>'\n",
              "            + ' to learn more about interactive tables.';\n",
              "          element.innerHTML = '';\n",
              "          dataTable['output_type'] = 'display_data';\n",
              "          await google.colab.output.renderOutput(dataTable, element);\n",
              "          const docLink = document.createElement('div');\n",
              "          docLink.innerHTML = docLinkHtml;\n",
              "          element.appendChild(docLink);\n",
              "        }\n",
              "      </script>\n",
              "    </div>\n",
              "  </div>\n",
              "  "
            ]
          },
          "metadata": {},
          "execution_count": 61
        }
      ]
    },
    {
      "cell_type": "code",
      "source": [
        "# Let's a try one-hot encode our DataFrame so it's all numbers\n",
        "insurance_one_hot = pd.get_dummies(insurance)\n",
        "insurance_one_hot"
      ],
      "metadata": {
        "colab": {
          "base_uri": "https://localhost:8080/",
          "height": 423
        },
        "id": "YtGkaxxrai6T",
        "outputId": "a5f27973-cd95-4c65-8e05-4ea10cbf98ad"
      },
      "execution_count": 63,
      "outputs": [
        {
          "output_type": "execute_result",
          "data": {
            "text/plain": [
              "      age     bmi  children      charges  sex_female  sex_male  smoker_no  \\\n",
              "0      19  27.900         0  16884.92400           1         0          0   \n",
              "1      18  33.770         1   1725.55230           0         1          1   \n",
              "2      28  33.000         3   4449.46200           0         1          1   \n",
              "3      33  22.705         0  21984.47061           0         1          1   \n",
              "4      32  28.880         0   3866.85520           0         1          1   \n",
              "...   ...     ...       ...          ...         ...       ...        ...   \n",
              "1333   50  30.970         3  10600.54830           0         1          1   \n",
              "1334   18  31.920         0   2205.98080           1         0          1   \n",
              "1335   18  36.850         0   1629.83350           1         0          1   \n",
              "1336   21  25.800         0   2007.94500           1         0          1   \n",
              "1337   61  29.070         0  29141.36030           1         0          0   \n",
              "\n",
              "      smoker_yes  region_northeast  region_northwest  region_southeast  \\\n",
              "0              1                 0                 0                 0   \n",
              "1              0                 0                 0                 1   \n",
              "2              0                 0                 0                 1   \n",
              "3              0                 0                 1                 0   \n",
              "4              0                 0                 1                 0   \n",
              "...          ...               ...               ...               ...   \n",
              "1333           0                 0                 1                 0   \n",
              "1334           0                 1                 0                 0   \n",
              "1335           0                 0                 0                 1   \n",
              "1336           0                 0                 0                 0   \n",
              "1337           1                 0                 1                 0   \n",
              "\n",
              "      region_southwest  \n",
              "0                    1  \n",
              "1                    0  \n",
              "2                    0  \n",
              "3                    0  \n",
              "4                    0  \n",
              "...                ...  \n",
              "1333                 0  \n",
              "1334                 0  \n",
              "1335                 0  \n",
              "1336                 1  \n",
              "1337                 0  \n",
              "\n",
              "[1338 rows x 12 columns]"
            ],
            "text/html": [
              "\n",
              "  <div id=\"df-a1723aa0-345a-498d-a3e5-8299fbfe6c8a\">\n",
              "    <div class=\"colab-df-container\">\n",
              "      <div>\n",
              "<style scoped>\n",
              "    .dataframe tbody tr th:only-of-type {\n",
              "        vertical-align: middle;\n",
              "    }\n",
              "\n",
              "    .dataframe tbody tr th {\n",
              "        vertical-align: top;\n",
              "    }\n",
              "\n",
              "    .dataframe thead th {\n",
              "        text-align: right;\n",
              "    }\n",
              "</style>\n",
              "<table border=\"1\" class=\"dataframe\">\n",
              "  <thead>\n",
              "    <tr style=\"text-align: right;\">\n",
              "      <th></th>\n",
              "      <th>age</th>\n",
              "      <th>bmi</th>\n",
              "      <th>children</th>\n",
              "      <th>charges</th>\n",
              "      <th>sex_female</th>\n",
              "      <th>sex_male</th>\n",
              "      <th>smoker_no</th>\n",
              "      <th>smoker_yes</th>\n",
              "      <th>region_northeast</th>\n",
              "      <th>region_northwest</th>\n",
              "      <th>region_southeast</th>\n",
              "      <th>region_southwest</th>\n",
              "    </tr>\n",
              "  </thead>\n",
              "  <tbody>\n",
              "    <tr>\n",
              "      <th>0</th>\n",
              "      <td>19</td>\n",
              "      <td>27.900</td>\n",
              "      <td>0</td>\n",
              "      <td>16884.92400</td>\n",
              "      <td>1</td>\n",
              "      <td>0</td>\n",
              "      <td>0</td>\n",
              "      <td>1</td>\n",
              "      <td>0</td>\n",
              "      <td>0</td>\n",
              "      <td>0</td>\n",
              "      <td>1</td>\n",
              "    </tr>\n",
              "    <tr>\n",
              "      <th>1</th>\n",
              "      <td>18</td>\n",
              "      <td>33.770</td>\n",
              "      <td>1</td>\n",
              "      <td>1725.55230</td>\n",
              "      <td>0</td>\n",
              "      <td>1</td>\n",
              "      <td>1</td>\n",
              "      <td>0</td>\n",
              "      <td>0</td>\n",
              "      <td>0</td>\n",
              "      <td>1</td>\n",
              "      <td>0</td>\n",
              "    </tr>\n",
              "    <tr>\n",
              "      <th>2</th>\n",
              "      <td>28</td>\n",
              "      <td>33.000</td>\n",
              "      <td>3</td>\n",
              "      <td>4449.46200</td>\n",
              "      <td>0</td>\n",
              "      <td>1</td>\n",
              "      <td>1</td>\n",
              "      <td>0</td>\n",
              "      <td>0</td>\n",
              "      <td>0</td>\n",
              "      <td>1</td>\n",
              "      <td>0</td>\n",
              "    </tr>\n",
              "    <tr>\n",
              "      <th>3</th>\n",
              "      <td>33</td>\n",
              "      <td>22.705</td>\n",
              "      <td>0</td>\n",
              "      <td>21984.47061</td>\n",
              "      <td>0</td>\n",
              "      <td>1</td>\n",
              "      <td>1</td>\n",
              "      <td>0</td>\n",
              "      <td>0</td>\n",
              "      <td>1</td>\n",
              "      <td>0</td>\n",
              "      <td>0</td>\n",
              "    </tr>\n",
              "    <tr>\n",
              "      <th>4</th>\n",
              "      <td>32</td>\n",
              "      <td>28.880</td>\n",
              "      <td>0</td>\n",
              "      <td>3866.85520</td>\n",
              "      <td>0</td>\n",
              "      <td>1</td>\n",
              "      <td>1</td>\n",
              "      <td>0</td>\n",
              "      <td>0</td>\n",
              "      <td>1</td>\n",
              "      <td>0</td>\n",
              "      <td>0</td>\n",
              "    </tr>\n",
              "    <tr>\n",
              "      <th>...</th>\n",
              "      <td>...</td>\n",
              "      <td>...</td>\n",
              "      <td>...</td>\n",
              "      <td>...</td>\n",
              "      <td>...</td>\n",
              "      <td>...</td>\n",
              "      <td>...</td>\n",
              "      <td>...</td>\n",
              "      <td>...</td>\n",
              "      <td>...</td>\n",
              "      <td>...</td>\n",
              "      <td>...</td>\n",
              "    </tr>\n",
              "    <tr>\n",
              "      <th>1333</th>\n",
              "      <td>50</td>\n",
              "      <td>30.970</td>\n",
              "      <td>3</td>\n",
              "      <td>10600.54830</td>\n",
              "      <td>0</td>\n",
              "      <td>1</td>\n",
              "      <td>1</td>\n",
              "      <td>0</td>\n",
              "      <td>0</td>\n",
              "      <td>1</td>\n",
              "      <td>0</td>\n",
              "      <td>0</td>\n",
              "    </tr>\n",
              "    <tr>\n",
              "      <th>1334</th>\n",
              "      <td>18</td>\n",
              "      <td>31.920</td>\n",
              "      <td>0</td>\n",
              "      <td>2205.98080</td>\n",
              "      <td>1</td>\n",
              "      <td>0</td>\n",
              "      <td>1</td>\n",
              "      <td>0</td>\n",
              "      <td>1</td>\n",
              "      <td>0</td>\n",
              "      <td>0</td>\n",
              "      <td>0</td>\n",
              "    </tr>\n",
              "    <tr>\n",
              "      <th>1335</th>\n",
              "      <td>18</td>\n",
              "      <td>36.850</td>\n",
              "      <td>0</td>\n",
              "      <td>1629.83350</td>\n",
              "      <td>1</td>\n",
              "      <td>0</td>\n",
              "      <td>1</td>\n",
              "      <td>0</td>\n",
              "      <td>0</td>\n",
              "      <td>0</td>\n",
              "      <td>1</td>\n",
              "      <td>0</td>\n",
              "    </tr>\n",
              "    <tr>\n",
              "      <th>1336</th>\n",
              "      <td>21</td>\n",
              "      <td>25.800</td>\n",
              "      <td>0</td>\n",
              "      <td>2007.94500</td>\n",
              "      <td>1</td>\n",
              "      <td>0</td>\n",
              "      <td>1</td>\n",
              "      <td>0</td>\n",
              "      <td>0</td>\n",
              "      <td>0</td>\n",
              "      <td>0</td>\n",
              "      <td>1</td>\n",
              "    </tr>\n",
              "    <tr>\n",
              "      <th>1337</th>\n",
              "      <td>61</td>\n",
              "      <td>29.070</td>\n",
              "      <td>0</td>\n",
              "      <td>29141.36030</td>\n",
              "      <td>1</td>\n",
              "      <td>0</td>\n",
              "      <td>0</td>\n",
              "      <td>1</td>\n",
              "      <td>0</td>\n",
              "      <td>1</td>\n",
              "      <td>0</td>\n",
              "      <td>0</td>\n",
              "    </tr>\n",
              "  </tbody>\n",
              "</table>\n",
              "<p>1338 rows × 12 columns</p>\n",
              "</div>\n",
              "      <button class=\"colab-df-convert\" onclick=\"convertToInteractive('df-a1723aa0-345a-498d-a3e5-8299fbfe6c8a')\"\n",
              "              title=\"Convert this dataframe to an interactive table.\"\n",
              "              style=\"display:none;\">\n",
              "        \n",
              "  <svg xmlns=\"http://www.w3.org/2000/svg\" height=\"24px\"viewBox=\"0 0 24 24\"\n",
              "       width=\"24px\">\n",
              "    <path d=\"M0 0h24v24H0V0z\" fill=\"none\"/>\n",
              "    <path d=\"M18.56 5.44l.94 2.06.94-2.06 2.06-.94-2.06-.94-.94-2.06-.94 2.06-2.06.94zm-11 1L8.5 8.5l.94-2.06 2.06-.94-2.06-.94L8.5 2.5l-.94 2.06-2.06.94zm10 10l.94 2.06.94-2.06 2.06-.94-2.06-.94-.94-2.06-.94 2.06-2.06.94z\"/><path d=\"M17.41 7.96l-1.37-1.37c-.4-.4-.92-.59-1.43-.59-.52 0-1.04.2-1.43.59L10.3 9.45l-7.72 7.72c-.78.78-.78 2.05 0 2.83L4 21.41c.39.39.9.59 1.41.59.51 0 1.02-.2 1.41-.59l7.78-7.78 2.81-2.81c.8-.78.8-2.07 0-2.86zM5.41 20L4 18.59l7.72-7.72 1.47 1.35L5.41 20z\"/>\n",
              "  </svg>\n",
              "      </button>\n",
              "      \n",
              "  <style>\n",
              "    .colab-df-container {\n",
              "      display:flex;\n",
              "      flex-wrap:wrap;\n",
              "      gap: 12px;\n",
              "    }\n",
              "\n",
              "    .colab-df-convert {\n",
              "      background-color: #E8F0FE;\n",
              "      border: none;\n",
              "      border-radius: 50%;\n",
              "      cursor: pointer;\n",
              "      display: none;\n",
              "      fill: #1967D2;\n",
              "      height: 32px;\n",
              "      padding: 0 0 0 0;\n",
              "      width: 32px;\n",
              "    }\n",
              "\n",
              "    .colab-df-convert:hover {\n",
              "      background-color: #E2EBFA;\n",
              "      box-shadow: 0px 1px 2px rgba(60, 64, 67, 0.3), 0px 1px 3px 1px rgba(60, 64, 67, 0.15);\n",
              "      fill: #174EA6;\n",
              "    }\n",
              "\n",
              "    [theme=dark] .colab-df-convert {\n",
              "      background-color: #3B4455;\n",
              "      fill: #D2E3FC;\n",
              "    }\n",
              "\n",
              "    [theme=dark] .colab-df-convert:hover {\n",
              "      background-color: #434B5C;\n",
              "      box-shadow: 0px 1px 3px 1px rgba(0, 0, 0, 0.15);\n",
              "      filter: drop-shadow(0px 1px 2px rgba(0, 0, 0, 0.3));\n",
              "      fill: #FFFFFF;\n",
              "    }\n",
              "  </style>\n",
              "\n",
              "      <script>\n",
              "        const buttonEl =\n",
              "          document.querySelector('#df-a1723aa0-345a-498d-a3e5-8299fbfe6c8a button.colab-df-convert');\n",
              "        buttonEl.style.display =\n",
              "          google.colab.kernel.accessAllowed ? 'block' : 'none';\n",
              "\n",
              "        async function convertToInteractive(key) {\n",
              "          const element = document.querySelector('#df-a1723aa0-345a-498d-a3e5-8299fbfe6c8a');\n",
              "          const dataTable =\n",
              "            await google.colab.kernel.invokeFunction('convertToInteractive',\n",
              "                                                     [key], {});\n",
              "          if (!dataTable) return;\n",
              "\n",
              "          const docLinkHtml = 'Like what you see? Visit the ' +\n",
              "            '<a target=\"_blank\" href=https://colab.research.google.com/notebooks/data_table.ipynb>data table notebook</a>'\n",
              "            + ' to learn more about interactive tables.';\n",
              "          element.innerHTML = '';\n",
              "          dataTable['output_type'] = 'display_data';\n",
              "          await google.colab.output.renderOutput(dataTable, element);\n",
              "          const docLink = document.createElement('div');\n",
              "          docLink.innerHTML = docLinkHtml;\n",
              "          element.appendChild(docLink);\n",
              "        }\n",
              "      </script>\n",
              "    </div>\n",
              "  </div>\n",
              "  "
            ]
          },
          "metadata": {},
          "execution_count": 63
        }
      ]
    },
    {
      "cell_type": "code",
      "source": [
        "# Create X & y values (features and labels)\n",
        "X = insurance_one_hot.drop('charges', axis=1)\n",
        "y = insurance_one_hot['charges']"
      ],
      "metadata": {
        "id": "6nzb1dwkib06"
      },
      "execution_count": 66,
      "outputs": []
    },
    {
      "cell_type": "code",
      "source": [
        "# View X\n",
        "X.head()"
      ],
      "metadata": {
        "id": "hnIw0ZBck6u8",
        "outputId": "2c13aa3e-8130-40f8-a705-7a6be3f7a0a5",
        "colab": {
          "base_uri": "https://localhost:8080/",
          "height": 206
        }
      },
      "execution_count": 67,
      "outputs": [
        {
          "output_type": "execute_result",
          "data": {
            "text/plain": [
              "   age     bmi  children  sex_female  sex_male  smoker_no  smoker_yes  \\\n",
              "0   19  27.900         0           1         0          0           1   \n",
              "1   18  33.770         1           0         1          1           0   \n",
              "2   28  33.000         3           0         1          1           0   \n",
              "3   33  22.705         0           0         1          1           0   \n",
              "4   32  28.880         0           0         1          1           0   \n",
              "\n",
              "   region_northeast  region_northwest  region_southeast  region_southwest  \n",
              "0                 0                 0                 0                 1  \n",
              "1                 0                 0                 1                 0  \n",
              "2                 0                 0                 1                 0  \n",
              "3                 0                 1                 0                 0  \n",
              "4                 0                 1                 0                 0  "
            ],
            "text/html": [
              "\n",
              "  <div id=\"df-f31bc203-e007-48d0-a15b-ca828a594d07\">\n",
              "    <div class=\"colab-df-container\">\n",
              "      <div>\n",
              "<style scoped>\n",
              "    .dataframe tbody tr th:only-of-type {\n",
              "        vertical-align: middle;\n",
              "    }\n",
              "\n",
              "    .dataframe tbody tr th {\n",
              "        vertical-align: top;\n",
              "    }\n",
              "\n",
              "    .dataframe thead th {\n",
              "        text-align: right;\n",
              "    }\n",
              "</style>\n",
              "<table border=\"1\" class=\"dataframe\">\n",
              "  <thead>\n",
              "    <tr style=\"text-align: right;\">\n",
              "      <th></th>\n",
              "      <th>age</th>\n",
              "      <th>bmi</th>\n",
              "      <th>children</th>\n",
              "      <th>sex_female</th>\n",
              "      <th>sex_male</th>\n",
              "      <th>smoker_no</th>\n",
              "      <th>smoker_yes</th>\n",
              "      <th>region_northeast</th>\n",
              "      <th>region_northwest</th>\n",
              "      <th>region_southeast</th>\n",
              "      <th>region_southwest</th>\n",
              "    </tr>\n",
              "  </thead>\n",
              "  <tbody>\n",
              "    <tr>\n",
              "      <th>0</th>\n",
              "      <td>19</td>\n",
              "      <td>27.900</td>\n",
              "      <td>0</td>\n",
              "      <td>1</td>\n",
              "      <td>0</td>\n",
              "      <td>0</td>\n",
              "      <td>1</td>\n",
              "      <td>0</td>\n",
              "      <td>0</td>\n",
              "      <td>0</td>\n",
              "      <td>1</td>\n",
              "    </tr>\n",
              "    <tr>\n",
              "      <th>1</th>\n",
              "      <td>18</td>\n",
              "      <td>33.770</td>\n",
              "      <td>1</td>\n",
              "      <td>0</td>\n",
              "      <td>1</td>\n",
              "      <td>1</td>\n",
              "      <td>0</td>\n",
              "      <td>0</td>\n",
              "      <td>0</td>\n",
              "      <td>1</td>\n",
              "      <td>0</td>\n",
              "    </tr>\n",
              "    <tr>\n",
              "      <th>2</th>\n",
              "      <td>28</td>\n",
              "      <td>33.000</td>\n",
              "      <td>3</td>\n",
              "      <td>0</td>\n",
              "      <td>1</td>\n",
              "      <td>1</td>\n",
              "      <td>0</td>\n",
              "      <td>0</td>\n",
              "      <td>0</td>\n",
              "      <td>1</td>\n",
              "      <td>0</td>\n",
              "    </tr>\n",
              "    <tr>\n",
              "      <th>3</th>\n",
              "      <td>33</td>\n",
              "      <td>22.705</td>\n",
              "      <td>0</td>\n",
              "      <td>0</td>\n",
              "      <td>1</td>\n",
              "      <td>1</td>\n",
              "      <td>0</td>\n",
              "      <td>0</td>\n",
              "      <td>1</td>\n",
              "      <td>0</td>\n",
              "      <td>0</td>\n",
              "    </tr>\n",
              "    <tr>\n",
              "      <th>4</th>\n",
              "      <td>32</td>\n",
              "      <td>28.880</td>\n",
              "      <td>0</td>\n",
              "      <td>0</td>\n",
              "      <td>1</td>\n",
              "      <td>1</td>\n",
              "      <td>0</td>\n",
              "      <td>0</td>\n",
              "      <td>1</td>\n",
              "      <td>0</td>\n",
              "      <td>0</td>\n",
              "    </tr>\n",
              "  </tbody>\n",
              "</table>\n",
              "</div>\n",
              "      <button class=\"colab-df-convert\" onclick=\"convertToInteractive('df-f31bc203-e007-48d0-a15b-ca828a594d07')\"\n",
              "              title=\"Convert this dataframe to an interactive table.\"\n",
              "              style=\"display:none;\">\n",
              "        \n",
              "  <svg xmlns=\"http://www.w3.org/2000/svg\" height=\"24px\"viewBox=\"0 0 24 24\"\n",
              "       width=\"24px\">\n",
              "    <path d=\"M0 0h24v24H0V0z\" fill=\"none\"/>\n",
              "    <path d=\"M18.56 5.44l.94 2.06.94-2.06 2.06-.94-2.06-.94-.94-2.06-.94 2.06-2.06.94zm-11 1L8.5 8.5l.94-2.06 2.06-.94-2.06-.94L8.5 2.5l-.94 2.06-2.06.94zm10 10l.94 2.06.94-2.06 2.06-.94-2.06-.94-.94-2.06-.94 2.06-2.06.94z\"/><path d=\"M17.41 7.96l-1.37-1.37c-.4-.4-.92-.59-1.43-.59-.52 0-1.04.2-1.43.59L10.3 9.45l-7.72 7.72c-.78.78-.78 2.05 0 2.83L4 21.41c.39.39.9.59 1.41.59.51 0 1.02-.2 1.41-.59l7.78-7.78 2.81-2.81c.8-.78.8-2.07 0-2.86zM5.41 20L4 18.59l7.72-7.72 1.47 1.35L5.41 20z\"/>\n",
              "  </svg>\n",
              "      </button>\n",
              "      \n",
              "  <style>\n",
              "    .colab-df-container {\n",
              "      display:flex;\n",
              "      flex-wrap:wrap;\n",
              "      gap: 12px;\n",
              "    }\n",
              "\n",
              "    .colab-df-convert {\n",
              "      background-color: #E8F0FE;\n",
              "      border: none;\n",
              "      border-radius: 50%;\n",
              "      cursor: pointer;\n",
              "      display: none;\n",
              "      fill: #1967D2;\n",
              "      height: 32px;\n",
              "      padding: 0 0 0 0;\n",
              "      width: 32px;\n",
              "    }\n",
              "\n",
              "    .colab-df-convert:hover {\n",
              "      background-color: #E2EBFA;\n",
              "      box-shadow: 0px 1px 2px rgba(60, 64, 67, 0.3), 0px 1px 3px 1px rgba(60, 64, 67, 0.15);\n",
              "      fill: #174EA6;\n",
              "    }\n",
              "\n",
              "    [theme=dark] .colab-df-convert {\n",
              "      background-color: #3B4455;\n",
              "      fill: #D2E3FC;\n",
              "    }\n",
              "\n",
              "    [theme=dark] .colab-df-convert:hover {\n",
              "      background-color: #434B5C;\n",
              "      box-shadow: 0px 1px 3px 1px rgba(0, 0, 0, 0.15);\n",
              "      filter: drop-shadow(0px 1px 2px rgba(0, 0, 0, 0.3));\n",
              "      fill: #FFFFFF;\n",
              "    }\n",
              "  </style>\n",
              "\n",
              "      <script>\n",
              "        const buttonEl =\n",
              "          document.querySelector('#df-f31bc203-e007-48d0-a15b-ca828a594d07 button.colab-df-convert');\n",
              "        buttonEl.style.display =\n",
              "          google.colab.kernel.accessAllowed ? 'block' : 'none';\n",
              "\n",
              "        async function convertToInteractive(key) {\n",
              "          const element = document.querySelector('#df-f31bc203-e007-48d0-a15b-ca828a594d07');\n",
              "          const dataTable =\n",
              "            await google.colab.kernel.invokeFunction('convertToInteractive',\n",
              "                                                     [key], {});\n",
              "          if (!dataTable) return;\n",
              "\n",
              "          const docLinkHtml = 'Like what you see? Visit the ' +\n",
              "            '<a target=\"_blank\" href=https://colab.research.google.com/notebooks/data_table.ipynb>data table notebook</a>'\n",
              "            + ' to learn more about interactive tables.';\n",
              "          element.innerHTML = '';\n",
              "          dataTable['output_type'] = 'display_data';\n",
              "          await google.colab.output.renderOutput(dataTable, element);\n",
              "          const docLink = document.createElement('div');\n",
              "          docLink.innerHTML = docLinkHtml;\n",
              "          element.appendChild(docLink);\n",
              "        }\n",
              "      </script>\n",
              "    </div>\n",
              "  </div>\n",
              "  "
            ]
          },
          "metadata": {},
          "execution_count": 67
        }
      ]
    },
    {
      "cell_type": "code",
      "source": [
        "# View y\n",
        "y.head()"
      ],
      "metadata": {
        "id": "3CNqWEAuk8lS",
        "outputId": "4211e0be-4819-4303-f90f-aa1fd3b84636",
        "colab": {
          "base_uri": "https://localhost:8080/"
        }
      },
      "execution_count": 68,
      "outputs": [
        {
          "output_type": "execute_result",
          "data": {
            "text/plain": [
              "0    16884.92400\n",
              "1     1725.55230\n",
              "2     4449.46200\n",
              "3    21984.47061\n",
              "4     3866.85520\n",
              "Name: charges, dtype: float64"
            ]
          },
          "metadata": {},
          "execution_count": 68
        }
      ]
    },
    {
      "cell_type": "code",
      "source": [
        "# Create training and test sets\n",
        "from sklearn.model_selection import train_test_split\n",
        "X_train, X_test, y_train, y_test = train_test_split(X, y, test_size=0.2, random_state=42)\n",
        "len(X), len(X_train), len(X_test)"
      ],
      "metadata": {
        "id": "MYf_2NnVoi-X",
        "outputId": "f18b6cbf-c2ac-451e-e7ab-712e5975ff42",
        "colab": {
          "base_uri": "https://localhost:8080/"
        }
      },
      "execution_count": 72,
      "outputs": [
        {
          "output_type": "execute_result",
          "data": {
            "text/plain": [
              "(1338, 1070, 268)"
            ]
          },
          "metadata": {},
          "execution_count": 72
        }
      ]
    },
    {
      "cell_type": "code",
      "source": [
        "# Build a neural network (sort of like model_2 above)\n",
        "tf.random.set_seed(42)\n",
        "\n",
        "# 1. Create a model\n",
        "insurance_model = tf.keras.Sequential([\n",
        "    tf.keras.layers.Dense(100, activation='relu'),\n",
        "    tf.keras.layers.Dense(100, activation='relu'),\n",
        "    tf.keras.layers.Dense(1)\n",
        "])\n",
        "\n",
        "# 2. Compile the model\n",
        "insurance_model.compile(loss=tf.keras.losses.mae,\n",
        "                        optimizer=tf.keras.optimizers.Adam(learning_rate=0.1),\n",
        "                        metrics=[\"mae\"])\n",
        "# 3. Fit the model\n",
        "insurance_model.fit(X_train, y_train, epochs=100, verbose=0)"
      ],
      "metadata": {
        "id": "PCH7g_Nmpbi_",
        "outputId": "839c1949-a2c9-4036-9e1e-33492fc81830",
        "colab": {
          "base_uri": "https://localhost:8080/"
        }
      },
      "execution_count": 99,
      "outputs": [
        {
          "output_type": "execute_result",
          "data": {
            "text/plain": [
              "<keras.callbacks.History at 0x7fbeadc41580>"
            ]
          },
          "metadata": {},
          "execution_count": 99
        }
      ]
    },
    {
      "cell_type": "code",
      "source": [
        "# Check the reuslts of the insurance model on the test data\n",
        "insurance_model.evaluate(X_test, y_test)"
      ],
      "metadata": {
        "id": "OsqmKgJErDpJ",
        "outputId": "a63d1ae8-9a2d-4807-8611-0146d2cf4d53",
        "colab": {
          "base_uri": "https://localhost:8080/"
        }
      },
      "execution_count": 100,
      "outputs": [
        {
          "output_type": "stream",
          "name": "stdout",
          "text": [
            "9/9 [==============================] - 0s 2ms/step - loss: 1663.8597 - mae: 1663.8597\n"
          ]
        },
        {
          "output_type": "execute_result",
          "data": {
            "text/plain": [
              "[1663.8597412109375, 1663.8597412109375]"
            ]
          },
          "metadata": {},
          "execution_count": 100
        }
      ]
    },
    {
      "cell_type": "code",
      "source": [
        "y_train.median(), y_train.mean()"
      ],
      "metadata": {
        "id": "iFi5G43Wrt0L",
        "outputId": "b1a649f4-acdc-463e-bce9-5dd15842a703",
        "colab": {
          "base_uri": "https://localhost:8080/"
        }
      },
      "execution_count": 81,
      "outputs": [
        {
          "output_type": "execute_result",
          "data": {
            "text/plain": [
              "(9575.4421, 13346.089736364485)"
            ]
          },
          "metadata": {},
          "execution_count": 81
        }
      ]
    },
    {
      "cell_type": "code",
      "source": [],
      "metadata": {
        "id": "ylGYObmlsckA"
      },
      "execution_count": null,
      "outputs": []
    }
  ]
}