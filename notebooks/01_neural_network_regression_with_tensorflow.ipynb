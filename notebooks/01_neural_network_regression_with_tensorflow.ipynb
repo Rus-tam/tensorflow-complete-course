{
  "nbformat": 4,
  "nbformat_minor": 0,
  "metadata": {
    "colab": {
      "provenance": [],
      "authorship_tag": "ABX9TyPVeKsR5jX6XVHBmkXnRO7L"
    },
    "kernelspec": {
      "name": "python3",
      "display_name": "Python 3"
    },
    "language_info": {
      "name": "python"
    }
  },
  "cells": [
    {
      "cell_type": "markdown",
      "source": [
        "## Introduction to Regression with Neural Networks in TensorFlow\n",
        "Thera ara many definitions for a regression problem but in our case, we're going to simplify it: predicting a numerical variable based on some other combination of variables, even shorter... predicting a number"
      ],
      "metadata": {
        "id": "L4t4gG39p2Mc"
      }
    },
    {
      "cell_type": "code",
      "source": [
        "# Import TensorFlow\n",
        "import tensorflow as tf\n",
        "print(tf.__version__)"
      ],
      "metadata": {
        "colab": {
          "base_uri": "https://localhost:8080/"
        },
        "id": "YICHdZj-p_0n",
        "outputId": "d446853a-8106-4417-cc99-024ec8b4a49c"
      },
      "execution_count": 1,
      "outputs": [
        {
          "output_type": "stream",
          "name": "stdout",
          "text": [
            "2.11.0\n"
          ]
        }
      ]
    },
    {
      "cell_type": "markdown",
      "source": [
        "## Creating data to view and fit"
      ],
      "metadata": {
        "id": "xnH8iUg1sGnS"
      }
    },
    {
      "cell_type": "code",
      "source": [
        "import numpy as np\n",
        "import matplotlib.pyplot as plt\n",
        "\n",
        "# Create features\n",
        "X = np.array([-7.0, -4.0, -1.0, 2.0, 5.0, 8.0, 11.0, 14.0])\n",
        "\n",
        "# Create labels\n",
        "y = np.array([3.0, 6.0, 9.0, 12.0, 15.0, 18.0, 21.0, 24.0])\n",
        "\n",
        "# Visualize it\n",
        "plt.scatter(X, y);"
      ],
      "metadata": {
        "colab": {
          "base_uri": "https://localhost:8080/",
          "height": 269
        },
        "id": "69KS6J7wsYeG",
        "outputId": "4a8265f3-f19f-43ab-8d47-d29dfb6502b1"
      },
      "execution_count": 2,
      "outputs": [
        {
          "output_type": "display_data",
          "data": {
            "text/plain": [
              "<Figure size 432x288 with 1 Axes>"
            ],
            "image/png": "[encoded data removed]"
          },
          "metadata": {
            "needs_background": "light"
          }
        }
      ]
    },
    {
      "cell_type": "code",
      "source": [
        "y == X + 10"
      ],
      "metadata": {
        "id": "B3c5IxaCs5Xu",
        "colab": {
          "base_uri": "https://localhost:8080/"
        },
        "outputId": "14cf51a8-ab66-4778-a088-0518d643b8c9"
      },
      "execution_count": 3,
      "outputs": [
        {
          "output_type": "execute_result",
          "data": {
            "text/plain": [
              "array([ True,  True,  True,  True,  True,  True,  True,  True])"
            ]
          },
          "metadata": {},
          "execution_count": 3
        }
      ]
    },
    {
      "cell_type": "markdown",
      "source": [
        "## Input and output shapes"
      ],
      "metadata": {
        "id": "eAYsJjucuLbv"
      }
    },
    {
      "cell_type": "code",
      "source": [
        "# Create a demo tensor for our housing price prediction problem\n",
        "house_info = tf.constant(['bedroom', 'bathroom', 'garage'])\n",
        "house_price = tf.constant([939700])\n",
        "house_info, house_price"
      ],
      "metadata": {
        "colab": {
          "base_uri": "https://localhost:8080/"
        },
        "id": "WDtOSnZ6uOJh",
        "outputId": "0fc3625a-ed5b-4dd8-b152-3f934ff04099"
      },
      "execution_count": 4,
      "outputs": [
        {
          "output_type": "execute_result",
          "data": {
            "text/plain": [
              "(<tf.Tensor: shape=(3,), dtype=string, numpy=array([b'bedroom', b'bathroom', b'garage'], dtype=object)>,\n",
              " <tf.Tensor: shape=(1,), dtype=int32, numpy=array([939700], dtype=int32)>)"
            ]
          },
          "metadata": {},
          "execution_count": 4
        }
      ]
    },
    {
      "cell_type": "code",
      "source": [
        "input_shape = X[0].shape\n",
        "output_shape = y[0].shape\n",
        "input_shape, output_shape"
      ],
      "metadata": {
        "colab": {
          "base_uri": "https://localhost:8080/"
        },
        "id": "URJZdzV6uwTS",
        "outputId": "4d2fa931-3fd9-473d-ed6c-fe8abb1d6663"
      },
      "execution_count": 5,
      "outputs": [
        {
          "output_type": "execute_result",
          "data": {
            "text/plain": [
              "((), ())"
            ]
          },
          "metadata": {},
          "execution_count": 5
        }
      ]
    },
    {
      "cell_type": "code",
      "source": [
        "# Turn our NumPy arrays into tensors\n",
        "X = tf.constant(X)\n",
        "y = tf.constant(y)\n",
        "X, y"
      ],
      "metadata": {
        "colab": {
          "base_uri": "https://localhost:8080/"
        },
        "id": "bwv4EGH-u_QA",
        "outputId": "9f7b28ce-c127-4be4-e7c5-d417399f9b8f"
      },
      "execution_count": 6,
      "outputs": [
        {
          "output_type": "execute_result",
          "data": {
            "text/plain": [
              "(<tf.Tensor: shape=(8,), dtype=float64, numpy=array([-7., -4., -1.,  2.,  5.,  8., 11., 14.])>,\n",
              " <tf.Tensor: shape=(8,), dtype=float64, numpy=array([ 3.,  6.,  9., 12., 15., 18., 21., 24.])>)"
            ]
          },
          "metadata": {},
          "execution_count": 6
        }
      ]
    },
    {
      "cell_type": "code",
      "source": [
        "input_shape = X[0].shape\n",
        "output_shape = y[0].shape\n",
        "input_shape, output_shape"
      ],
      "metadata": {
        "colab": {
          "base_uri": "https://localhost:8080/"
        },
        "id": "vmZZgAuXwoXt",
        "outputId": "f15eacc7-f27d-4cbb-b6e7-4a7332e95f06"
      },
      "execution_count": 7,
      "outputs": [
        {
          "output_type": "execute_result",
          "data": {
            "text/plain": [
              "(TensorShape([]), TensorShape([]))"
            ]
          },
          "metadata": {},
          "execution_count": 7
        }
      ]
    },
    {
      "cell_type": "markdown",
      "source": [
        "## Steps in modelling with TensorFlow\n",
        "\n",
        "1. **Creating a model** - define the input and output layers, as well the hidden layers of a deep learning model\n",
        "2. **Compiling a model** - define the loss function (in order words, the function which tells our model how wrong it is) and the optimizer (tells our model how to improve the patterns its learning) and evaluation metrics (what we can use to interpret the performance of our model).\n",
        "3. **Fitting a model** - letting the model try to find patterns between X & y (features and labels)."
      ],
      "metadata": {
        "id": "-SpOWiv7wwsQ"
      }
    },
    {
      "cell_type": "code",
      "source": [
        "# Set random seed\n",
        "tf.random.set_seed(42)\n",
        "\n",
        "# 1. Create a model using the Sequential API\n",
        "model = tf.keras.Sequential([\n",
        "    tf.keras.layers.Dense(1)\n",
        "])\n",
        "\n",
        "# 2. Compile the model\n",
        "model.compile(loss=tf.keras.losses.mae,\n",
        "              optimizer=tf.keras.optimizers.SGD(),\n",
        "              metrics=['mae'])\n",
        "\n",
        "# 3. Fit the model\n",
        "model.fit(tf.expand_dims(X, axis=-1), y, epochs=5)"
      ],
      "metadata": {
        "colab": {
          "base_uri": "https://localhost:8080/"
        },
        "id": "Sf3uFIsWyJwP",
        "outputId": "aafbb1ea-d09e-4e91-e01c-6ca485e4eb69"
      },
      "execution_count": 8,
      "outputs": [
        {
          "output_type": "stream",
          "name": "stdout",
          "text": [
            "Epoch 1/5\n",
            "1/1 [==============================] - 2s 2s/step - loss: 13.2850 - mae: 13.2850\n",
            "Epoch 2/5\n",
            "1/1 [==============================] - 0s 21ms/step - loss: 13.1525 - mae: 13.1525\n",
            "Epoch 3/5\n",
            "1/1 [==============================] - 0s 16ms/step - loss: 13.0200 - mae: 13.0200\n",
            "Epoch 4/5\n",
            "1/1 [==============================] - 0s 40ms/step - loss: 12.8875 - mae: 12.8875\n",
            "Epoch 5/5\n",
            "1/1 [==============================] - 0s 31ms/step - loss: 12.7550 - mae: 12.7550\n"
          ]
        },
        {
          "output_type": "execute_result",
          "data": {
            "text/plain": [
              "<keras.callbacks.History at 0x7f5b94554790>"
            ]
          },
          "metadata": {},
          "execution_count": 8
        }
      ]
    },
    {
      "cell_type": "code",
      "source": [
        "# Check out X and y\n",
        "X, y"
      ],
      "metadata": {
        "colab": {
          "base_uri": "https://localhost:8080/"
        },
        "id": "j7-I4FtPyYhQ",
        "outputId": "047dbc8d-1095-4dc5-a531-1b230156dff3"
      },
      "execution_count": 9,
      "outputs": [
        {
          "output_type": "execute_result",
          "data": {
            "text/plain": [
              "(<tf.Tensor: shape=(8,), dtype=float64, numpy=array([-7., -4., -1.,  2.,  5.,  8., 11., 14.])>,\n",
              " <tf.Tensor: shape=(8,), dtype=float64, numpy=array([ 3.,  6.,  9., 12., 15., 18., 21., 24.])>)"
            ]
          },
          "metadata": {},
          "execution_count": 9
        }
      ]
    },
    {
      "cell_type": "code",
      "source": [
        "# Try and make a prediction using our model\n",
        "y_pred = model.predict([17.0])\n",
        "y_pred"
      ],
      "metadata": {
        "colab": {
          "base_uri": "https://localhost:8080/"
        },
        "id": "Xq_wGG_p3UlD",
        "outputId": "5ac74429-d797-4a09-8584-d231b4464cb6"
      },
      "execution_count": 10,
      "outputs": [
        {
          "output_type": "stream",
          "name": "stdout",
          "text": [
            "1/1 [==============================] - 0s 252ms/step\n"
          ]
        },
        {
          "output_type": "execute_result",
          "data": {
            "text/plain": [
              "array([[4.0692263]], dtype=float32)"
            ]
          },
          "metadata": {},
          "execution_count": 10
        }
      ]
    },
    {
      "cell_type": "code",
      "source": [
        "y_pred + 11"
      ],
      "metadata": {
        "colab": {
          "base_uri": "https://localhost:8080/"
        },
        "id": "gCShjcuZ3dz2",
        "outputId": "4a3d4da0-b9b3-403d-dba5-096cb8385706"
      },
      "execution_count": 11,
      "outputs": [
        {
          "output_type": "execute_result",
          "data": {
            "text/plain": [
              "array([[15.069226]], dtype=float32)"
            ]
          },
          "metadata": {},
          "execution_count": 11
        }
      ]
    },
    {
      "cell_type": "markdown",
      "source": [
        "## Improving our model\n",
        "\n",
        "We can improve our model, by altering the steps we took to create a model.\n",
        "\n",
        "1. **Creating a model** - here we might add more layers, increase the number of hidden units( also called neurons) within each of the hidden layers, change the activation function of each layer.\n",
        "2. **Compiling a model** - here we might change the optimization function or perhaps the **learning rate** of the optimization function.\n",
        "3. **Fitting a model** - here we might fit a model for more **epochs** (leave it training for longer) or on more data (give the model more examples to learn from).\n"
      ],
      "metadata": {
        "id": "nBfuyXk24J6c"
      }
    },
    {
      "cell_type": "code",
      "source": [
        "# Let's rebuild our model\n",
        "\n",
        "# 1. Create the model\n",
        "model = tf.keras.Sequential([\n",
        "    tf.keras.layers.Dense(1)\n",
        "])\n",
        "\n",
        "# 2. Compile the model\n",
        "model.compile(loss=tf.keras.losses.mae,\n",
        "              optimizer=tf.keras.optimizers.SGD(),\n",
        "              metrics=[\"mae\"])\n",
        "\n",
        "# 3. Fit the model (this time we'll train for longer)\n",
        "model.fit(tf.expand_dims(X, axis=-1), y, epochs=100)"
      ],
      "metadata": {
        "colab": {
          "base_uri": "https://localhost:8080/"
        },
        "id": "SWizP2-w-L9A",
        "outputId": "ae829dc4-7e61-4e3e-d194-930f521da866"
      },
      "execution_count": 12,
      "outputs": [
        {
          "output_type": "stream",
          "name": "stdout",
          "text": [
            "Epoch 1/100\n",
            "1/1 [==============================] - 2s 2s/step - loss: 15.1354 - mae: 15.1354\n",
            "Epoch 2/100\n",
            "1/1 [==============================] - 0s 102ms/step - loss: 14.8990 - mae: 14.8990\n",
            "Epoch 3/100\n",
            "1/1 [==============================] - 0s 25ms/step - loss: 14.7665 - mae: 14.7665\n",
            "Epoch 4/100\n",
            "1/1 [==============================] - 0s 40ms/step - loss: 14.6340 - mae: 14.6340\n",
            "Epoch 5/100\n",
            "1/1 [==============================] - 0s 56ms/step - loss: 14.5015 - mae: 14.5015\n",
            "Epoch 6/100\n",
            "1/1 [==============================] - 0s 33ms/step - loss: 14.3690 - mae: 14.3690\n",
            "Epoch 7/100\n",
            "1/1 [==============================] - 0s 39ms/step - loss: 14.2365 - mae: 14.2365\n",
            "Epoch 8/100\n",
            "1/1 [==============================] - 0s 29ms/step - loss: 14.1040 - mae: 14.1040\n",
            "Epoch 9/100\n",
            "1/1 [==============================] - 0s 34ms/step - loss: 13.9715 - mae: 13.9715\n",
            "Epoch 10/100\n",
            "1/1 [==============================] - 0s 31ms/step - loss: 13.8390 - mae: 13.8390\n",
            "Epoch 11/100\n",
            "1/1 [==============================] - 0s 32ms/step - loss: 13.7065 - mae: 13.7065\n",
            "Epoch 12/100\n",
            "1/1 [==============================] - 0s 51ms/step - loss: 13.5740 - mae: 13.5740\n",
            "Epoch 13/100\n",
            "1/1 [==============================] - 0s 40ms/step - loss: 13.4415 - mae: 13.4415\n",
            "Epoch 14/100\n",
            "1/1 [==============================] - 0s 67ms/step - loss: 13.3090 - mae: 13.3090\n",
            "Epoch 15/100\n",
            "1/1 [==============================] - 0s 22ms/step - loss: 13.1765 - mae: 13.1765\n",
            "Epoch 16/100\n",
            "1/1 [==============================] - 0s 27ms/step - loss: 13.0440 - mae: 13.0440\n",
            "Epoch 17/100\n",
            "1/1 [==============================] - 0s 40ms/step - loss: 12.9115 - mae: 12.9115\n",
            "Epoch 18/100\n",
            "1/1 [==============================] - 0s 32ms/step - loss: 12.7790 - mae: 12.7790\n",
            "Epoch 19/100\n",
            "1/1 [==============================] - 0s 33ms/step - loss: 12.6465 - mae: 12.6465\n",
            "Epoch 20/100\n",
            "1/1 [==============================] - 0s 26ms/step - loss: 12.5140 - mae: 12.5140\n",
            "Epoch 21/100\n",
            "1/1 [==============================] - 0s 29ms/step - loss: 12.3815 - mae: 12.3815\n",
            "Epoch 22/100\n",
            "1/1 [==============================] - 0s 15ms/step - loss: 12.2490 - mae: 12.2490\n",
            "Epoch 23/100\n",
            "1/1 [==============================] - 0s 15ms/step - loss: 12.1165 - mae: 12.1165\n",
            "Epoch 24/100\n",
            "1/1 [==============================] - 0s 21ms/step - loss: 11.9840 - mae: 11.9840\n",
            "Epoch 25/100\n",
            "1/1 [==============================] - 0s 21ms/step - loss: 11.8515 - mae: 11.8515\n",
            "Epoch 26/100\n",
            "1/1 [==============================] - 0s 24ms/step - loss: 11.7190 - mae: 11.7190\n",
            "Epoch 27/100\n",
            "1/1 [==============================] - 0s 50ms/step - loss: 11.5865 - mae: 11.5865\n",
            "Epoch 28/100\n",
            "1/1 [==============================] - 0s 34ms/step - loss: 11.4540 - mae: 11.4540\n",
            "Epoch 29/100\n",
            "1/1 [==============================] - 0s 30ms/step - loss: 11.3215 - mae: 11.3215\n",
            "Epoch 30/100\n",
            "1/1 [==============================] - 0s 47ms/step - loss: 11.1890 - mae: 11.1890\n",
            "Epoch 31/100\n",
            "1/1 [==============================] - 0s 59ms/step - loss: 11.0565 - mae: 11.0565\n",
            "Epoch 32/100\n",
            "1/1 [==============================] - 0s 54ms/step - loss: 10.9240 - mae: 10.9240\n",
            "Epoch 33/100\n",
            "1/1 [==============================] - 0s 41ms/step - loss: 10.7915 - mae: 10.7915\n",
            "Epoch 34/100\n",
            "1/1 [==============================] - 0s 30ms/step - loss: 10.6590 - mae: 10.6590\n",
            "Epoch 35/100\n",
            "1/1 [==============================] - 0s 36ms/step - loss: 10.5265 - mae: 10.5265\n",
            "Epoch 36/100\n",
            "1/1 [==============================] - 0s 30ms/step - loss: 10.3940 - mae: 10.3940\n",
            "Epoch 37/100\n",
            "1/1 [==============================] - 0s 23ms/step - loss: 10.2615 - mae: 10.2615\n",
            "Epoch 38/100\n",
            "1/1 [==============================] - 0s 33ms/step - loss: 10.1290 - mae: 10.1290\n",
            "Epoch 39/100\n",
            "1/1 [==============================] - 0s 41ms/step - loss: 9.9965 - mae: 9.9965\n",
            "Epoch 40/100\n",
            "1/1 [==============================] - 0s 48ms/step - loss: 9.8640 - mae: 9.8640\n",
            "Epoch 41/100\n",
            "1/1 [==============================] - 0s 32ms/step - loss: 9.7315 - mae: 9.7315\n",
            "Epoch 42/100\n",
            "1/1 [==============================] - 0s 42ms/step - loss: 9.5990 - mae: 9.5990\n",
            "Epoch 43/100\n",
            "1/1 [==============================] - 0s 53ms/step - loss: 9.4665 - mae: 9.4665\n",
            "Epoch 44/100\n",
            "1/1 [==============================] - 0s 38ms/step - loss: 9.3340 - mae: 9.3340\n",
            "Epoch 45/100\n",
            "1/1 [==============================] - 0s 47ms/step - loss: 9.2015 - mae: 9.2015\n",
            "Epoch 46/100\n",
            "1/1 [==============================] - 0s 25ms/step - loss: 9.0690 - mae: 9.0690\n",
            "Epoch 47/100\n",
            "1/1 [==============================] - 0s 19ms/step - loss: 8.9365 - mae: 8.9365\n",
            "Epoch 48/100\n",
            "1/1 [==============================] - 0s 54ms/step - loss: 8.8040 - mae: 8.8040\n",
            "Epoch 49/100\n",
            "1/1 [==============================] - 0s 34ms/step - loss: 8.6715 - mae: 8.6715\n",
            "Epoch 50/100\n",
            "1/1 [==============================] - 0s 42ms/step - loss: 8.5390 - mae: 8.5390\n",
            "Epoch 51/100\n",
            "1/1 [==============================] - 0s 48ms/step - loss: 8.4065 - mae: 8.4065\n",
            "Epoch 52/100\n",
            "1/1 [==============================] - 0s 60ms/step - loss: 8.2740 - mae: 8.2740\n",
            "Epoch 53/100\n",
            "1/1 [==============================] - 0s 67ms/step - loss: 8.1415 - mae: 8.1415\n",
            "Epoch 54/100\n",
            "1/1 [==============================] - 0s 34ms/step - loss: 8.0090 - mae: 8.0090\n",
            "Epoch 55/100\n",
            "1/1 [==============================] - 0s 24ms/step - loss: 7.8765 - mae: 7.8765\n",
            "Epoch 56/100\n",
            "1/1 [==============================] - 0s 29ms/step - loss: 7.7440 - mae: 7.7440\n",
            "Epoch 57/100\n",
            "1/1 [==============================] - 0s 24ms/step - loss: 7.6115 - mae: 7.6115\n",
            "Epoch 58/100\n",
            "1/1 [==============================] - 0s 28ms/step - loss: 7.4790 - mae: 7.4790\n",
            "Epoch 59/100\n",
            "1/1 [==============================] - 0s 22ms/step - loss: 7.3465 - mae: 7.3465\n",
            "Epoch 60/100\n",
            "1/1 [==============================] - 0s 13ms/step - loss: 7.2140 - mae: 7.2140\n",
            "Epoch 61/100\n",
            "1/1 [==============================] - 0s 11ms/step - loss: 7.0815 - mae: 7.0815\n",
            "Epoch 62/100\n",
            "1/1 [==============================] - 0s 17ms/step - loss: 7.0444 - mae: 7.0444\n",
            "Epoch 63/100\n",
            "1/1 [==============================] - 0s 11ms/step - loss: 7.0388 - mae: 7.0388\n",
            "Epoch 64/100\n",
            "1/1 [==============================] - 0s 18ms/step - loss: 7.0331 - mae: 7.0331\n",
            "Epoch 65/100\n",
            "1/1 [==============================] - 0s 30ms/step - loss: 7.0275 - mae: 7.0275\n",
            "Epoch 66/100\n",
            "1/1 [==============================] - 0s 53ms/step - loss: 7.0219 - mae: 7.0219\n",
            "Epoch 67/100\n",
            "1/1 [==============================] - 0s 55ms/step - loss: 7.0163 - mae: 7.0163\n",
            "Epoch 68/100\n",
            "1/1 [==============================] - 0s 107ms/step - loss: 7.0106 - mae: 7.0106\n",
            "Epoch 69/100\n",
            "1/1 [==============================] - 0s 42ms/step - loss: 7.0050 - mae: 7.0050\n",
            "Epoch 70/100\n",
            "1/1 [==============================] - 0s 72ms/step - loss: 6.9994 - mae: 6.9994\n",
            "Epoch 71/100\n",
            "1/1 [==============================] - 0s 29ms/step - loss: 6.9938 - mae: 6.9938\n",
            "Epoch 72/100\n",
            "1/1 [==============================] - 0s 37ms/step - loss: 6.9881 - mae: 6.9881\n",
            "Epoch 73/100\n",
            "1/1 [==============================] - 0s 60ms/step - loss: 6.9825 - mae: 6.9825\n",
            "Epoch 74/100\n",
            "1/1 [==============================] - 0s 30ms/step - loss: 6.9769 - mae: 6.9769\n",
            "Epoch 75/100\n",
            "1/1 [==============================] - 0s 35ms/step - loss: 6.9713 - mae: 6.9713\n",
            "Epoch 76/100\n",
            "1/1 [==============================] - 0s 60ms/step - loss: 6.9656 - mae: 6.9656\n",
            "Epoch 77/100\n",
            "1/1 [==============================] - 0s 34ms/step - loss: 6.9600 - mae: 6.9600\n",
            "Epoch 78/100\n",
            "1/1 [==============================] - 0s 31ms/step - loss: 6.9544 - mae: 6.9544\n",
            "Epoch 79/100\n",
            "1/1 [==============================] - 0s 27ms/step - loss: 6.9488 - mae: 6.9488\n",
            "Epoch 80/100\n",
            "1/1 [==============================] - 0s 21ms/step - loss: 6.9431 - mae: 6.9431\n",
            "Epoch 81/100\n",
            "1/1 [==============================] - 0s 22ms/step - loss: 6.9375 - mae: 6.9375\n",
            "Epoch 82/100\n",
            "1/1 [==============================] - 0s 30ms/step - loss: 6.9319 - mae: 6.9319\n",
            "Epoch 83/100\n",
            "1/1 [==============================] - 0s 25ms/step - loss: 6.9263 - mae: 6.9263\n",
            "Epoch 84/100\n",
            "1/1 [==============================] - 0s 38ms/step - loss: 6.9206 - mae: 6.9206\n",
            "Epoch 85/100\n",
            "1/1 [==============================] - 0s 34ms/step - loss: 6.9150 - mae: 6.9150\n",
            "Epoch 86/100\n",
            "1/1 [==============================] - 0s 43ms/step - loss: 6.9094 - mae: 6.9094\n",
            "Epoch 87/100\n",
            "1/1 [==============================] - 0s 46ms/step - loss: 6.9038 - mae: 6.9038\n",
            "Epoch 88/100\n",
            "1/1 [==============================] - 0s 45ms/step - loss: 6.8981 - mae: 6.8981\n",
            "Epoch 89/100\n",
            "1/1 [==============================] - 0s 49ms/step - loss: 6.8925 - mae: 6.8925\n",
            "Epoch 90/100\n",
            "1/1 [==============================] - 0s 33ms/step - loss: 6.8869 - mae: 6.8869\n",
            "Epoch 91/100\n",
            "1/1 [==============================] - 0s 61ms/step - loss: 6.8813 - mae: 6.8813\n",
            "Epoch 92/100\n",
            "1/1 [==============================] - 0s 60ms/step - loss: 6.8756 - mae: 6.8756\n",
            "Epoch 93/100\n",
            "1/1 [==============================] - 0s 39ms/step - loss: 6.8700 - mae: 6.8700\n",
            "Epoch 94/100\n",
            "1/1 [==============================] - 0s 48ms/step - loss: 6.8644 - mae: 6.8644\n",
            "Epoch 95/100\n",
            "1/1 [==============================] - 0s 26ms/step - loss: 6.8588 - mae: 6.8588\n",
            "Epoch 96/100\n",
            "1/1 [==============================] - 0s 74ms/step - loss: 6.8531 - mae: 6.8531\n",
            "Epoch 97/100\n",
            "1/1 [==============================] - 0s 63ms/step - loss: 6.8475 - mae: 6.8475\n",
            "Epoch 98/100\n",
            "1/1 [==============================] - 0s 36ms/step - loss: 6.8419 - mae: 6.8419\n",
            "Epoch 99/100\n",
            "1/1 [==============================] - 0s 39ms/step - loss: 6.8363 - mae: 6.8363\n",
            "Epoch 100/100\n",
            "1/1 [==============================] - 0s 24ms/step - loss: 6.8306 - mae: 6.8306\n"
          ]
        },
        {
          "output_type": "execute_result",
          "data": {
            "text/plain": [
              "<keras.callbacks.History at 0x7f5b94398cd0>"
            ]
          },
          "metadata": {},
          "execution_count": 12
        }
      ]
    },
    {
      "cell_type": "code",
      "source": [
        "# Remind ourselfs of the data\n",
        "X, y"
      ],
      "metadata": {
        "colab": {
          "base_uri": "https://localhost:8080/"
        },
        "id": "oqUJB_ZDBi49",
        "outputId": "f874f4f3-a243-42c7-96f7-818b76021cd3"
      },
      "execution_count": 13,
      "outputs": [
        {
          "output_type": "execute_result",
          "data": {
            "text/plain": [
              "(<tf.Tensor: shape=(8,), dtype=float64, numpy=array([-7., -4., -1.,  2.,  5.,  8., 11., 14.])>,\n",
              " <tf.Tensor: shape=(8,), dtype=float64, numpy=array([ 3.,  6.,  9., 12., 15., 18., 21., 24.])>)"
            ]
          },
          "metadata": {},
          "execution_count": 13
        }
      ]
    },
    {
      "cell_type": "code",
      "source": [
        "# Let's see if our model's prediction has improved...\n",
        "y_pred = model.predict([17.0])\n",
        "y_pred"
      ],
      "metadata": {
        "colab": {
          "base_uri": "https://localhost:8080/"
        },
        "id": "u_IzXLwmCESU",
        "outputId": "1eee66f7-98dd-476c-91f4-60e302c78d82"
      },
      "execution_count": 14,
      "outputs": [
        {
          "output_type": "stream",
          "name": "stdout",
          "text": [
            "1/1 [==============================] - 0s 358ms/step\n"
          ]
        },
        {
          "output_type": "execute_result",
          "data": {
            "text/plain": [
              "array([[29.768356]], dtype=float32)"
            ]
          },
          "metadata": {},
          "execution_count": 14
        }
      ]
    },
    {
      "cell_type": "code",
      "source": [
        "# Let's see if we can make another change to improve our model\n",
        "\n",
        "# 1. Create the model (this time with an extra hidden layers with 100 hidden units)\n",
        "model = tf.keras.Sequential([\n",
        "    tf.keras.layers.Dense(100, activation='relu'),\n",
        "    tf.keras.layers.Dense(100, activation='relu'),\n",
        "    tf.keras.layers.Dense(1)\n",
        "])\n",
        "\n",
        "# 2. Compile the model\n",
        "model.compile(loss='mae',\n",
        "              optimizer=tf.keras.optimizers.Adam(learning_rate=0.01),\n",
        "              metrics=['mae'])\n",
        "\n",
        "# 3. Fit the model\n",
        "model.fit(tf.expand_dims(X, axis=-1), y, epochs=100)"
      ],
      "metadata": {
        "colab": {
          "base_uri": "https://localhost:8080/"
        },
        "id": "FH2Q1tNSCQew",
        "outputId": "5db9d318-7edb-4c8f-9d54-8567a886c8e2"
      },
      "execution_count": 15,
      "outputs": [
        {
          "output_type": "stream",
          "name": "stdout",
          "text": [
            "Epoch 1/100\n",
            "1/1 [==============================] - 2s 2s/step - loss: 14.3078 - mae: 14.3078\n",
            "Epoch 2/100\n",
            "1/1 [==============================] - 0s 16ms/step - loss: 11.3787 - mae: 11.3787\n",
            "Epoch 3/100\n",
            "1/1 [==============================] - 0s 21ms/step - loss: 9.3744 - mae: 9.3744\n",
            "Epoch 4/100\n",
            "1/1 [==============================] - 0s 20ms/step - loss: 7.6627 - mae: 7.6627\n",
            "Epoch 5/100\n",
            "1/1 [==============================] - 0s 44ms/step - loss: 5.6945 - mae: 5.6945\n",
            "Epoch 6/100\n",
            "1/1 [==============================] - 0s 26ms/step - loss: 3.9380 - mae: 3.9380\n",
            "Epoch 7/100\n",
            "1/1 [==============================] - 0s 11ms/step - loss: 4.8487 - mae: 4.8487\n",
            "Epoch 8/100\n",
            "1/1 [==============================] - 0s 26ms/step - loss: 5.7605 - mae: 5.7605\n",
            "Epoch 9/100\n",
            "1/1 [==============================] - 0s 41ms/step - loss: 6.0476 - mae: 6.0476\n",
            "Epoch 10/100\n",
            "1/1 [==============================] - 0s 29ms/step - loss: 5.8607 - mae: 5.8607\n",
            "Epoch 11/100\n",
            "1/1 [==============================] - 0s 36ms/step - loss: 5.3501 - mae: 5.3501\n",
            "Epoch 12/100\n",
            "1/1 [==============================] - 0s 22ms/step - loss: 4.6371 - mae: 4.6371\n",
            "Epoch 13/100\n",
            "1/1 [==============================] - 0s 19ms/step - loss: 3.9380 - mae: 3.9380\n",
            "Epoch 14/100\n",
            "1/1 [==============================] - 0s 17ms/step - loss: 3.6338 - mae: 3.6338\n",
            "Epoch 15/100\n",
            "1/1 [==============================] - 0s 22ms/step - loss: 4.0513 - mae: 4.0513\n",
            "Epoch 16/100\n",
            "1/1 [==============================] - 0s 14ms/step - loss: 4.4471 - mae: 4.4471\n",
            "Epoch 17/100\n",
            "1/1 [==============================] - 0s 22ms/step - loss: 4.3677 - mae: 4.3677\n",
            "Epoch 18/100\n",
            "1/1 [==============================] - 0s 32ms/step - loss: 3.9203 - mae: 3.9203\n",
            "Epoch 19/100\n",
            "1/1 [==============================] - 0s 32ms/step - loss: 3.4890 - mae: 3.4890\n",
            "Epoch 20/100\n",
            "1/1 [==============================] - 0s 38ms/step - loss: 3.4434 - mae: 3.4434\n",
            "Epoch 21/100\n",
            "1/1 [==============================] - 0s 28ms/step - loss: 3.5354 - mae: 3.5354\n",
            "Epoch 22/100\n",
            "1/1 [==============================] - 0s 25ms/step - loss: 3.7707 - mae: 3.7707\n",
            "Epoch 23/100\n",
            "1/1 [==============================] - 0s 26ms/step - loss: 3.7656 - mae: 3.7656\n",
            "Epoch 24/100\n",
            "1/1 [==============================] - 0s 29ms/step - loss: 3.5835 - mae: 3.5835\n",
            "Epoch 25/100\n",
            "1/1 [==============================] - 0s 42ms/step - loss: 3.2085 - mae: 3.2085\n",
            "Epoch 26/100\n",
            "1/1 [==============================] - 0s 24ms/step - loss: 2.9457 - mae: 2.9457\n",
            "Epoch 27/100\n",
            "1/1 [==============================] - 0s 38ms/step - loss: 2.7143 - mae: 2.7143\n",
            "Epoch 28/100\n",
            "1/1 [==============================] - 0s 17ms/step - loss: 2.6509 - mae: 2.6509\n",
            "Epoch 29/100\n",
            "1/1 [==============================] - 0s 18ms/step - loss: 2.4483 - mae: 2.4483\n",
            "Epoch 30/100\n",
            "1/1 [==============================] - 0s 22ms/step - loss: 2.1078 - mae: 2.1078\n",
            "Epoch 31/100\n",
            "1/1 [==============================] - 0s 20ms/step - loss: 1.9388 - mae: 1.9388\n",
            "Epoch 32/100\n",
            "1/1 [==============================] - 0s 49ms/step - loss: 2.0340 - mae: 2.0340\n",
            "Epoch 33/100\n",
            "1/1 [==============================] - 0s 42ms/step - loss: 1.5843 - mae: 1.5843\n",
            "Epoch 34/100\n",
            "1/1 [==============================] - 0s 22ms/step - loss: 1.0276 - mae: 1.0276\n",
            "Epoch 35/100\n",
            "1/1 [==============================] - 0s 21ms/step - loss: 1.0120 - mae: 1.0120\n",
            "Epoch 36/100\n",
            "1/1 [==============================] - 0s 22ms/step - loss: 1.1547 - mae: 1.1547\n",
            "Epoch 37/100\n",
            "1/1 [==============================] - 0s 21ms/step - loss: 0.7750 - mae: 0.7750\n",
            "Epoch 38/100\n",
            "1/1 [==============================] - 0s 34ms/step - loss: 0.3014 - mae: 0.3014\n",
            "Epoch 39/100\n",
            "1/1 [==============================] - 0s 24ms/step - loss: 0.5773 - mae: 0.5773\n",
            "Epoch 40/100\n",
            "1/1 [==============================] - 0s 56ms/step - loss: 1.1572 - mae: 1.1572\n",
            "Epoch 41/100\n",
            "1/1 [==============================] - 0s 114ms/step - loss: 0.6621 - mae: 0.6621\n",
            "Epoch 42/100\n",
            "1/1 [==============================] - 0s 49ms/step - loss: 1.4074 - mae: 1.4074\n",
            "Epoch 43/100\n",
            "1/1 [==============================] - 0s 45ms/step - loss: 1.3378 - mae: 1.3378\n",
            "Epoch 44/100\n",
            "1/1 [==============================] - 0s 59ms/step - loss: 0.6412 - mae: 0.6412\n",
            "Epoch 45/100\n",
            "1/1 [==============================] - 0s 51ms/step - loss: 1.2022 - mae: 1.2022\n",
            "Epoch 46/100\n",
            "1/1 [==============================] - 0s 19ms/step - loss: 1.4262 - mae: 1.4262\n",
            "Epoch 47/100\n",
            "1/1 [==============================] - 0s 19ms/step - loss: 0.9003 - mae: 0.9003\n",
            "Epoch 48/100\n",
            "1/1 [==============================] - 0s 24ms/step - loss: 0.8903 - mae: 0.8903\n",
            "Epoch 49/100\n",
            "1/1 [==============================] - 0s 40ms/step - loss: 1.2272 - mae: 1.2272\n",
            "Epoch 50/100\n",
            "1/1 [==============================] - 0s 40ms/step - loss: 1.1949 - mae: 1.1949\n",
            "Epoch 51/100\n",
            "1/1 [==============================] - 0s 34ms/step - loss: 0.6194 - mae: 0.6194\n",
            "Epoch 52/100\n",
            "1/1 [==============================] - 0s 37ms/step - loss: 0.9244 - mae: 0.9244\n",
            "Epoch 53/100\n",
            "1/1 [==============================] - 0s 41ms/step - loss: 1.3684 - mae: 1.3684\n",
            "Epoch 54/100\n",
            "1/1 [==============================] - 0s 45ms/step - loss: 1.1513 - mae: 1.1513\n",
            "Epoch 55/100\n",
            "1/1 [==============================] - 0s 64ms/step - loss: 0.4876 - mae: 0.4876\n",
            "Epoch 56/100\n",
            "1/1 [==============================] - 0s 21ms/step - loss: 0.8388 - mae: 0.8388\n",
            "Epoch 57/100\n",
            "1/1 [==============================] - 0s 25ms/step - loss: 1.1935 - mae: 1.1935\n",
            "Epoch 58/100\n",
            "1/1 [==============================] - 0s 30ms/step - loss: 1.0581 - mae: 1.0581\n",
            "Epoch 59/100\n",
            "1/1 [==============================] - 0s 36ms/step - loss: 0.4728 - mae: 0.4728\n",
            "Epoch 60/100\n",
            "1/1 [==============================] - 0s 32ms/step - loss: 1.2088 - mae: 1.2088\n",
            "Epoch 61/100\n",
            "1/1 [==============================] - 0s 25ms/step - loss: 1.5565 - mae: 1.5565\n",
            "Epoch 62/100\n",
            "1/1 [==============================] - 0s 28ms/step - loss: 1.2345 - mae: 1.2345\n",
            "Epoch 63/100\n",
            "1/1 [==============================] - 0s 32ms/step - loss: 0.5181 - mae: 0.5181\n",
            "Epoch 64/100\n",
            "1/1 [==============================] - 0s 53ms/step - loss: 0.8534 - mae: 0.8534\n",
            "Epoch 65/100\n",
            "1/1 [==============================] - 0s 92ms/step - loss: 1.3591 - mae: 1.3591\n",
            "Epoch 66/100\n",
            "1/1 [==============================] - 0s 15ms/step - loss: 1.3160 - mae: 1.3160\n",
            "Epoch 67/100\n",
            "1/1 [==============================] - 0s 36ms/step - loss: 0.7879 - mae: 0.7879\n",
            "Epoch 68/100\n",
            "1/1 [==============================] - 0s 69ms/step - loss: 0.3297 - mae: 0.3297\n",
            "Epoch 69/100\n",
            "1/1 [==============================] - 0s 42ms/step - loss: 0.8163 - mae: 0.8163\n",
            "Epoch 70/100\n",
            "1/1 [==============================] - 0s 35ms/step - loss: 0.7824 - mae: 0.7824\n",
            "Epoch 71/100\n",
            "1/1 [==============================] - 0s 114ms/step - loss: 0.2153 - mae: 0.2153\n",
            "Epoch 72/100\n",
            "1/1 [==============================] - 0s 85ms/step - loss: 0.8140 - mae: 0.8140\n",
            "Epoch 73/100\n",
            "1/1 [==============================] - 0s 99ms/step - loss: 1.1276 - mae: 1.1276\n",
            "Epoch 74/100\n",
            "1/1 [==============================] - 0s 62ms/step - loss: 0.9766 - mae: 0.9766\n",
            "Epoch 75/100\n",
            "1/1 [==============================] - 0s 62ms/step - loss: 0.3910 - mae: 0.3910\n",
            "Epoch 76/100\n",
            "1/1 [==============================] - 0s 63ms/step - loss: 0.7525 - mae: 0.7525\n",
            "Epoch 77/100\n",
            "1/1 [==============================] - 0s 56ms/step - loss: 1.1675 - mae: 1.1675\n",
            "Epoch 78/100\n",
            "1/1 [==============================] - 0s 28ms/step - loss: 1.0483 - mae: 1.0483\n",
            "Epoch 79/100\n",
            "1/1 [==============================] - 0s 49ms/step - loss: 0.4086 - mae: 0.4086\n",
            "Epoch 80/100\n",
            "1/1 [==============================] - 0s 34ms/step - loss: 0.6573 - mae: 0.6573\n",
            "Epoch 81/100\n",
            "1/1 [==============================] - 0s 73ms/step - loss: 1.1116 - mae: 1.1116\n",
            "Epoch 82/100\n",
            "1/1 [==============================] - 0s 31ms/step - loss: 1.0839 - mae: 1.0839\n",
            "Epoch 83/100\n",
            "1/1 [==============================] - 0s 41ms/step - loss: 0.6392 - mae: 0.6392\n",
            "Epoch 84/100\n",
            "1/1 [==============================] - 0s 60ms/step - loss: 0.2132 - mae: 0.2132\n",
            "Epoch 85/100\n",
            "1/1 [==============================] - 0s 67ms/step - loss: 0.4727 - mae: 0.4727\n",
            "Epoch 86/100\n",
            "1/1 [==============================] - 0s 102ms/step - loss: 0.2752 - mae: 0.2752\n",
            "Epoch 87/100\n",
            "1/1 [==============================] - 0s 96ms/step - loss: 0.4436 - mae: 0.4436\n",
            "Epoch 88/100\n",
            "1/1 [==============================] - 0s 87ms/step - loss: 0.5595 - mae: 0.5595\n",
            "Epoch 89/100\n",
            "1/1 [==============================] - 0s 88ms/step - loss: 0.2748 - mae: 0.2748\n",
            "Epoch 90/100\n",
            "1/1 [==============================] - 0s 84ms/step - loss: 0.4584 - mae: 0.4584\n",
            "Epoch 91/100\n",
            "1/1 [==============================] - 0s 80ms/step - loss: 0.5861 - mae: 0.5861\n",
            "Epoch 92/100\n",
            "1/1 [==============================] - 0s 35ms/step - loss: 0.2793 - mae: 0.2793\n",
            "Epoch 93/100\n",
            "1/1 [==============================] - 0s 33ms/step - loss: 0.3861 - mae: 0.3861\n",
            "Epoch 94/100\n",
            "1/1 [==============================] - 0s 23ms/step - loss: 0.5103 - mae: 0.5103\n",
            "Epoch 95/100\n",
            "1/1 [==============================] - 0s 28ms/step - loss: 0.1973 - mae: 0.1973\n",
            "Epoch 96/100\n",
            "1/1 [==============================] - 0s 33ms/step - loss: 0.3181 - mae: 0.3181\n",
            "Epoch 97/100\n",
            "1/1 [==============================] - 0s 23ms/step - loss: 0.2827 - mae: 0.2827\n",
            "Epoch 98/100\n",
            "1/1 [==============================] - 0s 21ms/step - loss: 0.2147 - mae: 0.2147\n",
            "Epoch 99/100\n",
            "1/1 [==============================] - 0s 26ms/step - loss: 0.1822 - mae: 0.1822\n",
            "Epoch 100/100\n",
            "1/1 [==============================] - 0s 23ms/step - loss: 0.2622 - mae: 0.2622\n"
          ]
        },
        {
          "output_type": "execute_result",
          "data": {
            "text/plain": [
              "<keras.callbacks.History at 0x7f5b9427bee0>"
            ]
          },
          "metadata": {},
          "execution_count": 15
        }
      ]
    },
    {
      "cell_type": "code",
      "source": [
        "# Let's remind ourselves of the data\n",
        "X, y"
      ],
      "metadata": {
        "colab": {
          "base_uri": "https://localhost:8080/"
        },
        "id": "4luz-p5cFBgl",
        "outputId": "4f1e6405-f329-415a-8510-20ee569e59f6"
      },
      "execution_count": 16,
      "outputs": [
        {
          "output_type": "execute_result",
          "data": {
            "text/plain": [
              "(<tf.Tensor: shape=(8,), dtype=float64, numpy=array([-7., -4., -1.,  2.,  5.,  8., 11., 14.])>,\n",
              " <tf.Tensor: shape=(8,), dtype=float64, numpy=array([ 3.,  6.,  9., 12., 15., 18., 21., 24.])>)"
            ]
          },
          "metadata": {},
          "execution_count": 16
        }
      ]
    },
    {
      "cell_type": "code",
      "source": [
        "# Let's try to make a prediction\n",
        "model.predict([17.0])"
      ],
      "metadata": {
        "colab": {
          "base_uri": "https://localhost:8080/"
        },
        "id": "eKmmD2IwFYXv",
        "outputId": "01d5f591-eb64-4555-8d9f-a55ffb4578d2"
      },
      "execution_count": 17,
      "outputs": [
        {
          "output_type": "stream",
          "name": "stdout",
          "text": [
            "1/1 [==============================] - 0s 201ms/step\n"
          ]
        },
        {
          "output_type": "execute_result",
          "data": {
            "text/plain": [
              "array([[27.985453]], dtype=float32)"
            ]
          },
          "metadata": {},
          "execution_count": 17
        }
      ]
    },
    {
      "cell_type": "markdown",
      "source": [
        "## Evaluating model\n",
        "\n",
        "In practice, a typical workflow you'll go through when building neural networks is:\n",
        "\n",
        "```\n",
        "Build a model => fir it => evaluate it => tweak a model => fit it => evaluate it => tweak a model => fit it => evaluate it ...\n",
        "```"
      ],
      "metadata": {
        "id": "ElJnFJ41Fd9_"
      }
    },
    {
      "cell_type": "markdown",
      "source": [
        "When it comes to evaluation... there are 3 words you should memorize:\n",
        "\n",
        " > \"Visualize, visualize, visualize\"\n",
        "\n",
        "It's a good idea to visualize:\n",
        "* The data - what data are we working with? What does it look like?\n",
        "* The model itself - what does our model look like?\n",
        "* The training of a model - how does a model perform while it learns?\n",
        "* The predictions of the model - how do the predictions of a model line up against the ground truth (the original labels)?"
      ],
      "metadata": {
        "id": "sZGret4O5KN0"
      }
    },
    {
      "cell_type": "code",
      "source": [
        "# Make a bigger dataset\n",
        "X = tf.range(-100, 100, 4)\n",
        "X"
      ],
      "metadata": {
        "colab": {
          "base_uri": "https://localhost:8080/"
        },
        "id": "TBbv05-u5jXj",
        "outputId": "e68cfb5c-ca35-4443-d79a-2226c785eeb9"
      },
      "execution_count": 18,
      "outputs": [
        {
          "output_type": "execute_result",
          "data": {
            "text/plain": [
              "<tf.Tensor: shape=(50,), dtype=int32, numpy=\n",
              "array([-100,  -96,  -92,  -88,  -84,  -80,  -76,  -72,  -68,  -64,  -60,\n",
              "        -56,  -52,  -48,  -44,  -40,  -36,  -32,  -28,  -24,  -20,  -16,\n",
              "        -12,   -8,   -4,    0,    4,    8,   12,   16,   20,   24,   28,\n",
              "         32,   36,   40,   44,   48,   52,   56,   60,   64,   68,   72,\n",
              "         76,   80,   84,   88,   92,   96], dtype=int32)>"
            ]
          },
          "metadata": {},
          "execution_count": 18
        }
      ]
    },
    {
      "cell_type": "code",
      "source": [
        "# Make labels for the dataset\n",
        "y = X + 10\n",
        "y"
      ],
      "metadata": {
        "colab": {
          "base_uri": "https://localhost:8080/"
        },
        "id": "VCQ9aTYR6iUk",
        "outputId": "71c415ac-67cd-4cf7-bb39-7840f3b5409a"
      },
      "execution_count": 19,
      "outputs": [
        {
          "output_type": "execute_result",
          "data": {
            "text/plain": [
              "<tf.Tensor: shape=(50,), dtype=int32, numpy=\n",
              "array([-90, -86, -82, -78, -74, -70, -66, -62, -58, -54, -50, -46, -42,\n",
              "       -38, -34, -30, -26, -22, -18, -14, -10,  -6,  -2,   2,   6,  10,\n",
              "        14,  18,  22,  26,  30,  34,  38,  42,  46,  50,  54,  58,  62,\n",
              "        66,  70,  74,  78,  82,  86,  90,  94,  98, 102, 106], dtype=int32)>"
            ]
          },
          "metadata": {},
          "execution_count": 19
        }
      ]
    },
    {
      "cell_type": "code",
      "source": [
        "# Visualize data\n",
        "\n",
        "plt.plot(X, y);"
      ],
      "metadata": {
        "colab": {
          "base_uri": "https://localhost:8080/",
          "height": 265
        },
        "id": "oou174Lc6oQ0",
        "outputId": "87bcecde-5c73-4cab-a958-be49989af96d"
      },
      "execution_count": 20,
      "outputs": [
        {
          "output_type": "display_data",
          "data": {
            "text/plain": [
              "<Figure size 432x288 with 1 Axes>"
            ],
            "image/png": "[encoded data removed]"
          },
          "metadata": {
            "needs_background": "light"
          }
        }
      ]
    },
    {
      "cell_type": "markdown",
      "source": [
        "### The 3 sets...\n",
        "\n",
        "* Training set - the model learns from this data, which is typically 70-80 % of the total data you have available.\n",
        "* Validation set - the model gets tuned on this data, which is typically 10-15 % of the data available.\n",
        "* Test set - the model gets evaluated on this data to test what is has learned, this set is typically 10-15 % of the total data available."
      ],
      "metadata": {
        "id": "RJhLb8UI7m9f"
      }
    },
    {
      "cell_type": "code",
      "source": [
        "# Split the data into train and test sets\n",
        "X_train = X[:40] # first 40 are training samples (80% of the data)\n",
        "y_train = y[:40]\n",
        "\n",
        "X_test = X[40:] # last 10 are testing samples (20% of the data)\n",
        "y_test = y[40:]"
      ],
      "metadata": {
        "id": "gXIepBlP9MZ7"
      },
      "execution_count": 21,
      "outputs": []
    },
    {
      "cell_type": "markdown",
      "source": [
        "# Visualizing the data\n",
        "\n",
        "Now we're got our data in training and test sets... let's visualize it again!"
      ],
      "metadata": {
        "id": "rwle3Rec_Vs0"
      }
    },
    {
      "cell_type": "code",
      "source": [
        "plt.figure(figsize=(10, 7))\n",
        "# Plot training data in blue\n",
        "plt.scatter(X_train, y_train, c='b', label='Training data')\n",
        "# Plot testing data in green\n",
        "plt.scatter(X_test, y_test, c='g', label='Testing data')\n",
        "# Show a legend\n",
        "plt.legend();"
      ],
      "metadata": {
        "id": "aXZzgrbn_uIV",
        "outputId": "ff332e17-3487-426f-ec1a-b21f0a89e41f",
        "colab": {
          "base_uri": "https://localhost:8080/",
          "height": 428
        }
      },
      "execution_count": 22,
      "outputs": [
        {
          "output_type": "display_data",
          "data": {
            "text/plain": [
              "<Figure size 720x504 with 1 Axes>"
            ],
            "image/png": "[encoded data removed]"
          },
          "metadata": {
            "needs_background": "light"
          }
        }
      ]
    },
    {
      "cell_type": "code",
      "source": [
        "# Let's have a look at how to build a neural network for our data\n",
        "\n",
        "# 1. Create a model\n",
        "model = tf.keras.Sequential([\n",
        "    tf.keras.layers.Dense(1)\n",
        "])\n",
        "\n",
        "# 2. Compile the model\n",
        "model.compile(loss=tf.keras.losses.mae,\n",
        "              optimizer=tf.keras.optimizers.SGD(),\n",
        "              metrics=['mae'])\n",
        "\n",
        "# 3. Fit the model\n",
        "# model.fit(X_train, y_train, epoch=100)\n",
        "\n"
      ],
      "metadata": {
        "id": "GAkavUzKBDwL"
      },
      "execution_count": 23,
      "outputs": []
    },
    {
      "cell_type": "markdown",
      "source": [
        "### Visualizing the model"
      ],
      "metadata": {
        "id": "g0YBof-iC9WK"
      }
    },
    {
      "cell_type": "code",
      "source": [
        "model.summary()"
      ],
      "metadata": {
        "id": "ffUYyxBFDZ5V",
        "outputId": "8f6d4cd6-226c-4526-981a-2aee103b4acc",
        "colab": {
          "base_uri": "https://localhost:8080/",
          "height": 287
        }
      },
      "execution_count": 24,
      "outputs": [
        {
          "output_type": "error",
          "ename": "ValueError",
          "evalue": "ignored",
          "traceback": [
            "\u001b[0;31m---------------------------------------------------------------------------\u001b[0m",
            "\u001b[0;31mValueError\u001b[0m                                Traceback (most recent call last)",
            "\u001b[0;32m<ipython-input-24-5f15418b3570>\u001b[0m in \u001b[0;36m<module>\u001b[0;34m\u001b[0m\n\u001b[0;32m----> 1\u001b[0;31m \u001b[0mmodel\u001b[0m\u001b[0;34m.\u001b[0m\u001b[0msummary\u001b[0m\u001b[0;34m(\u001b[0m\u001b[0;34m)\u001b[0m\u001b[0;34m\u001b[0m\u001b[0;34m\u001b[0m\u001b[0m\n\u001b[0m",
            "\u001b[0;32m/usr/local/lib/python3.9/dist-packages/keras/engine/training.py\u001b[0m in \u001b[0;36msummary\u001b[0;34m(self, line_length, positions, print_fn, expand_nested, show_trainable, layer_range)\u001b[0m\n\u001b[1;32m   3290\u001b[0m         \"\"\"\n\u001b[1;32m   3291\u001b[0m         \u001b[0;32mif\u001b[0m \u001b[0;32mnot\u001b[0m \u001b[0mself\u001b[0m\u001b[0;34m.\u001b[0m\u001b[0mbuilt\u001b[0m\u001b[0;34m:\u001b[0m\u001b[0;34m\u001b[0m\u001b[0;34m\u001b[0m\u001b[0m\n\u001b[0;32m-> 3292\u001b[0;31m             raise ValueError(\n\u001b[0m\u001b[1;32m   3293\u001b[0m                 \u001b[0;34m\"This model has not yet been built. \"\u001b[0m\u001b[0;34m\u001b[0m\u001b[0;34m\u001b[0m\u001b[0m\n\u001b[1;32m   3294\u001b[0m                 \u001b[0;34m\"Build the model first by calling `build()` or by calling \"\u001b[0m\u001b[0;34m\u001b[0m\u001b[0;34m\u001b[0m\u001b[0m\n",
            "\u001b[0;31mValueError\u001b[0m: This model has not yet been built. Build the model first by calling `build()` or by calling the model on a batch of data."
          ]
        }
      ]
    },
    {
      "cell_type": "code",
      "source": [
        "# Let's create a model which builds automatically by defining the input_shape argument in the first layer\n",
        "tf.random.set_seed(42)\n",
        "\n",
        "# 1. Create a model (same as above)\n",
        "model = tf.keras.Sequential([\n",
        "    tf.keras.layers.Dense(10, input_shape=[1], name='input_layer'),\n",
        "    tf.keras.layers.Dense(1, name='output_layer')\n",
        "], name=\"model_1\")\n",
        "\n",
        "# 2. Compile the model\n",
        "model.compile(loss=tf.keras.losses.mae,\n",
        "              optimizer=tf.keras.optimizers.Adam(learning_rate=0.01),\n",
        "              metrics=['mae'])"
      ],
      "metadata": {
        "id": "zam_4fIbDcYf"
      },
      "execution_count": 25,
      "outputs": []
    },
    {
      "cell_type": "code",
      "source": [
        "model.summary()"
      ],
      "metadata": {
        "id": "jKbmhRsLDwUz",
        "outputId": "639d65da-e47c-4883-a164-bc8abb0c99f5",
        "colab": {
          "base_uri": "https://localhost:8080/"
        }
      },
      "execution_count": 26,
      "outputs": [
        {
          "output_type": "stream",
          "name": "stdout",
          "text": [
            "Model: \"model_1\"\n",
            "_________________________________________________________________\n",
            " Layer (type)                Output Shape              Param #   \n",
            "=================================================================\n",
            " input_layer (Dense)         (None, 10)                20        \n",
            "                                                                 \n",
            " output_layer (Dense)        (None, 1)                 11        \n",
            "                                                                 \n",
            "=================================================================\n",
            "Total params: 31\n",
            "Trainable params: 31\n",
            "Non-trainable params: 0\n",
            "_________________________________________________________________\n"
          ]
        }
      ]
    },
    {
      "cell_type": "markdown",
      "source": [
        "* Total params - total number of parameters in the model.\n",
        "* Trainable parameters - these are the parameters (patterns) the model can update as it trains.\n",
        "* Non-trainable params - these parameters aren't updated during training (this is typical when you bring in already learn patterns or parameters from other models during ***transfer learning***)."
      ],
      "metadata": {
        "id": "y8IoXD1eFn61"
      }
    },
    {
      "cell_type": "code",
      "source": [
        "# Let's fit our model\n",
        "# 3. Fit the model\n",
        "model.fit(X_train, y_train, epochs=500, verbose=0)"
      ],
      "metadata": {
        "id": "2tm0LaQ8FUsu",
        "outputId": "e6f52dba-5e03-41bf-df01-24d747a8cc63",
        "colab": {
          "base_uri": "https://localhost:8080/"
        }
      },
      "execution_count": 27,
      "outputs": [
        {
          "output_type": "execute_result",
          "data": {
            "text/plain": [
              "<keras.callbacks.History at 0x7f5b8ef5a610>"
            ]
          },
          "metadata": {},
          "execution_count": 27
        }
      ]
    },
    {
      "cell_type": "code",
      "source": [
        "# Get a summary of outr model\n",
        "model.summary()"
      ],
      "metadata": {
        "id": "P7XFhz6HIppm",
        "colab": {
          "base_uri": "https://localhost:8080/"
        },
        "outputId": "60a61d4b-8665-4c89-ef5d-b86998770fde"
      },
      "execution_count": 28,
      "outputs": [
        {
          "output_type": "stream",
          "name": "stdout",
          "text": [
            "Model: \"model_1\"\n",
            "_________________________________________________________________\n",
            " Layer (type)                Output Shape              Param #   \n",
            "=================================================================\n",
            " input_layer (Dense)         (None, 10)                20        \n",
            "                                                                 \n",
            " output_layer (Dense)        (None, 1)                 11        \n",
            "                                                                 \n",
            "=================================================================\n",
            "Total params: 31\n",
            "Trainable params: 31\n",
            "Non-trainable params: 0\n",
            "_________________________________________________________________\n"
          ]
        }
      ]
    },
    {
      "cell_type": "code",
      "source": [
        "from tensorflow.keras.utils import plot_model\n",
        "\n",
        "plot_model(model, show_shapes=True)"
      ],
      "metadata": {
        "colab": {
          "base_uri": "https://localhost:8080/",
          "height": 312
        },
        "id": "ftLdRKbxtfYC",
        "outputId": "ef2d65df-237b-4844-baef-7bde50ea0bfd"
      },
      "execution_count": 29,
      "outputs": [
        {
          "output_type": "execute_result",
          "data": {
            "image/png": "[encoded data removed]",
            "text/plain": [
              "<IPython.core.display.Image object>"
            ]
          },
          "metadata": {},
          "execution_count": 29
        }
      ]
    },
    {
      "cell_type": "markdown",
      "source": [
        "### Visualizing our model's predictions\n",
        "\n",
        "To visualize predictions, it's a good idea to plot them against the ground truth labels.\n",
        "\n",
        "Often you'll see this in the form of `y_test` or `y_true` versus `y_pred` (ground truth versus your model)"
      ],
      "metadata": {
        "id": "X5K1288exHh8"
      }
    },
    {
      "cell_type": "code",
      "source": [
        "# Make some predictions\n",
        "y_pred = model.predict(X_test)\n",
        "y_pred"
      ],
      "metadata": {
        "colab": {
          "base_uri": "https://localhost:8080/"
        },
        "id": "zIvJIxY0zPeI",
        "outputId": "32ba4577-7706-4212-92cc-38ad19f6a502"
      },
      "execution_count": 30,
      "outputs": [
        {
          "output_type": "stream",
          "name": "stdout",
          "text": [
            "1/1 [==============================] - 0s 77ms/step\n"
          ]
        },
        {
          "output_type": "execute_result",
          "data": {
            "text/plain": [
              "array([[ 70.71961 ],\n",
              "       [ 74.76487 ],\n",
              "       [ 78.81014 ],\n",
              "       [ 82.8554  ],\n",
              "       [ 86.90067 ],\n",
              "       [ 90.94593 ],\n",
              "       [ 94.9912  ],\n",
              "       [ 99.03647 ],\n",
              "       [103.081726],\n",
              "       [107.12699 ]], dtype=float32)"
            ]
          },
          "metadata": {},
          "execution_count": 30
        }
      ]
    },
    {
      "cell_type": "code",
      "source": [
        "y_test"
      ],
      "metadata": {
        "colab": {
          "base_uri": "https://localhost:8080/"
        },
        "id": "pksI_Eiz0PUa",
        "outputId": "34f515f9-d7cf-4a80-a80e-cfbfa66754a7"
      },
      "execution_count": 31,
      "outputs": [
        {
          "output_type": "execute_result",
          "data": {
            "text/plain": [
              "<tf.Tensor: shape=(10,), dtype=int32, numpy=array([ 70,  74,  78,  82,  86,  90,  94,  98, 102, 106], dtype=int32)>"
            ]
          },
          "metadata": {},
          "execution_count": 31
        }
      ]
    },
    {
      "cell_type": "code",
      "source": [
        "# let's create a plotting function\n",
        "def plot_predictions(train_data=X_train,\n",
        "                     train_labels=y_train,\n",
        "                     test_data=X_test,\n",
        "                     test_labels=y_test,\n",
        "                     predictions=y_pred):\n",
        "  \"\"\"\n",
        "  Plots training data, tests and compares predictions to ground truht labels.\n",
        "  \"\"\"\n",
        "  plt.figure(figsize=(10, 7))\n",
        "  # Plot training data in blue\n",
        "  plt.scatter(train_data, train_labels, c='b', label=\"Training data\")\n",
        "  # Plot testing data in green\n",
        "  plt.scatter(test_data, test_labels, c='g', label='Testing data')\n",
        "  # Plot model's predictions in red\n",
        "  plt.scatter(test_data, predictions, c='r', label='Predictions')\n",
        "  # Show the legend\n",
        "  plt.legend();"
      ],
      "metadata": {
        "id": "JDbG2lDE0aLK"
      },
      "execution_count": 32,
      "outputs": []
    },
    {
      "cell_type": "code",
      "source": [
        "plot_predictions(train_data=X_train,\n",
        "                 train_labels=y_train,\n",
        "                 test_data=X_test,\n",
        "                 test_labels=y_test,\n",
        "                 predictions=y_pred)"
      ],
      "metadata": {
        "colab": {
          "base_uri": "https://localhost:8080/",
          "height": 428
        },
        "id": "IR_oVJUu0fyO",
        "outputId": "786fc3e5-15a6-488d-ace4-16f306aa7a8c"
      },
      "execution_count": 33,
      "outputs": [
        {
          "output_type": "display_data",
          "data": {
            "text/plain": [
              "<Figure size 720x504 with 1 Axes>"
            ],
            "image/png": "[encoded data removed]"
          },
          "metadata": {
            "needs_background": "light"
          }
        }
      ]
    },
    {
      "cell_type": "markdown",
      "source": [
        "### Evaluating our model's predictions with regression evaluation metrics\n",
        "\n",
        "Depending on the problem you're working on, there will be different evaluation metrics to evaluate your model's prformance.\n",
        "\n",
        "Since we're working on regression, two of the main metrics:\n",
        "* MAE - mean absolute error, \"on average, how wrong is each of model's predictions\"\n",
        "* MSE - mean square error, \"square the average errors\""
      ],
      "metadata": {
        "id": "N25wwGfi2FEx"
      }
    },
    {
      "cell_type": "code",
      "source": [
        "# Evaluate the model on the test\n",
        "model.evaluate(X_test, y_test)"
      ],
      "metadata": {
        "id": "T0vgDEAn_P4Y",
        "colab": {
          "base_uri": "https://localhost:8080/"
        },
        "outputId": "0684d5a0-8998-4686-bdba-fbccb0d13948"
      },
      "execution_count": 34,
      "outputs": [
        {
          "output_type": "stream",
          "name": "stdout",
          "text": [
            "1/1 [==============================] - 1s 597ms/step - loss: 0.9233 - mae: 0.9233\n"
          ]
        },
        {
          "output_type": "execute_result",
          "data": {
            "text/plain": [
              "[0.9233024716377258, 0.9233024716377258]"
            ]
          },
          "metadata": {},
          "execution_count": 34
        }
      ]
    },
    {
      "cell_type": "code",
      "source": [
        "# Calculate the mean absolute error\n",
        "y_pred = tf.constant(y_pred)\n",
        "mae = tf.metrics.mean_absolute_error(y_true=y_test, y_pred=tf.squeeze(y_pred))\n",
        "mae"
      ],
      "metadata": {
        "colab": {
          "base_uri": "https://localhost:8080/"
        },
        "id": "xlz45oNsNkyd",
        "outputId": "07521f4c-0e32-42d1-df85-9cf981adc2ff"
      },
      "execution_count": 39,
      "outputs": [
        {
          "output_type": "execute_result",
          "data": {
            "text/plain": [
              "<tf.Tensor: shape=(), dtype=float32, numpy=0.9233017>"
            ]
          },
          "metadata": {},
          "execution_count": 39
        }
      ]
    },
    {
      "cell_type": "code",
      "source": [
        "# Calculate the mean square error\n",
        "mse = tf.metrics.mean_squared_error(y_true=y_test,\n",
        "                                    y_pred=tf.squeeze(y_pred))\n",
        "mse"
      ],
      "metadata": {
        "colab": {
          "base_uri": "https://localhost:8080/"
        },
        "id": "HtZrryC4PMjd",
        "outputId": "d0fc348b-a1d4-4d48-c8f3-905c3fe54367"
      },
      "execution_count": 40,
      "outputs": [
        {
          "output_type": "execute_result",
          "data": {
            "text/plain": [
              "<tf.Tensor: shape=(), dtype=float32, numpy=0.86938953>"
            ]
          },
          "metadata": {},
          "execution_count": 40
        }
      ]
    },
    {
      "cell_type": "code",
      "source": [
        "# Make some functions to reuse MAE and MSE\n",
        "def mae(y_true, y_pred):\n",
        "  return tf.metric.mean_absolute_error(y_true=y_true,\n",
        "                                       y_pred=y_pred)\n",
        "  \n",
        "def mse(y_true, y_pred):\n",
        "  return tf.metrics.mean_squared_error(y_true=y_true,\n",
        "                                       y_pred=y_pred)"
      ],
      "metadata": {
        "id": "b0PO8wMiRPK7"
      },
      "execution_count": null,
      "outputs": []
    },
    {
      "cell_type": "markdown",
      "source": [
        "### Running experiments to improve our model\n",
        "\n",
        "\n",
        "```\n",
        "Build model -> fir it -> evaluate it -> tweak it -> fit it -> evaluate it -> tweak it -> fit it -> evaluate it ...\n",
        "```\n",
        "\n",
        "1. Get more data - get more examples for your model to train on (more opportunities to learn patterns or relationships between features and labels).\n",
        "2. Make your model larger (using a more complex model) - this might come in the form of more layers or more hidden units in each layer.\n",
        "3. Train for longer - give your model more of chance to find patterns in the data.\n",
        "\n",
        "Let's do 3 modelling experiments:\n",
        "1. `model_1` - same as the original model, 1 layer, trained for 100 epochs.\n",
        "2. `model_2` - 2 layers, trained for 100 epochs.\n",
        "3. `model_3` - 2 layers, trained for 500 epochs."
      ],
      "metadata": {
        "id": "Xu7XGGelUYM_"
      }
    },
    {
      "cell_type": "code",
      "source": [
        "X_train, y_train"
      ],
      "metadata": {
        "id": "dWhaMCt5VQLP",
        "outputId": "fe95d31c-2387-40a3-a06b-3aad35b85be8",
        "colab": {
          "base_uri": "https://localhost:8080/"
        }
      },
      "execution_count": 41,
      "outputs": [
        {
          "output_type": "execute_result",
          "data": {
            "text/plain": [
              "(<tf.Tensor: shape=(40,), dtype=int32, numpy=\n",
              " array([-100,  -96,  -92,  -88,  -84,  -80,  -76,  -72,  -68,  -64,  -60,\n",
              "         -56,  -52,  -48,  -44,  -40,  -36,  -32,  -28,  -24,  -20,  -16,\n",
              "         -12,   -8,   -4,    0,    4,    8,   12,   16,   20,   24,   28,\n",
              "          32,   36,   40,   44,   48,   52,   56], dtype=int32)>,\n",
              " <tf.Tensor: shape=(40,), dtype=int32, numpy=\n",
              " array([-90, -86, -82, -78, -74, -70, -66, -62, -58, -54, -50, -46, -42,\n",
              "        -38, -34, -30, -26, -22, -18, -14, -10,  -6,  -2,   2,   6,  10,\n",
              "         14,  18,  22,  26,  30,  34,  38,  42,  46,  50,  54,  58,  62,\n",
              "         66], dtype=int32)>)"
            ]
          },
          "metadata": {},
          "execution_count": 41
        }
      ]
    },
    {
      "cell_type": "code",
      "source": [],
      "metadata": {
        "id": "Sewa6eW6Wyl8"
      },
      "execution_count": null,
      "outputs": []
    }
  ]
}