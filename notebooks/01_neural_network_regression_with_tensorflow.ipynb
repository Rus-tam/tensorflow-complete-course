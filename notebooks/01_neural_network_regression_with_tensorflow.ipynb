{
  "nbformat": 4,
  "nbformat_minor": 0,
  "metadata": {
    "colab": {
      "provenance": [],
      "authorship_tag": "ABX9TyMfIyg+svn8aE/qJ26pt4En"
    },
    "kernelspec": {
      "name": "python3",
      "display_name": "Python 3"
    },
    "language_info": {
      "name": "python"
    }
  },
  "cells": [
    {
      "cell_type": "markdown",
      "source": [
        "## Introduction to Regression with Neural Networks in TensorFlow\n",
        "There are many definitions for a regression problem but in our case, we're going to simplify it: predicting a numerical variable based on some other combination of variables, even shorter... predicting a number"
      ],
      "metadata": {
        "id": "L4t4gG39p2Mc"
      }
    },
    {
      "cell_type": "code",
      "source": [
        "# Import TensorFlow\n",
        "import tensorflow as tf\n",
        "print(tf.__version__)"
      ],
      "metadata": {
        "colab": {
          "base_uri": "https://localhost:8080/"
        },
        "id": "YICHdZj-p_0n",
        "outputId": "d89881ea-2ca0-4959-a138-1fba0eef9bf3"
      },
      "execution_count": 1,
      "outputs": [
        {
          "output_type": "stream",
          "name": "stdout",
          "text": [
            "2.11.0\n"
          ]
        }
      ]
    },
    {
      "cell_type": "markdown",
      "source": [
        "## Creating data to view and fit"
      ],
      "metadata": {
        "id": "xnH8iUg1sGnS"
      }
    },
    {
      "cell_type": "code",
      "source": [
        "import numpy as np\n",
        "import matplotlib.pyplot as plt\n",
        "\n",
        "# Create features\n",
        "X = np.array([-7.0, -4.0, -1.0, 2.0, 5.0, 8.0, 11.0, 14.0])\n",
        "\n",
        "# Create labels\n",
        "y = np.array([3.0, 6.0, 9.0, 12.0, 15.0, 18.0, 21.0, 24.0])\n",
        "\n",
        "# Visualize it\n",
        "plt.scatter(X, y);"
      ],
      "metadata": {
        "colab": {
          "base_uri": "https://localhost:8080/",
          "height": 269
        },
        "id": "69KS6J7wsYeG",
        "outputId": "39e99484-a500-4db8-a0aa-91b41ae2ca61"
      },
      "execution_count": 2,
      "outputs": [
        {
          "output_type": "display_data",
          "data": {
            "text/plain": [
              "<Figure size 432x288 with 1 Axes>"
            ],
            "image/png": "[encoded data removed]"
          },
          "metadata": {
            "needs_background": "light"
          }
        }
      ]
    },
    {
      "cell_type": "code",
      "source": [
        "y == X + 10"
      ],
      "metadata": {
        "id": "B3c5IxaCs5Xu",
        "colab": {
          "base_uri": "https://localhost:8080/"
        },
        "outputId": "73557f80-5cde-4f3f-d721-d98504f430c9"
      },
      "execution_count": 3,
      "outputs": [
        {
          "output_type": "execute_result",
          "data": {
            "text/plain": [
              "array([ True,  True,  True,  True,  True,  True,  True,  True])"
            ]
          },
          "metadata": {},
          "execution_count": 3
        }
      ]
    },
    {
      "cell_type": "markdown",
      "source": [
        "## Input and output shapes"
      ],
      "metadata": {
        "id": "eAYsJjucuLbv"
      }
    },
    {
      "cell_type": "code",
      "source": [
        "# Create a demo tensor for our housing price prediction problem\n",
        "house_info = tf.constant(['bedroom', 'bathroom', 'garage'])\n",
        "house_price = tf.constant([939700])\n",
        "house_info, house_price"
      ],
      "metadata": {
        "colab": {
          "base_uri": "https://localhost:8080/"
        },
        "id": "WDtOSnZ6uOJh",
        "outputId": "3a6b8d9d-510d-474c-e2d1-66c19ab6e3e4"
      },
      "execution_count": 4,
      "outputs": [
        {
          "output_type": "execute_result",
          "data": {
            "text/plain": [
              "(<tf.Tensor: shape=(3,), dtype=string, numpy=array([b'bedroom', b'bathroom', b'garage'], dtype=object)>,\n",
              " <tf.Tensor: shape=(1,), dtype=int32, numpy=array([939700], dtype=int32)>)"
            ]
          },
          "metadata": {},
          "execution_count": 4
        }
      ]
    },
    {
      "cell_type": "code",
      "source": [
        "input_shape = X[0].shape\n",
        "output_shape = y[0].shape\n",
        "input_shape, output_shape"
      ],
      "metadata": {
        "colab": {
          "base_uri": "https://localhost:8080/"
        },
        "id": "URJZdzV6uwTS",
        "outputId": "822c61e8-0845-4193-8c94-9357b9c78731"
      },
      "execution_count": 5,
      "outputs": [
        {
          "output_type": "execute_result",
          "data": {
            "text/plain": [
              "((), ())"
            ]
          },
          "metadata": {},
          "execution_count": 5
        }
      ]
    },
    {
      "cell_type": "code",
      "source": [
        "# Turn our NumPy arrays into tensors\n",
        "X = tf.constant(X)\n",
        "y = tf.constant(y)\n",
        "X, y"
      ],
      "metadata": {
        "colab": {
          "base_uri": "https://localhost:8080/"
        },
        "id": "bwv4EGH-u_QA",
        "outputId": "611b2f7d-9a4c-4535-81a7-eab33debd569"
      },
      "execution_count": 6,
      "outputs": [
        {
          "output_type": "execute_result",
          "data": {
            "text/plain": [
              "(<tf.Tensor: shape=(8,), dtype=float64, numpy=array([-7., -4., -1.,  2.,  5.,  8., 11., 14.])>,\n",
              " <tf.Tensor: shape=(8,), dtype=float64, numpy=array([ 3.,  6.,  9., 12., 15., 18., 21., 24.])>)"
            ]
          },
          "metadata": {},
          "execution_count": 6
        }
      ]
    },
    {
      "cell_type": "code",
      "source": [
        "input_shape = X[0].shape\n",
        "output_shape = y[0].shape\n",
        "input_shape, output_shape"
      ],
      "metadata": {
        "colab": {
          "base_uri": "https://localhost:8080/"
        },
        "id": "vmZZgAuXwoXt",
        "outputId": "2febfd17-0e14-482b-a276-337c13976823"
      },
      "execution_count": 7,
      "outputs": [
        {
          "output_type": "execute_result",
          "data": {
            "text/plain": [
              "(TensorShape([]), TensorShape([]))"
            ]
          },
          "metadata": {},
          "execution_count": 7
        }
      ]
    },
    {
      "cell_type": "markdown",
      "source": [
        "## Steps in modelling with TensorFlow\n",
        "\n",
        "1. **Creating a model** - define the input and output layers, as well the hidden layers of a deep learning model\n",
        "2. **Compiling a model** - define the loss function (in order words, the function which tells our model how wrong it is) and the optimizer (tells our model how to improve the patterns its learning) and evaluation metrics (what we can use to interpret the performance of our model).\n",
        "3. **Fitting a model** - letting the model try to find patterns between X & y (features and labels)."
      ],
      "metadata": {
        "id": "-SpOWiv7wwsQ"
      }
    },
    {
      "cell_type": "code",
      "source": [
        "# Set random seed\n",
        "tf.random.set_seed(42)\n",
        "\n",
        "# 1. Create a model using the Sequential API\n",
        "model = tf.keras.Sequential([\n",
        "    tf.keras.layers.Dense(1)\n",
        "])\n",
        "\n",
        "# 2. Compile the model\n",
        "model.compile(loss=tf.keras.losses.mae,\n",
        "              optimizer=tf.keras.optimizers.SGD(),\n",
        "              metrics=['mae'])\n",
        "\n",
        "# 3. Fit the model\n",
        "model.fit(tf.expand_dims(X, axis=-1), y, epochs=5)"
      ],
      "metadata": {
        "colab": {
          "base_uri": "https://localhost:8080/"
        },
        "id": "Sf3uFIsWyJwP",
        "outputId": "b89993fc-1b95-4a82-ba64-e720148ac10c"
      },
      "execution_count": 8,
      "outputs": [
        {
          "output_type": "stream",
          "name": "stdout",
          "text": [
            "Epoch 1/5\n",
            "1/1 [==============================] - 1s 1s/step - loss: 12.3208 - mae: 12.3208\n",
            "Epoch 2/5\n",
            "1/1 [==============================] - 0s 12ms/step - loss: 12.1883 - mae: 12.1883\n",
            "Epoch 3/5\n",
            "1/1 [==============================] - 0s 9ms/step - loss: 12.0558 - mae: 12.0558\n",
            "Epoch 4/5\n",
            "1/1 [==============================] - 0s 8ms/step - loss: 11.9233 - mae: 11.9233\n",
            "Epoch 5/5\n",
            "1/1 [==============================] - 0s 9ms/step - loss: 11.7908 - mae: 11.7908\n"
          ]
        },
        {
          "output_type": "execute_result",
          "data": {
            "text/plain": [
              "<keras.callbacks.History at 0x7f72e4f10850>"
            ]
          },
          "metadata": {},
          "execution_count": 8
        }
      ]
    },
    {
      "cell_type": "code",
      "source": [
        "# Check out X and y\n",
        "X, y"
      ],
      "metadata": {
        "colab": {
          "base_uri": "https://localhost:8080/"
        },
        "id": "j7-I4FtPyYhQ",
        "outputId": "1dc8b8d9-fb15-43fd-a920-03b210fb09ff"
      },
      "execution_count": 9,
      "outputs": [
        {
          "output_type": "execute_result",
          "data": {
            "text/plain": [
              "(<tf.Tensor: shape=(8,), dtype=float64, numpy=array([-7., -4., -1.,  2.,  5.,  8., 11., 14.])>,\n",
              " <tf.Tensor: shape=(8,), dtype=float64, numpy=array([ 3.,  6.,  9., 12., 15., 18., 21., 24.])>)"
            ]
          },
          "metadata": {},
          "execution_count": 9
        }
      ]
    },
    {
      "cell_type": "code",
      "source": [
        "# Try and make a prediction using our model\n",
        "y_pred = model.predict([17.0])\n",
        "y_pred"
      ],
      "metadata": {
        "colab": {
          "base_uri": "https://localhost:8080/"
        },
        "id": "Xq_wGG_p3UlD",
        "outputId": "c50e5a05-f069-4dc7-be76-4edad6f7137a"
      },
      "execution_count": 10,
      "outputs": [
        {
          "output_type": "stream",
          "name": "stdout",
          "text": [
            "1/1 [==============================] - 0s 330ms/step\n"
          ]
        },
        {
          "output_type": "execute_result",
          "data": {
            "text/plain": [
              "array([[8.752554]], dtype=float32)"
            ]
          },
          "metadata": {},
          "execution_count": 10
        }
      ]
    },
    {
      "cell_type": "code",
      "source": [
        "y_pred + 11"
      ],
      "metadata": {
        "colab": {
          "base_uri": "https://localhost:8080/"
        },
        "id": "gCShjcuZ3dz2",
        "outputId": "eddd36fd-9b1d-40dc-e338-cff12bbdea28"
      },
      "execution_count": 11,
      "outputs": [
        {
          "output_type": "execute_result",
          "data": {
            "text/plain": [
              "array([[19.752554]], dtype=float32)"
            ]
          },
          "metadata": {},
          "execution_count": 11
        }
      ]
    },
    {
      "cell_type": "markdown",
      "source": [
        "## Improving our model\n",
        "\n",
        "We can improve our model, by altering the steps we took to create a model.\n",
        "\n",
        "1. **Creating a model** - here we might add more layers, increase the number of hidden units( also called neurons) within each of the hidden layers, change the activation function of each layer.\n",
        "2. **Compiling a model** - here we might change the optimization function or perhaps the **learning rate** of the optimization function.\n",
        "3. **Fitting a model** - here we might fit a model for more **epochs** (leave it training for longer) or on more data (give the model more examples to learn from).\n"
      ],
      "metadata": {
        "id": "nBfuyXk24J6c"
      }
    },
    {
      "cell_type": "code",
      "source": [
        "# Let's rebuild our model\n",
        "\n",
        "# 1. Create the model\n",
        "model = tf.keras.Sequential([\n",
        "    tf.keras.layers.Dense(1)\n",
        "])\n",
        "\n",
        "# 2. Compile the model\n",
        "model.compile(loss=tf.keras.losses.mae,\n",
        "              optimizer=tf.keras.optimizers.SGD(),\n",
        "              metrics=[\"mae\"])\n",
        "\n",
        "# 3. Fit the model (this time we'll train for longer)\n",
        "model.fit(tf.expand_dims(X, axis=-1), y, epochs=100)"
      ],
      "metadata": {
        "colab": {
          "base_uri": "https://localhost:8080/"
        },
        "id": "SWizP2-w-L9A",
        "outputId": "2ad1968b-a577-4f46-f47c-a6954f2a8fe8"
      },
      "execution_count": 12,
      "outputs": [
        {
          "output_type": "stream",
          "name": "stdout",
          "text": [
            "Epoch 1/100\n",
            "1/1 [==============================] - 1s 725ms/step - loss: 13.4829 - mae: 13.4829\n",
            "Epoch 2/100\n",
            "1/1 [==============================] - 0s 21ms/step - loss: 13.3504 - mae: 13.3504\n",
            "Epoch 3/100\n",
            "1/1 [==============================] - 0s 15ms/step - loss: 13.2179 - mae: 13.2179\n",
            "Epoch 4/100\n",
            "1/1 [==============================] - 0s 19ms/step - loss: 13.0854 - mae: 13.0854\n",
            "Epoch 5/100\n",
            "1/1 [==============================] - 0s 17ms/step - loss: 12.9529 - mae: 12.9529\n",
            "Epoch 6/100\n",
            "1/1 [==============================] - 0s 17ms/step - loss: 12.8204 - mae: 12.8204\n",
            "Epoch 7/100\n",
            "1/1 [==============================] - 0s 12ms/step - loss: 12.6879 - mae: 12.6879\n",
            "Epoch 8/100\n",
            "1/1 [==============================] - 0s 13ms/step - loss: 12.5554 - mae: 12.5554\n",
            "Epoch 9/100\n",
            "1/1 [==============================] - 0s 10ms/step - loss: 12.4229 - mae: 12.4229\n",
            "Epoch 10/100\n",
            "1/1 [==============================] - 0s 9ms/step - loss: 12.2904 - mae: 12.2904\n",
            "Epoch 11/100\n",
            "1/1 [==============================] - 0s 13ms/step - loss: 12.1579 - mae: 12.1579\n",
            "Epoch 12/100\n",
            "1/1 [==============================] - 0s 11ms/step - loss: 12.0254 - mae: 12.0254\n",
            "Epoch 13/100\n",
            "1/1 [==============================] - 0s 15ms/step - loss: 11.8929 - mae: 11.8929\n",
            "Epoch 14/100\n",
            "1/1 [==============================] - 0s 14ms/step - loss: 11.7604 - mae: 11.7604\n",
            "Epoch 15/100\n",
            "1/1 [==============================] - 0s 13ms/step - loss: 11.6279 - mae: 11.6279\n",
            "Epoch 16/100\n",
            "1/1 [==============================] - 0s 10ms/step - loss: 11.4954 - mae: 11.4954\n",
            "Epoch 17/100\n",
            "1/1 [==============================] - 0s 12ms/step - loss: 11.3629 - mae: 11.3629\n",
            "Epoch 18/100\n",
            "1/1 [==============================] - 0s 17ms/step - loss: 11.2304 - mae: 11.2304\n",
            "Epoch 19/100\n",
            "1/1 [==============================] - 0s 13ms/step - loss: 11.0979 - mae: 11.0979\n",
            "Epoch 20/100\n",
            "1/1 [==============================] - 0s 17ms/step - loss: 10.9654 - mae: 10.9654\n",
            "Epoch 21/100\n",
            "1/1 [==============================] - 0s 28ms/step - loss: 10.8329 - mae: 10.8329\n",
            "Epoch 22/100\n",
            "1/1 [==============================] - 0s 15ms/step - loss: 10.7004 - mae: 10.7004\n",
            "Epoch 23/100\n",
            "1/1 [==============================] - 0s 17ms/step - loss: 10.5679 - mae: 10.5679\n",
            "Epoch 24/100\n",
            "1/1 [==============================] - 0s 45ms/step - loss: 10.4354 - mae: 10.4354\n",
            "Epoch 25/100\n",
            "1/1 [==============================] - 0s 24ms/step - loss: 10.3029 - mae: 10.3029\n",
            "Epoch 26/100\n",
            "1/1 [==============================] - 0s 20ms/step - loss: 10.1704 - mae: 10.1704\n",
            "Epoch 27/100\n",
            "1/1 [==============================] - 0s 18ms/step - loss: 10.0379 - mae: 10.0379\n",
            "Epoch 28/100\n",
            "1/1 [==============================] - 0s 19ms/step - loss: 9.9054 - mae: 9.9054\n",
            "Epoch 29/100\n",
            "1/1 [==============================] - 0s 16ms/step - loss: 9.7729 - mae: 9.7729\n",
            "Epoch 30/100\n",
            "1/1 [==============================] - 0s 16ms/step - loss: 9.6404 - mae: 9.6404\n",
            "Epoch 31/100\n",
            "1/1 [==============================] - 0s 10ms/step - loss: 9.5079 - mae: 9.5079\n",
            "Epoch 32/100\n",
            "1/1 [==============================] - 0s 9ms/step - loss: 9.3754 - mae: 9.3754\n",
            "Epoch 33/100\n",
            "1/1 [==============================] - 0s 11ms/step - loss: 9.2429 - mae: 9.2429\n",
            "Epoch 34/100\n",
            "1/1 [==============================] - 0s 9ms/step - loss: 9.1104 - mae: 9.1104\n",
            "Epoch 35/100\n",
            "1/1 [==============================] - 0s 11ms/step - loss: 8.9779 - mae: 8.9779\n",
            "Epoch 36/100\n",
            "1/1 [==============================] - 0s 10ms/step - loss: 8.8454 - mae: 8.8454\n",
            "Epoch 37/100\n",
            "1/1 [==============================] - 0s 12ms/step - loss: 8.7129 - mae: 8.7129\n",
            "Epoch 38/100\n",
            "1/1 [==============================] - 0s 19ms/step - loss: 8.5804 - mae: 8.5804\n",
            "Epoch 39/100\n",
            "1/1 [==============================] - 0s 19ms/step - loss: 8.4479 - mae: 8.4479\n",
            "Epoch 40/100\n",
            "1/1 [==============================] - 0s 18ms/step - loss: 8.3154 - mae: 8.3154\n",
            "Epoch 41/100\n",
            "1/1 [==============================] - 0s 24ms/step - loss: 8.1829 - mae: 8.1829\n",
            "Epoch 42/100\n",
            "1/1 [==============================] - 0s 18ms/step - loss: 8.0504 - mae: 8.0504\n",
            "Epoch 43/100\n",
            "1/1 [==============================] - 0s 17ms/step - loss: 7.9179 - mae: 7.9179\n",
            "Epoch 44/100\n",
            "1/1 [==============================] - 0s 16ms/step - loss: 7.7854 - mae: 7.7854\n",
            "Epoch 45/100\n",
            "1/1 [==============================] - 0s 16ms/step - loss: 7.6529 - mae: 7.6529\n",
            "Epoch 46/100\n",
            "1/1 [==============================] - 0s 16ms/step - loss: 7.5204 - mae: 7.5204\n",
            "Epoch 47/100\n",
            "1/1 [==============================] - 0s 17ms/step - loss: 7.3879 - mae: 7.3879\n",
            "Epoch 48/100\n",
            "1/1 [==============================] - 0s 20ms/step - loss: 7.2554 - mae: 7.2554\n",
            "Epoch 49/100\n",
            "1/1 [==============================] - 0s 20ms/step - loss: 7.1400 - mae: 7.1400\n",
            "Epoch 50/100\n",
            "1/1 [==============================] - 0s 20ms/step - loss: 7.1344 - mae: 7.1344\n",
            "Epoch 51/100\n",
            "1/1 [==============================] - 0s 17ms/step - loss: 7.1287 - mae: 7.1287\n",
            "Epoch 52/100\n",
            "1/1 [==============================] - 0s 19ms/step - loss: 7.1231 - mae: 7.1231\n",
            "Epoch 53/100\n",
            "1/1 [==============================] - 0s 14ms/step - loss: 7.1175 - mae: 7.1175\n",
            "Epoch 54/100\n",
            "1/1 [==============================] - 0s 18ms/step - loss: 7.1119 - mae: 7.1119\n",
            "Epoch 55/100\n",
            "1/1 [==============================] - 0s 20ms/step - loss: 7.1062 - mae: 7.1062\n",
            "Epoch 56/100\n",
            "1/1 [==============================] - 0s 21ms/step - loss: 7.1006 - mae: 7.1006\n",
            "Epoch 57/100\n",
            "1/1 [==============================] - 0s 11ms/step - loss: 7.0950 - mae: 7.0950\n",
            "Epoch 58/100\n",
            "1/1 [==============================] - 0s 19ms/step - loss: 7.0894 - mae: 7.0894\n",
            "Epoch 59/100\n",
            "1/1 [==============================] - 0s 18ms/step - loss: 7.0838 - mae: 7.0838\n",
            "Epoch 60/100\n",
            "1/1 [==============================] - 0s 12ms/step - loss: 7.0781 - mae: 7.0781\n",
            "Epoch 61/100\n",
            "1/1 [==============================] - 0s 14ms/step - loss: 7.0725 - mae: 7.0725\n",
            "Epoch 62/100\n",
            "1/1 [==============================] - 0s 13ms/step - loss: 7.0669 - mae: 7.0669\n",
            "Epoch 63/100\n",
            "1/1 [==============================] - 0s 13ms/step - loss: 7.0613 - mae: 7.0613\n",
            "Epoch 64/100\n",
            "1/1 [==============================] - 0s 13ms/step - loss: 7.0556 - mae: 7.0556\n",
            "Epoch 65/100\n",
            "1/1 [==============================] - 0s 14ms/step - loss: 7.0500 - mae: 7.0500\n",
            "Epoch 66/100\n",
            "1/1 [==============================] - 0s 13ms/step - loss: 7.0444 - mae: 7.0444\n",
            "Epoch 67/100\n",
            "1/1 [==============================] - 0s 19ms/step - loss: 7.0388 - mae: 7.0388\n",
            "Epoch 68/100\n",
            "1/1 [==============================] - 0s 12ms/step - loss: 7.0331 - mae: 7.0331\n",
            "Epoch 69/100\n",
            "1/1 [==============================] - 0s 11ms/step - loss: 7.0275 - mae: 7.0275\n",
            "Epoch 70/100\n",
            "1/1 [==============================] - 0s 11ms/step - loss: 7.0219 - mae: 7.0219\n",
            "Epoch 71/100\n",
            "1/1 [==============================] - 0s 11ms/step - loss: 7.0163 - mae: 7.0163\n",
            "Epoch 72/100\n",
            "1/1 [==============================] - 0s 19ms/step - loss: 7.0106 - mae: 7.0106\n",
            "Epoch 73/100\n",
            "1/1 [==============================] - 0s 13ms/step - loss: 7.0050 - mae: 7.0050\n",
            "Epoch 74/100\n",
            "1/1 [==============================] - 0s 13ms/step - loss: 6.9994 - mae: 6.9994\n",
            "Epoch 75/100\n",
            "1/1 [==============================] - 0s 17ms/step - loss: 6.9938 - mae: 6.9938\n",
            "Epoch 76/100\n",
            "1/1 [==============================] - 0s 16ms/step - loss: 6.9881 - mae: 6.9881\n",
            "Epoch 77/100\n",
            "1/1 [==============================] - 0s 14ms/step - loss: 6.9825 - mae: 6.9825\n",
            "Epoch 78/100\n",
            "1/1 [==============================] - 0s 11ms/step - loss: 6.9769 - mae: 6.9769\n",
            "Epoch 79/100\n",
            "1/1 [==============================] - 0s 14ms/step - loss: 6.9713 - mae: 6.9713\n",
            "Epoch 80/100\n",
            "1/1 [==============================] - 0s 18ms/step - loss: 6.9656 - mae: 6.9656\n",
            "Epoch 81/100\n",
            "1/1 [==============================] - 0s 19ms/step - loss: 6.9600 - mae: 6.9600\n",
            "Epoch 82/100\n",
            "1/1 [==============================] - 0s 16ms/step - loss: 6.9544 - mae: 6.9544\n",
            "Epoch 83/100\n",
            "1/1 [==============================] - 0s 18ms/step - loss: 6.9488 - mae: 6.9488\n",
            "Epoch 84/100\n",
            "1/1 [==============================] - 0s 13ms/step - loss: 6.9431 - mae: 6.9431\n",
            "Epoch 85/100\n",
            "1/1 [==============================] - 0s 19ms/step - loss: 6.9375 - mae: 6.9375\n",
            "Epoch 86/100\n",
            "1/1 [==============================] - 0s 13ms/step - loss: 6.9319 - mae: 6.9319\n",
            "Epoch 87/100\n",
            "1/1 [==============================] - 0s 17ms/step - loss: 6.9263 - mae: 6.9263\n",
            "Epoch 88/100\n",
            "1/1 [==============================] - 0s 19ms/step - loss: 6.9206 - mae: 6.9206\n",
            "Epoch 89/100\n",
            "1/1 [==============================] - 0s 17ms/step - loss: 6.9150 - mae: 6.9150\n",
            "Epoch 90/100\n",
            "1/1 [==============================] - 0s 15ms/step - loss: 6.9094 - mae: 6.9094\n",
            "Epoch 91/100\n",
            "1/1 [==============================] - 0s 19ms/step - loss: 6.9038 - mae: 6.9038\n",
            "Epoch 92/100\n",
            "1/1 [==============================] - 0s 19ms/step - loss: 6.8981 - mae: 6.8981\n",
            "Epoch 93/100\n",
            "1/1 [==============================] - 0s 21ms/step - loss: 6.8925 - mae: 6.8925\n",
            "Epoch 94/100\n",
            "1/1 [==============================] - 0s 14ms/step - loss: 6.8869 - mae: 6.8869\n",
            "Epoch 95/100\n",
            "1/1 [==============================] - 0s 14ms/step - loss: 6.8812 - mae: 6.8812\n",
            "Epoch 96/100\n",
            "1/1 [==============================] - 0s 13ms/step - loss: 6.8756 - mae: 6.8756\n",
            "Epoch 97/100\n",
            "1/1 [==============================] - 0s 20ms/step - loss: 6.8700 - mae: 6.8700\n",
            "Epoch 98/100\n",
            "1/1 [==============================] - 0s 15ms/step - loss: 6.8644 - mae: 6.8644\n",
            "Epoch 99/100\n",
            "1/1 [==============================] - 0s 16ms/step - loss: 6.8588 - mae: 6.8588\n",
            "Epoch 100/100\n",
            "1/1 [==============================] - 0s 13ms/step - loss: 6.8531 - mae: 6.8531\n"
          ]
        },
        {
          "output_type": "execute_result",
          "data": {
            "text/plain": [
              "<keras.callbacks.History at 0x7f72e5850160>"
            ]
          },
          "metadata": {},
          "execution_count": 12
        }
      ]
    },
    {
      "cell_type": "code",
      "source": [
        "# Remind ourselfs of the data\n",
        "X, y"
      ],
      "metadata": {
        "colab": {
          "base_uri": "https://localhost:8080/"
        },
        "id": "oqUJB_ZDBi49",
        "outputId": "cb3e98e9-601d-4564-ad3d-f643624e05b6"
      },
      "execution_count": 13,
      "outputs": [
        {
          "output_type": "execute_result",
          "data": {
            "text/plain": [
              "(<tf.Tensor: shape=(8,), dtype=float64, numpy=array([-7., -4., -1.,  2.,  5.,  8., 11., 14.])>,\n",
              " <tf.Tensor: shape=(8,), dtype=float64, numpy=array([ 3.,  6.,  9., 12., 15., 18., 21., 24.])>)"
            ]
          },
          "metadata": {},
          "execution_count": 13
        }
      ]
    },
    {
      "cell_type": "code",
      "source": [
        "# Let's see if our model's prediction has improved...\n",
        "y_pred = model.predict([17.0])\n",
        "y_pred"
      ],
      "metadata": {
        "colab": {
          "base_uri": "https://localhost:8080/"
        },
        "id": "u_IzXLwmCESU",
        "outputId": "4411f475-6f73-4172-d264-94357f651a2d"
      },
      "execution_count": 14,
      "outputs": [
        {
          "output_type": "stream",
          "name": "stdout",
          "text": [
            "1/1 [==============================] - 0s 121ms/step\n"
          ]
        },
        {
          "output_type": "execute_result",
          "data": {
            "text/plain": [
              "array([[29.513218]], dtype=float32)"
            ]
          },
          "metadata": {},
          "execution_count": 14
        }
      ]
    },
    {
      "cell_type": "code",
      "source": [
        "# Let's see if we can make another change to improve our model\n",
        "\n",
        "# 1. Create the model (this time with an extra hidden layers with 100 hidden units)\n",
        "model = tf.keras.Sequential([\n",
        "    tf.keras.layers.Dense(100, activation='relu'),\n",
        "    tf.keras.layers.Dense(100, activation='relu'),\n",
        "    tf.keras.layers.Dense(1)\n",
        "])\n",
        "\n",
        "# 2. Compile the model\n",
        "model.compile(loss='mae',\n",
        "              optimizer=tf.keras.optimizers.Adam(learning_rate=0.01),\n",
        "              metrics=['mae'])\n",
        "\n",
        "# 3. Fit the model\n",
        "model.fit(tf.expand_dims(X, axis=-1), y, epochs=100)"
      ],
      "metadata": {
        "colab": {
          "base_uri": "https://localhost:8080/"
        },
        "id": "FH2Q1tNSCQew",
        "outputId": "88a3f0f1-a197-4d6b-ca5d-c4a8c994a38e"
      },
      "execution_count": 15,
      "outputs": [
        {
          "output_type": "stream",
          "name": "stdout",
          "text": [
            "Epoch 1/100\n",
            "1/1 [==============================] - 1s 1s/step - loss: 12.5699 - mae: 12.5699\n",
            "Epoch 2/100\n",
            "1/1 [==============================] - 0s 22ms/step - loss: 10.1686 - mae: 10.1686\n",
            "Epoch 3/100\n",
            "1/1 [==============================] - 0s 13ms/step - loss: 8.0795 - mae: 8.0795\n",
            "Epoch 4/100\n",
            "1/1 [==============================] - 0s 33ms/step - loss: 5.5896 - mae: 5.5896\n",
            "Epoch 5/100\n",
            "1/1 [==============================] - 0s 46ms/step - loss: 4.0300 - mae: 4.0300\n",
            "Epoch 6/100\n",
            "1/1 [==============================] - 0s 43ms/step - loss: 5.1390 - mae: 5.1390\n",
            "Epoch 7/100\n",
            "1/1 [==============================] - 0s 22ms/step - loss: 5.7331 - mae: 5.7331\n",
            "Epoch 8/100\n",
            "1/1 [==============================] - 0s 36ms/step - loss: 5.6537 - mae: 5.6537\n",
            "Epoch 9/100\n",
            "1/1 [==============================] - 0s 33ms/step - loss: 5.1410 - mae: 5.1410\n",
            "Epoch 10/100\n",
            "1/1 [==============================] - 0s 37ms/step - loss: 4.3344 - mae: 4.3344\n",
            "Epoch 11/100\n",
            "1/1 [==============================] - 0s 43ms/step - loss: 3.8967 - mae: 3.8967\n",
            "Epoch 12/100\n",
            "1/1 [==============================] - 0s 41ms/step - loss: 3.8564 - mae: 3.8564\n",
            "Epoch 13/100\n",
            "1/1 [==============================] - 0s 42ms/step - loss: 4.5002 - mae: 4.5002\n",
            "Epoch 14/100\n",
            "1/1 [==============================] - 0s 24ms/step - loss: 4.6301 - mae: 4.6301\n",
            "Epoch 15/100\n",
            "1/1 [==============================] - 0s 23ms/step - loss: 4.2411 - mae: 4.2411\n",
            "Epoch 16/100\n",
            "1/1 [==============================] - 0s 28ms/step - loss: 3.6011 - mae: 3.6011\n",
            "Epoch 17/100\n",
            "1/1 [==============================] - 0s 30ms/step - loss: 3.4580 - mae: 3.4580\n",
            "Epoch 18/100\n",
            "1/1 [==============================] - 0s 39ms/step - loss: 3.5344 - mae: 3.5344\n",
            "Epoch 19/100\n",
            "1/1 [==============================] - 0s 75ms/step - loss: 3.7794 - mae: 3.7794\n",
            "Epoch 20/100\n",
            "1/1 [==============================] - 0s 30ms/step - loss: 3.6974 - mae: 3.6974\n",
            "Epoch 21/100\n",
            "1/1 [==============================] - 0s 30ms/step - loss: 3.4043 - mae: 3.4043\n",
            "Epoch 22/100\n",
            "1/1 [==============================] - 0s 33ms/step - loss: 2.9926 - mae: 2.9926\n",
            "Epoch 23/100\n",
            "1/1 [==============================] - 0s 26ms/step - loss: 2.7186 - mae: 2.7186\n",
            "Epoch 24/100\n",
            "1/1 [==============================] - 0s 17ms/step - loss: 2.6167 - mae: 2.6167\n",
            "Epoch 25/100\n",
            "1/1 [==============================] - 0s 18ms/step - loss: 2.4155 - mae: 2.4155\n",
            "Epoch 26/100\n",
            "1/1 [==============================] - 0s 12ms/step - loss: 2.0480 - mae: 2.0480\n",
            "Epoch 27/100\n",
            "1/1 [==============================] - 0s 23ms/step - loss: 1.8410 - mae: 1.8410\n",
            "Epoch 28/100\n",
            "1/1 [==============================] - 0s 19ms/step - loss: 1.5945 - mae: 1.5945\n",
            "Epoch 29/100\n",
            "1/1 [==============================] - 0s 22ms/step - loss: 1.4028 - mae: 1.4028\n",
            "Epoch 30/100\n",
            "1/1 [==============================] - 0s 30ms/step - loss: 0.9751 - mae: 0.9751\n",
            "Epoch 31/100\n",
            "1/1 [==============================] - 0s 60ms/step - loss: 0.6740 - mae: 0.6740\n",
            "Epoch 32/100\n",
            "1/1 [==============================] - 0s 22ms/step - loss: 0.3666 - mae: 0.3666\n",
            "Epoch 33/100\n",
            "1/1 [==============================] - 0s 24ms/step - loss: 0.6425 - mae: 0.6425\n",
            "Epoch 34/100\n",
            "1/1 [==============================] - 0s 20ms/step - loss: 0.6894 - mae: 0.6894\n",
            "Epoch 35/100\n",
            "1/1 [==============================] - 0s 16ms/step - loss: 0.5996 - mae: 0.5996\n",
            "Epoch 36/100\n",
            "1/1 [==============================] - 0s 12ms/step - loss: 0.7795 - mae: 0.7795\n",
            "Epoch 37/100\n",
            "1/1 [==============================] - 0s 14ms/step - loss: 0.7443 - mae: 0.7443\n",
            "Epoch 38/100\n",
            "1/1 [==============================] - 0s 23ms/step - loss: 0.7117 - mae: 0.7117\n",
            "Epoch 39/100\n",
            "1/1 [==============================] - 0s 14ms/step - loss: 0.4945 - mae: 0.4945\n",
            "Epoch 40/100\n",
            "1/1 [==============================] - 0s 32ms/step - loss: 0.5739 - mae: 0.5739\n",
            "Epoch 41/100\n",
            "1/1 [==============================] - 0s 39ms/step - loss: 0.7849 - mae: 0.7849\n",
            "Epoch 42/100\n",
            "1/1 [==============================] - 0s 79ms/step - loss: 0.8654 - mae: 0.8654\n",
            "Epoch 43/100\n",
            "1/1 [==============================] - 0s 55ms/step - loss: 0.2345 - mae: 0.2345\n",
            "Epoch 44/100\n",
            "1/1 [==============================] - 0s 31ms/step - loss: 0.2361 - mae: 0.2361\n",
            "Epoch 45/100\n",
            "1/1 [==============================] - 0s 84ms/step - loss: 0.6234 - mae: 0.6234\n",
            "Epoch 46/100\n",
            "1/1 [==============================] - 0s 54ms/step - loss: 0.5007 - mae: 0.5007\n",
            "Epoch 47/100\n",
            "1/1 [==============================] - 0s 48ms/step - loss: 0.7942 - mae: 0.7942\n",
            "Epoch 48/100\n",
            "1/1 [==============================] - 0s 28ms/step - loss: 0.8448 - mae: 0.8448\n",
            "Epoch 49/100\n",
            "1/1 [==============================] - 0s 24ms/step - loss: 0.1844 - mae: 0.1844\n",
            "Epoch 50/100\n",
            "1/1 [==============================] - 0s 34ms/step - loss: 0.9219 - mae: 0.9219\n",
            "Epoch 51/100\n",
            "1/1 [==============================] - 0s 45ms/step - loss: 0.9974 - mae: 0.9974\n",
            "Epoch 52/100\n",
            "1/1 [==============================] - 0s 21ms/step - loss: 0.3831 - mae: 0.3831\n",
            "Epoch 53/100\n",
            "1/1 [==============================] - 0s 26ms/step - loss: 0.9389 - mae: 0.9389\n",
            "Epoch 54/100\n",
            "1/1 [==============================] - 0s 28ms/step - loss: 1.3027 - mae: 1.3027\n",
            "Epoch 55/100\n",
            "1/1 [==============================] - 0s 65ms/step - loss: 0.9668 - mae: 0.9668\n",
            "Epoch 56/100\n",
            "1/1 [==============================] - 0s 38ms/step - loss: 0.0697 - mae: 0.0697\n",
            "Epoch 57/100\n",
            "1/1 [==============================] - 0s 71ms/step - loss: 0.4316 - mae: 0.4316\n",
            "Epoch 58/100\n",
            "1/1 [==============================] - 0s 33ms/step - loss: 0.0873 - mae: 0.0873\n",
            "Epoch 59/100\n",
            "1/1 [==============================] - 0s 35ms/step - loss: 0.9104 - mae: 0.9104\n",
            "Epoch 60/100\n",
            "1/1 [==============================] - 0s 95ms/step - loss: 1.1320 - mae: 1.1320\n",
            "Epoch 61/100\n",
            "1/1 [==============================] - 0s 28ms/step - loss: 0.7673 - mae: 0.7673\n",
            "Epoch 62/100\n",
            "1/1 [==============================] - 0s 25ms/step - loss: 0.2329 - mae: 0.2329\n",
            "Epoch 63/100\n",
            "1/1 [==============================] - 0s 43ms/step - loss: 0.4388 - mae: 0.4388\n",
            "Epoch 64/100\n",
            "1/1 [==============================] - 0s 31ms/step - loss: 0.2146 - mae: 0.2146\n",
            "Epoch 65/100\n",
            "1/1 [==============================] - 0s 37ms/step - loss: 0.2041 - mae: 0.2041\n",
            "Epoch 66/100\n",
            "1/1 [==============================] - 0s 22ms/step - loss: 0.3937 - mae: 0.3937\n",
            "Epoch 67/100\n",
            "1/1 [==============================] - 0s 18ms/step - loss: 0.1804 - mae: 0.1804\n",
            "Epoch 68/100\n",
            "1/1 [==============================] - 0s 19ms/step - loss: 0.6541 - mae: 0.6541\n",
            "Epoch 69/100\n",
            "1/1 [==============================] - 0s 22ms/step - loss: 0.7855 - mae: 0.7855\n",
            "Epoch 70/100\n",
            "1/1 [==============================] - 0s 39ms/step - loss: 0.3393 - mae: 0.3393\n",
            "Epoch 71/100\n",
            "1/1 [==============================] - 0s 18ms/step - loss: 0.7060 - mae: 0.7060\n",
            "Epoch 72/100\n",
            "1/1 [==============================] - 0s 31ms/step - loss: 0.9715 - mae: 0.9715\n",
            "Epoch 73/100\n",
            "1/1 [==============================] - 0s 61ms/step - loss: 0.6409 - mae: 0.6409\n",
            "Epoch 74/100\n",
            "1/1 [==============================] - 0s 27ms/step - loss: 0.2493 - mae: 0.2493\n",
            "Epoch 75/100\n",
            "1/1 [==============================] - 0s 21ms/step - loss: 0.4794 - mae: 0.4794\n",
            "Epoch 76/100\n",
            "1/1 [==============================] - 0s 24ms/step - loss: 0.1405 - mae: 0.1405\n",
            "Epoch 77/100\n",
            "1/1 [==============================] - 0s 16ms/step - loss: 0.7480 - mae: 0.7480\n",
            "Epoch 78/100\n",
            "1/1 [==============================] - 0s 14ms/step - loss: 1.0301 - mae: 1.0301\n",
            "Epoch 79/100\n",
            "1/1 [==============================] - 0s 12ms/step - loss: 0.7318 - mae: 0.7318\n",
            "Epoch 80/100\n",
            "1/1 [==============================] - 0s 22ms/step - loss: 0.4222 - mae: 0.4222\n",
            "Epoch 81/100\n",
            "1/1 [==============================] - 0s 24ms/step - loss: 0.5594 - mae: 0.5594\n",
            "Epoch 82/100\n",
            "1/1 [==============================] - 0s 27ms/step - loss: 0.2367 - mae: 0.2367\n",
            "Epoch 83/100\n",
            "1/1 [==============================] - 0s 29ms/step - loss: 0.7132 - mae: 0.7132\n",
            "Epoch 84/100\n",
            "1/1 [==============================] - 0s 23ms/step - loss: 0.8891 - mae: 0.8891\n",
            "Epoch 85/100\n",
            "1/1 [==============================] - 0s 27ms/step - loss: 0.4546 - mae: 0.4546\n",
            "Epoch 86/100\n",
            "1/1 [==============================] - 0s 19ms/step - loss: 0.4929 - mae: 0.4929\n",
            "Epoch 87/100\n",
            "1/1 [==============================] - 0s 20ms/step - loss: 0.8185 - mae: 0.8185\n",
            "Epoch 88/100\n",
            "1/1 [==============================] - 0s 20ms/step - loss: 0.6132 - mae: 0.6132\n",
            "Epoch 89/100\n",
            "1/1 [==============================] - 0s 110ms/step - loss: 0.3843 - mae: 0.3843\n",
            "Epoch 90/100\n",
            "1/1 [==============================] - 0s 50ms/step - loss: 0.5056 - mae: 0.5056\n",
            "Epoch 91/100\n",
            "1/1 [==============================] - 0s 54ms/step - loss: 0.3198 - mae: 0.3198\n",
            "Epoch 92/100\n",
            "1/1 [==============================] - 0s 33ms/step - loss: 0.6187 - mae: 0.6187\n",
            "Epoch 93/100\n",
            "1/1 [==============================] - 0s 69ms/step - loss: 0.8268 - mae: 0.8268\n",
            "Epoch 94/100\n",
            "1/1 [==============================] - 0s 84ms/step - loss: 0.5345 - mae: 0.5345\n",
            "Epoch 95/100\n",
            "1/1 [==============================] - 0s 40ms/step - loss: 0.2581 - mae: 0.2581\n",
            "Epoch 96/100\n",
            "1/1 [==============================] - 0s 41ms/step - loss: 0.4953 - mae: 0.4953\n",
            "Epoch 97/100\n",
            "1/1 [==============================] - 0s 32ms/step - loss: 0.3237 - mae: 0.3237\n",
            "Epoch 98/100\n",
            "1/1 [==============================] - 0s 29ms/step - loss: 0.5386 - mae: 0.5386\n",
            "Epoch 99/100\n",
            "1/1 [==============================] - 0s 22ms/step - loss: 0.4460 - mae: 0.4460\n",
            "Epoch 100/100\n",
            "1/1 [==============================] - 0s 29ms/step - loss: 0.1399 - mae: 0.1399\n"
          ]
        },
        {
          "output_type": "execute_result",
          "data": {
            "text/plain": [
              "<keras.callbacks.History at 0x7f72e5834820>"
            ]
          },
          "metadata": {},
          "execution_count": 15
        }
      ]
    },
    {
      "cell_type": "code",
      "source": [
        "# Let's remind ourselves of the data\n",
        "X, y"
      ],
      "metadata": {
        "colab": {
          "base_uri": "https://localhost:8080/"
        },
        "id": "4luz-p5cFBgl",
        "outputId": "75dea33e-e78f-4c22-cb0d-b60bd749b7a3"
      },
      "execution_count": 16,
      "outputs": [
        {
          "output_type": "execute_result",
          "data": {
            "text/plain": [
              "(<tf.Tensor: shape=(8,), dtype=float64, numpy=array([-7., -4., -1.,  2.,  5.,  8., 11., 14.])>,\n",
              " <tf.Tensor: shape=(8,), dtype=float64, numpy=array([ 3.,  6.,  9., 12., 15., 18., 21., 24.])>)"
            ]
          },
          "metadata": {},
          "execution_count": 16
        }
      ]
    },
    {
      "cell_type": "code",
      "source": [
        "# Let's try to make a prediction\n",
        "model.predict([17.0])"
      ],
      "metadata": {
        "colab": {
          "base_uri": "https://localhost:8080/"
        },
        "id": "eKmmD2IwFYXv",
        "outputId": "05d7a6b8-9195-4284-c57d-38e52efa70aa"
      },
      "execution_count": 17,
      "outputs": [
        {
          "output_type": "stream",
          "name": "stdout",
          "text": [
            "1/1 [==============================] - 0s 234ms/step\n"
          ]
        },
        {
          "output_type": "execute_result",
          "data": {
            "text/plain": [
              "array([[27.136316]], dtype=float32)"
            ]
          },
          "metadata": {},
          "execution_count": 17
        }
      ]
    },
    {
      "cell_type": "markdown",
      "source": [
        "## Evaluating model\n",
        "\n",
        "In practice, a typical workflow you'll go through when building neural networks is:\n",
        "\n",
        "```\n",
        "Build a model => fir it => evaluate it => tweak a model => fit it => evaluate it => tweak a model => fit it => evaluate it ...\n",
        "```"
      ],
      "metadata": {
        "id": "ElJnFJ41Fd9_"
      }
    },
    {
      "cell_type": "markdown",
      "source": [
        "When it comes to evaluation... there are 3 words you should memorize:\n",
        "\n",
        " > \"Visualize, visualize, visualize\"\n",
        "\n",
        "It's a good idea to visualize:\n",
        "* The data - what data are we working with? What does it look like?\n",
        "* The model itself - what does our model look like?\n",
        "* The training of a model - how does a model perform while it learns?\n",
        "* The predictions of the model - how do the predictions of a model line up against the ground truth (the original labels)?"
      ],
      "metadata": {
        "id": "sZGret4O5KN0"
      }
    },
    {
      "cell_type": "code",
      "source": [
        "# Make a bigger dataset\n",
        "X = tf.range(-100, 100, 4)\n",
        "X"
      ],
      "metadata": {
        "colab": {
          "base_uri": "https://localhost:8080/"
        },
        "id": "TBbv05-u5jXj",
        "outputId": "2c041684-6e17-4ca3-a943-c98921e1a377"
      },
      "execution_count": 18,
      "outputs": [
        {
          "output_type": "execute_result",
          "data": {
            "text/plain": [
              "<tf.Tensor: shape=(50,), dtype=int32, numpy=\n",
              "array([-100,  -96,  -92,  -88,  -84,  -80,  -76,  -72,  -68,  -64,  -60,\n",
              "        -56,  -52,  -48,  -44,  -40,  -36,  -32,  -28,  -24,  -20,  -16,\n",
              "        -12,   -8,   -4,    0,    4,    8,   12,   16,   20,   24,   28,\n",
              "         32,   36,   40,   44,   48,   52,   56,   60,   64,   68,   72,\n",
              "         76,   80,   84,   88,   92,   96], dtype=int32)>"
            ]
          },
          "metadata": {},
          "execution_count": 18
        }
      ]
    },
    {
      "cell_type": "code",
      "source": [
        "# Make labels for the dataset\n",
        "y = X + 10\n",
        "y"
      ],
      "metadata": {
        "colab": {
          "base_uri": "https://localhost:8080/"
        },
        "id": "VCQ9aTYR6iUk",
        "outputId": "395bc7be-0057-4b51-9db3-029ec6df4a4d"
      },
      "execution_count": 19,
      "outputs": [
        {
          "output_type": "execute_result",
          "data": {
            "text/plain": [
              "<tf.Tensor: shape=(50,), dtype=int32, numpy=\n",
              "array([-90, -86, -82, -78, -74, -70, -66, -62, -58, -54, -50, -46, -42,\n",
              "       -38, -34, -30, -26, -22, -18, -14, -10,  -6,  -2,   2,   6,  10,\n",
              "        14,  18,  22,  26,  30,  34,  38,  42,  46,  50,  54,  58,  62,\n",
              "        66,  70,  74,  78,  82,  86,  90,  94,  98, 102, 106], dtype=int32)>"
            ]
          },
          "metadata": {},
          "execution_count": 19
        }
      ]
    },
    {
      "cell_type": "code",
      "source": [
        "# Visualize data\n",
        "\n",
        "plt.plot(X, y);"
      ],
      "metadata": {
        "colab": {
          "base_uri": "https://localhost:8080/",
          "height": 265
        },
        "id": "oou174Lc6oQ0",
        "outputId": "a018756d-2e9a-4595-d898-bd5fea587ddf"
      },
      "execution_count": 20,
      "outputs": [
        {
          "output_type": "display_data",
          "data": {
            "text/plain": [
              "<Figure size 432x288 with 1 Axes>"
            ],
            "image/png": "[encoded data removed]"
          },
          "metadata": {
            "needs_background": "light"
          }
        }
      ]
    },
    {
      "cell_type": "markdown",
      "source": [
        "### The 3 sets...\n",
        "\n",
        "* Training set - the model learns from this data, which is typically 70-80 % of the total data you have available.\n",
        "* Validation set - the model gets tuned on this data, which is typically 10-15 % of the data available.\n",
        "* Test set - the model gets evaluated on this data to test what is has learned, this set is typically 10-15 % of the total data available."
      ],
      "metadata": {
        "id": "RJhLb8UI7m9f"
      }
    },
    {
      "cell_type": "code",
      "source": [
        "# Split the data into train and test sets\n",
        "X_train = X[:40] # first 40 are training samples (80% of the data)\n",
        "y_train = y[:40]\n",
        "\n",
        "X_test = X[40:] # last 10 are testing samples (20% of the data)\n",
        "y_test = y[40:]"
      ],
      "metadata": {
        "id": "gXIepBlP9MZ7"
      },
      "execution_count": 21,
      "outputs": []
    },
    {
      "cell_type": "markdown",
      "source": [
        "# Visualizing the data\n",
        "\n",
        "Now we're got our data in training and test sets... let's visualize it again!"
      ],
      "metadata": {
        "id": "rwle3Rec_Vs0"
      }
    },
    {
      "cell_type": "code",
      "source": [
        "plt.figure(figsize=(10, 7))\n",
        "# Plot training data in blue\n",
        "plt.scatter(X_train, y_train, c='b', label='Training data')\n",
        "# Plot testing data in green\n",
        "plt.scatter(X_test, y_test, c='g', label='Testing data')\n",
        "# Show a legend\n",
        "plt.legend();"
      ],
      "metadata": {
        "id": "aXZzgrbn_uIV",
        "outputId": "263a6c2c-7a0a-4317-845b-16a13859f903",
        "colab": {
          "base_uri": "https://localhost:8080/",
          "height": 428
        }
      },
      "execution_count": 22,
      "outputs": [
        {
          "output_type": "display_data",
          "data": {
            "text/plain": [
              "<Figure size 720x504 with 1 Axes>"
            ],
            "image/png": "[encoded data removed]"
          },
          "metadata": {
            "needs_background": "light"
          }
        }
      ]
    },
    {
      "cell_type": "code",
      "source": [
        "# Let's have a look at how to build a neural network for our data\n",
        "\n",
        "# 1. Create a model\n",
        "model = tf.keras.Sequential([\n",
        "    tf.keras.layers.Dense(1)\n",
        "])\n",
        "\n",
        "# 2. Compile the model\n",
        "model.compile(loss=tf.keras.losses.mae,\n",
        "              optimizer=tf.keras.optimizers.SGD(),\n",
        "              metrics=['mae'])\n",
        "\n",
        "# 3. Fit the model\n",
        "# model.fit(X_train, y_train, epoch=100)\n",
        "\n"
      ],
      "metadata": {
        "id": "GAkavUzKBDwL"
      },
      "execution_count": 23,
      "outputs": []
    },
    {
      "cell_type": "markdown",
      "source": [
        "### Visualizing the model"
      ],
      "metadata": {
        "id": "g0YBof-iC9WK"
      }
    },
    {
      "cell_type": "code",
      "source": [
        "model.summary()"
      ],
      "metadata": {
        "id": "ffUYyxBFDZ5V",
        "outputId": "05c299b4-7d98-4800-8ce9-61d54d9be4cc",
        "colab": {
          "base_uri": "https://localhost:8080/",
          "height": 287
        }
      },
      "execution_count": 24,
      "outputs": [
        {
          "output_type": "error",
          "ename": "ValueError",
          "evalue": "ignored",
          "traceback": [
            "\u001b[0;31m---------------------------------------------------------------------------\u001b[0m",
            "\u001b[0;31mValueError\u001b[0m                                Traceback (most recent call last)",
            "\u001b[0;32m<ipython-input-24-5f15418b3570>\u001b[0m in \u001b[0;36m<module>\u001b[0;34m\u001b[0m\n\u001b[0;32m----> 1\u001b[0;31m \u001b[0mmodel\u001b[0m\u001b[0;34m.\u001b[0m\u001b[0msummary\u001b[0m\u001b[0;34m(\u001b[0m\u001b[0;34m)\u001b[0m\u001b[0;34m\u001b[0m\u001b[0;34m\u001b[0m\u001b[0m\n\u001b[0m",
            "\u001b[0;32m/usr/local/lib/python3.9/dist-packages/keras/engine/training.py\u001b[0m in \u001b[0;36msummary\u001b[0;34m(self, line_length, positions, print_fn, expand_nested, show_trainable, layer_range)\u001b[0m\n\u001b[1;32m   3290\u001b[0m         \"\"\"\n\u001b[1;32m   3291\u001b[0m         \u001b[0;32mif\u001b[0m \u001b[0;32mnot\u001b[0m \u001b[0mself\u001b[0m\u001b[0;34m.\u001b[0m\u001b[0mbuilt\u001b[0m\u001b[0;34m:\u001b[0m\u001b[0;34m\u001b[0m\u001b[0;34m\u001b[0m\u001b[0m\n\u001b[0;32m-> 3292\u001b[0;31m             raise ValueError(\n\u001b[0m\u001b[1;32m   3293\u001b[0m                 \u001b[0;34m\"This model has not yet been built. \"\u001b[0m\u001b[0;34m\u001b[0m\u001b[0;34m\u001b[0m\u001b[0m\n\u001b[1;32m   3294\u001b[0m                 \u001b[0;34m\"Build the model first by calling `build()` or by calling \"\u001b[0m\u001b[0;34m\u001b[0m\u001b[0;34m\u001b[0m\u001b[0m\n",
            "\u001b[0;31mValueError\u001b[0m: This model has not yet been built. Build the model first by calling `build()` or by calling the model on a batch of data."
          ]
        }
      ]
    },
    {
      "cell_type": "code",
      "source": [
        "# Let's create a model which builds automatically by defining the input_shape argument in the first layer\n",
        "tf.random.set_seed(42)\n",
        "\n",
        "# 1. Create a model (same as above)\n",
        "model = tf.keras.Sequential([\n",
        "    tf.keras.layers.Dense(10, input_shape=[1], name='input_layer'),\n",
        "    tf.keras.layers.Dense(1, name='output_layer')\n",
        "], name=\"model_1\")\n",
        "\n",
        "# 2. Compile the model\n",
        "model.compile(loss=tf.keras.losses.mae,\n",
        "              optimizer=tf.keras.optimizers.Adam(learning_rate=0.01),\n",
        "              metrics=['mae'])"
      ],
      "metadata": {
        "id": "zam_4fIbDcYf"
      },
      "execution_count": 25,
      "outputs": []
    },
    {
      "cell_type": "code",
      "source": [
        "model.summary()"
      ],
      "metadata": {
        "id": "jKbmhRsLDwUz",
        "outputId": "8d6255eb-1ec6-4499-eca6-04b68622fd53",
        "colab": {
          "base_uri": "https://localhost:8080/"
        }
      },
      "execution_count": 26,
      "outputs": [
        {
          "output_type": "stream",
          "name": "stdout",
          "text": [
            "Model: \"model_1\"\n",
            "_________________________________________________________________\n",
            " Layer (type)                Output Shape              Param #   \n",
            "=================================================================\n",
            " input_layer (Dense)         (None, 10)                20        \n",
            "                                                                 \n",
            " output_layer (Dense)        (None, 1)                 11        \n",
            "                                                                 \n",
            "=================================================================\n",
            "Total params: 31\n",
            "Trainable params: 31\n",
            "Non-trainable params: 0\n",
            "_________________________________________________________________\n"
          ]
        }
      ]
    },
    {
      "cell_type": "markdown",
      "source": [
        "* Total params - total number of parameters in the model.\n",
        "* Trainable parameters - these are the parameters (patterns) the model can update as it trains.\n",
        "* Non-trainable params - these parameters aren't updated during training (this is typical when you bring in already learn patterns or parameters from other models during ***transfer learning***)."
      ],
      "metadata": {
        "id": "y8IoXD1eFn61"
      }
    },
    {
      "cell_type": "code",
      "source": [
        "# Let's fit our model\n",
        "# 3. Fit the model\n",
        "model.fit(X_train, y_train, epochs=500, verbose=0)"
      ],
      "metadata": {
        "id": "2tm0LaQ8FUsu",
        "outputId": "a43a2748-cc7e-4673-c161-1a3a54dcf8c2",
        "colab": {
          "base_uri": "https://localhost:8080/"
        }
      },
      "execution_count": 27,
      "outputs": [
        {
          "output_type": "execute_result",
          "data": {
            "text/plain": [
              "<keras.callbacks.History at 0x7f72e4427c70>"
            ]
          },
          "metadata": {},
          "execution_count": 27
        }
      ]
    },
    {
      "cell_type": "code",
      "source": [
        "# Get a summary of outr model\n",
        "model.summary()"
      ],
      "metadata": {
        "id": "P7XFhz6HIppm",
        "colab": {
          "base_uri": "https://localhost:8080/"
        },
        "outputId": "5f6b9c9a-64de-4cd8-d6e4-2b75edbed58c"
      },
      "execution_count": 28,
      "outputs": [
        {
          "output_type": "stream",
          "name": "stdout",
          "text": [
            "Model: \"model_1\"\n",
            "_________________________________________________________________\n",
            " Layer (type)                Output Shape              Param #   \n",
            "=================================================================\n",
            " input_layer (Dense)         (None, 10)                20        \n",
            "                                                                 \n",
            " output_layer (Dense)        (None, 1)                 11        \n",
            "                                                                 \n",
            "=================================================================\n",
            "Total params: 31\n",
            "Trainable params: 31\n",
            "Non-trainable params: 0\n",
            "_________________________________________________________________\n"
          ]
        }
      ]
    },
    {
      "cell_type": "code",
      "source": [
        "from tensorflow.keras.utils import plot_model\n",
        "\n",
        "plot_model(model, show_shapes=True)"
      ],
      "metadata": {
        "colab": {
          "base_uri": "https://localhost:8080/",
          "height": 312
        },
        "id": "ftLdRKbxtfYC",
        "outputId": "5f58a272-302b-41d3-f83b-ef171f16d131"
      },
      "execution_count": 29,
      "outputs": [
        {
          "output_type": "execute_result",
          "data": {
            "image/png": "[encoded data removed]",
            "text/plain": [
              "<IPython.core.display.Image object>"
            ]
          },
          "metadata": {},
          "execution_count": 29
        }
      ]
    },
    {
      "cell_type": "markdown",
      "source": [
        "### Visualizing our model's predictions\n",
        "\n",
        "To visualize predictions, it's a good idea to plot them against the ground truth labels.\n",
        "\n",
        "Often you'll see this in the form of `y_test` or `y_true` versus `y_pred` (ground truth versus your model)"
      ],
      "metadata": {
        "id": "X5K1288exHh8"
      }
    },
    {
      "cell_type": "code",
      "source": [
        "# Make some predictions\n",
        "y_pred = model.predict(X_test)\n",
        "y_pred"
      ],
      "metadata": {
        "colab": {
          "base_uri": "https://localhost:8080/"
        },
        "id": "zIvJIxY0zPeI",
        "outputId": "53673cad-8cb6-46ce-9b54-ef418539cfc8"
      },
      "execution_count": 30,
      "outputs": [
        {
          "output_type": "stream",
          "name": "stdout",
          "text": [
            "1/1 [==============================] - 0s 56ms/step\n"
          ]
        },
        {
          "output_type": "execute_result",
          "data": {
            "text/plain": [
              "array([[ 69.66406 ],\n",
              "       [ 73.64693 ],\n",
              "       [ 77.62978 ],\n",
              "       [ 81.61264 ],\n",
              "       [ 85.5955  ],\n",
              "       [ 89.57836 ],\n",
              "       [ 93.56122 ],\n",
              "       [ 97.54407 ],\n",
              "       [101.52693 ],\n",
              "       [105.509796]], dtype=float32)"
            ]
          },
          "metadata": {},
          "execution_count": 30
        }
      ]
    },
    {
      "cell_type": "code",
      "source": [
        "y_test"
      ],
      "metadata": {
        "colab": {
          "base_uri": "https://localhost:8080/"
        },
        "id": "pksI_Eiz0PUa",
        "outputId": "4a618f6b-6cb0-4765-d89e-72e9d4e037f1"
      },
      "execution_count": 31,
      "outputs": [
        {
          "output_type": "execute_result",
          "data": {
            "text/plain": [
              "<tf.Tensor: shape=(10,), dtype=int32, numpy=array([ 70,  74,  78,  82,  86,  90,  94,  98, 102, 106], dtype=int32)>"
            ]
          },
          "metadata": {},
          "execution_count": 31
        }
      ]
    },
    {
      "cell_type": "code",
      "source": [
        "# let's create a plotting function\n",
        "def plot_predictions(train_data=X_train,\n",
        "                     train_labels=y_train,\n",
        "                     test_data=X_test,\n",
        "                     test_labels=y_test,\n",
        "                     predictions=y_pred):\n",
        "  \"\"\"\n",
        "  Plots training data, tests and compares predictions to ground truht labels.\n",
        "  \"\"\"\n",
        "  plt.figure(figsize=(10, 7))\n",
        "  # Plot training data in blue\n",
        "  plt.scatter(train_data, train_labels, c='b', label=\"Training data\")\n",
        "  # Plot testing data in green\n",
        "  plt.scatter(test_data, test_labels, c='g', label='Testing data')\n",
        "  # Plot model's predictions in red\n",
        "  plt.scatter(test_data, predictions, c='r', label='Predictions')\n",
        "  # Show the legend\n",
        "  plt.legend();"
      ],
      "metadata": {
        "id": "JDbG2lDE0aLK"
      },
      "execution_count": 32,
      "outputs": []
    },
    {
      "cell_type": "code",
      "source": [
        "plot_predictions(train_data=X_train,\n",
        "                 train_labels=y_train,\n",
        "                 test_data=X_test,\n",
        "                 test_labels=y_test,\n",
        "                 predictions=y_pred)"
      ],
      "metadata": {
        "colab": {
          "base_uri": "https://localhost:8080/",
          "height": 428
        },
        "id": "IR_oVJUu0fyO",
        "outputId": "ddfc7e24-c487-43c3-83f4-f688f0d6044d"
      },
      "execution_count": 33,
      "outputs": [
        {
          "output_type": "display_data",
          "data": {
            "text/plain": [
              "<Figure size 720x504 with 1 Axes>"
            ],
            "image/png": "[encoded data removed]"
          },
          "metadata": {
            "needs_background": "light"
          }
        }
      ]
    },
    {
      "cell_type": "markdown",
      "source": [
        "### Evaluating our model's predictions with regression evaluation metrics\n",
        "\n",
        "Depending on the problem you're working on, there will be different evaluation metrics to evaluate your model's prformance.\n",
        "\n",
        "Since we're working on regression, two of the main metrics:\n",
        "* MAE - mean absolute error, \"on average, how wrong is each of model's predictions\"\n",
        "* MSE - mean square error, \"square the average errors\""
      ],
      "metadata": {
        "id": "N25wwGfi2FEx"
      }
    },
    {
      "cell_type": "code",
      "source": [
        "# Evaluate the model on the test\n",
        "model.evaluate(X_test, y_test)"
      ],
      "metadata": {
        "id": "T0vgDEAn_P4Y",
        "colab": {
          "base_uri": "https://localhost:8080/"
        },
        "outputId": "aef3bb56-db8b-43e6-96ff-1e12e17a3e34"
      },
      "execution_count": 34,
      "outputs": [
        {
          "output_type": "stream",
          "name": "stdout",
          "text": [
            "1/1 [==============================] - 0s 153ms/step - loss: 0.4131 - mae: 0.4131\n"
          ]
        },
        {
          "output_type": "execute_result",
          "data": {
            "text/plain": [
              "[0.4130691587924957, 0.4130691587924957]"
            ]
          },
          "metadata": {},
          "execution_count": 34
        }
      ]
    },
    {
      "cell_type": "code",
      "source": [
        "# Calculate the mean absolute error\n",
        "y_pred = tf.constant(y_pred)\n",
        "mae = tf.metrics.mean_absolute_error(y_true=y_test, y_pred=tf.squeeze(y_pred))\n",
        "mae"
      ],
      "metadata": {
        "colab": {
          "base_uri": "https://localhost:8080/"
        },
        "id": "xlz45oNsNkyd",
        "outputId": "ddb75ada-23c3-49ae-a2f1-6cbd163a44a0"
      },
      "execution_count": 35,
      "outputs": [
        {
          "output_type": "execute_result",
          "data": {
            "text/plain": [
              "<tf.Tensor: shape=(), dtype=float32, numpy=0.41307145>"
            ]
          },
          "metadata": {},
          "execution_count": 35
        }
      ]
    },
    {
      "cell_type": "code",
      "source": [
        "# Calculate the mean square error\n",
        "mse = tf.metrics.mean_squared_error(y_true=y_test,\n",
        "                                    y_pred=tf.squeeze(y_pred))\n",
        "mse"
      ],
      "metadata": {
        "colab": {
          "base_uri": "https://localhost:8080/"
        },
        "id": "HtZrryC4PMjd",
        "outputId": "f8b3f7fd-481c-481a-b011-628843e94aed"
      },
      "execution_count": 36,
      "outputs": [
        {
          "output_type": "execute_result",
          "data": {
            "text/plain": [
              "<tf.Tensor: shape=(), dtype=float32, numpy=0.17305212>"
            ]
          },
          "metadata": {},
          "execution_count": 36
        }
      ]
    },
    {
      "cell_type": "code",
      "source": [
        "# Make some functions to reuse MAE and MSE\n",
        "def mae(y_true, y_pred):\n",
        "  return tf.metrics.mean_absolute_error(y_true=y_true,\n",
        "                                       y_pred=tf.squeeze(y_pred))\n",
        "  \n",
        "def mse(y_true, y_pred):\n",
        "  return tf.metrics.mean_squared_error(y_true=y_true,\n",
        "                                       y_pred=tf.squeeze(y_pred))"
      ],
      "metadata": {
        "id": "b0PO8wMiRPK7"
      },
      "execution_count": 37,
      "outputs": []
    },
    {
      "cell_type": "markdown",
      "source": [
        "### Running experiments to improve our model\n",
        "\n",
        "\n",
        "```\n",
        "Build model -> fir it -> evaluate it -> tweak it -> fit it -> evaluate it -> tweak it -> fit it -> evaluate it ...\n",
        "```\n",
        "\n",
        "1. Get more data - get more examples for your model to train on (more opportunities to learn patterns or relationships between features and labels).\n",
        "2. Make your model larger (using a more complex model) - this might come in the form of more layers or more hidden units in each layer.\n",
        "3. Train for longer - give your model more of chance to find patterns in the data.\n",
        "\n",
        "Let's do 3 modelling experiments:\n",
        "1. `model_1` - same as the original model, 1 layer, trained for 100 epochs.\n",
        "2. `model_2` - 2 layers, trained for 100 epochs.\n",
        "3. `model_3` - 2 layers, trained for 500 epochs"
      ],
      "metadata": {
        "id": "Xu7XGGelUYM_"
      }
    },
    {
      "cell_type": "code",
      "source": [
        "X_train, y_train"
      ],
      "metadata": {
        "colab": {
          "base_uri": "https://localhost:8080/"
        },
        "id": "s34_fO_6HH3O",
        "outputId": "597aa371-c33f-480b-e0f9-f4ddc775bc11"
      },
      "execution_count": 38,
      "outputs": [
        {
          "output_type": "execute_result",
          "data": {
            "text/plain": [
              "(<tf.Tensor: shape=(40,), dtype=int32, numpy=\n",
              " array([-100,  -96,  -92,  -88,  -84,  -80,  -76,  -72,  -68,  -64,  -60,\n",
              "         -56,  -52,  -48,  -44,  -40,  -36,  -32,  -28,  -24,  -20,  -16,\n",
              "         -12,   -8,   -4,    0,    4,    8,   12,   16,   20,   24,   28,\n",
              "          32,   36,   40,   44,   48,   52,   56], dtype=int32)>,\n",
              " <tf.Tensor: shape=(40,), dtype=int32, numpy=\n",
              " array([-90, -86, -82, -78, -74, -70, -66, -62, -58, -54, -50, -46, -42,\n",
              "        -38, -34, -30, -26, -22, -18, -14, -10,  -6,  -2,   2,   6,  10,\n",
              "         14,  18,  22,  26,  30,  34,  38,  42,  46,  50,  54,  58,  62,\n",
              "         66], dtype=int32)>)"
            ]
          },
          "metadata": {},
          "execution_count": 38
        }
      ]
    },
    {
      "cell_type": "markdown",
      "source": [
        "**Build**  `model_1`"
      ],
      "metadata": {
        "id": "9Vs4ZoPDFkiO"
      }
    },
    {
      "cell_type": "code",
      "source": [
        "# Set random seed\n",
        "tf.random.set_seed(42)\n",
        "\n",
        "# 1. Create the model\n",
        "model_1 = tf.keras.Sequential([\n",
        "    tf.keras.layers.Dense(1)\n",
        "])\n",
        "\n",
        "# 2. Compile model\n",
        "model_1.compile(loss=tf.keras.losses.mae,\n",
        "                optimizer=tf.keras.optimizers.SGD(),\n",
        "                metrics=[\"mae\"])\n",
        "\n",
        "# 3. Fit the model\n",
        "model_1.fit(tf.expand_dims(X_train, axis=-1), y_train, epochs=100, verbose=0)"
      ],
      "metadata": {
        "id": "dWhaMCt5VQLP",
        "outputId": "c30f1f40-277c-4e2e-bdae-045c56314448",
        "colab": {
          "base_uri": "https://localhost:8080/"
        }
      },
      "execution_count": 39,
      "outputs": [
        {
          "output_type": "execute_result",
          "data": {
            "text/plain": [
              "<keras.callbacks.History at 0x7f72ec5a3580>"
            ]
          },
          "metadata": {},
          "execution_count": 39
        }
      ]
    },
    {
      "cell_type": "code",
      "source": [
        "# Make and plot predictions for model_1\n",
        "y_preds_1 = model_1.predict(X_test)\n",
        "plot_predictions(predictions=y_preds_1)"
      ],
      "metadata": {
        "id": "Sewa6eW6Wyl8",
        "colab": {
          "base_uri": "https://localhost:8080/",
          "height": 483
        },
        "outputId": "22ab74bf-ccec-4b76-c698-30c305a0bc05"
      },
      "execution_count": 40,
      "outputs": [
        {
          "output_type": "stream",
          "name": "stderr",
          "text": [
            "WARNING:tensorflow:5 out of the last 5 calls to <function Model.make_predict_function.<locals>.predict_function at 0x7f72e4646a60> triggered tf.function retracing. Tracing is expensive and the excessive number of tracings could be due to (1) creating @tf.function repeatedly in a loop, (2) passing tensors with different shapes, (3) passing Python objects instead of tensors. For (1), please define your @tf.function outside of the loop. For (2), @tf.function has reduce_retracing=True option that can avoid unnecessary retracing. For (3), please refer to https://www.tensorflow.org/guide/function#controlling_retracing and https://www.tensorflow.org/api_docs/python/tf/function for  more details.\n"
          ]
        },
        {
          "output_type": "stream",
          "name": "stdout",
          "text": [
            "1/1 [==============================] - 0s 52ms/step\n"
          ]
        },
        {
          "output_type": "display_data",
          "data": {
            "text/plain": [
              "<Figure size 720x504 with 1 Axes>"
            ],
            "image/png": "[encoded data removed]"
          },
          "metadata": {
            "needs_background": "light"
          }
        }
      ]
    },
    {
      "cell_type": "code",
      "source": [
        "# Calculate model_1 evaluation metrics\n",
        "mae_1 = mae(y_test, y_preds_1)\n",
        "mse_1 = mse(y_test, y_preds_1)\n",
        "mae_1, mse_1"
      ],
      "metadata": {
        "colab": {
          "base_uri": "https://localhost:8080/"
        },
        "id": "euUVzVybH7zi",
        "outputId": "81bd0168-816a-48ad-85a5-3bc1f2060892"
      },
      "execution_count": 41,
      "outputs": [
        {
          "output_type": "execute_result",
          "data": {
            "text/plain": [
              "(<tf.Tensor: shape=(), dtype=float32, numpy=32.705097>,\n",
              " <tf.Tensor: shape=(), dtype=float32, numpy=1082.1096>)"
            ]
          },
          "metadata": {},
          "execution_count": 41
        }
      ]
    },
    {
      "cell_type": "markdown",
      "source": [
        "**Build** `model_2`\n",
        "\n",
        "* 2 dense layers, trained for 100 epochs"
      ],
      "metadata": {
        "id": "52Z0cIe-Jjhg"
      }
    },
    {
      "cell_type": "code",
      "source": [
        "# Set random seed\n",
        "tf.random.set_seed(42)\n",
        "\n",
        "# 1. Creating model_2\n",
        "model_2 = tf.keras.Sequential([\n",
        "    tf.keras.layers.Dense(10),\n",
        "    tf.keras.layers.Dense(1)\n",
        "])\n",
        "\n",
        "# 2. Compile model_2\n",
        "model_2.compile(loss=tf.keras.losses.mae,\n",
        "                optimizer=tf.keras.optimizers.SGD(),\n",
        "                metrics=[\"mae\"])\n",
        "\n",
        "# 3. Fit the model_2\n",
        "model_2.fit(tf.expand_dims(X_train, axis=-1), y_train, epochs=100, verbose=0)"
      ],
      "metadata": {
        "colab": {
          "base_uri": "https://localhost:8080/"
        },
        "id": "QRrVFNioKmNn",
        "outputId": "fa838e8c-fe93-4621-d548-a06fc7c26fec"
      },
      "execution_count": 42,
      "outputs": [
        {
          "output_type": "execute_result",
          "data": {
            "text/plain": [
              "<keras.callbacks.History at 0x7f72ec4cf880>"
            ]
          },
          "metadata": {},
          "execution_count": 42
        }
      ]
    },
    {
      "cell_type": "code",
      "source": [
        "# Make and plot predictions for model_2\n",
        "y_preds_2 = model_2.predict(X_test)\n",
        "plot_predictions(predictions=y_preds_2);"
      ],
      "metadata": {
        "colab": {
          "base_uri": "https://localhost:8080/",
          "height": 483
        },
        "id": "hx0e4uzPLh47",
        "outputId": "bf254057-facf-4c24-a08b-3b3890388b57"
      },
      "execution_count": 43,
      "outputs": [
        {
          "output_type": "stream",
          "name": "stderr",
          "text": [
            "WARNING:tensorflow:6 out of the last 6 calls to <function Model.make_predict_function.<locals>.predict_function at 0x7f72ec525dc0> triggered tf.function retracing. Tracing is expensive and the excessive number of tracings could be due to (1) creating @tf.function repeatedly in a loop, (2) passing tensors with different shapes, (3) passing Python objects instead of tensors. For (1), please define your @tf.function outside of the loop. For (2), @tf.function has reduce_retracing=True option that can avoid unnecessary retracing. For (3), please refer to https://www.tensorflow.org/guide/function#controlling_retracing and https://www.tensorflow.org/api_docs/python/tf/function for  more details.\n"
          ]
        },
        {
          "output_type": "stream",
          "name": "stdout",
          "text": [
            "1/1 [==============================] - 0s 56ms/step\n"
          ]
        },
        {
          "output_type": "display_data",
          "data": {
            "text/plain": [
              "<Figure size 720x504 with 1 Axes>"
            ],
            "image/png": "[encoded data removed]"
          },
          "metadata": {
            "needs_background": "light"
          }
        }
      ]
    },
    {
      "cell_type": "code",
      "source": [
        "# Calculate model_2 evaluation metrics\n",
        "mae_2 = mae(y_test, y_preds_2)\n",
        "mse_2 = mse(y_test, y_preds_2)\n",
        "mae_2, mse_2"
      ],
      "metadata": {
        "colab": {
          "base_uri": "https://localhost:8080/"
        },
        "id": "864yfzl9Lwvg",
        "outputId": "eea6e515-5c37-46a1-d042-7022db868a62"
      },
      "execution_count": 44,
      "outputs": [
        {
          "output_type": "execute_result",
          "data": {
            "text/plain": [
              "(<tf.Tensor: shape=(), dtype=float32, numpy=10.682121>,\n",
              " <tf.Tensor: shape=(), dtype=float32, numpy=121.90498>)"
            ]
          },
          "metadata": {},
          "execution_count": 44
        }
      ]
    },
    {
      "cell_type": "markdown",
      "source": [
        "**Build** `model_3`\n",
        "\n",
        "* 2 layers, trained for 500 epochs"
      ],
      "metadata": {
        "id": "6jzNxBj7L5Aj"
      }
    },
    {
      "cell_type": "code",
      "source": [
        "# Set random seed\n",
        "tf.random.set_seed(42)\n",
        "\n",
        "# 1. Creating model_3\n",
        "model_3 = tf.keras.Sequential([\n",
        "    tf.keras.layers.Dense(10),\n",
        "    tf.keras.layers.Dense(1)\n",
        "])\n",
        "\n",
        "# 2. Compile model_3\n",
        "model_3.compile(loss=tf.keras.losses.mae,\n",
        "                optimizer=tf.keras.optimizers.SGD(),\n",
        "                metrics=[\"mae\"])\n",
        "\n",
        "# 3. Fit the model_3\n",
        "model_3.fit(tf.expand_dims(X_train, axis=-1), y_train, epochs=500, verbose=0)"
      ],
      "metadata": {
        "id": "2hkX1HGoOklu",
        "outputId": "25cd3bbc-cde7-4800-fa92-e680fc292fc7",
        "colab": {
          "base_uri": "https://localhost:8080/"
        }
      },
      "execution_count": 45,
      "outputs": [
        {
          "output_type": "execute_result",
          "data": {
            "text/plain": [
              "<keras.callbacks.History at 0x7f72ec3ac790>"
            ]
          },
          "metadata": {},
          "execution_count": 45
        }
      ]
    },
    {
      "cell_type": "code",
      "source": [
        "# Make and plot predictions for model_3\n",
        "y_preds_3 = model_3.predict(X_test)\n",
        "plot_predictions(predictions=y_preds_3);"
      ],
      "metadata": {
        "id": "8JAVtB7eOs7Z",
        "outputId": "b2d5a903-f090-499a-b9d6-a2db490874ec",
        "colab": {
          "base_uri": "https://localhost:8080/",
          "height": 445
        }
      },
      "execution_count": 46,
      "outputs": [
        {
          "output_type": "stream",
          "name": "stdout",
          "text": [
            "1/1 [==============================] - 0s 62ms/step\n"
          ]
        },
        {
          "output_type": "display_data",
          "data": {
            "text/plain": [
              "<Figure size 720x504 with 1 Axes>"
            ],
            "image/png": "[encoded data removed]"
          },
          "metadata": {
            "needs_background": "light"
          }
        }
      ]
    },
    {
      "cell_type": "code",
      "source": [
        "# Calculate model_2 evaluation metrics\n",
        "mae_3 = mae(y_test, y_preds_3)\n",
        "mse_3 = mse(y_test, y_preds_3)\n",
        "mae_3, mse_3"
      ],
      "metadata": {
        "id": "S56A5uQMOzwQ",
        "outputId": "17a915ca-5112-432e-e430-e304c8a5af7f",
        "colab": {
          "base_uri": "https://localhost:8080/"
        }
      },
      "execution_count": 47,
      "outputs": [
        {
          "output_type": "execute_result",
          "data": {
            "text/plain": [
              "(<tf.Tensor: shape=(), dtype=float32, numpy=67.86767>,\n",
              " <tf.Tensor: shape=(), dtype=float32, numpy=4690.4165>)"
            ]
          },
          "metadata": {},
          "execution_count": 47
        }
      ]
    },
    {
      "cell_type": "markdown",
      "source": [
        "**Note** You want to start with small experiments (small models) and make sure they work and then increase their scale when necessary."
      ],
      "metadata": {
        "id": "PC5aViJLEVoH"
      }
    },
    {
      "cell_type": "markdown",
      "source": [
        "## Compairing the results of our expirients\n",
        "\n",
        "We've run a few experiments, let's compare the results"
      ],
      "metadata": {
        "id": "1VWj5_sRO9B4"
      }
    },
    {
      "cell_type": "code",
      "source": [
        "# Let's compare our model's results using a pandas DataFrame\n",
        "import pandas as pd\n",
        "\n",
        "model_results = [['model_1', mae_1.numpy(), mse_1.numpy()],\n",
        "                 ['model_2', mae_2.numpy(), mse_2.numpy()],\n",
        "                 ['model_3', mae_3.numpy(), mse_3.numpy()]]\n",
        "all_results = pd.DataFrame(model_results, columns=['model', 'mae', 'mse'])\n",
        "all_results"
      ],
      "metadata": {
        "id": "xeRo6gvZBX8-",
        "outputId": "b20ef059-9744-4094-92f6-e08f4d897700",
        "colab": {
          "base_uri": "https://localhost:8080/",
          "height": 171
        }
      },
      "execution_count": 52,
      "outputs": [
        {
          "output_type": "execute_result",
          "data": {
            "text/plain": [
              "     model        mae          mse\n",
              "0  model_1  32.705097  1082.109619\n",
              "1  model_2  10.682121   121.904984\n",
              "2  model_3  67.867668  4690.416504"
            ],
            "text/html": [
              "\n",
              "  <div id=\"df-c46f8fc6-2755-47b6-92af-77d8232ae085\">\n",
              "    <div class=\"colab-df-container\">\n",
              "      <div>\n",
              "<style scoped>\n",
              "    .dataframe tbody tr th:only-of-type {\n",
              "        vertical-align: middle;\n",
              "    }\n",
              "\n",
              "    .dataframe tbody tr th {\n",
              "        vertical-align: top;\n",
              "    }\n",
              "\n",
              "    .dataframe thead th {\n",
              "        text-align: right;\n",
              "    }\n",
              "</style>\n",
              "<table border=\"1\" class=\"dataframe\">\n",
              "  <thead>\n",
              "    <tr style=\"text-align: right;\">\n",
              "      <th></th>\n",
              "      <th>model</th>\n",
              "      <th>mae</th>\n",
              "      <th>mse</th>\n",
              "    </tr>\n",
              "  </thead>\n",
              "  <tbody>\n",
              "    <tr>\n",
              "      <th>0</th>\n",
              "      <td>model_1</td>\n",
              "      <td>32.705097</td>\n",
              "      <td>1082.109619</td>\n",
              "    </tr>\n",
              "    <tr>\n",
              "      <th>1</th>\n",
              "      <td>model_2</td>\n",
              "      <td>10.682121</td>\n",
              "      <td>121.904984</td>\n",
              "    </tr>\n",
              "    <tr>\n",
              "      <th>2</th>\n",
              "      <td>model_3</td>\n",
              "      <td>67.867668</td>\n",
              "      <td>4690.416504</td>\n",
              "    </tr>\n",
              "  </tbody>\n",
              "</table>\n",
              "</div>\n",
              "      <button class=\"colab-df-convert\" onclick=\"convertToInteractive('df-c46f8fc6-2755-47b6-92af-77d8232ae085')\"\n",
              "              title=\"Convert this dataframe to an interactive table.\"\n",
              "              style=\"display:none;\">\n",
              "        \n",
              "  <svg xmlns=\"http://www.w3.org/2000/svg\" height=\"24px\"viewBox=\"0 0 24 24\"\n",
              "       width=\"24px\">\n",
              "    <path d=\"M0 0h24v24H0V0z\" fill=\"none\"/>\n",
              "    <path d=\"M18.56 5.44l.94 2.06.94-2.06 2.06-.94-2.06-.94-.94-2.06-.94 2.06-2.06.94zm-11 1L8.5 8.5l.94-2.06 2.06-.94-2.06-.94L8.5 2.5l-.94 2.06-2.06.94zm10 10l.94 2.06.94-2.06 2.06-.94-2.06-.94-.94-2.06-.94 2.06-2.06.94z\"/><path d=\"M17.41 7.96l-1.37-1.37c-.4-.4-.92-.59-1.43-.59-.52 0-1.04.2-1.43.59L10.3 9.45l-7.72 7.72c-.78.78-.78 2.05 0 2.83L4 21.41c.39.39.9.59 1.41.59.51 0 1.02-.2 1.41-.59l7.78-7.78 2.81-2.81c.8-.78.8-2.07 0-2.86zM5.41 20L4 18.59l7.72-7.72 1.47 1.35L5.41 20z\"/>\n",
              "  </svg>\n",
              "      </button>\n",
              "      \n",
              "  <style>\n",
              "    .colab-df-container {\n",
              "      display:flex;\n",
              "      flex-wrap:wrap;\n",
              "      gap: 12px;\n",
              "    }\n",
              "\n",
              "    .colab-df-convert {\n",
              "      background-color: #E8F0FE;\n",
              "      border: none;\n",
              "      border-radius: 50%;\n",
              "      cursor: pointer;\n",
              "      display: none;\n",
              "      fill: #1967D2;\n",
              "      height: 32px;\n",
              "      padding: 0 0 0 0;\n",
              "      width: 32px;\n",
              "    }\n",
              "\n",
              "    .colab-df-convert:hover {\n",
              "      background-color: #E2EBFA;\n",
              "      box-shadow: 0px 1px 2px rgba(60, 64, 67, 0.3), 0px 1px 3px 1px rgba(60, 64, 67, 0.15);\n",
              "      fill: #174EA6;\n",
              "    }\n",
              "\n",
              "    [theme=dark] .colab-df-convert {\n",
              "      background-color: #3B4455;\n",
              "      fill: #D2E3FC;\n",
              "    }\n",
              "\n",
              "    [theme=dark] .colab-df-convert:hover {\n",
              "      background-color: #434B5C;\n",
              "      box-shadow: 0px 1px 3px 1px rgba(0, 0, 0, 0.15);\n",
              "      filter: drop-shadow(0px 1px 2px rgba(0, 0, 0, 0.3));\n",
              "      fill: #FFFFFF;\n",
              "    }\n",
              "  </style>\n",
              "\n",
              "      <script>\n",
              "        const buttonEl =\n",
              "          document.querySelector('#df-c46f8fc6-2755-47b6-92af-77d8232ae085 button.colab-df-convert');\n",
              "        buttonEl.style.display =\n",
              "          google.colab.kernel.accessAllowed ? 'block' : 'none';\n",
              "\n",
              "        async function convertToInteractive(key) {\n",
              "          const element = document.querySelector('#df-c46f8fc6-2755-47b6-92af-77d8232ae085');\n",
              "          const dataTable =\n",
              "            await google.colab.kernel.invokeFunction('convertToInteractive',\n",
              "                                                     [key], {});\n",
              "          if (!dataTable) return;\n",
              "\n",
              "          const docLinkHtml = 'Like what you see? Visit the ' +\n",
              "            '<a target=\"_blank\" href=https://colab.research.google.com/notebooks/data_table.ipynb>data table notebook</a>'\n",
              "            + ' to learn more about interactive tables.';\n",
              "          element.innerHTML = '';\n",
              "          dataTable['output_type'] = 'display_data';\n",
              "          await google.colab.output.renderOutput(dataTable, element);\n",
              "          const docLink = document.createElement('div');\n",
              "          docLink.innerHTML = docLinkHtml;\n",
              "          element.appendChild(docLink);\n",
              "        }\n",
              "      </script>\n",
              "    </div>\n",
              "  </div>\n",
              "  "
            ]
          },
          "metadata": {},
          "execution_count": 52
        }
      ]
    },
    {
      "cell_type": "code",
      "source": [],
      "metadata": {
        "id": "_0ljuVrBInQy"
      },
      "execution_count": null,
      "outputs": []
    }
  ]
}