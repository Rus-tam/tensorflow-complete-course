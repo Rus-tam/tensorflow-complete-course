{
  "nbformat": 4,
  "nbformat_minor": 0,
  "metadata": {
    "colab": {
      "provenance": [],
      "authorship_tag": "ABX9TyMe3TOV4D6hyUqvpdvkqk1d"
    },
    "kernelspec": {
      "name": "python3",
      "display_name": "Python 3"
    },
    "language_info": {
      "name": "python"
    }
  },
  "cells": [
    {
      "cell_type": "markdown",
      "source": [
        "## Introduction to Regression with Neural Networks in TensorFlow\n",
        "There are many definitions for a regression problem but in our case, we're going to simplify it: predicting a numerical variable based on some other combination of variables, even shorter... predicting a number"
      ],
      "metadata": {
        "id": "L4t4gG39p2Mc"
      }
    },
    {
      "cell_type": "code",
      "source": [
        "# Import TensorFlow\n",
        "import tensorflow as tf\n",
        "print(tf.__version__)"
      ],
      "metadata": {
        "colab": {
          "base_uri": "https://localhost:8080/"
        },
        "id": "YICHdZj-p_0n",
        "outputId": "bf240bcf-ca55-4e0d-ba0e-9a2917fef607"
      },
      "execution_count": 1,
      "outputs": [
        {
          "output_type": "stream",
          "name": "stdout",
          "text": [
            "2.11.0\n"
          ]
        }
      ]
    },
    {
      "cell_type": "markdown",
      "source": [
        "## Creating data to view and fit"
      ],
      "metadata": {
        "id": "xnH8iUg1sGnS"
      }
    },
    {
      "cell_type": "code",
      "source": [
        "import numpy as np\n",
        "import matplotlib.pyplot as plt\n",
        "\n",
        "# Create features\n",
        "X = np.array([-7.0, -4.0, -1.0, 2.0, 5.0, 8.0, 11.0, 14.0])\n",
        "\n",
        "# Create labels\n",
        "y = np.array([3.0, 6.0, 9.0, 12.0, 15.0, 18.0, 21.0, 24.0])\n",
        "\n",
        "# Visualize it\n",
        "plt.scatter(X, y);"
      ],
      "metadata": {
        "colab": {
          "base_uri": "https://localhost:8080/",
          "height": 269
        },
        "id": "69KS6J7wsYeG",
        "outputId": "8c39a989-1005-440e-8996-ddaf1ccc67aa"
      },
      "execution_count": 2,
      "outputs": [
        {
          "output_type": "display_data",
          "data": {
            "text/plain": [
              "<Figure size 432x288 with 1 Axes>"
            ],
            "image/png": "[encoded data removed]"
          },
          "metadata": {
            "needs_background": "light"
          }
        }
      ]
    },
    {
      "cell_type": "code",
      "source": [
        "y == X + 10"
      ],
      "metadata": {
        "id": "B3c5IxaCs5Xu",
        "colab": {
          "base_uri": "https://localhost:8080/"
        },
        "outputId": "9fe33fd7-38a8-475f-df81-357b0f11c0e7"
      },
      "execution_count": 3,
      "outputs": [
        {
          "output_type": "execute_result",
          "data": {
            "text/plain": [
              "array([ True,  True,  True,  True,  True,  True,  True,  True])"
            ]
          },
          "metadata": {},
          "execution_count": 3
        }
      ]
    },
    {
      "cell_type": "markdown",
      "source": [
        "## Input and output shapes"
      ],
      "metadata": {
        "id": "eAYsJjucuLbv"
      }
    },
    {
      "cell_type": "code",
      "source": [
        "# Create a demo tensor for our housing price prediction problem\n",
        "house_info = tf.constant(['bedroom', 'bathroom', 'garage'])\n",
        "house_price = tf.constant([939700])\n",
        "house_info, house_price"
      ],
      "metadata": {
        "colab": {
          "base_uri": "https://localhost:8080/"
        },
        "id": "WDtOSnZ6uOJh",
        "outputId": "a69caff1-d301-4243-f87f-b61cc2e2ea3d"
      },
      "execution_count": 4,
      "outputs": [
        {
          "output_type": "execute_result",
          "data": {
            "text/plain": [
              "(<tf.Tensor: shape=(3,), dtype=string, numpy=array([b'bedroom', b'bathroom', b'garage'], dtype=object)>,\n",
              " <tf.Tensor: shape=(1,), dtype=int32, numpy=array([939700], dtype=int32)>)"
            ]
          },
          "metadata": {},
          "execution_count": 4
        }
      ]
    },
    {
      "cell_type": "code",
      "source": [
        "input_shape = X[0].shape\n",
        "output_shape = y[0].shape\n",
        "input_shape, output_shape"
      ],
      "metadata": {
        "colab": {
          "base_uri": "https://localhost:8080/"
        },
        "id": "URJZdzV6uwTS",
        "outputId": "b9c84bb2-d091-4526-e192-d58b4512f1ea"
      },
      "execution_count": 5,
      "outputs": [
        {
          "output_type": "execute_result",
          "data": {
            "text/plain": [
              "((), ())"
            ]
          },
          "metadata": {},
          "execution_count": 5
        }
      ]
    },
    {
      "cell_type": "code",
      "source": [
        "# Turn our NumPy arrays into tensors\n",
        "X = tf.constant(X)\n",
        "y = tf.constant(y)\n",
        "X, y"
      ],
      "metadata": {
        "colab": {
          "base_uri": "https://localhost:8080/"
        },
        "id": "bwv4EGH-u_QA",
        "outputId": "baf512e0-a536-4ed9-8e59-7d83ad5dd161"
      },
      "execution_count": 6,
      "outputs": [
        {
          "output_type": "execute_result",
          "data": {
            "text/plain": [
              "(<tf.Tensor: shape=(8,), dtype=float64, numpy=array([-7., -4., -1.,  2.,  5.,  8., 11., 14.])>,\n",
              " <tf.Tensor: shape=(8,), dtype=float64, numpy=array([ 3.,  6.,  9., 12., 15., 18., 21., 24.])>)"
            ]
          },
          "metadata": {},
          "execution_count": 6
        }
      ]
    },
    {
      "cell_type": "code",
      "source": [
        "input_shape = X[0].shape\n",
        "output_shape = y[0].shape\n",
        "input_shape, output_shape"
      ],
      "metadata": {
        "colab": {
          "base_uri": "https://localhost:8080/"
        },
        "id": "vmZZgAuXwoXt",
        "outputId": "3eece775-6297-43a8-a2a3-325c63c29029"
      },
      "execution_count": 7,
      "outputs": [
        {
          "output_type": "execute_result",
          "data": {
            "text/plain": [
              "(TensorShape([]), TensorShape([]))"
            ]
          },
          "metadata": {},
          "execution_count": 7
        }
      ]
    },
    {
      "cell_type": "markdown",
      "source": [
        "## Steps in modelling with TensorFlow\n",
        "\n",
        "1. **Creating a model** - define the input and output layers, as well the hidden layers of a deep learning model\n",
        "2. **Compiling a model** - define the loss function (in order words, the function which tells our model how wrong it is) and the optimizer (tells our model how to improve the patterns its learning) and evaluation metrics (what we can use to interpret the performance of our model).\n",
        "3. **Fitting a model** - letting the model try to find patterns between X & y (features and labels)."
      ],
      "metadata": {
        "id": "-SpOWiv7wwsQ"
      }
    },
    {
      "cell_type": "code",
      "source": [
        "# Set random seed\n",
        "tf.random.set_seed(42)\n",
        "\n",
        "# 1. Create a model using the Sequential API\n",
        "model = tf.keras.Sequential([\n",
        "    tf.keras.layers.Dense(1)\n",
        "])\n",
        "\n",
        "# 2. Compile the model\n",
        "model.compile(loss=tf.keras.losses.mae,\n",
        "              optimizer=tf.keras.optimizers.SGD(),\n",
        "              metrics=['mae'])\n",
        "\n",
        "# 3. Fit the model\n",
        "model.fit(tf.expand_dims(X, axis=-1), y, epochs=5)"
      ],
      "metadata": {
        "colab": {
          "base_uri": "https://localhost:8080/"
        },
        "id": "Sf3uFIsWyJwP",
        "outputId": "216919a3-597b-4e09-a35f-c777a3ab9ddc"
      },
      "execution_count": 8,
      "outputs": [
        {
          "output_type": "stream",
          "name": "stdout",
          "text": [
            "Epoch 1/5\n",
            "1/1 [==============================] - 2s 2s/step - loss: 13.9070 - mae: 13.9070\n",
            "Epoch 2/5\n",
            "1/1 [==============================] - 0s 29ms/step - loss: 13.7745 - mae: 13.7745\n",
            "Epoch 3/5\n",
            "1/1 [==============================] - 0s 38ms/step - loss: 13.6420 - mae: 13.6420\n",
            "Epoch 4/5\n",
            "1/1 [==============================] - 0s 19ms/step - loss: 13.5095 - mae: 13.5095\n",
            "Epoch 5/5\n",
            "1/1 [==============================] - 0s 21ms/step - loss: 13.3770 - mae: 13.3770\n"
          ]
        },
        {
          "output_type": "execute_result",
          "data": {
            "text/plain": [
              "<keras.callbacks.History at 0x7f9d5042ec70>"
            ]
          },
          "metadata": {},
          "execution_count": 8
        }
      ]
    },
    {
      "cell_type": "code",
      "source": [
        "# Check out X and y\n",
        "X, y"
      ],
      "metadata": {
        "colab": {
          "base_uri": "https://localhost:8080/"
        },
        "id": "j7-I4FtPyYhQ",
        "outputId": "62b28bcf-8e06-4bdf-db49-803a7e459c21"
      },
      "execution_count": 9,
      "outputs": [
        {
          "output_type": "execute_result",
          "data": {
            "text/plain": [
              "(<tf.Tensor: shape=(8,), dtype=float64, numpy=array([-7., -4., -1.,  2.,  5.,  8., 11., 14.])>,\n",
              " <tf.Tensor: shape=(8,), dtype=float64, numpy=array([ 3.,  6.,  9., 12., 15., 18., 21., 24.])>)"
            ]
          },
          "metadata": {},
          "execution_count": 9
        }
      ]
    },
    {
      "cell_type": "code",
      "source": [
        "# Try and make a prediction using our model\n",
        "y_pred = model.predict([17.0])\n",
        "y_pred"
      ],
      "metadata": {
        "colab": {
          "base_uri": "https://localhost:8080/"
        },
        "id": "Xq_wGG_p3UlD",
        "outputId": "85d502b4-19cf-4413-e4d9-504a7e0d028e"
      },
      "execution_count": 10,
      "outputs": [
        {
          "output_type": "stream",
          "name": "stdout",
          "text": [
            "1/1 [==============================] - 0s 320ms/step\n"
          ]
        },
        {
          "output_type": "execute_result",
          "data": {
            "text/plain": [
              "array([[1.0483704]], dtype=float32)"
            ]
          },
          "metadata": {},
          "execution_count": 10
        }
      ]
    },
    {
      "cell_type": "code",
      "source": [
        "y_pred + 11"
      ],
      "metadata": {
        "colab": {
          "base_uri": "https://localhost:8080/"
        },
        "id": "gCShjcuZ3dz2",
        "outputId": "607baa93-c542-4b58-cde3-55122684d4af"
      },
      "execution_count": 11,
      "outputs": [
        {
          "output_type": "execute_result",
          "data": {
            "text/plain": [
              "array([[12.04837]], dtype=float32)"
            ]
          },
          "metadata": {},
          "execution_count": 11
        }
      ]
    },
    {
      "cell_type": "markdown",
      "source": [
        "## Improving our model\n",
        "\n",
        "We can improve our model, by altering the steps we took to create a model.\n",
        "\n",
        "1. **Creating a model** - here we might add more layers, increase the number of hidden units( also called neurons) within each of the hidden layers, change the activation function of each layer.\n",
        "2. **Compiling a model** - here we might change the optimization function or perhaps the **learning rate** of the optimization function.\n",
        "3. **Fitting a model** - here we might fit a model for more **epochs** (leave it training for longer) or on more data (give the model more examples to learn from).\n"
      ],
      "metadata": {
        "id": "nBfuyXk24J6c"
      }
    },
    {
      "cell_type": "code",
      "source": [
        "# Let's rebuild our model\n",
        "\n",
        "# 1. Create the model\n",
        "model = tf.keras.Sequential([\n",
        "    tf.keras.layers.Dense(1)\n",
        "])\n",
        "\n",
        "# 2. Compile the model\n",
        "model.compile(loss=tf.keras.losses.mae,\n",
        "              optimizer=tf.keras.optimizers.SGD(),\n",
        "              metrics=[\"mae\"])\n",
        "\n",
        "# 3. Fit the model (this time we'll train for longer)\n",
        "model.fit(tf.expand_dims(X, axis=-1), y, epochs=100)"
      ],
      "metadata": {
        "colab": {
          "base_uri": "https://localhost:8080/"
        },
        "id": "SWizP2-w-L9A",
        "outputId": "5ad09e7c-3c10-48ed-b4fd-49cf44aec69d"
      },
      "execution_count": 12,
      "outputs": [
        {
          "output_type": "stream",
          "name": "stdout",
          "text": [
            "Epoch 1/100\n",
            "1/1 [==============================] - 1s 894ms/step - loss: 15.2507 - mae: 15.2507\n",
            "Epoch 2/100\n",
            "1/1 [==============================] - 0s 12ms/step - loss: 14.9759 - mae: 14.9759\n",
            "Epoch 3/100\n",
            "1/1 [==============================] - 0s 20ms/step - loss: 14.8434 - mae: 14.8434\n",
            "Epoch 4/100\n",
            "1/1 [==============================] - 0s 18ms/step - loss: 14.7109 - mae: 14.7109\n",
            "Epoch 5/100\n",
            "1/1 [==============================] - 0s 19ms/step - loss: 14.5784 - mae: 14.5784\n",
            "Epoch 6/100\n",
            "1/1 [==============================] - 0s 25ms/step - loss: 14.4459 - mae: 14.4459\n",
            "Epoch 7/100\n",
            "1/1 [==============================] - 0s 63ms/step - loss: 14.3134 - mae: 14.3134\n",
            "Epoch 8/100\n",
            "1/1 [==============================] - 0s 35ms/step - loss: 14.1809 - mae: 14.1809\n",
            "Epoch 9/100\n",
            "1/1 [==============================] - 0s 37ms/step - loss: 14.0484 - mae: 14.0484\n",
            "Epoch 10/100\n",
            "1/1 [==============================] - 0s 30ms/step - loss: 13.9159 - mae: 13.9159\n",
            "Epoch 11/100\n",
            "1/1 [==============================] - 0s 29ms/step - loss: 13.7834 - mae: 13.7834\n",
            "Epoch 12/100\n",
            "1/1 [==============================] - 0s 19ms/step - loss: 13.6509 - mae: 13.6509\n",
            "Epoch 13/100\n",
            "1/1 [==============================] - 0s 25ms/step - loss: 13.5184 - mae: 13.5184\n",
            "Epoch 14/100\n",
            "1/1 [==============================] - 0s 51ms/step - loss: 13.3859 - mae: 13.3859\n",
            "Epoch 15/100\n",
            "1/1 [==============================] - 0s 41ms/step - loss: 13.2534 - mae: 13.2534\n",
            "Epoch 16/100\n",
            "1/1 [==============================] - 0s 51ms/step - loss: 13.1209 - mae: 13.1209\n",
            "Epoch 17/100\n",
            "1/1 [==============================] - 0s 41ms/step - loss: 12.9884 - mae: 12.9884\n",
            "Epoch 18/100\n",
            "1/1 [==============================] - 0s 39ms/step - loss: 12.8559 - mae: 12.8559\n",
            "Epoch 19/100\n",
            "1/1 [==============================] - 0s 25ms/step - loss: 12.7234 - mae: 12.7234\n",
            "Epoch 20/100\n",
            "1/1 [==============================] - 0s 29ms/step - loss: 12.5909 - mae: 12.5909\n",
            "Epoch 21/100\n",
            "1/1 [==============================] - 0s 50ms/step - loss: 12.4584 - mae: 12.4584\n",
            "Epoch 22/100\n",
            "1/1 [==============================] - 0s 25ms/step - loss: 12.3259 - mae: 12.3259\n",
            "Epoch 23/100\n",
            "1/1 [==============================] - 0s 26ms/step - loss: 12.1934 - mae: 12.1934\n",
            "Epoch 24/100\n",
            "1/1 [==============================] - 0s 24ms/step - loss: 12.0609 - mae: 12.0609\n",
            "Epoch 25/100\n",
            "1/1 [==============================] - 0s 21ms/step - loss: 11.9284 - mae: 11.9284\n",
            "Epoch 26/100\n",
            "1/1 [==============================] - 0s 17ms/step - loss: 11.7959 - mae: 11.7959\n",
            "Epoch 27/100\n",
            "1/1 [==============================] - 0s 22ms/step - loss: 11.6634 - mae: 11.6634\n",
            "Epoch 28/100\n",
            "1/1 [==============================] - 0s 20ms/step - loss: 11.5309 - mae: 11.5309\n",
            "Epoch 29/100\n",
            "1/1 [==============================] - 0s 20ms/step - loss: 11.3984 - mae: 11.3984\n",
            "Epoch 30/100\n",
            "1/1 [==============================] - 0s 26ms/step - loss: 11.2659 - mae: 11.2659\n",
            "Epoch 31/100\n",
            "1/1 [==============================] - 0s 39ms/step - loss: 11.1334 - mae: 11.1334\n",
            "Epoch 32/100\n",
            "1/1 [==============================] - 0s 25ms/step - loss: 11.0009 - mae: 11.0009\n",
            "Epoch 33/100\n",
            "1/1 [==============================] - 0s 30ms/step - loss: 10.8684 - mae: 10.8684\n",
            "Epoch 34/100\n",
            "1/1 [==============================] - 0s 59ms/step - loss: 10.7359 - mae: 10.7359\n",
            "Epoch 35/100\n",
            "1/1 [==============================] - 0s 23ms/step - loss: 10.6034 - mae: 10.6034\n",
            "Epoch 36/100\n",
            "1/1 [==============================] - 0s 14ms/step - loss: 10.4709 - mae: 10.4709\n",
            "Epoch 37/100\n",
            "1/1 [==============================] - 0s 37ms/step - loss: 10.3384 - mae: 10.3384\n",
            "Epoch 38/100\n",
            "1/1 [==============================] - 0s 32ms/step - loss: 10.2059 - mae: 10.2059\n",
            "Epoch 39/100\n",
            "1/1 [==============================] - 0s 32ms/step - loss: 10.0734 - mae: 10.0734\n",
            "Epoch 40/100\n",
            "1/1 [==============================] - 0s 22ms/step - loss: 9.9409 - mae: 9.9409\n",
            "Epoch 41/100\n",
            "1/1 [==============================] - 0s 25ms/step - loss: 9.8084 - mae: 9.8084\n",
            "Epoch 42/100\n",
            "1/1 [==============================] - 0s 40ms/step - loss: 9.6759 - mae: 9.6759\n",
            "Epoch 43/100\n",
            "1/1 [==============================] - 0s 20ms/step - loss: 9.5434 - mae: 9.5434\n",
            "Epoch 44/100\n",
            "1/1 [==============================] - 0s 34ms/step - loss: 9.4109 - mae: 9.4109\n",
            "Epoch 45/100\n",
            "1/1 [==============================] - 0s 26ms/step - loss: 9.2784 - mae: 9.2784\n",
            "Epoch 46/100\n",
            "1/1 [==============================] - 0s 24ms/step - loss: 9.1459 - mae: 9.1459\n",
            "Epoch 47/100\n",
            "1/1 [==============================] - 0s 16ms/step - loss: 9.0134 - mae: 9.0134\n",
            "Epoch 48/100\n",
            "1/1 [==============================] - 0s 98ms/step - loss: 8.8809 - mae: 8.8809\n",
            "Epoch 49/100\n",
            "1/1 [==============================] - 0s 33ms/step - loss: 8.7484 - mae: 8.7484\n",
            "Epoch 50/100\n",
            "1/1 [==============================] - 0s 63ms/step - loss: 8.6159 - mae: 8.6159\n",
            "Epoch 51/100\n",
            "1/1 [==============================] - 0s 60ms/step - loss: 8.4834 - mae: 8.4834\n",
            "Epoch 52/100\n",
            "1/1 [==============================] - 0s 22ms/step - loss: 8.3509 - mae: 8.3509\n",
            "Epoch 53/100\n",
            "1/1 [==============================] - 0s 27ms/step - loss: 8.2184 - mae: 8.2184\n",
            "Epoch 54/100\n",
            "1/1 [==============================] - 0s 54ms/step - loss: 8.0859 - mae: 8.0859\n",
            "Epoch 55/100\n",
            "1/1 [==============================] - 0s 24ms/step - loss: 7.9534 - mae: 7.9534\n",
            "Epoch 56/100\n",
            "1/1 [==============================] - 0s 28ms/step - loss: 7.8209 - mae: 7.8209\n",
            "Epoch 57/100\n",
            "1/1 [==============================] - 0s 17ms/step - loss: 7.6884 - mae: 7.6884\n",
            "Epoch 58/100\n",
            "1/1 [==============================] - 0s 23ms/step - loss: 7.5559 - mae: 7.5559\n",
            "Epoch 59/100\n",
            "1/1 [==============================] - 0s 30ms/step - loss: 7.4234 - mae: 7.4234\n",
            "Epoch 60/100\n",
            "1/1 [==============================] - 0s 33ms/step - loss: 7.2909 - mae: 7.2909\n",
            "Epoch 61/100\n",
            "1/1 [==============================] - 0s 37ms/step - loss: 7.1584 - mae: 7.1584\n",
            "Epoch 62/100\n",
            "1/1 [==============================] - 0s 60ms/step - loss: 7.0444 - mae: 7.0444\n",
            "Epoch 63/100\n",
            "1/1 [==============================] - 0s 46ms/step - loss: 7.0387 - mae: 7.0387\n",
            "Epoch 64/100\n",
            "1/1 [==============================] - 0s 49ms/step - loss: 7.0331 - mae: 7.0331\n",
            "Epoch 65/100\n",
            "1/1 [==============================] - 0s 22ms/step - loss: 7.0275 - mae: 7.0275\n",
            "Epoch 66/100\n",
            "1/1 [==============================] - 0s 35ms/step - loss: 7.0219 - mae: 7.0219\n",
            "Epoch 67/100\n",
            "1/1 [==============================] - 0s 55ms/step - loss: 7.0163 - mae: 7.0163\n",
            "Epoch 68/100\n",
            "1/1 [==============================] - 0s 42ms/step - loss: 7.0106 - mae: 7.0106\n",
            "Epoch 69/100\n",
            "1/1 [==============================] - 0s 44ms/step - loss: 7.0050 - mae: 7.0050\n",
            "Epoch 70/100\n",
            "1/1 [==============================] - 0s 31ms/step - loss: 6.9994 - mae: 6.9994\n",
            "Epoch 71/100\n",
            "1/1 [==============================] - 0s 30ms/step - loss: 6.9938 - mae: 6.9938\n",
            "Epoch 72/100\n",
            "1/1 [==============================] - 0s 33ms/step - loss: 6.9881 - mae: 6.9881\n",
            "Epoch 73/100\n",
            "1/1 [==============================] - 0s 30ms/step - loss: 6.9825 - mae: 6.9825\n",
            "Epoch 74/100\n",
            "1/1 [==============================] - 0s 58ms/step - loss: 6.9769 - mae: 6.9769\n",
            "Epoch 75/100\n",
            "1/1 [==============================] - 0s 34ms/step - loss: 6.9713 - mae: 6.9713\n",
            "Epoch 76/100\n",
            "1/1 [==============================] - 0s 23ms/step - loss: 6.9656 - mae: 6.9656\n",
            "Epoch 77/100\n",
            "1/1 [==============================] - 0s 21ms/step - loss: 6.9600 - mae: 6.9600\n",
            "Epoch 78/100\n",
            "1/1 [==============================] - 0s 39ms/step - loss: 6.9544 - mae: 6.9544\n",
            "Epoch 79/100\n",
            "1/1 [==============================] - 0s 20ms/step - loss: 6.9488 - mae: 6.9488\n",
            "Epoch 80/100\n",
            "1/1 [==============================] - 0s 31ms/step - loss: 6.9431 - mae: 6.9431\n",
            "Epoch 81/100\n",
            "1/1 [==============================] - 0s 19ms/step - loss: 6.9375 - mae: 6.9375\n",
            "Epoch 82/100\n",
            "1/1 [==============================] - 0s 30ms/step - loss: 6.9319 - mae: 6.9319\n",
            "Epoch 83/100\n",
            "1/1 [==============================] - 0s 24ms/step - loss: 6.9263 - mae: 6.9263\n",
            "Epoch 84/100\n",
            "1/1 [==============================] - 0s 10ms/step - loss: 6.9206 - mae: 6.9206\n",
            "Epoch 85/100\n",
            "1/1 [==============================] - 0s 47ms/step - loss: 6.9150 - mae: 6.9150\n",
            "Epoch 86/100\n",
            "1/1 [==============================] - 0s 15ms/step - loss: 6.9094 - mae: 6.9094\n",
            "Epoch 87/100\n",
            "1/1 [==============================] - 0s 16ms/step - loss: 6.9038 - mae: 6.9038\n",
            "Epoch 88/100\n",
            "1/1 [==============================] - 0s 30ms/step - loss: 6.8981 - mae: 6.8981\n",
            "Epoch 89/100\n",
            "1/1 [==============================] - 0s 21ms/step - loss: 6.8925 - mae: 6.8925\n",
            "Epoch 90/100\n",
            "1/1 [==============================] - 0s 24ms/step - loss: 6.8869 - mae: 6.8869\n",
            "Epoch 91/100\n",
            "1/1 [==============================] - 0s 25ms/step - loss: 6.8813 - mae: 6.8813\n",
            "Epoch 92/100\n",
            "1/1 [==============================] - 0s 23ms/step - loss: 6.8756 - mae: 6.8756\n",
            "Epoch 93/100\n",
            "1/1 [==============================] - 0s 31ms/step - loss: 6.8700 - mae: 6.8700\n",
            "Epoch 94/100\n",
            "1/1 [==============================] - 0s 31ms/step - loss: 6.8644 - mae: 6.8644\n",
            "Epoch 95/100\n",
            "1/1 [==============================] - 0s 18ms/step - loss: 6.8588 - mae: 6.8588\n",
            "Epoch 96/100\n",
            "1/1 [==============================] - 0s 23ms/step - loss: 6.8531 - mae: 6.8531\n",
            "Epoch 97/100\n",
            "1/1 [==============================] - 0s 17ms/step - loss: 6.8475 - mae: 6.8475\n",
            "Epoch 98/100\n",
            "1/1 [==============================] - 0s 31ms/step - loss: 6.8419 - mae: 6.8419\n",
            "Epoch 99/100\n",
            "1/1 [==============================] - 0s 22ms/step - loss: 6.8363 - mae: 6.8363\n",
            "Epoch 100/100\n",
            "1/1 [==============================] - 0s 27ms/step - loss: 6.8306 - mae: 6.8306\n"
          ]
        },
        {
          "output_type": "execute_result",
          "data": {
            "text/plain": [
              "<keras.callbacks.History at 0x7f9d50369e80>"
            ]
          },
          "metadata": {},
          "execution_count": 12
        }
      ]
    },
    {
      "cell_type": "code",
      "source": [
        "# Remind ourselfs of the data\n",
        "X, y"
      ],
      "metadata": {
        "colab": {
          "base_uri": "https://localhost:8080/"
        },
        "id": "oqUJB_ZDBi49",
        "outputId": "83950946-98f7-4ad0-bbd6-4c02bbb771b1"
      },
      "execution_count": 13,
      "outputs": [
        {
          "output_type": "execute_result",
          "data": {
            "text/plain": [
              "(<tf.Tensor: shape=(8,), dtype=float64, numpy=array([-7., -4., -1.,  2.,  5.,  8., 11., 14.])>,\n",
              " <tf.Tensor: shape=(8,), dtype=float64, numpy=array([ 3.,  6.,  9., 12., 15., 18., 21., 24.])>)"
            ]
          },
          "metadata": {},
          "execution_count": 13
        }
      ]
    },
    {
      "cell_type": "code",
      "source": [
        "# Let's see if our model's prediction has improved...\n",
        "y_pred = model.predict([17.0])\n",
        "y_pred"
      ],
      "metadata": {
        "colab": {
          "base_uri": "https://localhost:8080/"
        },
        "id": "u_IzXLwmCESU",
        "outputId": "6a0b6220-3be0-45ef-810c-14415c9f4ca6"
      },
      "execution_count": 14,
      "outputs": [
        {
          "output_type": "stream",
          "name": "stdout",
          "text": [
            "1/1 [==============================] - 0s 243ms/step\n"
          ]
        },
        {
          "output_type": "execute_result",
          "data": {
            "text/plain": [
              "array([[29.39493]], dtype=float32)"
            ]
          },
          "metadata": {},
          "execution_count": 14
        }
      ]
    },
    {
      "cell_type": "code",
      "source": [
        "# Let's see if we can make another change to improve our model\n",
        "\n",
        "# 1. Create the model (this time with an extra hidden layers with 100 hidden units)\n",
        "model = tf.keras.Sequential([\n",
        "    tf.keras.layers.Dense(100, activation='relu'),\n",
        "    tf.keras.layers.Dense(100, activation='relu'),\n",
        "    tf.keras.layers.Dense(1)\n",
        "])\n",
        "\n",
        "# 2. Compile the model\n",
        "model.compile(loss='mae',\n",
        "              optimizer=tf.keras.optimizers.Adam(learning_rate=0.01),\n",
        "              metrics=['mae'])\n",
        "\n",
        "# 3. Fit the model\n",
        "model.fit(tf.expand_dims(X, axis=-1), y, epochs=100)"
      ],
      "metadata": {
        "colab": {
          "base_uri": "https://localhost:8080/"
        },
        "id": "FH2Q1tNSCQew",
        "outputId": "e475a8f1-6c24-4b99-f0ff-368c48f781d2"
      },
      "execution_count": 15,
      "outputs": [
        {
          "output_type": "stream",
          "name": "stdout",
          "text": [
            "Epoch 1/100\n",
            "1/1 [==============================] - 2s 2s/step - loss: 12.6506 - mae: 12.6506\n",
            "Epoch 2/100\n",
            "1/1 [==============================] - 0s 44ms/step - loss: 10.1316 - mae: 10.1316\n",
            "Epoch 3/100\n",
            "1/1 [==============================] - 0s 50ms/step - loss: 8.3645 - mae: 8.3645\n",
            "Epoch 4/100\n",
            "1/1 [==============================] - 0s 46ms/step - loss: 6.3094 - mae: 6.3094\n",
            "Epoch 5/100\n",
            "1/1 [==============================] - 0s 45ms/step - loss: 4.1265 - mae: 4.1265\n",
            "Epoch 6/100\n",
            "1/1 [==============================] - 0s 13ms/step - loss: 4.9078 - mae: 4.9078\n",
            "Epoch 7/100\n",
            "1/1 [==============================] - 0s 28ms/step - loss: 5.7926 - mae: 5.7926\n",
            "Epoch 8/100\n",
            "1/1 [==============================] - 0s 24ms/step - loss: 5.9414 - mae: 5.9414\n",
            "Epoch 9/100\n",
            "1/1 [==============================] - 0s 26ms/step - loss: 5.5755 - mae: 5.5755\n",
            "Epoch 10/100\n",
            "1/1 [==============================] - 0s 22ms/step - loss: 4.8867 - mae: 4.8867\n",
            "Epoch 11/100\n",
            "1/1 [==============================] - 0s 41ms/step - loss: 4.0907 - mae: 4.0907\n",
            "Epoch 12/100\n",
            "1/1 [==============================] - 0s 19ms/step - loss: 3.7609 - mae: 3.7609\n",
            "Epoch 13/100\n",
            "1/1 [==============================] - 0s 58ms/step - loss: 4.0862 - mae: 4.0862\n",
            "Epoch 14/100\n",
            "1/1 [==============================] - 0s 42ms/step - loss: 4.4095 - mae: 4.4095\n",
            "Epoch 15/100\n",
            "1/1 [==============================] - 0s 22ms/step - loss: 4.2064 - mae: 4.2064\n",
            "Epoch 16/100\n",
            "1/1 [==============================] - 0s 19ms/step - loss: 3.6948 - mae: 3.6948\n",
            "Epoch 17/100\n",
            "1/1 [==============================] - 0s 30ms/step - loss: 3.4205 - mae: 3.4205\n",
            "Epoch 18/100\n",
            "1/1 [==============================] - 0s 45ms/step - loss: 3.4537 - mae: 3.4537\n",
            "Epoch 19/100\n",
            "1/1 [==============================] - 0s 40ms/step - loss: 3.4315 - mae: 3.4315\n",
            "Epoch 20/100\n",
            "1/1 [==============================] - 0s 74ms/step - loss: 3.3884 - mae: 3.3884\n",
            "Epoch 21/100\n",
            "1/1 [==============================] - 0s 48ms/step - loss: 3.2496 - mae: 3.2496\n",
            "Epoch 22/100\n",
            "1/1 [==============================] - 0s 32ms/step - loss: 3.0966 - mae: 3.0966\n",
            "Epoch 23/100\n",
            "1/1 [==============================] - 0s 48ms/step - loss: 2.8826 - mae: 2.8826\n",
            "Epoch 24/100\n",
            "1/1 [==============================] - 0s 35ms/step - loss: 2.6562 - mae: 2.6562\n",
            "Epoch 25/100\n",
            "1/1 [==============================] - 0s 31ms/step - loss: 2.4441 - mae: 2.4441\n",
            "Epoch 26/100\n",
            "1/1 [==============================] - 0s 31ms/step - loss: 2.2340 - mae: 2.2340\n",
            "Epoch 27/100\n",
            "1/1 [==============================] - 0s 84ms/step - loss: 2.0180 - mae: 2.0180\n",
            "Epoch 28/100\n",
            "1/1 [==============================] - 0s 66ms/step - loss: 1.7547 - mae: 1.7547\n",
            "Epoch 29/100\n",
            "1/1 [==============================] - 0s 64ms/step - loss: 1.5342 - mae: 1.5342\n",
            "Epoch 30/100\n",
            "1/1 [==============================] - 0s 40ms/step - loss: 1.4343 - mae: 1.4343\n",
            "Epoch 31/100\n",
            "1/1 [==============================] - 0s 36ms/step - loss: 0.9605 - mae: 0.9605\n",
            "Epoch 32/100\n",
            "1/1 [==============================] - 0s 27ms/step - loss: 1.6770 - mae: 1.6770\n",
            "Epoch 33/100\n",
            "1/1 [==============================] - 0s 38ms/step - loss: 1.0907 - mae: 1.0907\n",
            "Epoch 34/100\n",
            "1/1 [==============================] - 0s 23ms/step - loss: 1.4201 - mae: 1.4201\n",
            "Epoch 35/100\n",
            "1/1 [==============================] - 0s 22ms/step - loss: 1.2747 - mae: 1.2747\n",
            "Epoch 36/100\n",
            "1/1 [==============================] - 0s 34ms/step - loss: 0.5185 - mae: 0.5185\n",
            "Epoch 37/100\n",
            "1/1 [==============================] - 0s 32ms/step - loss: 1.7220 - mae: 1.7220\n",
            "Epoch 38/100\n",
            "1/1 [==============================] - 0s 29ms/step - loss: 2.1946 - mae: 2.1946\n",
            "Epoch 39/100\n",
            "1/1 [==============================] - 0s 34ms/step - loss: 1.8671 - mae: 1.8671\n",
            "Epoch 40/100\n",
            "1/1 [==============================] - 0s 38ms/step - loss: 1.1117 - mae: 1.1117\n",
            "Epoch 41/100\n",
            "1/1 [==============================] - 0s 66ms/step - loss: 0.8066 - mae: 0.8066\n",
            "Epoch 42/100\n",
            "1/1 [==============================] - 0s 40ms/step - loss: 1.1729 - mae: 1.1729\n",
            "Epoch 43/100\n",
            "1/1 [==============================] - 0s 31ms/step - loss: 0.7972 - mae: 0.7972\n",
            "Epoch 44/100\n",
            "1/1 [==============================] - 0s 42ms/step - loss: 0.7319 - mae: 0.7319\n",
            "Epoch 45/100\n",
            "1/1 [==============================] - 0s 28ms/step - loss: 1.0414 - mae: 1.0414\n",
            "Epoch 46/100\n",
            "1/1 [==============================] - 0s 24ms/step - loss: 0.9492 - mae: 0.9492\n",
            "Epoch 47/100\n",
            "1/1 [==============================] - 0s 37ms/step - loss: 0.4822 - mae: 0.4822\n",
            "Epoch 48/100\n",
            "1/1 [==============================] - 0s 36ms/step - loss: 0.9135 - mae: 0.9135\n",
            "Epoch 49/100\n",
            "1/1 [==============================] - 0s 50ms/step - loss: 1.1377 - mae: 1.1377\n",
            "Epoch 50/100\n",
            "1/1 [==============================] - 0s 86ms/step - loss: 0.6277 - mae: 0.6277\n",
            "Epoch 51/100\n",
            "1/1 [==============================] - 0s 82ms/step - loss: 0.5832 - mae: 0.5832\n",
            "Epoch 52/100\n",
            "1/1 [==============================] - 0s 53ms/step - loss: 0.9272 - mae: 0.9272\n",
            "Epoch 53/100\n",
            "1/1 [==============================] - 0s 42ms/step - loss: 0.6428 - mae: 0.6428\n",
            "Epoch 54/100\n",
            "1/1 [==============================] - 0s 30ms/step - loss: 0.3956 - mae: 0.3956\n",
            "Epoch 55/100\n",
            "1/1 [==============================] - 0s 18ms/step - loss: 0.5980 - mae: 0.5980\n",
            "Epoch 56/100\n",
            "1/1 [==============================] - 0s 25ms/step - loss: 0.2965 - mae: 0.2965\n",
            "Epoch 57/100\n",
            "1/1 [==============================] - 0s 30ms/step - loss: 0.7052 - mae: 0.7052\n",
            "Epoch 58/100\n",
            "1/1 [==============================] - 0s 42ms/step - loss: 0.8481 - mae: 0.8481\n",
            "Epoch 59/100\n",
            "1/1 [==============================] - 0s 33ms/step - loss: 0.4204 - mae: 0.4204\n",
            "Epoch 60/100\n",
            "1/1 [==============================] - 0s 42ms/step - loss: 0.6198 - mae: 0.6198\n",
            "Epoch 61/100\n",
            "1/1 [==============================] - 0s 73ms/step - loss: 0.8792 - mae: 0.8792\n",
            "Epoch 62/100\n",
            "1/1 [==============================] - 0s 46ms/step - loss: 0.5601 - mae: 0.5601\n",
            "Epoch 63/100\n",
            "1/1 [==============================] - 0s 34ms/step - loss: 0.3370 - mae: 0.3370\n",
            "Epoch 64/100\n",
            "1/1 [==============================] - 0s 27ms/step - loss: 0.5240 - mae: 0.5240\n",
            "Epoch 65/100\n",
            "1/1 [==============================] - 0s 79ms/step - loss: 0.2118 - mae: 0.2118\n",
            "Epoch 66/100\n",
            "1/1 [==============================] - 0s 39ms/step - loss: 0.6586 - mae: 0.6586\n",
            "Epoch 67/100\n",
            "1/1 [==============================] - 0s 21ms/step - loss: 0.7489 - mae: 0.7489\n",
            "Epoch 68/100\n",
            "1/1 [==============================] - 0s 41ms/step - loss: 0.2422 - mae: 0.2422\n",
            "Epoch 69/100\n",
            "1/1 [==============================] - 0s 40ms/step - loss: 0.7186 - mae: 0.7186\n",
            "Epoch 70/100\n",
            "1/1 [==============================] - 0s 29ms/step - loss: 1.0760 - mae: 1.0760\n",
            "Epoch 71/100\n",
            "1/1 [==============================] - 0s 24ms/step - loss: 0.9511 - mae: 0.9511\n",
            "Epoch 72/100\n",
            "1/1 [==============================] - 0s 35ms/step - loss: 0.3117 - mae: 0.3117\n",
            "Epoch 73/100\n",
            "1/1 [==============================] - 0s 26ms/step - loss: 0.7911 - mae: 0.7911\n",
            "Epoch 74/100\n",
            "1/1 [==============================] - 0s 32ms/step - loss: 1.1842 - mae: 1.1842\n",
            "Epoch 75/100\n",
            "1/1 [==============================] - 0s 37ms/step - loss: 1.0539 - mae: 1.0539\n",
            "Epoch 76/100\n",
            "1/1 [==============================] - 0s 71ms/step - loss: 0.3754 - mae: 0.3754\n",
            "Epoch 77/100\n",
            "1/1 [==============================] - 0s 45ms/step - loss: 0.8043 - mae: 0.8043\n",
            "Epoch 78/100\n",
            "1/1 [==============================] - 0s 42ms/step - loss: 1.2521 - mae: 1.2521\n",
            "Epoch 79/100\n",
            "1/1 [==============================] - 0s 37ms/step - loss: 1.2016 - mae: 1.2016\n",
            "Epoch 80/100\n",
            "1/1 [==============================] - 0s 54ms/step - loss: 0.7433 - mae: 0.7433\n",
            "Epoch 81/100\n",
            "1/1 [==============================] - 0s 82ms/step - loss: 0.3299 - mae: 0.3299\n",
            "Epoch 82/100\n",
            "1/1 [==============================] - 0s 44ms/step - loss: 0.5915 - mae: 0.5915\n",
            "Epoch 83/100\n",
            "1/1 [==============================] - 0s 33ms/step - loss: 0.4826 - mae: 0.4826\n",
            "Epoch 84/100\n",
            "1/1 [==============================] - 0s 34ms/step - loss: 0.3613 - mae: 0.3613\n",
            "Epoch 85/100\n",
            "1/1 [==============================] - 0s 44ms/step - loss: 0.4303 - mae: 0.4303\n",
            "Epoch 86/100\n",
            "1/1 [==============================] - 0s 29ms/step - loss: 0.1198 - mae: 0.1198\n",
            "Epoch 87/100\n",
            "1/1 [==============================] - 0s 21ms/step - loss: 0.2866 - mae: 0.2866\n",
            "Epoch 88/100\n",
            "1/1 [==============================] - 0s 36ms/step - loss: 0.2255 - mae: 0.2255\n",
            "Epoch 89/100\n",
            "1/1 [==============================] - 0s 43ms/step - loss: 0.1160 - mae: 0.1160\n",
            "Epoch 90/100\n",
            "1/1 [==============================] - 0s 40ms/step - loss: 0.1702 - mae: 0.1702\n",
            "Epoch 91/100\n",
            "1/1 [==============================] - 0s 20ms/step - loss: 0.1324 - mae: 0.1324\n",
            "Epoch 92/100\n",
            "1/1 [==============================] - 0s 51ms/step - loss: 0.1655 - mae: 0.1655\n",
            "Epoch 93/100\n",
            "1/1 [==============================] - 0s 45ms/step - loss: 0.1785 - mae: 0.1785\n",
            "Epoch 94/100\n",
            "1/1 [==============================] - 0s 49ms/step - loss: 0.1554 - mae: 0.1554\n",
            "Epoch 95/100\n",
            "1/1 [==============================] - 0s 38ms/step - loss: 0.1469 - mae: 0.1469\n",
            "Epoch 96/100\n",
            "1/1 [==============================] - 0s 30ms/step - loss: 0.1631 - mae: 0.1631\n",
            "Epoch 97/100\n",
            "1/1 [==============================] - 0s 57ms/step - loss: 0.1034 - mae: 0.1034\n",
            "Epoch 98/100\n",
            "1/1 [==============================] - 0s 45ms/step - loss: 0.0923 - mae: 0.0923\n",
            "Epoch 99/100\n",
            "1/1 [==============================] - 0s 16ms/step - loss: 0.0936 - mae: 0.0936\n",
            "Epoch 100/100\n",
            "1/1 [==============================] - 0s 38ms/step - loss: 0.2158 - mae: 0.2158\n"
          ]
        },
        {
          "output_type": "execute_result",
          "data": {
            "text/plain": [
              "<keras.callbacks.History at 0x7f9d50121940>"
            ]
          },
          "metadata": {},
          "execution_count": 15
        }
      ]
    },
    {
      "cell_type": "code",
      "source": [
        "# Let's remind ourselves of the data\n",
        "X, y"
      ],
      "metadata": {
        "colab": {
          "base_uri": "https://localhost:8080/"
        },
        "id": "4luz-p5cFBgl",
        "outputId": "6b1fe065-596f-470e-89b0-becf32b5cd69"
      },
      "execution_count": 16,
      "outputs": [
        {
          "output_type": "execute_result",
          "data": {
            "text/plain": [
              "(<tf.Tensor: shape=(8,), dtype=float64, numpy=array([-7., -4., -1.,  2.,  5.,  8., 11., 14.])>,\n",
              " <tf.Tensor: shape=(8,), dtype=float64, numpy=array([ 3.,  6.,  9., 12., 15., 18., 21., 24.])>)"
            ]
          },
          "metadata": {},
          "execution_count": 16
        }
      ]
    },
    {
      "cell_type": "code",
      "source": [
        "# Let's try to make a prediction\n",
        "model.predict([17.0])"
      ],
      "metadata": {
        "colab": {
          "base_uri": "https://localhost:8080/"
        },
        "id": "eKmmD2IwFYXv",
        "outputId": "faccc001-f164-4565-fb98-5968fc0ba020"
      },
      "execution_count": 17,
      "outputs": [
        {
          "output_type": "stream",
          "name": "stdout",
          "text": [
            "1/1 [==============================] - 0s 339ms/step\n"
          ]
        },
        {
          "output_type": "execute_result",
          "data": {
            "text/plain": [
              "array([[27.194696]], dtype=float32)"
            ]
          },
          "metadata": {},
          "execution_count": 17
        }
      ]
    },
    {
      "cell_type": "markdown",
      "source": [
        "## Evaluating model\n",
        "\n",
        "In practice, a typical workflow you'll go through when building neural networks is:\n",
        "\n",
        "```\n",
        "Build a model => fir it => evaluate it => tweak a model => fit it => evaluate it => tweak a model => fit it => evaluate it ...\n",
        "```"
      ],
      "metadata": {
        "id": "ElJnFJ41Fd9_"
      }
    },
    {
      "cell_type": "markdown",
      "source": [
        "When it comes to evaluation... there are 3 words you should memorize:\n",
        "\n",
        " > \"Visualize, visualize, visualize\"\n",
        "\n",
        "It's a good idea to visualize:\n",
        "* The data - what data are we working with? What does it look like?\n",
        "* The model itself - what does our model look like?\n",
        "* The training of a model - how does a model perform while it learns?\n",
        "* The predictions of the model - how do the predictions of a model line up against the ground truth (the original labels)?"
      ],
      "metadata": {
        "id": "sZGret4O5KN0"
      }
    },
    {
      "cell_type": "code",
      "source": [
        "# Make a bigger dataset\n",
        "X = tf.range(-100, 100, 4)\n",
        "X"
      ],
      "metadata": {
        "colab": {
          "base_uri": "https://localhost:8080/"
        },
        "id": "TBbv05-u5jXj",
        "outputId": "f9422682-32a6-4509-9c56-ec4f59adfc64"
      },
      "execution_count": 18,
      "outputs": [
        {
          "output_type": "execute_result",
          "data": {
            "text/plain": [
              "<tf.Tensor: shape=(50,), dtype=int32, numpy=\n",
              "array([-100,  -96,  -92,  -88,  -84,  -80,  -76,  -72,  -68,  -64,  -60,\n",
              "        -56,  -52,  -48,  -44,  -40,  -36,  -32,  -28,  -24,  -20,  -16,\n",
              "        -12,   -8,   -4,    0,    4,    8,   12,   16,   20,   24,   28,\n",
              "         32,   36,   40,   44,   48,   52,   56,   60,   64,   68,   72,\n",
              "         76,   80,   84,   88,   92,   96], dtype=int32)>"
            ]
          },
          "metadata": {},
          "execution_count": 18
        }
      ]
    },
    {
      "cell_type": "code",
      "source": [
        "# Make labels for the dataset\n",
        "y = X + 10\n",
        "y"
      ],
      "metadata": {
        "colab": {
          "base_uri": "https://localhost:8080/"
        },
        "id": "VCQ9aTYR6iUk",
        "outputId": "02ac7060-fab7-403b-b043-6f2d91f21f9e"
      },
      "execution_count": 19,
      "outputs": [
        {
          "output_type": "execute_result",
          "data": {
            "text/plain": [
              "<tf.Tensor: shape=(50,), dtype=int32, numpy=\n",
              "array([-90, -86, -82, -78, -74, -70, -66, -62, -58, -54, -50, -46, -42,\n",
              "       -38, -34, -30, -26, -22, -18, -14, -10,  -6,  -2,   2,   6,  10,\n",
              "        14,  18,  22,  26,  30,  34,  38,  42,  46,  50,  54,  58,  62,\n",
              "        66,  70,  74,  78,  82,  86,  90,  94,  98, 102, 106], dtype=int32)>"
            ]
          },
          "metadata": {},
          "execution_count": 19
        }
      ]
    },
    {
      "cell_type": "code",
      "source": [
        "# Visualize data\n",
        "\n",
        "plt.plot(X, y);"
      ],
      "metadata": {
        "colab": {
          "base_uri": "https://localhost:8080/",
          "height": 265
        },
        "id": "oou174Lc6oQ0",
        "outputId": "d18a4371-302f-45ef-ae71-bbae52c7afef"
      },
      "execution_count": 20,
      "outputs": [
        {
          "output_type": "display_data",
          "data": {
            "text/plain": [
              "<Figure size 432x288 with 1 Axes>"
            ],
            "image/png": "[encoded data removed]"
          },
          "metadata": {
            "needs_background": "light"
          }
        }
      ]
    },
    {
      "cell_type": "markdown",
      "source": [
        "### The 3 sets...\n",
        "\n",
        "* Training set - the model learns from this data, which is typically 70-80 % of the total data you have available.\n",
        "* Validation set - the model gets tuned on this data, which is typically 10-15 % of the data available.\n",
        "* Test set - the model gets evaluated on this data to test what is has learned, this set is typically 10-15 % of the total data available."
      ],
      "metadata": {
        "id": "RJhLb8UI7m9f"
      }
    },
    {
      "cell_type": "code",
      "source": [
        "# Split the data into train and test sets\n",
        "X_train = X[:40] # first 40 are training samples (80% of the data)\n",
        "y_train = y[:40]\n",
        "\n",
        "X_test = X[40:] # last 10 are testing samples (20% of the data)\n",
        "y_test = y[40:]"
      ],
      "metadata": {
        "id": "gXIepBlP9MZ7"
      },
      "execution_count": 21,
      "outputs": []
    },
    {
      "cell_type": "markdown",
      "source": [
        "# Visualizing the data\n",
        "\n",
        "Now we're got our data in training and test sets... let's visualize it again!"
      ],
      "metadata": {
        "id": "rwle3Rec_Vs0"
      }
    },
    {
      "cell_type": "code",
      "source": [
        "plt.figure(figsize=(10, 7))\n",
        "# Plot training data in blue\n",
        "plt.scatter(X_train, y_train, c='b', label='Training data')\n",
        "# Plot testing data in green\n",
        "plt.scatter(X_test, y_test, c='g', label='Testing data')\n",
        "# Show a legend\n",
        "plt.legend();"
      ],
      "metadata": {
        "id": "aXZzgrbn_uIV",
        "outputId": "61092008-135b-4895-922c-800cf9fc60ac",
        "colab": {
          "base_uri": "https://localhost:8080/",
          "height": 428
        }
      },
      "execution_count": 22,
      "outputs": [
        {
          "output_type": "display_data",
          "data": {
            "text/plain": [
              "<Figure size 720x504 with 1 Axes>"
            ],
            "image/png": "[encoded data removed]"
          },
          "metadata": {
            "needs_background": "light"
          }
        }
      ]
    },
    {
      "cell_type": "code",
      "source": [
        "# Let's have a look at how to build a neural network for our data\n",
        "\n",
        "# 1. Create a model\n",
        "model = tf.keras.Sequential([\n",
        "    tf.keras.layers.Dense(1)\n",
        "])\n",
        "\n",
        "# 2. Compile the model\n",
        "model.compile(loss=tf.keras.losses.mae,\n",
        "              optimizer=tf.keras.optimizers.SGD(),\n",
        "              metrics=['mae'])\n",
        "\n",
        "# 3. Fit the model\n",
        "# model.fit(X_train, y_train, epoch=100)\n",
        "\n"
      ],
      "metadata": {
        "id": "GAkavUzKBDwL"
      },
      "execution_count": 23,
      "outputs": []
    },
    {
      "cell_type": "markdown",
      "source": [
        "### Visualizing the model"
      ],
      "metadata": {
        "id": "g0YBof-iC9WK"
      }
    },
    {
      "cell_type": "code",
      "source": [
        "model.summary()"
      ],
      "metadata": {
        "id": "ffUYyxBFDZ5V",
        "outputId": "7818ce61-6f2d-4b31-f800-973d64c89450",
        "colab": {
          "base_uri": "https://localhost:8080/",
          "height": 287
        }
      },
      "execution_count": 24,
      "outputs": [
        {
          "output_type": "error",
          "ename": "ValueError",
          "evalue": "ignored",
          "traceback": [
            "\u001b[0;31m---------------------------------------------------------------------------\u001b[0m",
            "\u001b[0;31mValueError\u001b[0m                                Traceback (most recent call last)",
            "\u001b[0;32m<ipython-input-24-5f15418b3570>\u001b[0m in \u001b[0;36m<module>\u001b[0;34m\u001b[0m\n\u001b[0;32m----> 1\u001b[0;31m \u001b[0mmodel\u001b[0m\u001b[0;34m.\u001b[0m\u001b[0msummary\u001b[0m\u001b[0;34m(\u001b[0m\u001b[0;34m)\u001b[0m\u001b[0;34m\u001b[0m\u001b[0;34m\u001b[0m\u001b[0m\n\u001b[0m",
            "\u001b[0;32m/usr/local/lib/python3.9/dist-packages/keras/engine/training.py\u001b[0m in \u001b[0;36msummary\u001b[0;34m(self, line_length, positions, print_fn, expand_nested, show_trainable, layer_range)\u001b[0m\n\u001b[1;32m   3290\u001b[0m         \"\"\"\n\u001b[1;32m   3291\u001b[0m         \u001b[0;32mif\u001b[0m \u001b[0;32mnot\u001b[0m \u001b[0mself\u001b[0m\u001b[0;34m.\u001b[0m\u001b[0mbuilt\u001b[0m\u001b[0;34m:\u001b[0m\u001b[0;34m\u001b[0m\u001b[0;34m\u001b[0m\u001b[0m\n\u001b[0;32m-> 3292\u001b[0;31m             raise ValueError(\n\u001b[0m\u001b[1;32m   3293\u001b[0m                 \u001b[0;34m\"This model has not yet been built. \"\u001b[0m\u001b[0;34m\u001b[0m\u001b[0;34m\u001b[0m\u001b[0m\n\u001b[1;32m   3294\u001b[0m                 \u001b[0;34m\"Build the model first by calling `build()` or by calling \"\u001b[0m\u001b[0;34m\u001b[0m\u001b[0;34m\u001b[0m\u001b[0m\n",
            "\u001b[0;31mValueError\u001b[0m: This model has not yet been built. Build the model first by calling `build()` or by calling the model on a batch of data."
          ]
        }
      ]
    },
    {
      "cell_type": "code",
      "source": [
        "# Let's create a model which builds automatically by defining the input_shape argument in the first layer\n",
        "tf.random.set_seed(42)\n",
        "\n",
        "# 1. Create a model (same as above)\n",
        "model = tf.keras.Sequential([\n",
        "    tf.keras.layers.Dense(10, input_shape=[1], name='input_layer'),\n",
        "    tf.keras.layers.Dense(1, name='output_layer')\n",
        "], name=\"model_1\")\n",
        "\n",
        "# 2. Compile the model\n",
        "model.compile(loss=tf.keras.losses.mae,\n",
        "              optimizer=tf.keras.optimizers.Adam(learning_rate=0.01),\n",
        "              metrics=['mae'])"
      ],
      "metadata": {
        "id": "zam_4fIbDcYf"
      },
      "execution_count": 25,
      "outputs": []
    },
    {
      "cell_type": "code",
      "source": [
        "model.summary()"
      ],
      "metadata": {
        "id": "jKbmhRsLDwUz",
        "outputId": "93065234-7a75-4a11-a52e-531be30e9ee5",
        "colab": {
          "base_uri": "https://localhost:8080/"
        }
      },
      "execution_count": 26,
      "outputs": [
        {
          "output_type": "stream",
          "name": "stdout",
          "text": [
            "Model: \"model_1\"\n",
            "_________________________________________________________________\n",
            " Layer (type)                Output Shape              Param #   \n",
            "=================================================================\n",
            " input_layer (Dense)         (None, 10)                20        \n",
            "                                                                 \n",
            " output_layer (Dense)        (None, 1)                 11        \n",
            "                                                                 \n",
            "=================================================================\n",
            "Total params: 31\n",
            "Trainable params: 31\n",
            "Non-trainable params: 0\n",
            "_________________________________________________________________\n"
          ]
        }
      ]
    },
    {
      "cell_type": "markdown",
      "source": [
        "* Total params - total number of parameters in the model.\n",
        "* Trainable parameters - these are the parameters (patterns) the model can update as it trains.\n",
        "* Non-trainable params - these parameters aren't updated during training (this is typical when you bring in already learn patterns or parameters from other models during ***transfer learning***)."
      ],
      "metadata": {
        "id": "y8IoXD1eFn61"
      }
    },
    {
      "cell_type": "code",
      "source": [
        "# Let's fit our model\n",
        "# 3. Fit the model\n",
        "model.fit(X_train, y_train, epochs=500, verbose=0)"
      ],
      "metadata": {
        "id": "2tm0LaQ8FUsu",
        "outputId": "b531e2a0-1a16-4365-970f-423717d6db9a",
        "colab": {
          "base_uri": "https://localhost:8080/"
        }
      },
      "execution_count": 27,
      "outputs": [
        {
          "output_type": "execute_result",
          "data": {
            "text/plain": [
              "<keras.callbacks.History at 0x7f9d43e1b880>"
            ]
          },
          "metadata": {},
          "execution_count": 27
        }
      ]
    },
    {
      "cell_type": "code",
      "source": [
        "# Get a summary of outr model\n",
        "model.summary()"
      ],
      "metadata": {
        "id": "P7XFhz6HIppm",
        "colab": {
          "base_uri": "https://localhost:8080/"
        },
        "outputId": "7c17132c-be11-4aad-8375-89ed78abc1c0"
      },
      "execution_count": 28,
      "outputs": [
        {
          "output_type": "stream",
          "name": "stdout",
          "text": [
            "Model: \"model_1\"\n",
            "_________________________________________________________________\n",
            " Layer (type)                Output Shape              Param #   \n",
            "=================================================================\n",
            " input_layer (Dense)         (None, 10)                20        \n",
            "                                                                 \n",
            " output_layer (Dense)        (None, 1)                 11        \n",
            "                                                                 \n",
            "=================================================================\n",
            "Total params: 31\n",
            "Trainable params: 31\n",
            "Non-trainable params: 0\n",
            "_________________________________________________________________\n"
          ]
        }
      ]
    },
    {
      "cell_type": "code",
      "source": [
        "from tensorflow.keras.utils import plot_model\n",
        "\n",
        "plot_model(model, show_shapes=True)"
      ],
      "metadata": {
        "colab": {
          "base_uri": "https://localhost:8080/",
          "height": 312
        },
        "id": "ftLdRKbxtfYC",
        "outputId": "b5ce496d-860e-407a-8704-9723ba99d711"
      },
      "execution_count": 29,
      "outputs": [
        {
          "output_type": "execute_result",
          "data": {
            "image/png": "[encoded data removed]",
            "text/plain": [
              "<IPython.core.display.Image object>"
            ]
          },
          "metadata": {},
          "execution_count": 29
        }
      ]
    },
    {
      "cell_type": "markdown",
      "source": [
        "### Visualizing our model's predictions\n",
        "\n",
        "To visualize predictions, it's a good idea to plot them against the ground truth labels.\n",
        "\n",
        "Often you'll see this in the form of `y_test` or `y_true` versus `y_pred` (ground truth versus your model)"
      ],
      "metadata": {
        "id": "X5K1288exHh8"
      }
    },
    {
      "cell_type": "code",
      "source": [
        "# Make some predictions\n",
        "y_pred = model.predict(X_test)\n",
        "y_pred"
      ],
      "metadata": {
        "colab": {
          "base_uri": "https://localhost:8080/"
        },
        "id": "zIvJIxY0zPeI",
        "outputId": "03c58843-bbb7-484d-b492-a86a95a9668e"
      },
      "execution_count": 30,
      "outputs": [
        {
          "output_type": "stream",
          "name": "stdout",
          "text": [
            "1/1 [==============================] - 0s 59ms/step\n"
          ]
        },
        {
          "output_type": "execute_result",
          "data": {
            "text/plain": [
              "array([[ 69.287575],\n",
              "       [ 73.24082 ],\n",
              "       [ 77.19408 ],\n",
              "       [ 81.14732 ],\n",
              "       [ 85.10057 ],\n",
              "       [ 89.053825],\n",
              "       [ 93.00707 ],\n",
              "       [ 96.96033 ],\n",
              "       [100.91357 ],\n",
              "       [104.86682 ]], dtype=float32)"
            ]
          },
          "metadata": {},
          "execution_count": 30
        }
      ]
    },
    {
      "cell_type": "code",
      "source": [
        "y_test"
      ],
      "metadata": {
        "colab": {
          "base_uri": "https://localhost:8080/"
        },
        "id": "pksI_Eiz0PUa",
        "outputId": "37cdc183-dbe1-40ed-a8f4-62cc93ec81de"
      },
      "execution_count": 31,
      "outputs": [
        {
          "output_type": "execute_result",
          "data": {
            "text/plain": [
              "<tf.Tensor: shape=(10,), dtype=int32, numpy=array([ 70,  74,  78,  82,  86,  90,  94,  98, 102, 106], dtype=int32)>"
            ]
          },
          "metadata": {},
          "execution_count": 31
        }
      ]
    },
    {
      "cell_type": "code",
      "source": [
        "# let's create a plotting function\n",
        "def plot_predictions(train_data=X_train,\n",
        "                     train_labels=y_train,\n",
        "                     test_data=X_test,\n",
        "                     test_labels=y_test,\n",
        "                     predictions=y_pred):\n",
        "  \"\"\"\n",
        "  Plots training data, tests and compares predictions to ground truht labels.\n",
        "  \"\"\"\n",
        "  plt.figure(figsize=(10, 7))\n",
        "  # Plot training data in blue\n",
        "  plt.scatter(train_data, train_labels, c='b', label=\"Training data\")\n",
        "  # Plot testing data in green\n",
        "  plt.scatter(test_data, test_labels, c='g', label='Testing data')\n",
        "  # Plot model's predictions in red\n",
        "  plt.scatter(test_data, predictions, c='r', label='Predictions')\n",
        "  # Show the legend\n",
        "  plt.legend();"
      ],
      "metadata": {
        "id": "JDbG2lDE0aLK"
      },
      "execution_count": 32,
      "outputs": []
    },
    {
      "cell_type": "code",
      "source": [
        "plot_predictions(train_data=X_train,\n",
        "                 train_labels=y_train,\n",
        "                 test_data=X_test,\n",
        "                 test_labels=y_test,\n",
        "                 predictions=y_pred)"
      ],
      "metadata": {
        "colab": {
          "base_uri": "https://localhost:8080/",
          "height": 428
        },
        "id": "IR_oVJUu0fyO",
        "outputId": "ce8b8ddf-6d95-4615-dd5f-240eb1335865"
      },
      "execution_count": 33,
      "outputs": [
        {
          "output_type": "display_data",
          "data": {
            "text/plain": [
              "<Figure size 720x504 with 1 Axes>"
            ],
            "image/png": "[encoded data removed]"
          },
          "metadata": {
            "needs_background": "light"
          }
        }
      ]
    },
    {
      "cell_type": "markdown",
      "source": [
        "### Evaluating our model's predictions with regression evaluation metrics\n",
        "\n",
        "Depending on the problem you're working on, there will be different evaluation metrics to evaluate your model's prformance.\n",
        "\n",
        "Since we're working on regression, two of the main metrics:\n",
        "* MAE - mean absolute error, \"on average, how wrong is each of model's predictions\"\n",
        "* MSE - mean square error, \"square the average errors\""
      ],
      "metadata": {
        "id": "N25wwGfi2FEx"
      }
    },
    {
      "cell_type": "code",
      "source": [
        "# Evaluate the model on the test\n",
        "model.evaluate(X_test, y_test)"
      ],
      "metadata": {
        "id": "T0vgDEAn_P4Y",
        "colab": {
          "base_uri": "https://localhost:8080/"
        },
        "outputId": "ad67eaa5-f553-4504-8aa9-0d87e10d34d6"
      },
      "execution_count": 34,
      "outputs": [
        {
          "output_type": "stream",
          "name": "stdout",
          "text": [
            "1/1 [==============================] - 0s 255ms/step - loss: 0.9228 - mae: 0.9228\n"
          ]
        },
        {
          "output_type": "execute_result",
          "data": {
            "text/plain": [
              "[0.9228042364120483, 0.9228042364120483]"
            ]
          },
          "metadata": {},
          "execution_count": 34
        }
      ]
    },
    {
      "cell_type": "code",
      "source": [
        "# Calculate the mean absolute error\n",
        "y_pred = tf.constant(y_pred)\n",
        "mae = tf.metrics.mean_absolute_error(y_true=y_test, y_pred=tf.squeeze(y_pred))\n",
        "mae"
      ],
      "metadata": {
        "colab": {
          "base_uri": "https://localhost:8080/"
        },
        "id": "xlz45oNsNkyd",
        "outputId": "d0895110-0449-4410-9496-fe0893e0ee66"
      },
      "execution_count": 35,
      "outputs": [
        {
          "output_type": "execute_result",
          "data": {
            "text/plain": [
              "<tf.Tensor: shape=(), dtype=float32, numpy=0.922802>"
            ]
          },
          "metadata": {},
          "execution_count": 35
        }
      ]
    },
    {
      "cell_type": "code",
      "source": [
        "# Calculate the mean square error\n",
        "mse = tf.metrics.mean_squared_error(y_true=y_test,\n",
        "                                    y_pred=tf.squeeze(y_pred))\n",
        "mse"
      ],
      "metadata": {
        "colab": {
          "base_uri": "https://localhost:8080/"
        },
        "id": "HtZrryC4PMjd",
        "outputId": "01bc8f23-71a7-4b11-dee2-4a092d90a2a2"
      },
      "execution_count": 45,
      "outputs": [
        {
          "output_type": "execute_result",
          "data": {
            "text/plain": [
              "<tf.Tensor: shape=(), dtype=float32, numpy=0.8695947>"
            ]
          },
          "metadata": {},
          "execution_count": 45
        }
      ]
    },
    {
      "cell_type": "code",
      "source": [
        "# Make some functions to reuse MAE and MSE\n",
        "def mae(y_true, y_pred):\n",
        "  return tf.metrics.mean_absolute_error(y_true=y_true,\n",
        "                                       y_pred=tf.squeeze(y_pred))\n",
        "  \n",
        "def mse(y_true, y_pred):\n",
        "  return tf.metrics.mean_squared_error(y_true=y_true,\n",
        "                                       y_pred=tf.squeeze(y_pred))"
      ],
      "metadata": {
        "id": "b0PO8wMiRPK7"
      },
      "execution_count": 50,
      "outputs": []
    },
    {
      "cell_type": "markdown",
      "source": [
        "### Running experiments to improve our model\n",
        "\n",
        "\n",
        "```\n",
        "Build model -> fir it -> evaluate it -> tweak it -> fit it -> evaluate it -> tweak it -> fit it -> evaluate it ...\n",
        "```\n",
        "\n",
        "1. Get more data - get more examples for your model to train on (more opportunities to learn patterns or relationships between features and labels).\n",
        "2. Make your model larger (using a more complex model) - this might come in the form of more layers or more hidden units in each layer.\n",
        "3. Train for longer - give your model more of chance to find patterns in the data.\n",
        "\n",
        "Let's do 3 modelling experiments:\n",
        "1. `model_1` - same as the original model, 1 layer, trained for 100 epochs.\n",
        "2. `model_2` - 2 layers, trained for 100 epochs.\n",
        "3. `model_3` - 2 layers, trained for 500 epochs"
      ],
      "metadata": {
        "id": "Xu7XGGelUYM_"
      }
    },
    {
      "cell_type": "code",
      "source": [
        "X_train, y_train"
      ],
      "metadata": {
        "colab": {
          "base_uri": "https://localhost:8080/"
        },
        "id": "s34_fO_6HH3O",
        "outputId": "eff2537f-9743-4a2d-fed8-222bddc07e18"
      },
      "execution_count": 40,
      "outputs": [
        {
          "output_type": "execute_result",
          "data": {
            "text/plain": [
              "(<tf.Tensor: shape=(40,), dtype=int32, numpy=\n",
              " array([-100,  -96,  -92,  -88,  -84,  -80,  -76,  -72,  -68,  -64,  -60,\n",
              "         -56,  -52,  -48,  -44,  -40,  -36,  -32,  -28,  -24,  -20,  -16,\n",
              "         -12,   -8,   -4,    0,    4,    8,   12,   16,   20,   24,   28,\n",
              "          32,   36,   40,   44,   48,   52,   56], dtype=int32)>,\n",
              " <tf.Tensor: shape=(40,), dtype=int32, numpy=\n",
              " array([-90, -86, -82, -78, -74, -70, -66, -62, -58, -54, -50, -46, -42,\n",
              "        -38, -34, -30, -26, -22, -18, -14, -10,  -6,  -2,   2,   6,  10,\n",
              "         14,  18,  22,  26,  30,  34,  38,  42,  46,  50,  54,  58,  62,\n",
              "         66], dtype=int32)>)"
            ]
          },
          "metadata": {},
          "execution_count": 40
        }
      ]
    },
    {
      "cell_type": "markdown",
      "source": [
        "**Build**  `model_1`"
      ],
      "metadata": {
        "id": "9Vs4ZoPDFkiO"
      }
    },
    {
      "cell_type": "code",
      "source": [
        "# Set random seed\n",
        "tf.random.set_seed(42)\n",
        "\n",
        "# 1. Create the model\n",
        "model_1 = tf.keras.Sequential([\n",
        "    tf.keras.layers.Dense(1)\n",
        "])\n",
        "\n",
        "# 2. Compile model\n",
        "model_1.compile(loss=tf.keras.losses.mae,\n",
        "                optimizer=tf.keras.optimizers.SGD(),\n",
        "                metrics=[\"mae\"])\n",
        "\n",
        "# 3. Fit the model\n",
        "model_1.fit(tf.expand_dims(X_train, axis=-1), y_train, epochs=100, verbose=0)"
      ],
      "metadata": {
        "id": "dWhaMCt5VQLP",
        "outputId": "3907b88a-af86-43de-d901-0a3d5358257b",
        "colab": {
          "base_uri": "https://localhost:8080/"
        }
      },
      "execution_count": 59,
      "outputs": [
        {
          "output_type": "execute_result",
          "data": {
            "text/plain": [
              "<keras.callbacks.History at 0x7f9d41512df0>"
            ]
          },
          "metadata": {},
          "execution_count": 59
        }
      ]
    },
    {
      "cell_type": "code",
      "source": [
        "# Make and plot predictions for model_1\n",
        "y_preds_1 = model_1.predict(X_test)\n",
        "plot_predictions(predictions=y_preds_1)"
      ],
      "metadata": {
        "id": "Sewa6eW6Wyl8",
        "colab": {
          "base_uri": "https://localhost:8080/",
          "height": 445
        },
        "outputId": "6e13a36e-daeb-4698-df40-e3712602cb66"
      },
      "execution_count": 60,
      "outputs": [
        {
          "output_type": "stream",
          "name": "stdout",
          "text": [
            "1/1 [==============================] - 0s 55ms/step\n"
          ]
        },
        {
          "output_type": "display_data",
          "data": {
            "text/plain": [
              "<Figure size 720x504 with 1 Axes>"
            ],
            "image/png": "[encoded data removed]"
          },
          "metadata": {
            "needs_background": "light"
          }
        }
      ]
    },
    {
      "cell_type": "code",
      "source": [
        "# Calculate model_1 evaluation metrics\n",
        "mae_1 = mae(y_test, y_preds_1)\n",
        "mse_1 = mse(y_test, y_preds_1)\n",
        "mae_1, mse_1"
      ],
      "metadata": {
        "colab": {
          "base_uri": "https://localhost:8080/"
        },
        "id": "euUVzVybH7zi",
        "outputId": "ca4e9bf4-921f-4a16-bcad-85924af77e8a"
      },
      "execution_count": 61,
      "outputs": [
        {
          "output_type": "execute_result",
          "data": {
            "text/plain": [
              "(<tf.Tensor: shape=(), dtype=float32, numpy=30.610525>,\n",
              " <tf.Tensor: shape=(), dtype=float32, numpy=947.4171>)"
            ]
          },
          "metadata": {},
          "execution_count": 61
        }
      ]
    },
    {
      "cell_type": "markdown",
      "source": [
        "**Build** `model_2`\n",
        "\n",
        "* 2 dense layers, trained for 100 epochs"
      ],
      "metadata": {
        "id": "52Z0cIe-Jjhg"
      }
    },
    {
      "cell_type": "code",
      "source": [
        "# Set random seed\n",
        "tf.random.set_seed(42)\n",
        "\n",
        "# 1. Creating model_2\n",
        "model_2 = tf.keras.Sequential([\n",
        "    tf.keras.layers.Dense(10),\n",
        "    tf.keras.layers.Dense(1)\n",
        "])\n",
        "\n",
        "# 2. Compile model_2\n",
        "model_2.compile(loss=tf.keras.losses.mae,\n",
        "                optimizer=tf.keras.optimizers.SGD(),\n",
        "                metrics=[\"mae\"])\n",
        "\n",
        "# 3. Fit the model_2\n",
        "model_2.fit(tf.expand_dims(X_train, axis=-1), y_train, epochs=100, verbose=0)"
      ],
      "metadata": {
        "colab": {
          "base_uri": "https://localhost:8080/"
        },
        "id": "QRrVFNioKmNn",
        "outputId": "e6afdc48-a800-437d-ed3b-c8b724e781bb"
      },
      "execution_count": 83,
      "outputs": [
        {
          "output_type": "execute_result",
          "data": {
            "text/plain": [
              "<keras.callbacks.History at 0x7f9d42860af0>"
            ]
          },
          "metadata": {},
          "execution_count": 83
        }
      ]
    },
    {
      "cell_type": "code",
      "source": [
        "# Make and plot predictions for model_2\n",
        "y_preds_2 = model_2.predict(X_test)\n",
        "plot_predictions(predictions=y_preds_2);"
      ],
      "metadata": {
        "colab": {
          "base_uri": "https://localhost:8080/",
          "height": 445
        },
        "id": "hx0e4uzPLh47",
        "outputId": "9dc95bb2-2539-4315-f72d-7b530e029995"
      },
      "execution_count": 84,
      "outputs": [
        {
          "output_type": "stream",
          "name": "stdout",
          "text": [
            "1/1 [==============================] - 0s 56ms/step\n"
          ]
        },
        {
          "output_type": "display_data",
          "data": {
            "text/plain": [
              "<Figure size 720x504 with 1 Axes>"
            ],
            "image/png": "[encoded data removed]"
          },
          "metadata": {
            "needs_background": "light"
          }
        }
      ]
    },
    {
      "cell_type": "code",
      "source": [
        "# Calculate model_2 evaluation metrics\n",
        "mae_2 = mae(y_test, y_preds_2)\n",
        "mse_2 = mse(y_test, y_preds_2)\n",
        "mae_2, mse_2"
      ],
      "metadata": {
        "colab": {
          "base_uri": "https://localhost:8080/"
        },
        "id": "864yfzl9Lwvg",
        "outputId": "27aae901-5f62-443f-e802-e32350d310ea"
      },
      "execution_count": 85,
      "outputs": [
        {
          "output_type": "execute_result",
          "data": {
            "text/plain": [
              "(<tf.Tensor: shape=(), dtype=float32, numpy=3.2084076>,\n",
              " <tf.Tensor: shape=(), dtype=float32, numpy=13.143015>)"
            ]
          },
          "metadata": {},
          "execution_count": 85
        }
      ]
    },
    {
      "cell_type": "markdown",
      "source": [
        "**Build** `model_3`\n",
        "\n",
        "* 2 layers, trained for 500 epochs"
      ],
      "metadata": {
        "id": "6jzNxBj7L5Aj"
      }
    },
    {
      "cell_type": "code",
      "source": [
        "# Set random seed\n",
        "tf.random.set_seed(42)\n",
        "\n",
        "# 1. Creating model_3\n",
        "model_3 = tf.keras.Sequential([\n",
        "    tf.keras.layers.Dense(10),\n",
        "    tf.keras.layers.Dense(1)\n",
        "])\n",
        "\n",
        "# 2. Compile model_3\n",
        "model_3.compile(loss=tf.keras.losses.mae,\n",
        "                optimizer=tf.keras.optimizers.SGD(),\n",
        "                metrics=[\"mae\"])\n",
        "\n",
        "# 3. Fit the model_3\n",
        "model_3.fit(tf.expand_dims(X_train, axis=-1), y_train, epochs=500, verbose=0)"
      ],
      "metadata": {
        "id": "2hkX1HGoOklu",
        "outputId": "692bbf6d-c3a1-458b-af92-eff24a653ddd",
        "colab": {
          "base_uri": "https://localhost:8080/"
        }
      },
      "execution_count": 93,
      "outputs": [
        {
          "output_type": "execute_result",
          "data": {
            "text/plain": [
              "<keras.callbacks.History at 0x7f9d4151b6a0>"
            ]
          },
          "metadata": {},
          "execution_count": 93
        }
      ]
    },
    {
      "cell_type": "code",
      "source": [
        "# Make and plot predictions for model_3\n",
        "y_preds_3 = model_3.predict(X_test)\n",
        "plot_predictions(predictions=y_preds_3);"
      ],
      "metadata": {
        "id": "8JAVtB7eOs7Z",
        "outputId": "3768ae59-3841-4bd3-e22d-a36108b79f4d",
        "colab": {
          "base_uri": "https://localhost:8080/",
          "height": 445
        }
      },
      "execution_count": 94,
      "outputs": [
        {
          "output_type": "stream",
          "name": "stdout",
          "text": [
            "1/1 [==============================] - 0s 61ms/step\n"
          ]
        },
        {
          "output_type": "display_data",
          "data": {
            "text/plain": [
              "<Figure size 720x504 with 1 Axes>"
            ],
            "image/png": "[encoded data removed]"
          },
          "metadata": {
            "needs_background": "light"
          }
        }
      ]
    },
    {
      "cell_type": "code",
      "source": [
        "# Calculate model_2 evaluation metrics\n",
        "mae_3 = mae(y_test, y_preds_3)\n",
        "mse_3 = mse(y_test, y_preds_3)\n",
        "mae_3, mse_3"
      ],
      "metadata": {
        "id": "S56A5uQMOzwQ",
        "outputId": "01774001-84a6-4c07-facc-db771cc22ea7",
        "colab": {
          "base_uri": "https://localhost:8080/"
        }
      },
      "execution_count": 92,
      "outputs": [
        {
          "output_type": "execute_result",
          "data": {
            "text/plain": [
              "(<tf.Tensor: shape=(), dtype=float32, numpy=67.347115>,\n",
              " <tf.Tensor: shape=(), dtype=float32, numpy=4618.4854>)"
            ]
          },
          "metadata": {},
          "execution_count": 92
        }
      ]
    },
    {
      "cell_type": "code",
      "source": [],
      "metadata": {
        "id": "1VWj5_sRO9B4"
      },
      "execution_count": null,
      "outputs": []
    }
  ]
}