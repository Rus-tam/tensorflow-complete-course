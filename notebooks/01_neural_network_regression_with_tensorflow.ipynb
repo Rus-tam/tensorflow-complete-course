{
  "nbformat": 4,
  "nbformat_minor": 0,
  "metadata": {
    "colab": {
      "provenance": [],
      "authorship_tag": "ABX9TyMFhmVb8ygwDvJUuRP5uJfT"
    },
    "kernelspec": {
      "name": "python3",
      "display_name": "Python 3"
    },
    "language_info": {
      "name": "python"
    }
  },
  "cells": [
    {
      "cell_type": "markdown",
      "source": [
        "## Introduction to Regression with Neural Networks in TensorFlow\n",
        "Thera ara many definitions for a regression problem but in our case, we're going to simplify it: predicting a numerical variable based on some other combination of variables, even shorter... predicting a number"
      ],
      "metadata": {
        "id": "L4t4gG39p2Mc"
      }
    },
    {
      "cell_type": "code",
      "source": [
        "# Import TensorFlow\n",
        "import tensorflow as tf\n",
        "print(tf.__version__)"
      ],
      "metadata": {
        "colab": {
          "base_uri": "https://localhost:8080/"
        },
        "id": "YICHdZj-p_0n",
        "outputId": "3d61c2fc-1328-4442-a588-5609ccff1f94"
      },
      "execution_count": 1,
      "outputs": [
        {
          "output_type": "stream",
          "name": "stdout",
          "text": [
            "2.11.0\n"
          ]
        }
      ]
    },
    {
      "cell_type": "markdown",
      "source": [
        "## Creating data to view and fit"
      ],
      "metadata": {
        "id": "xnH8iUg1sGnS"
      }
    },
    {
      "cell_type": "code",
      "source": [
        "import numpy as np\n",
        "import matplotlib.pyplot as plt\n",
        "\n",
        "# Create features\n",
        "X = np.array([-7.0, -4.0, -1.0, 2.0, 5.0, 8.0, 11.0, 14.0])\n",
        "\n",
        "# Create labels\n",
        "y = np.array([3.0, 6.0, 9.0, 12.0, 15.0, 18.0, 21.0, 24.0])\n",
        "\n",
        "# Visualize it\n",
        "plt.scatter(X, y);"
      ],
      "metadata": {
        "colab": {
          "base_uri": "https://localhost:8080/",
          "height": 269
        },
        "id": "69KS6J7wsYeG",
        "outputId": "9f24ed93-fbd5-4a28-9748-c6c2d692478e"
      },
      "execution_count": 2,
      "outputs": [
        {
          "output_type": "display_data",
          "data": {
            "text/plain": [
              "<Figure size 432x288 with 1 Axes>"
            ],
            "image/png": "[encoded data removed]"
          },
          "metadata": {
            "needs_background": "light"
          }
        }
      ]
    },
    {
      "cell_type": "code",
      "source": [
        "y == X + 10"
      ],
      "metadata": {
        "id": "B3c5IxaCs5Xu",
        "colab": {
          "base_uri": "https://localhost:8080/"
        },
        "outputId": "522466ee-dad0-4c3c-d217-eb7b98ab66ae"
      },
      "execution_count": 3,
      "outputs": [
        {
          "output_type": "execute_result",
          "data": {
            "text/plain": [
              "array([ True,  True,  True,  True,  True,  True,  True,  True])"
            ]
          },
          "metadata": {},
          "execution_count": 3
        }
      ]
    },
    {
      "cell_type": "markdown",
      "source": [
        "## Input and output shapes"
      ],
      "metadata": {
        "id": "eAYsJjucuLbv"
      }
    },
    {
      "cell_type": "code",
      "source": [
        "# Create a demo tensor for our housing price prediction problem\n",
        "house_info = tf.constant(['bedroom', 'bathroom', 'garage'])\n",
        "house_price = tf.constant([939700])\n",
        "house_info, house_price"
      ],
      "metadata": {
        "colab": {
          "base_uri": "https://localhost:8080/"
        },
        "id": "WDtOSnZ6uOJh",
        "outputId": "cb69c058-43f2-489a-fca9-88bf722313d7"
      },
      "execution_count": 4,
      "outputs": [
        {
          "output_type": "execute_result",
          "data": {
            "text/plain": [
              "(<tf.Tensor: shape=(3,), dtype=string, numpy=array([b'bedroom', b'bathroom', b'garage'], dtype=object)>,\n",
              " <tf.Tensor: shape=(1,), dtype=int32, numpy=array([939700], dtype=int32)>)"
            ]
          },
          "metadata": {},
          "execution_count": 4
        }
      ]
    },
    {
      "cell_type": "code",
      "source": [
        "input_shape = X[0].shape\n",
        "output_shape = y[0].shape\n",
        "input_shape, output_shape"
      ],
      "metadata": {
        "colab": {
          "base_uri": "https://localhost:8080/"
        },
        "id": "URJZdzV6uwTS",
        "outputId": "efe8f225-0c3d-4a2c-f3b4-2f59f7a4940f"
      },
      "execution_count": 5,
      "outputs": [
        {
          "output_type": "execute_result",
          "data": {
            "text/plain": [
              "((), ())"
            ]
          },
          "metadata": {},
          "execution_count": 5
        }
      ]
    },
    {
      "cell_type": "code",
      "source": [
        "# Turn our NumPy arrays into tensors\n",
        "X = tf.constant(X)\n",
        "y = tf.constant(y)\n",
        "X, y"
      ],
      "metadata": {
        "colab": {
          "base_uri": "https://localhost:8080/"
        },
        "id": "bwv4EGH-u_QA",
        "outputId": "8d16cf08-727f-4c23-c0ac-c259aee70661"
      },
      "execution_count": 6,
      "outputs": [
        {
          "output_type": "execute_result",
          "data": {
            "text/plain": [
              "(<tf.Tensor: shape=(8,), dtype=float64, numpy=array([-7., -4., -1.,  2.,  5.,  8., 11., 14.])>,\n",
              " <tf.Tensor: shape=(8,), dtype=float64, numpy=array([ 3.,  6.,  9., 12., 15., 18., 21., 24.])>)"
            ]
          },
          "metadata": {},
          "execution_count": 6
        }
      ]
    },
    {
      "cell_type": "code",
      "source": [
        "input_shape = X[0].shape\n",
        "output_shape = y[0].shape\n",
        "input_shape, output_shape"
      ],
      "metadata": {
        "colab": {
          "base_uri": "https://localhost:8080/"
        },
        "id": "vmZZgAuXwoXt",
        "outputId": "ab29cf47-16cc-431d-ad29-acd47766544b"
      },
      "execution_count": 7,
      "outputs": [
        {
          "output_type": "execute_result",
          "data": {
            "text/plain": [
              "(TensorShape([]), TensorShape([]))"
            ]
          },
          "metadata": {},
          "execution_count": 7
        }
      ]
    },
    {
      "cell_type": "markdown",
      "source": [
        "## Steps in modelling with TensorFlow\n",
        "\n",
        "1. **Creating a model** - define the input and output layers, as well the hidden layers of a deep learning model\n",
        "2. **Compiling a model** - define the loss function (in order words, the function which tells our model how wrong it is) and the optimizer (tells our model how to improve the patterns its learning) and evaluation metrics (what we can use to interpret the performance of our model).\n",
        "3. **Fitting a model** - letting the model try to find patterns between X & y (features and labels)."
      ],
      "metadata": {
        "id": "-SpOWiv7wwsQ"
      }
    },
    {
      "cell_type": "code",
      "source": [
        "# Set random seed\n",
        "tf.random.set_seed(42)\n",
        "\n",
        "# 1. Create a model using the Sequential API\n",
        "model = tf.keras.Sequential([\n",
        "    tf.keras.layers.Dense(1)\n",
        "])\n",
        "\n",
        "# 2. Compile the model\n",
        "model.compile(loss=tf.keras.losses.mae,\n",
        "              optimizer=tf.keras.optimizers.SGD(),\n",
        "              metrics=['mae'])\n",
        "\n",
        "# 3. Fit the model\n",
        "model.fit(tf.expand_dims(X, axis=-1), y, epochs=5)"
      ],
      "metadata": {
        "colab": {
          "base_uri": "https://localhost:8080/"
        },
        "id": "Sf3uFIsWyJwP",
        "outputId": "e8f2828d-72c9-4aee-b07b-dc5c89239186"
      },
      "execution_count": 8,
      "outputs": [
        {
          "output_type": "stream",
          "name": "stdout",
          "text": [
            "Epoch 1/5\n",
            "1/1 [==============================] - 1s 1s/step - loss: 10.6622 - mae: 10.6622\n",
            "Epoch 2/5\n",
            "1/1 [==============================] - 0s 19ms/step - loss: 10.5297 - mae: 10.5297\n",
            "Epoch 3/5\n",
            "1/1 [==============================] - 0s 13ms/step - loss: 10.3972 - mae: 10.3972\n",
            "Epoch 4/5\n",
            "1/1 [==============================] - 0s 18ms/step - loss: 10.2647 - mae: 10.2647\n",
            "Epoch 5/5\n",
            "1/1 [==============================] - 0s 27ms/step - loss: 10.1322 - mae: 10.1322\n"
          ]
        },
        {
          "output_type": "execute_result",
          "data": {
            "text/plain": [
              "<keras.callbacks.History at 0x7fdd2442c6a0>"
            ]
          },
          "metadata": {},
          "execution_count": 8
        }
      ]
    },
    {
      "cell_type": "code",
      "source": [
        "# Check out X and y\n",
        "X, y"
      ],
      "metadata": {
        "colab": {
          "base_uri": "https://localhost:8080/"
        },
        "id": "j7-I4FtPyYhQ",
        "outputId": "56c5e560-fefc-4ace-e7d8-d08ba408c9f1"
      },
      "execution_count": 9,
      "outputs": [
        {
          "output_type": "execute_result",
          "data": {
            "text/plain": [
              "(<tf.Tensor: shape=(8,), dtype=float64, numpy=array([-7., -4., -1.,  2.,  5.,  8., 11., 14.])>,\n",
              " <tf.Tensor: shape=(8,), dtype=float64, numpy=array([ 3.,  6.,  9., 12., 15., 18., 21., 24.])>)"
            ]
          },
          "metadata": {},
          "execution_count": 9
        }
      ]
    },
    {
      "cell_type": "code",
      "source": [
        "# Try and make a prediction using our model\n",
        "y_pred = model.predict([17.0])\n",
        "y_pred"
      ],
      "metadata": {
        "colab": {
          "base_uri": "https://localhost:8080/"
        },
        "id": "Xq_wGG_p3UlD",
        "outputId": "86a8a5da-bfd3-40b9-f87b-34b576208d83"
      },
      "execution_count": 10,
      "outputs": [
        {
          "output_type": "stream",
          "name": "stdout",
          "text": [
            "1/1 [==============================] - 0s 313ms/step\n"
          ]
        },
        {
          "output_type": "execute_result",
          "data": {
            "text/plain": [
              "array([[16.808685]], dtype=float32)"
            ]
          },
          "metadata": {},
          "execution_count": 10
        }
      ]
    },
    {
      "cell_type": "code",
      "source": [
        "y_pred + 11"
      ],
      "metadata": {
        "colab": {
          "base_uri": "https://localhost:8080/"
        },
        "id": "gCShjcuZ3dz2",
        "outputId": "6c255b40-b2d2-4b17-ed9a-513eee81361d"
      },
      "execution_count": 11,
      "outputs": [
        {
          "output_type": "execute_result",
          "data": {
            "text/plain": [
              "array([[27.808685]], dtype=float32)"
            ]
          },
          "metadata": {},
          "execution_count": 11
        }
      ]
    },
    {
      "cell_type": "markdown",
      "source": [
        "## Improving our model\n",
        "\n",
        "We can improve our model, by altering the steps we took to create a model.\n",
        "\n",
        "1. **Creating a model** - here we might add more layers, increase the number of hidden units( also called neurons) within each of the hidden layers, change the activation function of each layer.\n",
        "2. **Compiling a model** - here we might change the optimization function or perhaps the **learning rate** of the optimization function.\n",
        "3. **Fitting a model** - here we might fit a model for more **epochs** (leave it training for longer) or on more data (give the model more examples to learn from).\n"
      ],
      "metadata": {
        "id": "nBfuyXk24J6c"
      }
    },
    {
      "cell_type": "code",
      "source": [
        "# Let's rebuild our model\n",
        "\n",
        "# 1. Create the model\n",
        "model = tf.keras.Sequential([\n",
        "    tf.keras.layers.Dense(1)\n",
        "])\n",
        "\n",
        "# 2. Compile the model\n",
        "model.compile(loss=tf.keras.losses.mae,\n",
        "              optimizer=tf.keras.optimizers.SGD(),\n",
        "              metrics=[\"mae\"])\n",
        "\n",
        "# 3. Fit the model (this time we'll train for longer)\n",
        "model.fit(tf.expand_dims(X, axis=-1), y, epochs=100)"
      ],
      "metadata": {
        "colab": {
          "base_uri": "https://localhost:8080/"
        },
        "id": "SWizP2-w-L9A",
        "outputId": "364d85fd-d9d6-45e1-a158-83d69285b443"
      },
      "execution_count": 12,
      "outputs": [
        {
          "output_type": "stream",
          "name": "stdout",
          "text": [
            "Epoch 1/100\n",
            "1/1 [==============================] - 1s 1s/step - loss: 17.3710 - mae: 17.3710\n",
            "Epoch 2/100\n",
            "1/1 [==============================] - 0s 18ms/step - loss: 17.0898 - mae: 17.0898\n",
            "Epoch 3/100\n",
            "1/1 [==============================] - 0s 27ms/step - loss: 16.8085 - mae: 16.8085\n",
            "Epoch 4/100\n",
            "1/1 [==============================] - 0s 20ms/step - loss: 16.5273 - mae: 16.5273\n",
            "Epoch 5/100\n",
            "1/1 [==============================] - 0s 20ms/step - loss: 16.2460 - mae: 16.2460\n",
            "Epoch 6/100\n",
            "1/1 [==============================] - 0s 35ms/step - loss: 15.9648 - mae: 15.9648\n",
            "Epoch 7/100\n",
            "1/1 [==============================] - 0s 22ms/step - loss: 15.6835 - mae: 15.6835\n",
            "Epoch 8/100\n",
            "1/1 [==============================] - 0s 20ms/step - loss: 15.4023 - mae: 15.4023\n",
            "Epoch 9/100\n",
            "1/1 [==============================] - 0s 24ms/step - loss: 15.1210 - mae: 15.1210\n",
            "Epoch 10/100\n",
            "1/1 [==============================] - 0s 20ms/step - loss: 14.8594 - mae: 14.8594\n",
            "Epoch 11/100\n",
            "1/1 [==============================] - 0s 17ms/step - loss: 14.7269 - mae: 14.7269\n",
            "Epoch 12/100\n",
            "1/1 [==============================] - 0s 13ms/step - loss: 14.5944 - mae: 14.5944\n",
            "Epoch 13/100\n",
            "1/1 [==============================] - 0s 12ms/step - loss: 14.4619 - mae: 14.4619\n",
            "Epoch 14/100\n",
            "1/1 [==============================] - 0s 53ms/step - loss: 14.3294 - mae: 14.3294\n",
            "Epoch 15/100\n",
            "1/1 [==============================] - 0s 27ms/step - loss: 14.1969 - mae: 14.1969\n",
            "Epoch 16/100\n",
            "1/1 [==============================] - 0s 61ms/step - loss: 14.0644 - mae: 14.0644\n",
            "Epoch 17/100\n",
            "1/1 [==============================] - 0s 40ms/step - loss: 13.9319 - mae: 13.9319\n",
            "Epoch 18/100\n",
            "1/1 [==============================] - 0s 17ms/step - loss: 13.7994 - mae: 13.7994\n",
            "Epoch 19/100\n",
            "1/1 [==============================] - 0s 22ms/step - loss: 13.6669 - mae: 13.6669\n",
            "Epoch 20/100\n",
            "1/1 [==============================] - 0s 24ms/step - loss: 13.5344 - mae: 13.5344\n",
            "Epoch 21/100\n",
            "1/1 [==============================] - 0s 34ms/step - loss: 13.4019 - mae: 13.4019\n",
            "Epoch 22/100\n",
            "1/1 [==============================] - 0s 29ms/step - loss: 13.2694 - mae: 13.2694\n",
            "Epoch 23/100\n",
            "1/1 [==============================] - 0s 32ms/step - loss: 13.1369 - mae: 13.1369\n",
            "Epoch 24/100\n",
            "1/1 [==============================] - 0s 39ms/step - loss: 13.0044 - mae: 13.0044\n",
            "Epoch 25/100\n",
            "1/1 [==============================] - 0s 17ms/step - loss: 12.8719 - mae: 12.8719\n",
            "Epoch 26/100\n",
            "1/1 [==============================] - 0s 20ms/step - loss: 12.7394 - mae: 12.7394\n",
            "Epoch 27/100\n",
            "1/1 [==============================] - 0s 26ms/step - loss: 12.6069 - mae: 12.6069\n",
            "Epoch 28/100\n",
            "1/1 [==============================] - 0s 25ms/step - loss: 12.4744 - mae: 12.4744\n",
            "Epoch 29/100\n",
            "1/1 [==============================] - 0s 26ms/step - loss: 12.3419 - mae: 12.3419\n",
            "Epoch 30/100\n",
            "1/1 [==============================] - 0s 25ms/step - loss: 12.2094 - mae: 12.2094\n",
            "Epoch 31/100\n",
            "1/1 [==============================] - 0s 27ms/step - loss: 12.0769 - mae: 12.0769\n",
            "Epoch 32/100\n",
            "1/1 [==============================] - 0s 30ms/step - loss: 11.9444 - mae: 11.9444\n",
            "Epoch 33/100\n",
            "1/1 [==============================] - 0s 39ms/step - loss: 11.8119 - mae: 11.8119\n",
            "Epoch 34/100\n",
            "1/1 [==============================] - 0s 52ms/step - loss: 11.6794 - mae: 11.6794\n",
            "Epoch 35/100\n",
            "1/1 [==============================] - 0s 16ms/step - loss: 11.5469 - mae: 11.5469\n",
            "Epoch 36/100\n",
            "1/1 [==============================] - 0s 14ms/step - loss: 11.4144 - mae: 11.4144\n",
            "Epoch 37/100\n",
            "1/1 [==============================] - 0s 15ms/step - loss: 11.2819 - mae: 11.2819\n",
            "Epoch 38/100\n",
            "1/1 [==============================] - 0s 23ms/step - loss: 11.1494 - mae: 11.1494\n",
            "Epoch 39/100\n",
            "1/1 [==============================] - 0s 21ms/step - loss: 11.0169 - mae: 11.0169\n",
            "Epoch 40/100\n",
            "1/1 [==============================] - 0s 23ms/step - loss: 10.8844 - mae: 10.8844\n",
            "Epoch 41/100\n",
            "1/1 [==============================] - 0s 32ms/step - loss: 10.7519 - mae: 10.7519\n",
            "Epoch 42/100\n",
            "1/1 [==============================] - 0s 26ms/step - loss: 10.6194 - mae: 10.6194\n",
            "Epoch 43/100\n",
            "1/1 [==============================] - 0s 27ms/step - loss: 10.4869 - mae: 10.4869\n",
            "Epoch 44/100\n",
            "1/1 [==============================] - 0s 34ms/step - loss: 10.3544 - mae: 10.3544\n",
            "Epoch 45/100\n",
            "1/1 [==============================] - 0s 31ms/step - loss: 10.2219 - mae: 10.2219\n",
            "Epoch 46/100\n",
            "1/1 [==============================] - 0s 31ms/step - loss: 10.0894 - mae: 10.0894\n",
            "Epoch 47/100\n",
            "1/1 [==============================] - 0s 21ms/step - loss: 9.9569 - mae: 9.9569\n",
            "Epoch 48/100\n",
            "1/1 [==============================] - 0s 20ms/step - loss: 9.8244 - mae: 9.8244\n",
            "Epoch 49/100\n",
            "1/1 [==============================] - 0s 18ms/step - loss: 9.6919 - mae: 9.6919\n",
            "Epoch 50/100\n",
            "1/1 [==============================] - 0s 34ms/step - loss: 9.5594 - mae: 9.5594\n",
            "Epoch 51/100\n",
            "1/1 [==============================] - 0s 33ms/step - loss: 9.4269 - mae: 9.4269\n",
            "Epoch 52/100\n",
            "1/1 [==============================] - 0s 28ms/step - loss: 9.2944 - mae: 9.2944\n",
            "Epoch 53/100\n",
            "1/1 [==============================] - 0s 29ms/step - loss: 9.1619 - mae: 9.1619\n",
            "Epoch 54/100\n",
            "1/1 [==============================] - 0s 24ms/step - loss: 9.0294 - mae: 9.0294\n",
            "Epoch 55/100\n",
            "1/1 [==============================] - 0s 24ms/step - loss: 8.8969 - mae: 8.8969\n",
            "Epoch 56/100\n",
            "1/1 [==============================] - 0s 19ms/step - loss: 8.7644 - mae: 8.7644\n",
            "Epoch 57/100\n",
            "1/1 [==============================] - 0s 24ms/step - loss: 8.6319 - mae: 8.6319\n",
            "Epoch 58/100\n",
            "1/1 [==============================] - 0s 30ms/step - loss: 8.4994 - mae: 8.4994\n",
            "Epoch 59/100\n",
            "1/1 [==============================] - 0s 24ms/step - loss: 8.3669 - mae: 8.3669\n",
            "Epoch 60/100\n",
            "1/1 [==============================] - 0s 33ms/step - loss: 8.2344 - mae: 8.2344\n",
            "Epoch 61/100\n",
            "1/1 [==============================] - 0s 24ms/step - loss: 8.1019 - mae: 8.1019\n",
            "Epoch 62/100\n",
            "1/1 [==============================] - 0s 20ms/step - loss: 7.9694 - mae: 7.9694\n",
            "Epoch 63/100\n",
            "1/1 [==============================] - 0s 52ms/step - loss: 7.8369 - mae: 7.8369\n",
            "Epoch 64/100\n",
            "1/1 [==============================] - 0s 19ms/step - loss: 7.7044 - mae: 7.7044\n",
            "Epoch 65/100\n",
            "1/1 [==============================] - 0s 23ms/step - loss: 7.5719 - mae: 7.5719\n",
            "Epoch 66/100\n",
            "1/1 [==============================] - 0s 28ms/step - loss: 7.4394 - mae: 7.4394\n",
            "Epoch 67/100\n",
            "1/1 [==============================] - 0s 23ms/step - loss: 7.3069 - mae: 7.3069\n",
            "Epoch 68/100\n",
            "1/1 [==============================] - 0s 41ms/step - loss: 7.1744 - mae: 7.1744\n",
            "Epoch 69/100\n",
            "1/1 [==============================] - 0s 34ms/step - loss: 7.0419 - mae: 7.0419\n",
            "Epoch 70/100\n",
            "1/1 [==============================] - 0s 23ms/step - loss: 6.9994 - mae: 6.9994\n",
            "Epoch 71/100\n",
            "1/1 [==============================] - 0s 46ms/step - loss: 6.9938 - mae: 6.9938\n",
            "Epoch 72/100\n",
            "1/1 [==============================] - 0s 23ms/step - loss: 6.9881 - mae: 6.9881\n",
            "Epoch 73/100\n",
            "1/1 [==============================] - 0s 22ms/step - loss: 6.9825 - mae: 6.9825\n",
            "Epoch 74/100\n",
            "1/1 [==============================] - 0s 18ms/step - loss: 6.9769 - mae: 6.9769\n",
            "Epoch 75/100\n",
            "1/1 [==============================] - 0s 36ms/step - loss: 6.9713 - mae: 6.9713\n",
            "Epoch 76/100\n",
            "1/1 [==============================] - 0s 34ms/step - loss: 6.9656 - mae: 6.9656\n",
            "Epoch 77/100\n",
            "1/1 [==============================] - 0s 21ms/step - loss: 6.9600 - mae: 6.9600\n",
            "Epoch 78/100\n",
            "1/1 [==============================] - 0s 43ms/step - loss: 6.9544 - mae: 6.9544\n",
            "Epoch 79/100\n",
            "1/1 [==============================] - 0s 21ms/step - loss: 6.9488 - mae: 6.9488\n",
            "Epoch 80/100\n",
            "1/1 [==============================] - 0s 43ms/step - loss: 6.9431 - mae: 6.9431\n",
            "Epoch 81/100\n",
            "1/1 [==============================] - 0s 28ms/step - loss: 6.9375 - mae: 6.9375\n",
            "Epoch 82/100\n",
            "1/1 [==============================] - 0s 61ms/step - loss: 6.9319 - mae: 6.9319\n",
            "Epoch 83/100\n",
            "1/1 [==============================] - 0s 43ms/step - loss: 6.9263 - mae: 6.9263\n",
            "Epoch 84/100\n",
            "1/1 [==============================] - 0s 20ms/step - loss: 6.9206 - mae: 6.9206\n",
            "Epoch 85/100\n",
            "1/1 [==============================] - 0s 29ms/step - loss: 6.9150 - mae: 6.9150\n",
            "Epoch 86/100\n",
            "1/1 [==============================] - 0s 88ms/step - loss: 6.9094 - mae: 6.9094\n",
            "Epoch 87/100\n",
            "1/1 [==============================] - 0s 29ms/step - loss: 6.9038 - mae: 6.9038\n",
            "Epoch 88/100\n",
            "1/1 [==============================] - 0s 26ms/step - loss: 6.8981 - mae: 6.8981\n",
            "Epoch 89/100\n",
            "1/1 [==============================] - 0s 14ms/step - loss: 6.8925 - mae: 6.8925\n",
            "Epoch 90/100\n",
            "1/1 [==============================] - 0s 46ms/step - loss: 6.8869 - mae: 6.8869\n",
            "Epoch 91/100\n",
            "1/1 [==============================] - 0s 47ms/step - loss: 6.8813 - mae: 6.8813\n",
            "Epoch 92/100\n",
            "1/1 [==============================] - 0s 23ms/step - loss: 6.8756 - mae: 6.8756\n",
            "Epoch 93/100\n",
            "1/1 [==============================] - 0s 23ms/step - loss: 6.8700 - mae: 6.8700\n",
            "Epoch 94/100\n",
            "1/1 [==============================] - 0s 24ms/step - loss: 6.8644 - mae: 6.8644\n",
            "Epoch 95/100\n",
            "1/1 [==============================] - 0s 14ms/step - loss: 6.8588 - mae: 6.8588\n",
            "Epoch 96/100\n",
            "1/1 [==============================] - 0s 30ms/step - loss: 6.8531 - mae: 6.8531\n",
            "Epoch 97/100\n",
            "1/1 [==============================] - 0s 27ms/step - loss: 6.8475 - mae: 6.8475\n",
            "Epoch 98/100\n",
            "1/1 [==============================] - 0s 23ms/step - loss: 6.8419 - mae: 6.8419\n",
            "Epoch 99/100\n",
            "1/1 [==============================] - 0s 19ms/step - loss: 6.8363 - mae: 6.8363\n",
            "Epoch 100/100\n",
            "1/1 [==============================] - 0s 32ms/step - loss: 6.8306 - mae: 6.8306\n"
          ]
        },
        {
          "output_type": "execute_result",
          "data": {
            "text/plain": [
              "<keras.callbacks.History at 0x7fdd27abc400>"
            ]
          },
          "metadata": {},
          "execution_count": 12
        }
      ]
    },
    {
      "cell_type": "code",
      "source": [
        "# Remind ourselfs of the data\n",
        "X, y"
      ],
      "metadata": {
        "colab": {
          "base_uri": "https://localhost:8080/"
        },
        "id": "oqUJB_ZDBi49",
        "outputId": "a9bdc87c-d29e-4baa-b971-f4776676dab2"
      },
      "execution_count": 13,
      "outputs": [
        {
          "output_type": "execute_result",
          "data": {
            "text/plain": [
              "(<tf.Tensor: shape=(8,), dtype=float64, numpy=array([-7., -4., -1.,  2.,  5.,  8., 11., 14.])>,\n",
              " <tf.Tensor: shape=(8,), dtype=float64, numpy=array([ 3.,  6.,  9., 12., 15., 18., 21., 24.])>)"
            ]
          },
          "metadata": {},
          "execution_count": 13
        }
      ]
    },
    {
      "cell_type": "code",
      "source": [
        "# Let's see if our model's prediction has improved...\n",
        "y_pred = model.predict([17.0])\n",
        "y_pred"
      ],
      "metadata": {
        "colab": {
          "base_uri": "https://localhost:8080/"
        },
        "id": "u_IzXLwmCESU",
        "outputId": "6dc627ef-2938-4128-9b95-039fc4ed23d5"
      },
      "execution_count": 14,
      "outputs": [
        {
          "output_type": "stream",
          "name": "stdout",
          "text": [
            "1/1 [==============================] - 0s 465ms/step\n"
          ]
        },
        {
          "output_type": "execute_result",
          "data": {
            "text/plain": [
              "array([[29.669117]], dtype=float32)"
            ]
          },
          "metadata": {},
          "execution_count": 14
        }
      ]
    },
    {
      "cell_type": "code",
      "source": [
        "# Let's see if we can make another change to improve our model\n",
        "\n",
        "# 1. Create the model (this time with an extra hidden layers with 100 hidden units)\n",
        "model = tf.keras.Sequential([\n",
        "    tf.keras.layers.Dense(100, activation='relu'),\n",
        "    tf.keras.layers.Dense(100, activation='relu'),\n",
        "    tf.keras.layers.Dense(1)\n",
        "])\n",
        "\n",
        "# 2. Compile the model\n",
        "model.compile(loss='mae',\n",
        "              optimizer=tf.keras.optimizers.Adam(learning_rate=0.01),\n",
        "              metrics=['mae'])\n",
        "\n",
        "# 3. Fit the model\n",
        "model.fit(tf.expand_dims(X, axis=-1), y, epochs=100)"
      ],
      "metadata": {
        "colab": {
          "base_uri": "https://localhost:8080/"
        },
        "id": "FH2Q1tNSCQew",
        "outputId": "c6c642ba-ecae-4994-918e-a2850884e466"
      },
      "execution_count": 15,
      "outputs": [
        {
          "output_type": "stream",
          "name": "stdout",
          "text": [
            "Epoch 1/100\n",
            "1/1 [==============================] - 3s 3s/step - loss: 13.9317 - mae: 13.9317\n",
            "Epoch 2/100\n",
            "1/1 [==============================] - 0s 20ms/step - loss: 11.2088 - mae: 11.2088\n",
            "Epoch 3/100\n",
            "1/1 [==============================] - 0s 28ms/step - loss: 9.1767 - mae: 9.1767\n",
            "Epoch 4/100\n",
            "1/1 [==============================] - 0s 40ms/step - loss: 7.3760 - mae: 7.3760\n",
            "Epoch 5/100\n",
            "1/1 [==============================] - 0s 57ms/step - loss: 5.2336 - mae: 5.2336\n",
            "Epoch 6/100\n",
            "1/1 [==============================] - 0s 61ms/step - loss: 4.0774 - mae: 4.0774\n",
            "Epoch 7/100\n",
            "1/1 [==============================] - 0s 38ms/step - loss: 5.0846 - mae: 5.0846\n",
            "Epoch 8/100\n",
            "1/1 [==============================] - 0s 15ms/step - loss: 5.7453 - mae: 5.7453\n",
            "Epoch 9/100\n",
            "1/1 [==============================] - 0s 28ms/step - loss: 5.8092 - mae: 5.8092\n",
            "Epoch 10/100\n",
            "1/1 [==============================] - 0s 26ms/step - loss: 5.4434 - mae: 5.4434\n",
            "Epoch 11/100\n",
            "1/1 [==============================] - 0s 24ms/step - loss: 4.8181 - mae: 4.8181\n",
            "Epoch 12/100\n",
            "1/1 [==============================] - 0s 22ms/step - loss: 4.0267 - mae: 4.0267\n",
            "Epoch 13/100\n",
            "1/1 [==============================] - 0s 25ms/step - loss: 3.7174 - mae: 3.7174\n",
            "Epoch 14/100\n",
            "1/1 [==============================] - 0s 35ms/step - loss: 3.8109 - mae: 3.8109\n",
            "Epoch 15/100\n",
            "1/1 [==============================] - 0s 53ms/step - loss: 4.2361 - mae: 4.2361\n",
            "Epoch 16/100\n",
            "1/1 [==============================] - 0s 38ms/step - loss: 4.1373 - mae: 4.1373\n",
            "Epoch 17/100\n",
            "1/1 [==============================] - 0s 34ms/step - loss: 3.6360 - mae: 3.6360\n",
            "Epoch 18/100\n",
            "1/1 [==============================] - 0s 38ms/step - loss: 3.3343 - mae: 3.3343\n",
            "Epoch 19/100\n",
            "1/1 [==============================] - 0s 13ms/step - loss: 3.4508 - mae: 3.4508\n",
            "Epoch 20/100\n",
            "1/1 [==============================] - 0s 15ms/step - loss: 3.7080 - mae: 3.7080\n",
            "Epoch 21/100\n",
            "1/1 [==============================] - 0s 13ms/step - loss: 3.6513 - mae: 3.6513\n",
            "Epoch 22/100\n",
            "1/1 [==============================] - 0s 10ms/step - loss: 3.3823 - mae: 3.3823\n",
            "Epoch 23/100\n",
            "1/1 [==============================] - 0s 18ms/step - loss: 3.0988 - mae: 3.0988\n",
            "Epoch 24/100\n",
            "1/1 [==============================] - 0s 28ms/step - loss: 2.8694 - mae: 2.8694\n",
            "Epoch 25/100\n",
            "1/1 [==============================] - 0s 66ms/step - loss: 2.9525 - mae: 2.9525\n",
            "Epoch 26/100\n",
            "1/1 [==============================] - 0s 23ms/step - loss: 3.0070 - mae: 3.0070\n",
            "Epoch 27/100\n",
            "1/1 [==============================] - 0s 32ms/step - loss: 2.5646 - mae: 2.5646\n",
            "Epoch 28/100\n",
            "1/1 [==============================] - 0s 34ms/step - loss: 2.3439 - mae: 2.3439\n",
            "Epoch 29/100\n",
            "1/1 [==============================] - 0s 12ms/step - loss: 2.3671 - mae: 2.3671\n",
            "Epoch 30/100\n",
            "1/1 [==============================] - 0s 17ms/step - loss: 2.2274 - mae: 2.2274\n",
            "Epoch 31/100\n",
            "1/1 [==============================] - 0s 32ms/step - loss: 1.7909 - mae: 1.7909\n",
            "Epoch 32/100\n",
            "1/1 [==============================] - 0s 50ms/step - loss: 1.4746 - mae: 1.4746\n",
            "Epoch 33/100\n",
            "1/1 [==============================] - 0s 42ms/step - loss: 1.4172 - mae: 1.4172\n",
            "Epoch 34/100\n",
            "1/1 [==============================] - 0s 16ms/step - loss: 0.8684 - mae: 0.8684\n",
            "Epoch 35/100\n",
            "1/1 [==============================] - 0s 19ms/step - loss: 0.8466 - mae: 0.8466\n",
            "Epoch 36/100\n",
            "1/1 [==============================] - 0s 30ms/step - loss: 0.8254 - mae: 0.8254\n",
            "Epoch 37/100\n",
            "1/1 [==============================] - 0s 49ms/step - loss: 0.5930 - mae: 0.5930\n",
            "Epoch 38/100\n",
            "1/1 [==============================] - 0s 42ms/step - loss: 0.7268 - mae: 0.7268\n",
            "Epoch 39/100\n",
            "1/1 [==============================] - 0s 59ms/step - loss: 0.3914 - mae: 0.3914\n",
            "Epoch 40/100\n",
            "1/1 [==============================] - 0s 36ms/step - loss: 0.8249 - mae: 0.8249\n",
            "Epoch 41/100\n",
            "1/1 [==============================] - 0s 31ms/step - loss: 0.5484 - mae: 0.5484\n",
            "Epoch 42/100\n",
            "1/1 [==============================] - 0s 30ms/step - loss: 0.4098 - mae: 0.4098\n",
            "Epoch 43/100\n",
            "1/1 [==============================] - 0s 41ms/step - loss: 0.7266 - mae: 0.7266\n",
            "Epoch 44/100\n",
            "1/1 [==============================] - 0s 36ms/step - loss: 0.4411 - mae: 0.4411\n",
            "Epoch 45/100\n",
            "1/1 [==============================] - 0s 26ms/step - loss: 0.6517 - mae: 0.6517\n",
            "Epoch 46/100\n",
            "1/1 [==============================] - 0s 31ms/step - loss: 0.8275 - mae: 0.8275\n",
            "Epoch 47/100\n",
            "1/1 [==============================] - 0s 21ms/step - loss: 0.3200 - mae: 0.3200\n",
            "Epoch 48/100\n",
            "1/1 [==============================] - 0s 17ms/step - loss: 0.8330 - mae: 0.8330\n",
            "Epoch 49/100\n",
            "1/1 [==============================] - 0s 19ms/step - loss: 1.0933 - mae: 1.0933\n",
            "Epoch 50/100\n",
            "1/1 [==============================] - 0s 19ms/step - loss: 0.6914 - mae: 0.6914\n",
            "Epoch 51/100\n",
            "1/1 [==============================] - 0s 29ms/step - loss: 0.4628 - mae: 0.4628\n",
            "Epoch 52/100\n",
            "1/1 [==============================] - 0s 86ms/step - loss: 0.7111 - mae: 0.7111\n",
            "Epoch 53/100\n",
            "1/1 [==============================] - 0s 29ms/step - loss: 0.3870 - mae: 0.3870\n",
            "Epoch 54/100\n",
            "1/1 [==============================] - 0s 17ms/step - loss: 0.4663 - mae: 0.4663\n",
            "Epoch 55/100\n",
            "1/1 [==============================] - 0s 18ms/step - loss: 0.4738 - mae: 0.4738\n",
            "Epoch 56/100\n",
            "1/1 [==============================] - 0s 20ms/step - loss: 0.2321 - mae: 0.2321\n",
            "Epoch 57/100\n",
            "1/1 [==============================] - 0s 24ms/step - loss: 0.3931 - mae: 0.3931\n",
            "Epoch 58/100\n",
            "1/1 [==============================] - 0s 16ms/step - loss: 0.2473 - mae: 0.2473\n",
            "Epoch 59/100\n",
            "1/1 [==============================] - 0s 41ms/step - loss: 0.3099 - mae: 0.3099\n",
            "Epoch 60/100\n",
            "1/1 [==============================] - 0s 33ms/step - loss: 0.3264 - mae: 0.3264\n",
            "Epoch 61/100\n",
            "1/1 [==============================] - 0s 24ms/step - loss: 0.3174 - mae: 0.3174\n",
            "Epoch 62/100\n",
            "1/1 [==============================] - 0s 22ms/step - loss: 0.3561 - mae: 0.3561\n",
            "Epoch 63/100\n",
            "1/1 [==============================] - 0s 16ms/step - loss: 0.1919 - mae: 0.1919\n",
            "Epoch 64/100\n",
            "1/1 [==============================] - 0s 40ms/step - loss: 0.6555 - mae: 0.6555\n",
            "Epoch 65/100\n",
            "1/1 [==============================] - 0s 28ms/step - loss: 0.7494 - mae: 0.7494\n",
            "Epoch 66/100\n",
            "1/1 [==============================] - 0s 19ms/step - loss: 0.3219 - mae: 0.3219\n",
            "Epoch 67/100\n",
            "1/1 [==============================] - 0s 31ms/step - loss: 0.6417 - mae: 0.6417\n",
            "Epoch 68/100\n",
            "1/1 [==============================] - 0s 33ms/step - loss: 0.8091 - mae: 0.8091\n",
            "Epoch 69/100\n",
            "1/1 [==============================] - 0s 64ms/step - loss: 0.4338 - mae: 0.4338\n",
            "Epoch 70/100\n",
            "1/1 [==============================] - 0s 42ms/step - loss: 0.5969 - mae: 0.5969\n",
            "Epoch 71/100\n",
            "1/1 [==============================] - 0s 30ms/step - loss: 0.8845 - mae: 0.8845\n",
            "Epoch 72/100\n",
            "1/1 [==============================] - 0s 38ms/step - loss: 0.6190 - mae: 0.6190\n",
            "Epoch 73/100\n",
            "1/1 [==============================] - 0s 37ms/step - loss: 0.2396 - mae: 0.2396\n",
            "Epoch 74/100\n",
            "1/1 [==============================] - 0s 45ms/step - loss: 0.4162 - mae: 0.4162\n",
            "Epoch 75/100\n",
            "1/1 [==============================] - 0s 20ms/step - loss: 0.1698 - mae: 0.1698\n",
            "Epoch 76/100\n",
            "1/1 [==============================] - 0s 44ms/step - loss: 0.4306 - mae: 0.4306\n",
            "Epoch 77/100\n",
            "1/1 [==============================] - 0s 27ms/step - loss: 0.3657 - mae: 0.3657\n",
            "Epoch 78/100\n",
            "1/1 [==============================] - 0s 40ms/step - loss: 0.2765 - mae: 0.2765\n",
            "Epoch 79/100\n",
            "1/1 [==============================] - 0s 41ms/step - loss: 0.2546 - mae: 0.2546\n",
            "Epoch 80/100\n",
            "1/1 [==============================] - 0s 76ms/step - loss: 0.4262 - mae: 0.4262\n",
            "Epoch 81/100\n",
            "1/1 [==============================] - 0s 66ms/step - loss: 0.3997 - mae: 0.3997\n",
            "Epoch 82/100\n",
            "1/1 [==============================] - 0s 43ms/step - loss: 0.1648 - mae: 0.1648\n",
            "Epoch 83/100\n",
            "1/1 [==============================] - 0s 48ms/step - loss: 0.1614 - mae: 0.1614\n",
            "Epoch 84/100\n",
            "1/1 [==============================] - 0s 16ms/step - loss: 0.1673 - mae: 0.1673\n",
            "Epoch 85/100\n",
            "1/1 [==============================] - 0s 24ms/step - loss: 0.3422 - mae: 0.3422\n",
            "Epoch 86/100\n",
            "1/1 [==============================] - 0s 23ms/step - loss: 0.2357 - mae: 0.2357\n",
            "Epoch 87/100\n",
            "1/1 [==============================] - 0s 55ms/step - loss: 0.4914 - mae: 0.4914\n",
            "Epoch 88/100\n",
            "1/1 [==============================] - 0s 37ms/step - loss: 0.5522 - mae: 0.5522\n",
            "Epoch 89/100\n",
            "1/1 [==============================] - 0s 43ms/step - loss: 0.1447 - mae: 0.1447\n",
            "Epoch 90/100\n",
            "1/1 [==============================] - 0s 75ms/step - loss: 0.4547 - mae: 0.4547\n",
            "Epoch 91/100\n",
            "1/1 [==============================] - 0s 33ms/step - loss: 0.3669 - mae: 0.3669\n",
            "Epoch 92/100\n",
            "1/1 [==============================] - 0s 37ms/step - loss: 0.2598 - mae: 0.2598\n",
            "Epoch 93/100\n",
            "1/1 [==============================] - 0s 25ms/step - loss: 0.2774 - mae: 0.2774\n",
            "Epoch 94/100\n",
            "1/1 [==============================] - 0s 65ms/step - loss: 0.2164 - mae: 0.2164\n",
            "Epoch 95/100\n",
            "1/1 [==============================] - 0s 49ms/step - loss: 0.1272 - mae: 0.1272\n",
            "Epoch 96/100\n",
            "1/1 [==============================] - 0s 32ms/step - loss: 0.4467 - mae: 0.4467\n",
            "Epoch 97/100\n",
            "1/1 [==============================] - 0s 22ms/step - loss: 0.4311 - mae: 0.4311\n",
            "Epoch 98/100\n",
            "1/1 [==============================] - 0s 21ms/step - loss: 0.1432 - mae: 0.1432\n",
            "Epoch 99/100\n",
            "1/1 [==============================] - 0s 25ms/step - loss: 0.1137 - mae: 0.1137\n",
            "Epoch 100/100\n",
            "1/1 [==============================] - 0s 49ms/step - loss: 0.4051 - mae: 0.4051\n"
          ]
        },
        {
          "output_type": "execute_result",
          "data": {
            "text/plain": [
              "<keras.callbacks.History at 0x7fdd24162790>"
            ]
          },
          "metadata": {},
          "execution_count": 15
        }
      ]
    },
    {
      "cell_type": "code",
      "source": [
        "# Let's remind ourselves of the data\n",
        "X, y"
      ],
      "metadata": {
        "colab": {
          "base_uri": "https://localhost:8080/"
        },
        "id": "4luz-p5cFBgl",
        "outputId": "525e6b00-703f-4f70-e1ee-c4b3a8fce8bb"
      },
      "execution_count": 16,
      "outputs": [
        {
          "output_type": "execute_result",
          "data": {
            "text/plain": [
              "(<tf.Tensor: shape=(8,), dtype=float64, numpy=array([-7., -4., -1.,  2.,  5.,  8., 11., 14.])>,\n",
              " <tf.Tensor: shape=(8,), dtype=float64, numpy=array([ 3.,  6.,  9., 12., 15., 18., 21., 24.])>)"
            ]
          },
          "metadata": {},
          "execution_count": 16
        }
      ]
    },
    {
      "cell_type": "code",
      "source": [
        "# Let's try to make a prediction\n",
        "model.predict([17.0])"
      ],
      "metadata": {
        "colab": {
          "base_uri": "https://localhost:8080/"
        },
        "id": "eKmmD2IwFYXv",
        "outputId": "eb385582-a993-49c5-d590-acc4cfd9d3bf"
      },
      "execution_count": 17,
      "outputs": [
        {
          "output_type": "stream",
          "name": "stdout",
          "text": [
            "1/1 [==============================] - 0s 272ms/step\n"
          ]
        },
        {
          "output_type": "execute_result",
          "data": {
            "text/plain": [
              "array([[28.219162]], dtype=float32)"
            ]
          },
          "metadata": {},
          "execution_count": 17
        }
      ]
    },
    {
      "cell_type": "markdown",
      "source": [
        "## Evaluating model\n",
        "\n",
        "In practice, a typical workflow you'll go through when building neural networks is:\n",
        "\n",
        "```\n",
        "Build a model => fir it => evaluate it => tweak a model => fit it => evaluate it => tweak a model => fit it => evaluate it ...\n",
        "```"
      ],
      "metadata": {
        "id": "ElJnFJ41Fd9_"
      }
    },
    {
      "cell_type": "markdown",
      "source": [
        "When it comes to evaluation... there are 3 words you should memorize:\n",
        "\n",
        " > \"Visualize, visualize, visualize\"\n",
        "\n",
        "It's a good idea to visualize:\n",
        "* The data - what data are we working with? What does it look like?\n",
        "* The model itself - what does our model look like?\n",
        "* The training of a model - how does a model perform while it learns?\n",
        "* The predictions of the model - how do the predictions of a model line up against the ground truth (the original labels)?"
      ],
      "metadata": {
        "id": "sZGret4O5KN0"
      }
    },
    {
      "cell_type": "code",
      "source": [
        "# Make a bigger dataset\n",
        "X = tf.range(-100, 100, 4)\n",
        "X"
      ],
      "metadata": {
        "colab": {
          "base_uri": "https://localhost:8080/"
        },
        "id": "TBbv05-u5jXj",
        "outputId": "2275248b-3c97-40ca-efa3-ac0eb8b410db"
      },
      "execution_count": 18,
      "outputs": [
        {
          "output_type": "execute_result",
          "data": {
            "text/plain": [
              "<tf.Tensor: shape=(50,), dtype=int32, numpy=\n",
              "array([-100,  -96,  -92,  -88,  -84,  -80,  -76,  -72,  -68,  -64,  -60,\n",
              "        -56,  -52,  -48,  -44,  -40,  -36,  -32,  -28,  -24,  -20,  -16,\n",
              "        -12,   -8,   -4,    0,    4,    8,   12,   16,   20,   24,   28,\n",
              "         32,   36,   40,   44,   48,   52,   56,   60,   64,   68,   72,\n",
              "         76,   80,   84,   88,   92,   96], dtype=int32)>"
            ]
          },
          "metadata": {},
          "execution_count": 18
        }
      ]
    },
    {
      "cell_type": "code",
      "source": [
        "# Make labels for the dataset\n",
        "y = X + 10\n",
        "y"
      ],
      "metadata": {
        "colab": {
          "base_uri": "https://localhost:8080/"
        },
        "id": "VCQ9aTYR6iUk",
        "outputId": "2d88cf68-6827-4750-d544-f48cd0e04dc6"
      },
      "execution_count": 19,
      "outputs": [
        {
          "output_type": "execute_result",
          "data": {
            "text/plain": [
              "<tf.Tensor: shape=(50,), dtype=int32, numpy=\n",
              "array([-90, -86, -82, -78, -74, -70, -66, -62, -58, -54, -50, -46, -42,\n",
              "       -38, -34, -30, -26, -22, -18, -14, -10,  -6,  -2,   2,   6,  10,\n",
              "        14,  18,  22,  26,  30,  34,  38,  42,  46,  50,  54,  58,  62,\n",
              "        66,  70,  74,  78,  82,  86,  90,  94,  98, 102, 106], dtype=int32)>"
            ]
          },
          "metadata": {},
          "execution_count": 19
        }
      ]
    },
    {
      "cell_type": "code",
      "source": [
        "# Visualize data\n",
        "\n",
        "plt.plot(X, y);"
      ],
      "metadata": {
        "colab": {
          "base_uri": "https://localhost:8080/",
          "height": 265
        },
        "id": "oou174Lc6oQ0",
        "outputId": "3f1be782-d060-436f-b109-ae63d99857e0"
      },
      "execution_count": 20,
      "outputs": [
        {
          "output_type": "display_data",
          "data": {
            "text/plain": [
              "<Figure size 432x288 with 1 Axes>"
            ],
            "image/png": "[encoded data removed]"
          },
          "metadata": {
            "needs_background": "light"
          }
        }
      ]
    },
    {
      "cell_type": "markdown",
      "source": [
        "### The 3 sets...\n",
        "\n",
        "* Training set - the model learns from this data, which is typically 70-80 % of the total data you have available.\n",
        "* Validation set - the model gets tuned on this data, which is typically 10-15 % of the data available.\n",
        "* Test set - the model gets evaluated on this data to test what is has learned, this set is typically 10-15 % of the total data available."
      ],
      "metadata": {
        "id": "RJhLb8UI7m9f"
      }
    },
    {
      "cell_type": "code",
      "source": [
        "# Split the data into train and test sets\n",
        "X_train = X[:40] # first 40 are training samples (80% of the data)\n",
        "y_train = y[:40]\n",
        "\n",
        "X_test = X[40:] # last 10 are testing samples (20% of the data)\n",
        "y_test = y[40:]"
      ],
      "metadata": {
        "id": "gXIepBlP9MZ7"
      },
      "execution_count": 21,
      "outputs": []
    },
    {
      "cell_type": "markdown",
      "source": [
        "# Visualizing the data\n",
        "\n",
        "Now we're got our data in training and test sets... let's visualize it again!"
      ],
      "metadata": {
        "id": "rwle3Rec_Vs0"
      }
    },
    {
      "cell_type": "code",
      "source": [
        "plt.figure(figsize=(10, 7))\n",
        "# Plot training data in blue\n",
        "plt.scatter(X_train, y_train, c='b', label='Training data')\n",
        "# Plot testing data in green\n",
        "plt.scatter(X_test, y_test, c='g', label='Testing data')\n",
        "# Show a legend\n",
        "plt.legend();"
      ],
      "metadata": {
        "id": "aXZzgrbn_uIV",
        "outputId": "8c151dbd-c382-4e2f-ce1c-9471451fcfeb",
        "colab": {
          "base_uri": "https://localhost:8080/",
          "height": 428
        }
      },
      "execution_count": 22,
      "outputs": [
        {
          "output_type": "display_data",
          "data": {
            "text/plain": [
              "<Figure size 720x504 with 1 Axes>"
            ],
            "image/png": "[encoded data removed]"
          },
          "metadata": {
            "needs_background": "light"
          }
        }
      ]
    },
    {
      "cell_type": "code",
      "source": [
        "# Let's have a look at how to build a neural network for our data\n",
        "\n",
        "# 1. Create a model\n",
        "model = tf.keras.Sequential([\n",
        "    tf.keras.layers.Dense(1)\n",
        "])\n",
        "\n",
        "# 2. Compile the model\n",
        "model.compile(loss=tf.keras.losses.mae,\n",
        "              optimizer=tf.keras.optimizers.SGD(),\n",
        "              metrics=['mae'])\n",
        "\n",
        "# 3. Fit the model\n",
        "# model.fit(X_train, y_train, epoch=100)\n",
        "\n"
      ],
      "metadata": {
        "id": "GAkavUzKBDwL"
      },
      "execution_count": 23,
      "outputs": []
    },
    {
      "cell_type": "markdown",
      "source": [
        "### Visualizing the model"
      ],
      "metadata": {
        "id": "g0YBof-iC9WK"
      }
    },
    {
      "cell_type": "code",
      "source": [
        "model.summary()"
      ],
      "metadata": {
        "id": "ffUYyxBFDZ5V",
        "outputId": "0f47f06e-5e42-4de8-be8a-86e6570acfb4",
        "colab": {
          "base_uri": "https://localhost:8080/",
          "height": 287
        }
      },
      "execution_count": 25,
      "outputs": [
        {
          "output_type": "error",
          "ename": "ValueError",
          "evalue": "ignored",
          "traceback": [
            "\u001b[0;31m---------------------------------------------------------------------------\u001b[0m",
            "\u001b[0;31mValueError\u001b[0m                                Traceback (most recent call last)",
            "\u001b[0;32m<ipython-input-25-5f15418b3570>\u001b[0m in \u001b[0;36m<module>\u001b[0;34m\u001b[0m\n\u001b[0;32m----> 1\u001b[0;31m \u001b[0mmodel\u001b[0m\u001b[0;34m.\u001b[0m\u001b[0msummary\u001b[0m\u001b[0;34m(\u001b[0m\u001b[0;34m)\u001b[0m\u001b[0;34m\u001b[0m\u001b[0;34m\u001b[0m\u001b[0m\n\u001b[0m",
            "\u001b[0;32m/usr/local/lib/python3.9/dist-packages/keras/engine/training.py\u001b[0m in \u001b[0;36msummary\u001b[0;34m(self, line_length, positions, print_fn, expand_nested, show_trainable, layer_range)\u001b[0m\n\u001b[1;32m   3290\u001b[0m         \"\"\"\n\u001b[1;32m   3291\u001b[0m         \u001b[0;32mif\u001b[0m \u001b[0;32mnot\u001b[0m \u001b[0mself\u001b[0m\u001b[0;34m.\u001b[0m\u001b[0mbuilt\u001b[0m\u001b[0;34m:\u001b[0m\u001b[0;34m\u001b[0m\u001b[0;34m\u001b[0m\u001b[0m\n\u001b[0;32m-> 3292\u001b[0;31m             raise ValueError(\n\u001b[0m\u001b[1;32m   3293\u001b[0m                 \u001b[0;34m\"This model has not yet been built. \"\u001b[0m\u001b[0;34m\u001b[0m\u001b[0;34m\u001b[0m\u001b[0m\n\u001b[1;32m   3294\u001b[0m                 \u001b[0;34m\"Build the model first by calling `build()` or by calling \"\u001b[0m\u001b[0;34m\u001b[0m\u001b[0;34m\u001b[0m\u001b[0m\n",
            "\u001b[0;31mValueError\u001b[0m: This model has not yet been built. Build the model first by calling `build()` or by calling the model on a batch of data."
          ]
        }
      ]
    },
    {
      "cell_type": "code",
      "source": [
        "# Let's create a model which builds automatically by defining the input_shape argument in the first layer\n",
        "tf.random.set_seed(42)\n",
        "\n",
        "# 1. Create a model (same as above)\n",
        "model = tf.keras.Sequential([\n",
        "    tf.keras.layers.Dense(10, input_shape=[1], name='input_layer'),\n",
        "    tf.keras.layers.Dense(1, name='output_layer')\n",
        "], name=\"model_1\")\n",
        "\n",
        "# 2. Compile the model\n",
        "model.compile(loss=tf.keras.losses.mae,\n",
        "              optimizer=tf.keras.optimizers.SGD(),\n",
        "              metrics=['mae'])"
      ],
      "metadata": {
        "id": "zam_4fIbDcYf"
      },
      "execution_count": 47,
      "outputs": []
    },
    {
      "cell_type": "code",
      "source": [
        "model.summary()"
      ],
      "metadata": {
        "id": "jKbmhRsLDwUz",
        "outputId": "efd2c8c5-8a1a-4d3f-89d6-03d68e41d0e6",
        "colab": {
          "base_uri": "https://localhost:8080/"
        }
      },
      "execution_count": 48,
      "outputs": [
        {
          "output_type": "stream",
          "name": "stdout",
          "text": [
            "Model: \"model_1\"\n",
            "_________________________________________________________________\n",
            " Layer (type)                Output Shape              Param #   \n",
            "=================================================================\n",
            " input_layer (Dense)         (None, 10)                20        \n",
            "                                                                 \n",
            " output_layer (Dense)        (None, 1)                 11        \n",
            "                                                                 \n",
            "=================================================================\n",
            "Total params: 31\n",
            "Trainable params: 31\n",
            "Non-trainable params: 0\n",
            "_________________________________________________________________\n"
          ]
        }
      ]
    },
    {
      "cell_type": "markdown",
      "source": [
        "* Total params - total number of parameters in the model.\n",
        "* Trainable parameters - these are the parameters (patterns) the model can update as it trains.\n",
        "* Non-trainable params - these parameters aren't updated during training (this is typical when you bring in already learn patterns or parameters from other models during ***transfer learning***)."
      ],
      "metadata": {
        "id": "y8IoXD1eFn61"
      }
    },
    {
      "cell_type": "code",
      "source": [
        "# Let's fit our model\n",
        "# 3. Fit the model\n",
        "model.fit(X_train, y_train, epochs=500, verbose=0)"
      ],
      "metadata": {
        "id": "2tm0LaQ8FUsu",
        "outputId": "9bf2b2ce-e608-425d-c12f-6551d93d4771",
        "colab": {
          "base_uri": "https://localhost:8080/"
        }
      },
      "execution_count": 59,
      "outputs": [
        {
          "output_type": "execute_result",
          "data": {
            "text/plain": [
              "<keras.callbacks.History at 0x7fdd24128310>"
            ]
          },
          "metadata": {},
          "execution_count": 59
        }
      ]
    },
    {
      "cell_type": "code",
      "source": [
        "# Get a summary of outr model\n",
        "model.summary()"
      ],
      "metadata": {
        "id": "P7XFhz6HIppm",
        "outputId": "5cfbe30a-5e84-453b-a25d-ae022c3ececa",
        "colab": {
          "base_uri": "https://localhost:8080/"
        }
      },
      "execution_count": 60,
      "outputs": [
        {
          "output_type": "stream",
          "name": "stdout",
          "text": [
            "Model: \"model_1\"\n",
            "_________________________________________________________________\n",
            " Layer (type)                Output Shape              Param #   \n",
            "=================================================================\n",
            " input_layer (Dense)         (None, 10)                20        \n",
            "                                                                 \n",
            " output_layer (Dense)        (None, 1)                 11        \n",
            "                                                                 \n",
            "=================================================================\n",
            "Total params: 31\n",
            "Trainable params: 31\n",
            "Non-trainable params: 0\n",
            "_________________________________________________________________\n"
          ]
        }
      ]
    },
    {
      "cell_type": "code",
      "source": [
        "from tensorflow.keras.utils import plot_model\n",
        "\n",
        "plot_model(model, show_shapes=True)"
      ],
      "metadata": {
        "id": "ftLdRKbxtfYC",
        "outputId": "155221e6-56ba-4282-d752-f9908c23b22a",
        "colab": {
          "base_uri": "https://localhost:8080/",
          "height": 312
        }
      },
      "execution_count": 51,
      "outputs": [
        {
          "output_type": "execute_result",
          "data": {
            "image/png": "[encoded data removed]",
            "text/plain": [
              "<IPython.core.display.Image object>"
            ]
          },
          "metadata": {},
          "execution_count": 51
        }
      ]
    },
    {
      "cell_type": "markdown",
      "source": [
        "### Visualizing our model's predictions\n",
        "\n",
        "To visualize predictions, it's a good idea to plot them against the ground truth labels.\n",
        "\n",
        "Often you'll see this in the form of `y_test` or `y_true` versus `y_pred` (ground truth versus your model)"
      ],
      "metadata": {
        "id": "X5K1288exHh8"
      }
    },
    {
      "cell_type": "code",
      "source": [
        "# Make some predictions\n",
        "y_pred = model.predict(X_test)\n",
        "y_pred"
      ],
      "metadata": {
        "id": "zIvJIxY0zPeI",
        "outputId": "7523dcdc-af3b-4b8d-f5e6-c42bd40dac5e",
        "colab": {
          "base_uri": "https://localhost:8080/"
        }
      },
      "execution_count": 53,
      "outputs": [
        {
          "output_type": "stream",
          "name": "stdout",
          "text": [
            "1/1 [==============================] - 0s 33ms/step\n"
          ]
        },
        {
          "output_type": "execute_result",
          "data": {
            "text/plain": [
              "array([[ 88.36775 ],\n",
              "       [ 94.13572 ],\n",
              "       [ 99.90369 ],\n",
              "       [105.67165 ],\n",
              "       [111.43963 ],\n",
              "       [117.207596],\n",
              "       [122.97557 ],\n",
              "       [128.74355 ],\n",
              "       [134.5115  ],\n",
              "       [140.27948 ]], dtype=float32)"
            ]
          },
          "metadata": {},
          "execution_count": 53
        }
      ]
    },
    {
      "cell_type": "code",
      "source": [
        "y_test"
      ],
      "metadata": {
        "id": "pksI_Eiz0PUa",
        "outputId": "89e62523-901c-4d21-b506-c3c72f9919c3",
        "colab": {
          "base_uri": "https://localhost:8080/"
        }
      },
      "execution_count": 54,
      "outputs": [
        {
          "output_type": "execute_result",
          "data": {
            "text/plain": [
              "<tf.Tensor: shape=(10,), dtype=int32, numpy=array([ 70,  74,  78,  82,  86,  90,  94,  98, 102, 106], dtype=int32)>"
            ]
          },
          "metadata": {},
          "execution_count": 54
        }
      ]
    },
    {
      "cell_type": "code",
      "source": [
        "# let's create a plotting function\n",
        "def plot_predictions(train_data=X_train,\n",
        "                     train_labels=y_train,\n",
        "                     test_data=X_test,\n",
        "                     test_labels=y_test,\n",
        "                     predictions=y_pred):\n",
        "  \"\"\"\n",
        "  Plots training data, tests and compares predictions to ground truht labels.\n",
        "  \"\"\"\n",
        "  plt.figure(figsize=(10, 7))\n",
        "  # Plot training data in blue\n",
        "  plt.scatter(train_data, train_labels, c='b', label=\"Training data\")\n",
        "  # Plot testing data in green\n",
        "  plt.scatter(test_data, test_labels, c='g', label='Testing data')\n",
        "  # Plot model's predictions in red\n",
        "  plt.scatter(test_data, predictions, c='r', label='Predictions')\n",
        "  # Show the legend\n",
        "  plt.legend();"
      ],
      "metadata": {
        "id": "JDbG2lDE0aLK"
      },
      "execution_count": 61,
      "outputs": []
    },
    {
      "cell_type": "code",
      "source": [
        "plot_predictions(train_data=X_train,\n",
        "                 train_labels=y_train,\n",
        "                 test_data=X_test,\n",
        "                 test_labels=y_test,\n",
        "                 predictions=y_pred)"
      ],
      "metadata": {
        "id": "IR_oVJUu0fyO",
        "outputId": "03cc936f-a87a-4d18-c854-fd590c88f47b",
        "colab": {
          "base_uri": "https://localhost:8080/",
          "height": 430
        }
      },
      "execution_count": 63,
      "outputs": [
        {
          "output_type": "display_data",
          "data": {
            "text/plain": [
              "<Figure size 720x504 with 1 Axes>"
            ],
            "image/png": "[encoded data removed]"
          },
          "metadata": {
            "needs_background": "light"
          }
        }
      ]
    },
    {
      "cell_type": "markdown",
      "source": [
        "### Evaluating our model's predictions with regression evaluation metrics"
      ],
      "metadata": {
        "id": "N25wwGfi2FEx"
      }
    }
  ]
}