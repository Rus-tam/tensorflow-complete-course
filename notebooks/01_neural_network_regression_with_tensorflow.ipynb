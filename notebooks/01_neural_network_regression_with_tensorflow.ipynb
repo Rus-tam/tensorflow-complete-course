{
  "nbformat": 4,
  "nbformat_minor": 0,
  "metadata": {
    "colab": {
      "provenance": [],
      "authorship_tag": "ABX9TyPQ7dwqbhi+zviIMMqC+B+g"
    },
    "kernelspec": {
      "name": "python3",
      "display_name": "Python 3"
    },
    "language_info": {
      "name": "python"
    }
  },
  "cells": [
    {
      "cell_type": "markdown",
      "source": [
        "## Introduction to Regression with Neural Networks in TensorFlow\n",
        "Thera ara many definitions for a regression problem but in our case, we're going to simplify it: predicting a numerical variable based on some other combination of variables, even shorter... predicting a number"
      ],
      "metadata": {
        "id": "L4t4gG39p2Mc"
      }
    },
    {
      "cell_type": "code",
      "source": [
        "# Import TensorFlow\n",
        "import tensorflow as tf\n",
        "print(tf.__version__)"
      ],
      "metadata": {
        "colab": {
          "base_uri": "https://localhost:8080/"
        },
        "id": "YICHdZj-p_0n",
        "outputId": "f6296a69-3a73-45ea-ba0e-a479bde6ae0a"
      },
      "execution_count": 1,
      "outputs": [
        {
          "output_type": "stream",
          "name": "stdout",
          "text": [
            "2.11.0\n"
          ]
        }
      ]
    },
    {
      "cell_type": "markdown",
      "source": [
        "## Creating data to view and fit"
      ],
      "metadata": {
        "id": "xnH8iUg1sGnS"
      }
    },
    {
      "cell_type": "code",
      "source": [
        "import numpy as np\n",
        "import matplotlib.pyplot as plt\n",
        "\n",
        "# Create features\n",
        "X = np.array([-7.0, -4.0, -1.0, 2.0, 5.0, 8.0, 11.0, 14.0])\n",
        "\n",
        "# Create labels\n",
        "y = np.array([3.0, 6.0, 9.0, 12.0, 15.0, 18.0, 21.0, 24.0])\n",
        "\n",
        "# Visualize it\n",
        "plt.scatter(X, y);"
      ],
      "metadata": {
        "colab": {
          "base_uri": "https://localhost:8080/",
          "height": 269
        },
        "id": "69KS6J7wsYeG",
        "outputId": "ffd4466b-9bea-4103-df60-9241cf0773a1"
      },
      "execution_count": 2,
      "outputs": [
        {
          "output_type": "display_data",
          "data": {
            "text/plain": [
              "<Figure size 432x288 with 1 Axes>"
            ],
            "image/png": "[encoded data removed]"
          },
          "metadata": {
            "needs_background": "light"
          }
        }
      ]
    },
    {
      "cell_type": "code",
      "source": [
        "y == X + 10"
      ],
      "metadata": {
        "id": "B3c5IxaCs5Xu",
        "colab": {
          "base_uri": "https://localhost:8080/"
        },
        "outputId": "dc5b32b5-930e-407a-d8f8-db4ecf5cfd60"
      },
      "execution_count": 3,
      "outputs": [
        {
          "output_type": "execute_result",
          "data": {
            "text/plain": [
              "array([ True,  True,  True,  True,  True,  True,  True,  True])"
            ]
          },
          "metadata": {},
          "execution_count": 3
        }
      ]
    },
    {
      "cell_type": "markdown",
      "source": [
        "## Input and output shapes"
      ],
      "metadata": {
        "id": "eAYsJjucuLbv"
      }
    },
    {
      "cell_type": "code",
      "source": [
        "# Create a demo tensor for our housing price prediction problem\n",
        "house_info = tf.constant(['bedroom', 'bathroom', 'garage'])\n",
        "house_price = tf.constant([939700])\n",
        "house_info, house_price"
      ],
      "metadata": {
        "colab": {
          "base_uri": "https://localhost:8080/"
        },
        "id": "WDtOSnZ6uOJh",
        "outputId": "d7fbde02-5c64-46a1-e5e5-26d467787fcd"
      },
      "execution_count": 4,
      "outputs": [
        {
          "output_type": "execute_result",
          "data": {
            "text/plain": [
              "(<tf.Tensor: shape=(3,), dtype=string, numpy=array([b'bedroom', b'bathroom', b'garage'], dtype=object)>,\n",
              " <tf.Tensor: shape=(1,), dtype=int32, numpy=array([939700], dtype=int32)>)"
            ]
          },
          "metadata": {},
          "execution_count": 4
        }
      ]
    },
    {
      "cell_type": "code",
      "source": [
        "input_shape = X[0].shape\n",
        "output_shape = y[0].shape\n",
        "input_shape, output_shape"
      ],
      "metadata": {
        "colab": {
          "base_uri": "https://localhost:8080/"
        },
        "id": "URJZdzV6uwTS",
        "outputId": "0960e80c-3f6c-4575-c695-66bf0d707df3"
      },
      "execution_count": 5,
      "outputs": [
        {
          "output_type": "execute_result",
          "data": {
            "text/plain": [
              "((), ())"
            ]
          },
          "metadata": {},
          "execution_count": 5
        }
      ]
    },
    {
      "cell_type": "code",
      "source": [
        "# Turn our NumPy arrays into tensors\n",
        "X = tf.constant(X)\n",
        "y = tf.constant(y)\n",
        "X, y"
      ],
      "metadata": {
        "colab": {
          "base_uri": "https://localhost:8080/"
        },
        "id": "bwv4EGH-u_QA",
        "outputId": "f5e0bed7-0b25-4b23-90f7-4dfcb3f8bed9"
      },
      "execution_count": 6,
      "outputs": [
        {
          "output_type": "execute_result",
          "data": {
            "text/plain": [
              "(<tf.Tensor: shape=(8,), dtype=float64, numpy=array([-7., -4., -1.,  2.,  5.,  8., 11., 14.])>,\n",
              " <tf.Tensor: shape=(8,), dtype=float64, numpy=array([ 3.,  6.,  9., 12., 15., 18., 21., 24.])>)"
            ]
          },
          "metadata": {},
          "execution_count": 6
        }
      ]
    },
    {
      "cell_type": "code",
      "source": [
        "input_shape = X[0].shape\n",
        "output_shape = y[0].shape\n",
        "input_shape, output_shape"
      ],
      "metadata": {
        "colab": {
          "base_uri": "https://localhost:8080/"
        },
        "id": "vmZZgAuXwoXt",
        "outputId": "5035d41d-5c32-41e3-db50-01444757884b"
      },
      "execution_count": 7,
      "outputs": [
        {
          "output_type": "execute_result",
          "data": {
            "text/plain": [
              "(TensorShape([]), TensorShape([]))"
            ]
          },
          "metadata": {},
          "execution_count": 7
        }
      ]
    },
    {
      "cell_type": "markdown",
      "source": [
        "## Steps in modelling with TensorFlow\n",
        "\n",
        "1. **Creating a model** - define the input and output layers, as well the hidden layers of a deep learning model\n",
        "2. **Compiling a model** - define the loss function (in order words, the function which tells our model how wrong it is) and the optimizer (tells our model how to improve the patterns its learning) and evaluation metrics (what we can use to interpret the performance of our model).\n",
        "3. **Fitting a model** - letting the model try to find patterns between X & y (features and labels)."
      ],
      "metadata": {
        "id": "-SpOWiv7wwsQ"
      }
    },
    {
      "cell_type": "code",
      "source": [
        "# Set random seed\n",
        "tf.random.set_seed(42)\n",
        "\n",
        "# 1. Create a model using the Sequential API\n",
        "model = tf.keras.Sequential([\n",
        "    tf.keras.layers.Dense(1)\n",
        "])\n",
        "\n",
        "# 2. Compile the model\n",
        "model.compile(loss=tf.keras.losses.mae,\n",
        "              optimizer=tf.keras.optimizers.SGD(),\n",
        "              metrics=['mae'])\n",
        "\n",
        "# 3. Fit the model\n",
        "model.fit(tf.expand_dims(X, axis=-1), y, epochs=5)"
      ],
      "metadata": {
        "colab": {
          "base_uri": "https://localhost:8080/"
        },
        "id": "Sf3uFIsWyJwP",
        "outputId": "770f1098-9b49-4ae1-d5a8-ef3253c8401d"
      },
      "execution_count": 8,
      "outputs": [
        {
          "output_type": "stream",
          "name": "stdout",
          "text": [
            "Epoch 1/5\n",
            "1/1 [==============================] - 2s 2s/step - loss: 10.7560 - mae: 10.7560\n",
            "Epoch 2/5\n",
            "1/1 [==============================] - 0s 23ms/step - loss: 10.6235 - mae: 10.6235\n",
            "Epoch 3/5\n",
            "1/1 [==============================] - 0s 32ms/step - loss: 10.4910 - mae: 10.4910\n",
            "Epoch 4/5\n",
            "1/1 [==============================] - 0s 15ms/step - loss: 10.3585 - mae: 10.3585\n",
            "Epoch 5/5\n",
            "1/1 [==============================] - 0s 10ms/step - loss: 10.2260 - mae: 10.2260\n"
          ]
        },
        {
          "output_type": "execute_result",
          "data": {
            "text/plain": [
              "<keras.callbacks.History at 0x7f90247f7f70>"
            ]
          },
          "metadata": {},
          "execution_count": 8
        }
      ]
    },
    {
      "cell_type": "code",
      "source": [
        "# Check out X and y\n",
        "X, y"
      ],
      "metadata": {
        "colab": {
          "base_uri": "https://localhost:8080/"
        },
        "id": "j7-I4FtPyYhQ",
        "outputId": "7a1aff71-ef60-4aad-921f-b9f244dd9425"
      },
      "execution_count": 9,
      "outputs": [
        {
          "output_type": "execute_result",
          "data": {
            "text/plain": [
              "(<tf.Tensor: shape=(8,), dtype=float64, numpy=array([-7., -4., -1.,  2.,  5.,  8., 11., 14.])>,\n",
              " <tf.Tensor: shape=(8,), dtype=float64, numpy=array([ 3.,  6.,  9., 12., 15., 18., 21., 24.])>)"
            ]
          },
          "metadata": {},
          "execution_count": 9
        }
      ]
    },
    {
      "cell_type": "code",
      "source": [
        "# Try and make a prediction using our model\n",
        "y_pred = model.predict([17.0])\n",
        "y_pred"
      ],
      "metadata": {
        "colab": {
          "base_uri": "https://localhost:8080/"
        },
        "id": "Xq_wGG_p3UlD",
        "outputId": "5489160a-b85e-4167-f56a-167a639d121b"
      },
      "execution_count": 10,
      "outputs": [
        {
          "output_type": "stream",
          "name": "stdout",
          "text": [
            "1/1 [==============================] - 1s 631ms/step\n"
          ]
        },
        {
          "output_type": "execute_result",
          "data": {
            "text/plain": [
              "array([[16.352942]], dtype=float32)"
            ]
          },
          "metadata": {},
          "execution_count": 10
        }
      ]
    },
    {
      "cell_type": "code",
      "source": [
        "y_pred + 11"
      ],
      "metadata": {
        "colab": {
          "base_uri": "https://localhost:8080/"
        },
        "id": "gCShjcuZ3dz2",
        "outputId": "45e22951-7477-47d1-f494-76e17ad214c2"
      },
      "execution_count": 11,
      "outputs": [
        {
          "output_type": "execute_result",
          "data": {
            "text/plain": [
              "array([[27.352942]], dtype=float32)"
            ]
          },
          "metadata": {},
          "execution_count": 11
        }
      ]
    },
    {
      "cell_type": "markdown",
      "source": [
        "## Improving our model\n",
        "\n",
        "We can improve our model, by altering the steps we took to create a model.\n",
        "\n",
        "1. **Creating a model** - here we might add more layers, increase the number of hidden units( also called neurons) within each of the hidden layers, change the activation function of each layer.\n",
        "2. **Compiling a model** - here we might change the optimization function or perhaps the **learning rate** of the optimization function.\n",
        "3. **Fitting a model** - here we might fit a model for more **epochs** (leave it training for longer) or on more data (give the model more examples to learn from).\n"
      ],
      "metadata": {
        "id": "nBfuyXk24J6c"
      }
    },
    {
      "cell_type": "code",
      "source": [
        "# Let's rebuild our model\n",
        "\n",
        "# 1. Create the model\n",
        "model = tf.keras.Sequential([\n",
        "    tf.keras.layers.Dense(1)\n",
        "])\n",
        "\n",
        "# 2. Compile the model\n",
        "model.compile(loss=tf.keras.losses.mae,\n",
        "              optimizer=tf.keras.optimizers.SGD(),\n",
        "              metrics=[\"mae\"])\n",
        "\n",
        "# 3. Fit the model (this time we'll train for longer)\n",
        "model.fit(tf.expand_dims(X, axis=-1), y, epochs=100)"
      ],
      "metadata": {
        "colab": {
          "base_uri": "https://localhost:8080/"
        },
        "id": "SWizP2-w-L9A",
        "outputId": "8e82ba24-78ec-44be-a1a6-2793b7c8246e"
      },
      "execution_count": 12,
      "outputs": [
        {
          "output_type": "stream",
          "name": "stdout",
          "text": [
            "Epoch 1/100\n",
            "1/1 [==============================] - 1s 1s/step - loss: 17.5986 - mae: 17.5986\n",
            "Epoch 2/100\n",
            "1/1 [==============================] - 0s 14ms/step - loss: 17.3174 - mae: 17.3174\n",
            "Epoch 3/100\n",
            "1/1 [==============================] - 0s 26ms/step - loss: 17.0361 - mae: 17.0361\n",
            "Epoch 4/100\n",
            "1/1 [==============================] - 0s 30ms/step - loss: 16.7549 - mae: 16.7549\n",
            "Epoch 5/100\n",
            "1/1 [==============================] - 0s 32ms/step - loss: 16.4736 - mae: 16.4736\n",
            "Epoch 6/100\n",
            "1/1 [==============================] - 0s 18ms/step - loss: 16.1924 - mae: 16.1924\n",
            "Epoch 7/100\n",
            "1/1 [==============================] - 0s 32ms/step - loss: 15.9111 - mae: 15.9111\n",
            "Epoch 8/100\n",
            "1/1 [==============================] - 0s 27ms/step - loss: 15.6299 - mae: 15.6299\n",
            "Epoch 9/100\n",
            "1/1 [==============================] - 0s 23ms/step - loss: 15.3486 - mae: 15.3486\n",
            "Epoch 10/100\n",
            "1/1 [==============================] - 0s 12ms/step - loss: 15.0674 - mae: 15.0674\n",
            "Epoch 11/100\n",
            "1/1 [==============================] - 0s 16ms/step - loss: 14.8199 - mae: 14.8199\n",
            "Epoch 12/100\n",
            "1/1 [==============================] - 0s 15ms/step - loss: 14.6874 - mae: 14.6874\n",
            "Epoch 13/100\n",
            "1/1 [==============================] - 0s 33ms/step - loss: 14.5549 - mae: 14.5549\n",
            "Epoch 14/100\n",
            "1/1 [==============================] - 0s 38ms/step - loss: 14.4224 - mae: 14.4224\n",
            "Epoch 15/100\n",
            "1/1 [==============================] - 0s 22ms/step - loss: 14.2899 - mae: 14.2899\n",
            "Epoch 16/100\n",
            "1/1 [==============================] - 0s 23ms/step - loss: 14.1574 - mae: 14.1574\n",
            "Epoch 17/100\n",
            "1/1 [==============================] - 0s 26ms/step - loss: 14.0249 - mae: 14.0249\n",
            "Epoch 18/100\n",
            "1/1 [==============================] - 0s 61ms/step - loss: 13.8924 - mae: 13.8924\n",
            "Epoch 19/100\n",
            "1/1 [==============================] - 0s 60ms/step - loss: 13.7599 - mae: 13.7599\n",
            "Epoch 20/100\n",
            "1/1 [==============================] - 0s 64ms/step - loss: 13.6274 - mae: 13.6274\n",
            "Epoch 21/100\n",
            "1/1 [==============================] - 0s 42ms/step - loss: 13.4949 - mae: 13.4949\n",
            "Epoch 22/100\n",
            "1/1 [==============================] - 0s 20ms/step - loss: 13.3624 - mae: 13.3624\n",
            "Epoch 23/100\n",
            "1/1 [==============================] - 0s 27ms/step - loss: 13.2299 - mae: 13.2299\n",
            "Epoch 24/100\n",
            "1/1 [==============================] - 0s 47ms/step - loss: 13.0974 - mae: 13.0974\n",
            "Epoch 25/100\n",
            "1/1 [==============================] - 0s 67ms/step - loss: 12.9649 - mae: 12.9649\n",
            "Epoch 26/100\n",
            "1/1 [==============================] - 0s 48ms/step - loss: 12.8324 - mae: 12.8324\n",
            "Epoch 27/100\n",
            "1/1 [==============================] - 0s 19ms/step - loss: 12.6999 - mae: 12.6999\n",
            "Epoch 28/100\n",
            "1/1 [==============================] - 0s 18ms/step - loss: 12.5674 - mae: 12.5674\n",
            "Epoch 29/100\n",
            "1/1 [==============================] - 0s 18ms/step - loss: 12.4349 - mae: 12.4349\n",
            "Epoch 30/100\n",
            "1/1 [==============================] - 0s 21ms/step - loss: 12.3024 - mae: 12.3024\n",
            "Epoch 31/100\n",
            "1/1 [==============================] - 0s 26ms/step - loss: 12.1699 - mae: 12.1699\n",
            "Epoch 32/100\n",
            "1/1 [==============================] - 0s 20ms/step - loss: 12.0374 - mae: 12.0374\n",
            "Epoch 33/100\n",
            "1/1 [==============================] - 0s 20ms/step - loss: 11.9049 - mae: 11.9049\n",
            "Epoch 34/100\n",
            "1/1 [==============================] - 0s 36ms/step - loss: 11.7724 - mae: 11.7724\n",
            "Epoch 35/100\n",
            "1/1 [==============================] - 0s 33ms/step - loss: 11.6399 - mae: 11.6399\n",
            "Epoch 36/100\n",
            "1/1 [==============================] - 0s 48ms/step - loss: 11.5074 - mae: 11.5074\n",
            "Epoch 37/100\n",
            "1/1 [==============================] - 0s 26ms/step - loss: 11.3749 - mae: 11.3749\n",
            "Epoch 38/100\n",
            "1/1 [==============================] - 0s 15ms/step - loss: 11.2424 - mae: 11.2424\n",
            "Epoch 39/100\n",
            "1/1 [==============================] - 0s 17ms/step - loss: 11.1099 - mae: 11.1099\n",
            "Epoch 40/100\n",
            "1/1 [==============================] - 0s 32ms/step - loss: 10.9774 - mae: 10.9774\n",
            "Epoch 41/100\n",
            "1/1 [==============================] - 0s 27ms/step - loss: 10.8449 - mae: 10.8449\n",
            "Epoch 42/100\n",
            "1/1 [==============================] - 0s 26ms/step - loss: 10.7124 - mae: 10.7124\n",
            "Epoch 43/100\n",
            "1/1 [==============================] - 0s 25ms/step - loss: 10.5799 - mae: 10.5799\n",
            "Epoch 44/100\n",
            "1/1 [==============================] - 0s 27ms/step - loss: 10.4474 - mae: 10.4474\n",
            "Epoch 45/100\n",
            "1/1 [==============================] - 0s 16ms/step - loss: 10.3149 - mae: 10.3149\n",
            "Epoch 46/100\n",
            "1/1 [==============================] - 0s 20ms/step - loss: 10.1824 - mae: 10.1824\n",
            "Epoch 47/100\n",
            "1/1 [==============================] - 0s 34ms/step - loss: 10.0499 - mae: 10.0499\n",
            "Epoch 48/100\n",
            "1/1 [==============================] - 0s 31ms/step - loss: 9.9174 - mae: 9.9174\n",
            "Epoch 49/100\n",
            "1/1 [==============================] - 0s 12ms/step - loss: 9.7849 - mae: 9.7849\n",
            "Epoch 50/100\n",
            "1/1 [==============================] - 0s 31ms/step - loss: 9.6524 - mae: 9.6524\n",
            "Epoch 51/100\n",
            "1/1 [==============================] - 0s 36ms/step - loss: 9.5199 - mae: 9.5199\n",
            "Epoch 52/100\n",
            "1/1 [==============================] - 0s 28ms/step - loss: 9.3874 - mae: 9.3874\n",
            "Epoch 53/100\n",
            "1/1 [==============================] - 0s 25ms/step - loss: 9.2549 - mae: 9.2549\n",
            "Epoch 54/100\n",
            "1/1 [==============================] - 0s 17ms/step - loss: 9.1224 - mae: 9.1224\n",
            "Epoch 55/100\n",
            "1/1 [==============================] - 0s 23ms/step - loss: 8.9899 - mae: 8.9899\n",
            "Epoch 56/100\n",
            "1/1 [==============================] - 0s 20ms/step - loss: 8.8574 - mae: 8.8574\n",
            "Epoch 57/100\n",
            "1/1 [==============================] - 0s 24ms/step - loss: 8.7249 - mae: 8.7249\n",
            "Epoch 58/100\n",
            "1/1 [==============================] - 0s 24ms/step - loss: 8.5924 - mae: 8.5924\n",
            "Epoch 59/100\n",
            "1/1 [==============================] - 0s 68ms/step - loss: 8.4599 - mae: 8.4599\n",
            "Epoch 60/100\n",
            "1/1 [==============================] - 0s 35ms/step - loss: 8.3274 - mae: 8.3274\n",
            "Epoch 61/100\n",
            "1/1 [==============================] - 0s 37ms/step - loss: 8.1949 - mae: 8.1949\n",
            "Epoch 62/100\n",
            "1/1 [==============================] - 0s 23ms/step - loss: 8.0624 - mae: 8.0624\n",
            "Epoch 63/100\n",
            "1/1 [==============================] - 0s 67ms/step - loss: 7.9299 - mae: 7.9299\n",
            "Epoch 64/100\n",
            "1/1 [==============================] - 0s 34ms/step - loss: 7.7974 - mae: 7.7974\n",
            "Epoch 65/100\n",
            "1/1 [==============================] - 0s 35ms/step - loss: 7.6649 - mae: 7.6649\n",
            "Epoch 66/100\n",
            "1/1 [==============================] - 0s 29ms/step - loss: 7.5324 - mae: 7.5324\n",
            "Epoch 67/100\n",
            "1/1 [==============================] - 0s 37ms/step - loss: 7.3999 - mae: 7.3999\n",
            "Epoch 68/100\n",
            "1/1 [==============================] - 0s 34ms/step - loss: 7.2674 - mae: 7.2674\n",
            "Epoch 69/100\n",
            "1/1 [==============================] - 0s 28ms/step - loss: 7.1349 - mae: 7.1349\n",
            "Epoch 70/100\n",
            "1/1 [==============================] - 0s 18ms/step - loss: 7.0024 - mae: 7.0024\n",
            "Epoch 71/100\n",
            "1/1 [==============================] - 0s 29ms/step - loss: 6.9938 - mae: 6.9938\n",
            "Epoch 72/100\n",
            "1/1 [==============================] - 0s 37ms/step - loss: 6.9881 - mae: 6.9881\n",
            "Epoch 73/100\n",
            "1/1 [==============================] - 0s 35ms/step - loss: 6.9825 - mae: 6.9825\n",
            "Epoch 74/100\n",
            "1/1 [==============================] - 0s 28ms/step - loss: 6.9769 - mae: 6.9769\n",
            "Epoch 75/100\n",
            "1/1 [==============================] - 0s 47ms/step - loss: 6.9713 - mae: 6.9713\n",
            "Epoch 76/100\n",
            "1/1 [==============================] - 0s 46ms/step - loss: 6.9656 - mae: 6.9656\n",
            "Epoch 77/100\n",
            "1/1 [==============================] - 0s 57ms/step - loss: 6.9600 - mae: 6.9600\n",
            "Epoch 78/100\n",
            "1/1 [==============================] - 0s 59ms/step - loss: 6.9544 - mae: 6.9544\n",
            "Epoch 79/100\n",
            "1/1 [==============================] - 0s 38ms/step - loss: 6.9488 - mae: 6.9488\n",
            "Epoch 80/100\n",
            "1/1 [==============================] - 0s 30ms/step - loss: 6.9431 - mae: 6.9431\n",
            "Epoch 81/100\n",
            "1/1 [==============================] - 0s 21ms/step - loss: 6.9375 - mae: 6.9375\n",
            "Epoch 82/100\n",
            "1/1 [==============================] - 0s 26ms/step - loss: 6.9319 - mae: 6.9319\n",
            "Epoch 83/100\n",
            "1/1 [==============================] - 0s 56ms/step - loss: 6.9263 - mae: 6.9263\n",
            "Epoch 84/100\n",
            "1/1 [==============================] - 0s 32ms/step - loss: 6.9206 - mae: 6.9206\n",
            "Epoch 85/100\n",
            "1/1 [==============================] - 0s 24ms/step - loss: 6.9150 - mae: 6.9150\n",
            "Epoch 86/100\n",
            "1/1 [==============================] - 0s 48ms/step - loss: 6.9094 - mae: 6.9094\n",
            "Epoch 87/100\n",
            "1/1 [==============================] - 0s 18ms/step - loss: 6.9038 - mae: 6.9038\n",
            "Epoch 88/100\n",
            "1/1 [==============================] - 0s 31ms/step - loss: 6.8981 - mae: 6.8981\n",
            "Epoch 89/100\n",
            "1/1 [==============================] - 0s 30ms/step - loss: 6.8925 - mae: 6.8925\n",
            "Epoch 90/100\n",
            "1/1 [==============================] - 0s 20ms/step - loss: 6.8869 - mae: 6.8869\n",
            "Epoch 91/100\n",
            "1/1 [==============================] - 0s 32ms/step - loss: 6.8813 - mae: 6.8813\n",
            "Epoch 92/100\n",
            "1/1 [==============================] - 0s 26ms/step - loss: 6.8756 - mae: 6.8756\n",
            "Epoch 93/100\n",
            "1/1 [==============================] - 0s 44ms/step - loss: 6.8700 - mae: 6.8700\n",
            "Epoch 94/100\n",
            "1/1 [==============================] - 0s 25ms/step - loss: 6.8644 - mae: 6.8644\n",
            "Epoch 95/100\n",
            "1/1 [==============================] - 0s 59ms/step - loss: 6.8588 - mae: 6.8588\n",
            "Epoch 96/100\n",
            "1/1 [==============================] - 0s 43ms/step - loss: 6.8531 - mae: 6.8531\n",
            "Epoch 97/100\n",
            "1/1 [==============================] - 0s 60ms/step - loss: 6.8475 - mae: 6.8475\n",
            "Epoch 98/100\n",
            "1/1 [==============================] - 0s 25ms/step - loss: 6.8419 - mae: 6.8419\n",
            "Epoch 99/100\n",
            "1/1 [==============================] - 0s 32ms/step - loss: 6.8363 - mae: 6.8363\n",
            "Epoch 100/100\n",
            "1/1 [==============================] - 0s 23ms/step - loss: 6.8306 - mae: 6.8306\n"
          ]
        },
        {
          "output_type": "execute_result",
          "data": {
            "text/plain": [
              "<keras.callbacks.History at 0x7f902bf55910>"
            ]
          },
          "metadata": {},
          "execution_count": 12
        }
      ]
    },
    {
      "cell_type": "code",
      "source": [
        "# Remind ourselfs of the data\n",
        "X, y"
      ],
      "metadata": {
        "colab": {
          "base_uri": "https://localhost:8080/"
        },
        "id": "oqUJB_ZDBi49",
        "outputId": "79076ce0-7eb8-42ae-abbe-a895cec769a8"
      },
      "execution_count": 13,
      "outputs": [
        {
          "output_type": "execute_result",
          "data": {
            "text/plain": [
              "(<tf.Tensor: shape=(8,), dtype=float64, numpy=array([-7., -4., -1.,  2.,  5.,  8., 11., 14.])>,\n",
              " <tf.Tensor: shape=(8,), dtype=float64, numpy=array([ 3.,  6.,  9., 12., 15., 18., 21., 24.])>)"
            ]
          },
          "metadata": {},
          "execution_count": 13
        }
      ]
    },
    {
      "cell_type": "code",
      "source": [
        "# Let's see if our model's prediction has improved...\n",
        "y_pred = model.predict([17.0])\n",
        "y_pred"
      ],
      "metadata": {
        "colab": {
          "base_uri": "https://localhost:8080/"
        },
        "id": "u_IzXLwmCESU",
        "outputId": "931f9c4d-4d88-4b7c-b55b-9a03fa44f3b6"
      },
      "execution_count": 14,
      "outputs": [
        {
          "output_type": "stream",
          "name": "stdout",
          "text": [
            "1/1 [==============================] - 1s 706ms/step\n"
          ]
        },
        {
          "output_type": "execute_result",
          "data": {
            "text/plain": [
              "array([[29.824692]], dtype=float32)"
            ]
          },
          "metadata": {},
          "execution_count": 14
        }
      ]
    },
    {
      "cell_type": "code",
      "source": [
        "# Let's see if we can make another change to improve our model\n",
        "\n",
        "# 1. Create the model (this time with an extra hidden layers with 100 hidden units)\n",
        "model = tf.keras.Sequential([\n",
        "    tf.keras.layers.Dense(100, activation='relu'),\n",
        "    tf.keras.layers.Dense(100, activation='relu'),\n",
        "    tf.keras.layers.Dense(1)\n",
        "])\n",
        "\n",
        "# 2. Compile the model\n",
        "model.compile(loss='mae',\n",
        "              optimizer=tf.keras.optimizers.Adam(learning_rate=0.01),\n",
        "              metrics=['mae'])\n",
        "\n",
        "# 3. Fit the model\n",
        "model.fit(tf.expand_dims(X, axis=-1), y, epochs=100)"
      ],
      "metadata": {
        "colab": {
          "base_uri": "https://localhost:8080/"
        },
        "id": "FH2Q1tNSCQew",
        "outputId": "f02f3cba-eac1-4f7f-d859-f937eaa98ff4"
      },
      "execution_count": 15,
      "outputs": [
        {
          "output_type": "stream",
          "name": "stdout",
          "text": [
            "Epoch 1/100\n",
            "1/1 [==============================] - 3s 3s/step - loss: 13.3548 - mae: 13.3548\n",
            "Epoch 2/100\n",
            "1/1 [==============================] - 0s 18ms/step - loss: 10.4438 - mae: 10.4438\n",
            "Epoch 3/100\n",
            "1/1 [==============================] - 0s 16ms/step - loss: 8.2536 - mae: 8.2536\n",
            "Epoch 4/100\n",
            "1/1 [==============================] - 0s 13ms/step - loss: 5.8993 - mae: 5.8993\n",
            "Epoch 5/100\n",
            "1/1 [==============================] - 0s 14ms/step - loss: 4.0392 - mae: 4.0392\n",
            "Epoch 6/100\n",
            "1/1 [==============================] - 0s 16ms/step - loss: 4.9264 - mae: 4.9264\n",
            "Epoch 7/100\n",
            "1/1 [==============================] - 0s 27ms/step - loss: 5.4908 - mae: 5.4908\n",
            "Epoch 8/100\n",
            "1/1 [==============================] - 0s 24ms/step - loss: 5.4084 - mae: 5.4084\n",
            "Epoch 9/100\n",
            "1/1 [==============================] - 0s 30ms/step - loss: 4.9092 - mae: 4.9092\n",
            "Epoch 10/100\n",
            "1/1 [==============================] - 0s 17ms/step - loss: 4.1582 - mae: 4.1582\n",
            "Epoch 11/100\n",
            "1/1 [==============================] - 0s 24ms/step - loss: 3.8474 - mae: 3.8474\n",
            "Epoch 12/100\n",
            "1/1 [==============================] - 0s 19ms/step - loss: 3.9168 - mae: 3.9168\n",
            "Epoch 13/100\n",
            "1/1 [==============================] - 0s 17ms/step - loss: 4.3839 - mae: 4.3839\n",
            "Epoch 14/100\n",
            "1/1 [==============================] - 0s 17ms/step - loss: 4.3569 - mae: 4.3569\n",
            "Epoch 15/100\n",
            "1/1 [==============================] - 0s 27ms/step - loss: 3.8407 - mae: 3.8407\n",
            "Epoch 16/100\n",
            "1/1 [==============================] - 0s 13ms/step - loss: 3.4015 - mae: 3.4015\n",
            "Epoch 17/100\n",
            "1/1 [==============================] - 0s 21ms/step - loss: 3.5521 - mae: 3.5521\n",
            "Epoch 18/100\n",
            "1/1 [==============================] - 0s 16ms/step - loss: 3.9627 - mae: 3.9627\n",
            "Epoch 19/100\n",
            "1/1 [==============================] - 0s 32ms/step - loss: 4.0575 - mae: 4.0575\n",
            "Epoch 20/100\n",
            "1/1 [==============================] - 0s 29ms/step - loss: 3.8924 - mae: 3.8924\n",
            "Epoch 21/100\n",
            "1/1 [==============================] - 0s 24ms/step - loss: 3.4769 - mae: 3.4769\n",
            "Epoch 22/100\n",
            "1/1 [==============================] - 0s 16ms/step - loss: 3.0879 - mae: 3.0879\n",
            "Epoch 23/100\n",
            "1/1 [==============================] - 0s 23ms/step - loss: 2.8382 - mae: 2.8382\n",
            "Epoch 24/100\n",
            "1/1 [==============================] - 0s 19ms/step - loss: 2.8525 - mae: 2.8525\n",
            "Epoch 25/100\n",
            "1/1 [==============================] - 0s 11ms/step - loss: 2.8059 - mae: 2.8059\n",
            "Epoch 26/100\n",
            "1/1 [==============================] - 0s 14ms/step - loss: 2.5116 - mae: 2.5116\n",
            "Epoch 27/100\n",
            "1/1 [==============================] - 0s 13ms/step - loss: 2.2352 - mae: 2.2352\n",
            "Epoch 28/100\n",
            "1/1 [==============================] - 0s 18ms/step - loss: 2.1269 - mae: 2.1269\n",
            "Epoch 29/100\n",
            "1/1 [==============================] - 0s 12ms/step - loss: 2.1276 - mae: 2.1276\n",
            "Epoch 30/100\n",
            "1/1 [==============================] - 0s 12ms/step - loss: 1.8503 - mae: 1.8503\n",
            "Epoch 31/100\n",
            "1/1 [==============================] - 0s 14ms/step - loss: 1.3340 - mae: 1.3340\n",
            "Epoch 32/100\n",
            "1/1 [==============================] - 0s 21ms/step - loss: 1.3146 - mae: 1.3146\n",
            "Epoch 33/100\n",
            "1/1 [==============================] - 0s 21ms/step - loss: 0.9137 - mae: 0.9137\n",
            "Epoch 34/100\n",
            "1/1 [==============================] - 0s 19ms/step - loss: 0.6460 - mae: 0.6460\n",
            "Epoch 35/100\n",
            "1/1 [==============================] - 0s 17ms/step - loss: 0.5892 - mae: 0.5892\n",
            "Epoch 36/100\n",
            "1/1 [==============================] - 0s 23ms/step - loss: 0.7308 - mae: 0.7308\n",
            "Epoch 37/100\n",
            "1/1 [==============================] - 0s 20ms/step - loss: 0.6458 - mae: 0.6458\n",
            "Epoch 38/100\n",
            "1/1 [==============================] - 0s 38ms/step - loss: 0.5598 - mae: 0.5598\n",
            "Epoch 39/100\n",
            "1/1 [==============================] - 0s 17ms/step - loss: 0.3828 - mae: 0.3828\n",
            "Epoch 40/100\n",
            "1/1 [==============================] - 0s 17ms/step - loss: 0.9788 - mae: 0.9788\n",
            "Epoch 41/100\n",
            "1/1 [==============================] - 0s 13ms/step - loss: 1.2811 - mae: 1.2811\n",
            "Epoch 42/100\n",
            "1/1 [==============================] - 0s 11ms/step - loss: 0.9354 - mae: 0.9354\n",
            "Epoch 43/100\n",
            "1/1 [==============================] - 0s 12ms/step - loss: 0.5804 - mae: 0.5804\n",
            "Epoch 44/100\n",
            "1/1 [==============================] - 0s 12ms/step - loss: 0.6264 - mae: 0.6264\n",
            "Epoch 45/100\n",
            "1/1 [==============================] - 0s 12ms/step - loss: 0.4014 - mae: 0.4014\n",
            "Epoch 46/100\n",
            "1/1 [==============================] - 0s 21ms/step - loss: 0.3929 - mae: 0.3929\n",
            "Epoch 47/100\n",
            "1/1 [==============================] - 0s 22ms/step - loss: 0.3232 - mae: 0.3232\n",
            "Epoch 48/100\n",
            "1/1 [==============================] - 0s 11ms/step - loss: 0.2258 - mae: 0.2258\n",
            "Epoch 49/100\n",
            "1/1 [==============================] - 0s 11ms/step - loss: 0.4206 - mae: 0.4206\n",
            "Epoch 50/100\n",
            "1/1 [==============================] - 0s 14ms/step - loss: 0.2261 - mae: 0.2261\n",
            "Epoch 51/100\n",
            "1/1 [==============================] - 0s 11ms/step - loss: 0.2711 - mae: 0.2711\n",
            "Epoch 52/100\n",
            "1/1 [==============================] - 0s 30ms/step - loss: 0.4965 - mae: 0.4965\n",
            "Epoch 53/100\n",
            "1/1 [==============================] - 0s 21ms/step - loss: 0.3850 - mae: 0.3850\n",
            "Epoch 54/100\n",
            "1/1 [==============================] - 0s 15ms/step - loss: 0.4932 - mae: 0.4932\n",
            "Epoch 55/100\n",
            "1/1 [==============================] - 0s 32ms/step - loss: 0.4634 - mae: 0.4634\n",
            "Epoch 56/100\n",
            "1/1 [==============================] - 0s 13ms/step - loss: 0.3548 - mae: 0.3548\n",
            "Epoch 57/100\n",
            "1/1 [==============================] - 0s 12ms/step - loss: 0.2621 - mae: 0.2621\n",
            "Epoch 58/100\n",
            "1/1 [==============================] - 0s 12ms/step - loss: 0.5280 - mae: 0.5280\n",
            "Epoch 59/100\n",
            "1/1 [==============================] - 0s 12ms/step - loss: 0.5392 - mae: 0.5392\n",
            "Epoch 60/100\n",
            "1/1 [==============================] - 0s 14ms/step - loss: 0.2167 - mae: 0.2167\n",
            "Epoch 61/100\n",
            "1/1 [==============================] - 0s 14ms/step - loss: 0.1687 - mae: 0.1687\n",
            "Epoch 62/100\n",
            "1/1 [==============================] - 0s 13ms/step - loss: 0.5707 - mae: 0.5707\n",
            "Epoch 63/100\n",
            "1/1 [==============================] - 0s 27ms/step - loss: 0.5190 - mae: 0.5190\n",
            "Epoch 64/100\n",
            "1/1 [==============================] - 0s 24ms/step - loss: 0.1958 - mae: 0.1958\n",
            "Epoch 65/100\n",
            "1/1 [==============================] - 0s 19ms/step - loss: 0.4790 - mae: 0.4790\n",
            "Epoch 66/100\n",
            "1/1 [==============================] - 0s 21ms/step - loss: 0.1350 - mae: 0.1350\n",
            "Epoch 67/100\n",
            "1/1 [==============================] - 0s 22ms/step - loss: 0.7923 - mae: 0.7923\n",
            "Epoch 68/100\n",
            "1/1 [==============================] - 0s 16ms/step - loss: 0.9906 - mae: 0.9906\n",
            "Epoch 69/100\n",
            "1/1 [==============================] - 0s 23ms/step - loss: 0.5272 - mae: 0.5272\n",
            "Epoch 70/100\n",
            "1/1 [==============================] - 0s 30ms/step - loss: 0.5453 - mae: 0.5453\n",
            "Epoch 71/100\n",
            "1/1 [==============================] - 0s 21ms/step - loss: 0.9539 - mae: 0.9539\n",
            "Epoch 72/100\n",
            "1/1 [==============================] - 0s 25ms/step - loss: 0.8405 - mae: 0.8405\n",
            "Epoch 73/100\n",
            "1/1 [==============================] - 0s 17ms/step - loss: 0.2262 - mae: 0.2262\n",
            "Epoch 74/100\n",
            "1/1 [==============================] - 0s 23ms/step - loss: 0.6516 - mae: 0.6516\n",
            "Epoch 75/100\n",
            "1/1 [==============================] - 0s 25ms/step - loss: 0.5359 - mae: 0.5359\n",
            "Epoch 76/100\n",
            "1/1 [==============================] - 0s 32ms/step - loss: 0.1915 - mae: 0.1915\n",
            "Epoch 77/100\n",
            "1/1 [==============================] - 0s 22ms/step - loss: 0.2225 - mae: 0.2225\n",
            "Epoch 78/100\n",
            "1/1 [==============================] - 0s 28ms/step - loss: 0.2358 - mae: 0.2358\n",
            "Epoch 79/100\n",
            "1/1 [==============================] - 0s 24ms/step - loss: 0.0747 - mae: 0.0747\n",
            "Epoch 80/100\n",
            "1/1 [==============================] - 0s 23ms/step - loss: 0.3286 - mae: 0.3286\n",
            "Epoch 81/100\n",
            "1/1 [==============================] - 0s 16ms/step - loss: 0.1126 - mae: 0.1126\n",
            "Epoch 82/100\n",
            "1/1 [==============================] - 0s 12ms/step - loss: 0.5806 - mae: 0.5806\n",
            "Epoch 83/100\n",
            "1/1 [==============================] - 0s 12ms/step - loss: 0.6067 - mae: 0.6067\n",
            "Epoch 84/100\n",
            "1/1 [==============================] - 0s 48ms/step - loss: 0.1315 - mae: 0.1315\n",
            "Epoch 85/100\n",
            "1/1 [==============================] - 0s 20ms/step - loss: 0.7682 - mae: 0.7682\n",
            "Epoch 86/100\n",
            "1/1 [==============================] - 0s 22ms/step - loss: 0.9846 - mae: 0.9846\n",
            "Epoch 87/100\n",
            "1/1 [==============================] - 0s 26ms/step - loss: 0.6939 - mae: 0.6939\n",
            "Epoch 88/100\n",
            "1/1 [==============================] - 0s 33ms/step - loss: 0.1034 - mae: 0.1034\n",
            "Epoch 89/100\n",
            "1/1 [==============================] - 0s 25ms/step - loss: 0.2999 - mae: 0.2999\n",
            "Epoch 90/100\n",
            "1/1 [==============================] - 0s 22ms/step - loss: 0.0898 - mae: 0.0898\n",
            "Epoch 91/100\n",
            "1/1 [==============================] - 0s 20ms/step - loss: 0.0573 - mae: 0.0573\n",
            "Epoch 92/100\n",
            "1/1 [==============================] - 0s 26ms/step - loss: 0.1325 - mae: 0.1325\n",
            "Epoch 93/100\n",
            "1/1 [==============================] - 0s 57ms/step - loss: 0.3149 - mae: 0.3149\n",
            "Epoch 94/100\n",
            "1/1 [==============================] - 0s 38ms/step - loss: 0.1616 - mae: 0.1616\n",
            "Epoch 95/100\n",
            "1/1 [==============================] - 0s 24ms/step - loss: 0.5126 - mae: 0.5126\n",
            "Epoch 96/100\n",
            "1/1 [==============================] - 0s 27ms/step - loss: 0.5934 - mae: 0.5934\n",
            "Epoch 97/100\n",
            "1/1 [==============================] - 0s 33ms/step - loss: 0.2154 - mae: 0.2154\n",
            "Epoch 98/100\n",
            "1/1 [==============================] - 0s 34ms/step - loss: 0.6813 - mae: 0.6813\n",
            "Epoch 99/100\n",
            "1/1 [==============================] - 0s 42ms/step - loss: 0.9418 - mae: 0.9418\n",
            "Epoch 100/100\n",
            "1/1 [==============================] - 0s 33ms/step - loss: 0.6499 - mae: 0.6499\n"
          ]
        },
        {
          "output_type": "execute_result",
          "data": {
            "text/plain": [
              "<keras.callbacks.History at 0x7f90250104c0>"
            ]
          },
          "metadata": {},
          "execution_count": 15
        }
      ]
    },
    {
      "cell_type": "code",
      "source": [
        "# Let's remind ourselves of the data\n",
        "X, y"
      ],
      "metadata": {
        "colab": {
          "base_uri": "https://localhost:8080/"
        },
        "id": "4luz-p5cFBgl",
        "outputId": "b273a672-3622-4753-86c2-2eebdff553fd"
      },
      "execution_count": 16,
      "outputs": [
        {
          "output_type": "execute_result",
          "data": {
            "text/plain": [
              "(<tf.Tensor: shape=(8,), dtype=float64, numpy=array([-7., -4., -1.,  2.,  5.,  8., 11., 14.])>,\n",
              " <tf.Tensor: shape=(8,), dtype=float64, numpy=array([ 3.,  6.,  9., 12., 15., 18., 21., 24.])>)"
            ]
          },
          "metadata": {},
          "execution_count": 16
        }
      ]
    },
    {
      "cell_type": "code",
      "source": [
        "# Let's try to make a prediction\n",
        "model.predict([17.0])"
      ],
      "metadata": {
        "colab": {
          "base_uri": "https://localhost:8080/"
        },
        "id": "eKmmD2IwFYXv",
        "outputId": "f6301e53-39e3-4c0e-98b7-26de9591de8b"
      },
      "execution_count": 17,
      "outputs": [
        {
          "output_type": "stream",
          "name": "stdout",
          "text": [
            "1/1 [==============================] - 0s 140ms/step\n"
          ]
        },
        {
          "output_type": "execute_result",
          "data": {
            "text/plain": [
              "array([[26.82045]], dtype=float32)"
            ]
          },
          "metadata": {},
          "execution_count": 17
        }
      ]
    },
    {
      "cell_type": "markdown",
      "source": [
        "## Evaluating model\n",
        "\n",
        "In practice, a typical workflow you'll go through when building neural networks is:\n",
        "\n",
        "```\n",
        "Build a model => fir it => evaluate it => tweak a model => fit it => evaluate it => tweak a model => fit it => evaluate it ...\n",
        "```"
      ],
      "metadata": {
        "id": "ElJnFJ41Fd9_"
      }
    },
    {
      "cell_type": "markdown",
      "source": [
        "When it comes to evaluation... there are 3 words you should memorize:\n",
        "\n",
        " > \"Visualize, visualize, visualize\"\n",
        "\n",
        "It's a good idea to visualize:\n",
        "* The data - what data are we working with? What does it look like?\n",
        "* The model itself - what does our model look like?\n",
        "* The training of a model - how does a model perform while it learns?\n",
        "* The predictions of the model - how do the predictions of a model line up against the ground truth (the original labels)?"
      ],
      "metadata": {
        "id": "sZGret4O5KN0"
      }
    },
    {
      "cell_type": "code",
      "source": [
        "# Make a bigger dataset\n",
        "X = tf.range(-100, 100, 4)\n",
        "X"
      ],
      "metadata": {
        "id": "TBbv05-u5jXj",
        "outputId": "6873d2f8-ddc0-4ff8-b894-2f15c7bf7f64",
        "colab": {
          "base_uri": "https://localhost:8080/"
        }
      },
      "execution_count": 19,
      "outputs": [
        {
          "output_type": "execute_result",
          "data": {
            "text/plain": [
              "<tf.Tensor: shape=(50,), dtype=int32, numpy=\n",
              "array([-100,  -96,  -92,  -88,  -84,  -80,  -76,  -72,  -68,  -64,  -60,\n",
              "        -56,  -52,  -48,  -44,  -40,  -36,  -32,  -28,  -24,  -20,  -16,\n",
              "        -12,   -8,   -4,    0,    4,    8,   12,   16,   20,   24,   28,\n",
              "         32,   36,   40,   44,   48,   52,   56,   60,   64,   68,   72,\n",
              "         76,   80,   84,   88,   92,   96], dtype=int32)>"
            ]
          },
          "metadata": {},
          "execution_count": 19
        }
      ]
    },
    {
      "cell_type": "code",
      "source": [
        "# Make labels for the dataset\n",
        "y = X + 10\n",
        "y"
      ],
      "metadata": {
        "id": "VCQ9aTYR6iUk",
        "outputId": "e74cc0a1-d670-4708-a5e3-27aa06b5a759",
        "colab": {
          "base_uri": "https://localhost:8080/"
        }
      },
      "execution_count": 20,
      "outputs": [
        {
          "output_type": "execute_result",
          "data": {
            "text/plain": [
              "<tf.Tensor: shape=(50,), dtype=int32, numpy=\n",
              "array([-90, -86, -82, -78, -74, -70, -66, -62, -58, -54, -50, -46, -42,\n",
              "       -38, -34, -30, -26, -22, -18, -14, -10,  -6,  -2,   2,   6,  10,\n",
              "        14,  18,  22,  26,  30,  34,  38,  42,  46,  50,  54,  58,  62,\n",
              "        66,  70,  74,  78,  82,  86,  90,  94,  98, 102, 106], dtype=int32)>"
            ]
          },
          "metadata": {},
          "execution_count": 20
        }
      ]
    },
    {
      "cell_type": "code",
      "source": [
        "# Visualize data\n",
        "\n",
        "plt.plot(X, y);"
      ],
      "metadata": {
        "id": "oou174Lc6oQ0",
        "outputId": "3f20731c-a748-4fb8-d247-734606cfa102",
        "colab": {
          "base_uri": "https://localhost:8080/",
          "height": 265
        }
      },
      "execution_count": 22,
      "outputs": [
        {
          "output_type": "display_data",
          "data": {
            "text/plain": [
              "<Figure size 432x288 with 1 Axes>"
            ],
            "image/png": "[encoded data removed]"
          },
          "metadata": {
            "needs_background": "light"
          }
        }
      ]
    },
    {
      "cell_type": "code",
      "source": [
        " "
      ],
      "metadata": {
        "id": "RJhLb8UI7m9f"
      },
      "execution_count": null,
      "outputs": []
    }
  ]
}