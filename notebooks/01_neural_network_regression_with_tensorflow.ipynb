{
  "nbformat": 4,
  "nbformat_minor": 0,
  "metadata": {
    "colab": {
      "provenance": [],
      "authorship_tag": "ABX9TyOmjJKSVce4WwSO242dg50S"
    },
    "kernelspec": {
      "name": "python3",
      "display_name": "Python 3"
    },
    "language_info": {
      "name": "python"
    }
  },
  "cells": [
    {
      "cell_type": "markdown",
      "source": [
        "## Introduction to Regression with Neural Networks in TensorFlow\n",
        "Thera ara many definitions for a regression problem but in our case, we're going to simplify it: predicting a numerical variable based on some other combination of variables, even shorter... predicting a number"
      ],
      "metadata": {
        "id": "L4t4gG39p2Mc"
      }
    },
    {
      "cell_type": "code",
      "source": [
        "# Import TensorFlow\n",
        "import tensorflow as tf\n",
        "print(tf.__version__)"
      ],
      "metadata": {
        "colab": {
          "base_uri": "https://localhost:8080/"
        },
        "id": "YICHdZj-p_0n",
        "outputId": "b2e56301-18da-474a-ddd4-e0a9fc1743d5"
      },
      "execution_count": 1,
      "outputs": [
        {
          "output_type": "stream",
          "name": "stdout",
          "text": [
            "2.11.0\n"
          ]
        }
      ]
    },
    {
      "cell_type": "markdown",
      "source": [
        "## Creating data to view and fit"
      ],
      "metadata": {
        "id": "xnH8iUg1sGnS"
      }
    },
    {
      "cell_type": "code",
      "source": [
        "import numpy as np\n",
        "import matplotlib.pyplot as plt\n",
        "\n",
        "# Create features\n",
        "X = np.array([-7.0, -4.0, -1.0, 2.0, 5.0, 8.0, 11.0, 14.0])\n",
        "\n",
        "# Create labels\n",
        "y = np.array([3.0, 6.0, 9.0, 12.0, 15.0, 18.0, 21.0, 24.0])\n",
        "\n",
        "# Visualize it\n",
        "plt.scatter(X, y);"
      ],
      "metadata": {
        "colab": {
          "base_uri": "https://localhost:8080/",
          "height": 269
        },
        "id": "69KS6J7wsYeG",
        "outputId": "9c9ada9e-c2c2-4aea-f9f0-ee698bd644d1"
      },
      "execution_count": 2,
      "outputs": [
        {
          "output_type": "display_data",
          "data": {
            "text/plain": [
              "<Figure size 432x288 with 1 Axes>"
            ],
            "image/png": "[encoded data removed]"
          },
          "metadata": {
            "needs_background": "light"
          }
        }
      ]
    },
    {
      "cell_type": "code",
      "source": [
        "y == X + 10"
      ],
      "metadata": {
        "id": "B3c5IxaCs5Xu",
        "colab": {
          "base_uri": "https://localhost:8080/"
        },
        "outputId": "10da01ba-1909-40b1-b145-20152c782c0f"
      },
      "execution_count": 3,
      "outputs": [
        {
          "output_type": "execute_result",
          "data": {
            "text/plain": [
              "array([ True,  True,  True,  True,  True,  True,  True,  True])"
            ]
          },
          "metadata": {},
          "execution_count": 3
        }
      ]
    },
    {
      "cell_type": "markdown",
      "source": [
        "## Input and output shapes"
      ],
      "metadata": {
        "id": "eAYsJjucuLbv"
      }
    },
    {
      "cell_type": "code",
      "source": [
        "# Create a demo tensor for our housing price prediction problem\n",
        "house_info = tf.constant(['bedroom', 'bathroom', 'garage'])\n",
        "house_price = tf.constant([939700])\n",
        "house_info, house_price"
      ],
      "metadata": {
        "colab": {
          "base_uri": "https://localhost:8080/"
        },
        "id": "WDtOSnZ6uOJh",
        "outputId": "5eb043eb-260c-4270-9bd4-fb39f83d6483"
      },
      "execution_count": 5,
      "outputs": [
        {
          "output_type": "execute_result",
          "data": {
            "text/plain": [
              "(<tf.Tensor: shape=(3,), dtype=string, numpy=array([b'bedroom', b'bathroom', b'garage'], dtype=object)>,\n",
              " <tf.Tensor: shape=(1,), dtype=int32, numpy=array([939700], dtype=int32)>)"
            ]
          },
          "metadata": {},
          "execution_count": 5
        }
      ]
    },
    {
      "cell_type": "code",
      "source": [
        "input_shape = X[0].shape\n",
        "output_shape = y[0].shape\n",
        "input_shape, output_shape"
      ],
      "metadata": {
        "colab": {
          "base_uri": "https://localhost:8080/"
        },
        "id": "URJZdzV6uwTS",
        "outputId": "52f25819-766a-4dbe-93d6-ed5b271316f9"
      },
      "execution_count": 7,
      "outputs": [
        {
          "output_type": "execute_result",
          "data": {
            "text/plain": [
              "((), ())"
            ]
          },
          "metadata": {},
          "execution_count": 7
        }
      ]
    },
    {
      "cell_type": "code",
      "source": [
        "# Turn our NumPy arrays into tensors\n",
        "X = tf.constant(X)\n",
        "y = tf.constant(y)\n",
        "X, y"
      ],
      "metadata": {
        "colab": {
          "base_uri": "https://localhost:8080/"
        },
        "id": "bwv4EGH-u_QA",
        "outputId": "07c9c78f-4f85-469b-aeed-c27b6415a0a5"
      },
      "execution_count": 8,
      "outputs": [
        {
          "output_type": "execute_result",
          "data": {
            "text/plain": [
              "(<tf.Tensor: shape=(8,), dtype=float64, numpy=array([-7., -4., -1.,  2.,  5.,  8., 11., 14.])>,\n",
              " <tf.Tensor: shape=(8,), dtype=float64, numpy=array([ 3.,  6.,  9., 12., 15., 18., 21., 24.])>)"
            ]
          },
          "metadata": {},
          "execution_count": 8
        }
      ]
    },
    {
      "cell_type": "code",
      "source": [
        "input_shape = X[0].shape\n",
        "output_shape = y[0].shape\n",
        "input_shape, output_shape"
      ],
      "metadata": {
        "colab": {
          "base_uri": "https://localhost:8080/"
        },
        "id": "vmZZgAuXwoXt",
        "outputId": "da9ef7ae-7c21-466c-f031-b45eff70bed2"
      },
      "execution_count": 10,
      "outputs": [
        {
          "output_type": "execute_result",
          "data": {
            "text/plain": [
              "(TensorShape([]), TensorShape([]))"
            ]
          },
          "metadata": {},
          "execution_count": 10
        }
      ]
    },
    {
      "cell_type": "markdown",
      "source": [
        "## Steps in modelling with TensorFlow\n",
        "\n",
        "1. **Creating a model** - define the input and output layers, as well the hidden layers of a deep learning model\n",
        "2. **Compiling a model** - define the loss function (in order words, the function which tells our model how wrong it is) and the optimizer (tells our model how to improve the patterns its learning) and evaluation metrics (what we can use to interpret the performance of our model).\n",
        "3. **Fitting a model** - letting the model try to find patterns between X & y (features and labels)."
      ],
      "metadata": {
        "id": "-SpOWiv7wwsQ"
      }
    },
    {
      "cell_type": "code",
      "source": [
        "# Set random seed\n",
        "tf.random.set_seed(42)\n",
        "\n",
        "# 1. Create a model using the Sequential API\n",
        "model = tf.keras.Sequential([\n",
        "    tf.keras.layers.Dense(1)\n",
        "])\n",
        "\n",
        "# 2. Compile the model\n",
        "model.compile(loss=tf.keras.losses.mae,\n",
        "              optimizer=tf.keras.optimizers.SGD(),\n",
        "              metrics=['mae'])\n",
        "\n",
        "# 3. Fit the model\n",
        "model.fit(tf.expand_dims(X, axis=-1), y, epochs=5)"
      ],
      "metadata": {
        "colab": {
          "base_uri": "https://localhost:8080/"
        },
        "id": "Sf3uFIsWyJwP",
        "outputId": "e30ead5e-c369-4d0d-a4a3-dc8150dd4484"
      },
      "execution_count": 26,
      "outputs": [
        {
          "output_type": "stream",
          "name": "stdout",
          "text": [
            "Epoch 1/5\n",
            "1/1 [==============================] - 0s 356ms/step - loss: 18.2219 - mae: 18.2219\n",
            "Epoch 2/5\n",
            "1/1 [==============================] - 0s 11ms/step - loss: 17.9406 - mae: 17.9406\n",
            "Epoch 3/5\n",
            "1/1 [==============================] - 0s 10ms/step - loss: 17.6594 - mae: 17.6594\n",
            "Epoch 4/5\n",
            "1/1 [==============================] - 0s 13ms/step - loss: 17.3781 - mae: 17.3781\n",
            "Epoch 5/5\n",
            "1/1 [==============================] - 0s 9ms/step - loss: 17.0969 - mae: 17.0969\n"
          ]
        },
        {
          "output_type": "execute_result",
          "data": {
            "text/plain": [
              "<keras.callbacks.History at 0x7f7bbc84aeb0>"
            ]
          },
          "metadata": {},
          "execution_count": 26
        }
      ]
    },
    {
      "cell_type": "code",
      "source": [
        "# Check out X and y\n",
        "X, y"
      ],
      "metadata": {
        "colab": {
          "base_uri": "https://localhost:8080/"
        },
        "id": "j7-I4FtPyYhQ",
        "outputId": "88ec60d9-351c-4a85-b850-9f0f5dbd2000"
      },
      "execution_count": 19,
      "outputs": [
        {
          "output_type": "execute_result",
          "data": {
            "text/plain": [
              "(<tf.Tensor: shape=(8,), dtype=float64, numpy=array([-7., -4., -1.,  2.,  5.,  8., 11., 14.])>,\n",
              " <tf.Tensor: shape=(8,), dtype=float64, numpy=array([ 3.,  6.,  9., 12., 15., 18., 21., 24.])>)"
            ]
          },
          "metadata": {},
          "execution_count": 19
        }
      ]
    },
    {
      "cell_type": "code",
      "source": [
        "# Try and make a prediction using our model\n",
        "y_pred = model.predict([17.0])\n",
        "y_pred"
      ],
      "metadata": {
        "colab": {
          "base_uri": "https://localhost:8080/"
        },
        "id": "Xq_wGG_p3UlD",
        "outputId": "b26b133d-c895-4818-9216-5fb102ac58e1"
      },
      "execution_count": 28,
      "outputs": [
        {
          "output_type": "stream",
          "name": "stdout",
          "text": [
            "1/1 [==============================] - 0s 87ms/step\n"
          ]
        },
        {
          "output_type": "execute_result",
          "data": {
            "text/plain": [
              "array([[-13.218478]], dtype=float32)"
            ]
          },
          "metadata": {},
          "execution_count": 28
        }
      ]
    },
    {
      "cell_type": "code",
      "source": [
        "y_pred + 11"
      ],
      "metadata": {
        "colab": {
          "base_uri": "https://localhost:8080/"
        },
        "id": "gCShjcuZ3dz2",
        "outputId": "5a666b62-11f1-4669-8f62-7ca634d2d251"
      },
      "execution_count": 29,
      "outputs": [
        {
          "output_type": "execute_result",
          "data": {
            "text/plain": [
              "array([[-2.2184782]], dtype=float32)"
            ]
          },
          "metadata": {},
          "execution_count": 29
        }
      ]
    },
    {
      "cell_type": "markdown",
      "source": [
        "## Improving our model\n",
        "\n",
        "We can improve our model, by altering the steps we took to create a model.\n",
        "\n",
        "1. **Creating a model** - here we might add more layers, increase the number of hidden units( also called neurons) within each of the hidden layers, change the activation function of each layer.\n",
        "2. **Compiling a model** - here we might change the optimization function or perhaps the **learning rate** of the optimization function.\n",
        "3. **Fitting a model** - here we might fit a model for more **epochs** (leave it training for longer) or on more data (give the model more examples to learn from).\n"
      ],
      "metadata": {
        "id": "nBfuyXk24J6c"
      }
    },
    {
      "cell_type": "code",
      "source": [
        "# Let's rebuild our model\n",
        "\n",
        "# 1. Create the model\n",
        "model = tf.keras.Sequential([\n",
        "    tf.keras.layers.Dense(1)\n",
        "])\n",
        "\n",
        "# 2. Compile the model\n",
        "model.compile(loss=tf.keras.losses.mae,\n",
        "              optimizer=tf.keras.optimizers.SGD(),\n",
        "              metrics=[\"mae\"])\n",
        "\n",
        "# 3. Fit the model (this time we'll train for longer)\n",
        "model.fit(tf.expand_dims(X, axis=-1), y, epochs=100)"
      ],
      "metadata": {
        "colab": {
          "base_uri": "https://localhost:8080/"
        },
        "id": "SWizP2-w-L9A",
        "outputId": "e4c5b13f-1235-4a88-cf35-318f578d88c2"
      },
      "execution_count": 32,
      "outputs": [
        {
          "output_type": "stream",
          "name": "stdout",
          "text": [
            "Epoch 1/100\n",
            "1/1 [==============================] - 0s 369ms/step - loss: 18.1976 - mae: 18.1976\n",
            "Epoch 2/100\n",
            "1/1 [==============================] - 0s 9ms/step - loss: 17.9164 - mae: 17.9164\n",
            "Epoch 3/100\n",
            "1/1 [==============================] - 0s 11ms/step - loss: 17.6351 - mae: 17.6351\n",
            "Epoch 4/100\n",
            "1/1 [==============================] - 0s 10ms/step - loss: 17.3539 - mae: 17.3539\n",
            "Epoch 5/100\n",
            "1/1 [==============================] - 0s 15ms/step - loss: 17.0726 - mae: 17.0726\n",
            "Epoch 6/100\n",
            "1/1 [==============================] - 0s 14ms/step - loss: 16.7914 - mae: 16.7914\n",
            "Epoch 7/100\n",
            "1/1 [==============================] - 0s 10ms/step - loss: 16.5101 - mae: 16.5101\n",
            "Epoch 8/100\n",
            "1/1 [==============================] - 0s 11ms/step - loss: 16.2289 - mae: 16.2289\n",
            "Epoch 9/100\n",
            "1/1 [==============================] - 0s 12ms/step - loss: 15.9476 - mae: 15.9476\n",
            "Epoch 10/100\n",
            "1/1 [==============================] - 0s 12ms/step - loss: 15.6664 - mae: 15.6664\n",
            "Epoch 11/100\n",
            "1/1 [==============================] - 0s 10ms/step - loss: 15.3851 - mae: 15.3851\n",
            "Epoch 12/100\n",
            "1/1 [==============================] - 0s 14ms/step - loss: 15.1039 - mae: 15.1039\n",
            "Epoch 13/100\n",
            "1/1 [==============================] - 0s 10ms/step - loss: 14.8367 - mae: 14.8367\n",
            "Epoch 14/100\n",
            "1/1 [==============================] - 0s 10ms/step - loss: 14.7042 - mae: 14.7042\n",
            "Epoch 15/100\n",
            "1/1 [==============================] - 0s 10ms/step - loss: 14.5717 - mae: 14.5717\n",
            "Epoch 16/100\n",
            "1/1 [==============================] - 0s 11ms/step - loss: 14.4392 - mae: 14.4392\n",
            "Epoch 17/100\n",
            "1/1 [==============================] - 0s 11ms/step - loss: 14.3067 - mae: 14.3067\n",
            "Epoch 18/100\n",
            "1/1 [==============================] - 0s 10ms/step - loss: 14.1742 - mae: 14.1742\n",
            "Epoch 19/100\n",
            "1/1 [==============================] - 0s 10ms/step - loss: 14.0417 - mae: 14.0417\n",
            "Epoch 20/100\n",
            "1/1 [==============================] - 0s 11ms/step - loss: 13.9092 - mae: 13.9092\n",
            "Epoch 21/100\n",
            "1/1 [==============================] - 0s 10ms/step - loss: 13.7767 - mae: 13.7767\n",
            "Epoch 22/100\n",
            "1/1 [==============================] - 0s 10ms/step - loss: 13.6442 - mae: 13.6442\n",
            "Epoch 23/100\n",
            "1/1 [==============================] - 0s 11ms/step - loss: 13.5117 - mae: 13.5117\n",
            "Epoch 24/100\n",
            "1/1 [==============================] - 0s 11ms/step - loss: 13.3792 - mae: 13.3792\n",
            "Epoch 25/100\n",
            "1/1 [==============================] - 0s 11ms/step - loss: 13.2467 - mae: 13.2467\n",
            "Epoch 26/100\n",
            "1/1 [==============================] - 0s 13ms/step - loss: 13.1142 - mae: 13.1142\n",
            "Epoch 27/100\n",
            "1/1 [==============================] - 0s 11ms/step - loss: 12.9817 - mae: 12.9817\n",
            "Epoch 28/100\n",
            "1/1 [==============================] - 0s 11ms/step - loss: 12.8492 - mae: 12.8492\n",
            "Epoch 29/100\n",
            "1/1 [==============================] - 0s 11ms/step - loss: 12.7167 - mae: 12.7167\n",
            "Epoch 30/100\n",
            "1/1 [==============================] - 0s 11ms/step - loss: 12.5842 - mae: 12.5842\n",
            "Epoch 31/100\n",
            "1/1 [==============================] - 0s 11ms/step - loss: 12.4517 - mae: 12.4517\n",
            "Epoch 32/100\n",
            "1/1 [==============================] - 0s 11ms/step - loss: 12.3192 - mae: 12.3192\n",
            "Epoch 33/100\n",
            "1/1 [==============================] - 0s 12ms/step - loss: 12.1867 - mae: 12.1867\n",
            "Epoch 34/100\n",
            "1/1 [==============================] - 0s 10ms/step - loss: 12.0542 - mae: 12.0542\n",
            "Epoch 35/100\n",
            "1/1 [==============================] - 0s 10ms/step - loss: 11.9217 - mae: 11.9217\n",
            "Epoch 36/100\n",
            "1/1 [==============================] - 0s 12ms/step - loss: 11.7892 - mae: 11.7892\n",
            "Epoch 37/100\n",
            "1/1 [==============================] - 0s 13ms/step - loss: 11.6567 - mae: 11.6567\n",
            "Epoch 38/100\n",
            "1/1 [==============================] - 0s 11ms/step - loss: 11.5242 - mae: 11.5242\n",
            "Epoch 39/100\n",
            "1/1 [==============================] - 0s 11ms/step - loss: 11.3917 - mae: 11.3917\n",
            "Epoch 40/100\n",
            "1/1 [==============================] - 0s 11ms/step - loss: 11.2592 - mae: 11.2592\n",
            "Epoch 41/100\n",
            "1/1 [==============================] - 0s 11ms/step - loss: 11.1267 - mae: 11.1267\n",
            "Epoch 42/100\n",
            "1/1 [==============================] - 0s 11ms/step - loss: 10.9942 - mae: 10.9942\n",
            "Epoch 43/100\n",
            "1/1 [==============================] - 0s 11ms/step - loss: 10.8617 - mae: 10.8617\n",
            "Epoch 44/100\n",
            "1/1 [==============================] - 0s 11ms/step - loss: 10.7292 - mae: 10.7292\n",
            "Epoch 45/100\n",
            "1/1 [==============================] - 0s 13ms/step - loss: 10.5967 - mae: 10.5967\n",
            "Epoch 46/100\n",
            "1/1 [==============================] - 0s 11ms/step - loss: 10.4642 - mae: 10.4642\n",
            "Epoch 47/100\n",
            "1/1 [==============================] - 0s 10ms/step - loss: 10.3317 - mae: 10.3317\n",
            "Epoch 48/100\n",
            "1/1 [==============================] - 0s 12ms/step - loss: 10.1992 - mae: 10.1992\n",
            "Epoch 49/100\n",
            "1/1 [==============================] - 0s 13ms/step - loss: 10.0667 - mae: 10.0667\n",
            "Epoch 50/100\n",
            "1/1 [==============================] - 0s 12ms/step - loss: 9.9342 - mae: 9.9342\n",
            "Epoch 51/100\n",
            "1/1 [==============================] - 0s 12ms/step - loss: 9.8017 - mae: 9.8017\n",
            "Epoch 52/100\n",
            "1/1 [==============================] - 0s 12ms/step - loss: 9.6692 - mae: 9.6692\n",
            "Epoch 53/100\n",
            "1/1 [==============================] - 0s 11ms/step - loss: 9.5367 - mae: 9.5367\n",
            "Epoch 54/100\n",
            "1/1 [==============================] - 0s 11ms/step - loss: 9.4042 - mae: 9.4042\n",
            "Epoch 55/100\n",
            "1/1 [==============================] - 0s 10ms/step - loss: 9.2717 - mae: 9.2717\n",
            "Epoch 56/100\n",
            "1/1 [==============================] - 0s 12ms/step - loss: 9.1392 - mae: 9.1392\n",
            "Epoch 57/100\n",
            "1/1 [==============================] - 0s 11ms/step - loss: 9.0067 - mae: 9.0067\n",
            "Epoch 58/100\n",
            "1/1 [==============================] - 0s 9ms/step - loss: 8.8742 - mae: 8.8742\n",
            "Epoch 59/100\n",
            "1/1 [==============================] - 0s 10ms/step - loss: 8.7417 - mae: 8.7417\n",
            "Epoch 60/100\n",
            "1/1 [==============================] - 0s 10ms/step - loss: 8.6092 - mae: 8.6092\n",
            "Epoch 61/100\n",
            "1/1 [==============================] - 0s 10ms/step - loss: 8.4767 - mae: 8.4767\n",
            "Epoch 62/100\n",
            "1/1 [==============================] - 0s 10ms/step - loss: 8.3442 - mae: 8.3442\n",
            "Epoch 63/100\n",
            "1/1 [==============================] - 0s 13ms/step - loss: 8.2117 - mae: 8.2117\n",
            "Epoch 64/100\n",
            "1/1 [==============================] - 0s 11ms/step - loss: 8.0792 - mae: 8.0792\n",
            "Epoch 65/100\n",
            "1/1 [==============================] - 0s 10ms/step - loss: 7.9467 - mae: 7.9467\n",
            "Epoch 66/100\n",
            "1/1 [==============================] - 0s 12ms/step - loss: 7.8142 - mae: 7.8142\n",
            "Epoch 67/100\n",
            "1/1 [==============================] - 0s 12ms/step - loss: 7.6817 - mae: 7.6817\n",
            "Epoch 68/100\n",
            "1/1 [==============================] - 0s 11ms/step - loss: 7.5492 - mae: 7.5492\n",
            "Epoch 69/100\n",
            "1/1 [==============================] - 0s 11ms/step - loss: 7.4167 - mae: 7.4167\n",
            "Epoch 70/100\n",
            "1/1 [==============================] - 0s 11ms/step - loss: 7.2842 - mae: 7.2842\n",
            "Epoch 71/100\n",
            "1/1 [==============================] - 0s 11ms/step - loss: 7.1517 - mae: 7.1517\n",
            "Epoch 72/100\n",
            "1/1 [==============================] - 0s 11ms/step - loss: 7.0192 - mae: 7.0192\n",
            "Epoch 73/100\n",
            "1/1 [==============================] - 0s 9ms/step - loss: 6.9825 - mae: 6.9825\n",
            "Epoch 74/100\n",
            "1/1 [==============================] - 0s 10ms/step - loss: 6.9769 - mae: 6.9769\n",
            "Epoch 75/100\n",
            "1/1 [==============================] - 0s 11ms/step - loss: 6.9713 - mae: 6.9713\n",
            "Epoch 76/100\n",
            "1/1 [==============================] - 0s 11ms/step - loss: 6.9656 - mae: 6.9656\n",
            "Epoch 77/100\n",
            "1/1 [==============================] - 0s 13ms/step - loss: 6.9600 - mae: 6.9600\n",
            "Epoch 78/100\n",
            "1/1 [==============================] - 0s 14ms/step - loss: 6.9544 - mae: 6.9544\n",
            "Epoch 79/100\n",
            "1/1 [==============================] - 0s 12ms/step - loss: 6.9488 - mae: 6.9488\n",
            "Epoch 80/100\n",
            "1/1 [==============================] - 0s 11ms/step - loss: 6.9431 - mae: 6.9431\n",
            "Epoch 81/100\n",
            "1/1 [==============================] - 0s 11ms/step - loss: 6.9375 - mae: 6.9375\n",
            "Epoch 82/100\n",
            "1/1 [==============================] - 0s 10ms/step - loss: 6.9319 - mae: 6.9319\n",
            "Epoch 83/100\n",
            "1/1 [==============================] - 0s 11ms/step - loss: 6.9263 - mae: 6.9263\n",
            "Epoch 84/100\n",
            "1/1 [==============================] - 0s 10ms/step - loss: 6.9206 - mae: 6.9206\n",
            "Epoch 85/100\n",
            "1/1 [==============================] - 0s 11ms/step - loss: 6.9150 - mae: 6.9150\n",
            "Epoch 86/100\n",
            "1/1 [==============================] - 0s 11ms/step - loss: 6.9094 - mae: 6.9094\n",
            "Epoch 87/100\n",
            "1/1 [==============================] - 0s 11ms/step - loss: 6.9038 - mae: 6.9038\n",
            "Epoch 88/100\n",
            "1/1 [==============================] - 0s 10ms/step - loss: 6.8981 - mae: 6.8981\n",
            "Epoch 89/100\n",
            "1/1 [==============================] - 0s 10ms/step - loss: 6.8925 - mae: 6.8925\n",
            "Epoch 90/100\n",
            "1/1 [==============================] - 0s 11ms/step - loss: 6.8869 - mae: 6.8869\n",
            "Epoch 91/100\n",
            "1/1 [==============================] - 0s 11ms/step - loss: 6.8813 - mae: 6.8813\n",
            "Epoch 92/100\n",
            "1/1 [==============================] - 0s 10ms/step - loss: 6.8756 - mae: 6.8756\n",
            "Epoch 93/100\n",
            "1/1 [==============================] - 0s 11ms/step - loss: 6.8700 - mae: 6.8700\n",
            "Epoch 94/100\n",
            "1/1 [==============================] - 0s 11ms/step - loss: 6.8644 - mae: 6.8644\n",
            "Epoch 95/100\n",
            "1/1 [==============================] - 0s 11ms/step - loss: 6.8588 - mae: 6.8588\n",
            "Epoch 96/100\n",
            "1/1 [==============================] - 0s 10ms/step - loss: 6.8531 - mae: 6.8531\n",
            "Epoch 97/100\n",
            "1/1 [==============================] - 0s 11ms/step - loss: 6.8475 - mae: 6.8475\n",
            "Epoch 98/100\n",
            "1/1 [==============================] - 0s 10ms/step - loss: 6.8419 - mae: 6.8419\n",
            "Epoch 99/100\n",
            "1/1 [==============================] - 0s 11ms/step - loss: 6.8363 - mae: 6.8363\n",
            "Epoch 100/100\n",
            "1/1 [==============================] - 0s 10ms/step - loss: 6.8306 - mae: 6.8306\n"
          ]
        },
        {
          "output_type": "execute_result",
          "data": {
            "text/plain": [
              "<keras.callbacks.History at 0x7f7baeffad30>"
            ]
          },
          "metadata": {},
          "execution_count": 32
        }
      ]
    },
    {
      "cell_type": "code",
      "source": [
        "# Remind ourselfs of the data\n",
        "X, y"
      ],
      "metadata": {
        "colab": {
          "base_uri": "https://localhost:8080/"
        },
        "id": "oqUJB_ZDBi49",
        "outputId": "0a609de5-39a4-4062-e6df-4e3fdfb2470b"
      },
      "execution_count": 33,
      "outputs": [
        {
          "output_type": "execute_result",
          "data": {
            "text/plain": [
              "(<tf.Tensor: shape=(8,), dtype=float64, numpy=array([-7., -4., -1.,  2.,  5.,  8., 11., 14.])>,\n",
              " <tf.Tensor: shape=(8,), dtype=float64, numpy=array([ 3.,  6.,  9., 12., 15., 18., 21., 24.])>)"
            ]
          },
          "metadata": {},
          "execution_count": 33
        }
      ]
    },
    {
      "cell_type": "code",
      "source": [
        "# Let's see if our model's prediction has improved...\n",
        "y_pred = model.predict([17.0])\n",
        "y_pred"
      ],
      "metadata": {
        "colab": {
          "base_uri": "https://localhost:8080/"
        },
        "id": "u_IzXLwmCESU",
        "outputId": "4598a700-57c8-4ef5-cff4-60ed0c64af66"
      },
      "execution_count": 34,
      "outputs": [
        {
          "output_type": "stream",
          "name": "stderr",
          "text": [
            "WARNING:tensorflow:5 out of the last 7 calls to <function Model.make_predict_function.<locals>.predict_function at 0x7f7bad4770d0> triggered tf.function retracing. Tracing is expensive and the excessive number of tracings could be due to (1) creating @tf.function repeatedly in a loop, (2) passing tensors with different shapes, (3) passing Python objects instead of tensors. For (1), please define your @tf.function outside of the loop. For (2), @tf.function has reduce_retracing=True option that can avoid unnecessary retracing. For (3), please refer to https://www.tensorflow.org/guide/function#controlling_retracing and https://www.tensorflow.org/api_docs/python/tf/function for  more details.\n"
          ]
        },
        {
          "output_type": "stream",
          "name": "stdout",
          "text": [
            "1/1 [==============================] - 0s 237ms/step\n"
          ]
        },
        {
          "output_type": "execute_result",
          "data": {
            "text/plain": [
              "array([[29.670109]], dtype=float32)"
            ]
          },
          "metadata": {},
          "execution_count": 34
        }
      ]
    },
    {
      "cell_type": "code",
      "source": [
        "# Let's see if we can make another change to improve our model\n",
        "\n",
        "# 1. Create the model (this time with an extra hidden layers with 100 hidden units)\n",
        "model = tf.keras.Sequential([\n",
        "    tf.keras.layers.Dense(100, activation='relu'),\n",
        "    tf.keras.layers.Dense(100, activation='relu'),\n",
        "    tf.keras.layers.Dense(1)\n",
        "])\n",
        "\n",
        "# 2. Compile the model\n",
        "model.compile(loss='mae',\n",
        "              optimizer=tf.keras.optimizers.Adam(learning_rate=0.01),\n",
        "              metrics=['mae'])\n",
        "\n",
        "# 3. Fit the model\n",
        "model.fit(tf.expand_dims(X, axis=-1), y, epochs=100)"
      ],
      "metadata": {
        "colab": {
          "base_uri": "https://localhost:8080/"
        },
        "id": "FH2Q1tNSCQew",
        "outputId": "2777f610-39c7-4c22-df99-bceed3a6781c"
      },
      "execution_count": 54,
      "outputs": [
        {
          "output_type": "stream",
          "name": "stdout",
          "text": [
            "Epoch 1/100\n",
            "1/1 [==============================] - 1s 781ms/step - loss: 13.8488 - mae: 13.8488\n",
            "Epoch 2/100\n",
            "1/1 [==============================] - 0s 11ms/step - loss: 10.9710 - mae: 10.9710\n",
            "Epoch 3/100\n",
            "1/1 [==============================] - 0s 11ms/step - loss: 8.5930 - mae: 8.5930\n",
            "Epoch 4/100\n",
            "1/1 [==============================] - 0s 11ms/step - loss: 6.2278 - mae: 6.2278\n",
            "Epoch 5/100\n",
            "1/1 [==============================] - 0s 11ms/step - loss: 4.0186 - mae: 4.0186\n",
            "Epoch 6/100\n",
            "1/1 [==============================] - 0s 12ms/step - loss: 5.3094 - mae: 5.3094\n",
            "Epoch 7/100\n",
            "1/1 [==============================] - 0s 10ms/step - loss: 6.2780 - mae: 6.2780\n",
            "Epoch 8/100\n",
            "1/1 [==============================] - 0s 11ms/step - loss: 6.4164 - mae: 6.4164\n",
            "Epoch 9/100\n",
            "1/1 [==============================] - 0s 14ms/step - loss: 5.9964 - mae: 5.9964\n",
            "Epoch 10/100\n",
            "1/1 [==============================] - 0s 9ms/step - loss: 5.2391 - mae: 5.2391\n",
            "Epoch 11/100\n",
            "1/1 [==============================] - 0s 11ms/step - loss: 4.2917 - mae: 4.2917\n",
            "Epoch 12/100\n",
            "1/1 [==============================] - 0s 11ms/step - loss: 3.7842 - mae: 3.7842\n",
            "Epoch 13/100\n",
            "1/1 [==============================] - 0s 11ms/step - loss: 4.1544 - mae: 4.1544\n",
            "Epoch 14/100\n",
            "1/1 [==============================] - 0s 12ms/step - loss: 4.6625 - mae: 4.6625\n",
            "Epoch 15/100\n",
            "1/1 [==============================] - 0s 14ms/step - loss: 4.6074 - mae: 4.6074\n",
            "Epoch 16/100\n",
            "1/1 [==============================] - 0s 10ms/step - loss: 4.0205 - mae: 4.0205\n",
            "Epoch 17/100\n",
            "1/1 [==============================] - 0s 10ms/step - loss: 3.4078 - mae: 3.4078\n",
            "Epoch 18/100\n",
            "1/1 [==============================] - 0s 9ms/step - loss: 3.4595 - mae: 3.4595\n",
            "Epoch 19/100\n",
            "1/1 [==============================] - 0s 10ms/step - loss: 3.8523 - mae: 3.8523\n",
            "Epoch 20/100\n",
            "1/1 [==============================] - 0s 11ms/step - loss: 3.9608 - mae: 3.9608\n",
            "Epoch 21/100\n",
            "1/1 [==============================] - 0s 10ms/step - loss: 3.8363 - mae: 3.8363\n",
            "Epoch 22/100\n",
            "1/1 [==============================] - 0s 10ms/step - loss: 3.3745 - mae: 3.3745\n",
            "Epoch 23/100\n",
            "1/1 [==============================] - 0s 10ms/step - loss: 2.9604 - mae: 2.9604\n",
            "Epoch 24/100\n",
            "1/1 [==============================] - 0s 10ms/step - loss: 2.7462 - mae: 2.7462\n",
            "Epoch 25/100\n",
            "1/1 [==============================] - 0s 12ms/step - loss: 2.7598 - mae: 2.7598\n",
            "Epoch 26/100\n",
            "1/1 [==============================] - 0s 10ms/step - loss: 2.6003 - mae: 2.6003\n",
            "Epoch 27/100\n",
            "1/1 [==============================] - 0s 16ms/step - loss: 2.2530 - mae: 2.2530\n",
            "Epoch 28/100\n",
            "1/1 [==============================] - 0s 9ms/step - loss: 1.9828 - mae: 1.9828\n",
            "Epoch 29/100\n",
            "1/1 [==============================] - 0s 9ms/step - loss: 1.9354 - mae: 1.9354\n",
            "Epoch 30/100\n",
            "1/1 [==============================] - 0s 14ms/step - loss: 1.7379 - mae: 1.7379\n",
            "Epoch 31/100\n",
            "1/1 [==============================] - 0s 11ms/step - loss: 1.2145 - mae: 1.2145\n",
            "Epoch 32/100\n",
            "1/1 [==============================] - 0s 12ms/step - loss: 1.2617 - mae: 1.2617\n",
            "Epoch 33/100\n",
            "1/1 [==============================] - 0s 12ms/step - loss: 0.5861 - mae: 0.5861\n",
            "Epoch 34/100\n",
            "1/1 [==============================] - 0s 14ms/step - loss: 1.2795 - mae: 1.2795\n",
            "Epoch 35/100\n",
            "1/1 [==============================] - 0s 11ms/step - loss: 0.9933 - mae: 0.9933\n",
            "Epoch 36/100\n",
            "1/1 [==============================] - 0s 11ms/step - loss: 0.7747 - mae: 0.7747\n",
            "Epoch 37/100\n",
            "1/1 [==============================] - 0s 12ms/step - loss: 1.0196 - mae: 1.0196\n",
            "Epoch 38/100\n",
            "1/1 [==============================] - 0s 12ms/step - loss: 0.6751 - mae: 0.6751\n",
            "Epoch 39/100\n",
            "1/1 [==============================] - 0s 11ms/step - loss: 1.1167 - mae: 1.1167\n",
            "Epoch 40/100\n",
            "1/1 [==============================] - 0s 12ms/step - loss: 1.2396 - mae: 1.2396\n",
            "Epoch 41/100\n",
            "1/1 [==============================] - 0s 11ms/step - loss: 0.4429 - mae: 0.4429\n",
            "Epoch 42/100\n",
            "1/1 [==============================] - 0s 13ms/step - loss: 1.1295 - mae: 1.1295\n",
            "Epoch 43/100\n",
            "1/1 [==============================] - 0s 11ms/step - loss: 1.3890 - mae: 1.3890\n",
            "Epoch 44/100\n",
            "1/1 [==============================] - 0s 12ms/step - loss: 1.2196 - mae: 1.2196\n",
            "Epoch 45/100\n",
            "1/1 [==============================] - 0s 13ms/step - loss: 0.3809 - mae: 0.3809\n",
            "Epoch 46/100\n",
            "1/1 [==============================] - 0s 12ms/step - loss: 1.2181 - mae: 1.2181\n",
            "Epoch 47/100\n",
            "1/1 [==============================] - 0s 12ms/step - loss: 1.8390 - mae: 1.8390\n",
            "Epoch 48/100\n",
            "1/1 [==============================] - 0s 12ms/step - loss: 1.6694 - mae: 1.6694\n",
            "Epoch 49/100\n",
            "1/1 [==============================] - 0s 11ms/step - loss: 0.9384 - mae: 0.9384\n",
            "Epoch 50/100\n",
            "1/1 [==============================] - 0s 11ms/step - loss: 0.7395 - mae: 0.7395\n",
            "Epoch 51/100\n",
            "1/1 [==============================] - 0s 11ms/step - loss: 1.1398 - mae: 1.1398\n",
            "Epoch 52/100\n",
            "1/1 [==============================] - 0s 10ms/step - loss: 1.0420 - mae: 1.0420\n",
            "Epoch 53/100\n",
            "1/1 [==============================] - 0s 12ms/step - loss: 0.5956 - mae: 0.5956\n",
            "Epoch 54/100\n",
            "1/1 [==============================] - 0s 12ms/step - loss: 0.8081 - mae: 0.8081\n",
            "Epoch 55/100\n",
            "1/1 [==============================] - 0s 12ms/step - loss: 0.7991 - mae: 0.7991\n",
            "Epoch 56/100\n",
            "1/1 [==============================] - 0s 10ms/step - loss: 0.5071 - mae: 0.5071\n",
            "Epoch 57/100\n",
            "1/1 [==============================] - 0s 11ms/step - loss: 0.7689 - mae: 0.7689\n",
            "Epoch 58/100\n",
            "1/1 [==============================] - 0s 11ms/step - loss: 0.6836 - mae: 0.6836\n",
            "Epoch 59/100\n",
            "1/1 [==============================] - 0s 15ms/step - loss: 0.4685 - mae: 0.4685\n",
            "Epoch 60/100\n",
            "1/1 [==============================] - 0s 16ms/step - loss: 0.5803 - mae: 0.5803\n",
            "Epoch 61/100\n",
            "1/1 [==============================] - 0s 13ms/step - loss: 0.3332 - mae: 0.3332\n",
            "Epoch 62/100\n",
            "1/1 [==============================] - 0s 13ms/step - loss: 0.2924 - mae: 0.2924\n",
            "Epoch 63/100\n",
            "1/1 [==============================] - 0s 10ms/step - loss: 0.2504 - mae: 0.2504\n",
            "Epoch 64/100\n",
            "1/1 [==============================] - 0s 12ms/step - loss: 0.4175 - mae: 0.4175\n",
            "Epoch 65/100\n",
            "1/1 [==============================] - 0s 11ms/step - loss: 0.3270 - mae: 0.3270\n",
            "Epoch 66/100\n",
            "1/1 [==============================] - 0s 11ms/step - loss: 0.5203 - mae: 0.5203\n",
            "Epoch 67/100\n",
            "1/1 [==============================] - 0s 12ms/step - loss: 0.5352 - mae: 0.5352\n",
            "Epoch 68/100\n",
            "1/1 [==============================] - 0s 11ms/step - loss: 0.1919 - mae: 0.1919\n",
            "Epoch 69/100\n",
            "1/1 [==============================] - 0s 12ms/step - loss: 0.8098 - mae: 0.8098\n",
            "Epoch 70/100\n",
            "1/1 [==============================] - 0s 12ms/step - loss: 0.9598 - mae: 0.9598\n",
            "Epoch 71/100\n",
            "1/1 [==============================] - 0s 11ms/step - loss: 0.5028 - mae: 0.5028\n",
            "Epoch 72/100\n",
            "1/1 [==============================] - 0s 12ms/step - loss: 0.6273 - mae: 0.6273\n",
            "Epoch 73/100\n",
            "1/1 [==============================] - 0s 12ms/step - loss: 0.8864 - mae: 0.8864\n",
            "Epoch 74/100\n",
            "1/1 [==============================] - 0s 9ms/step - loss: 0.6890 - mae: 0.6890\n",
            "Epoch 75/100\n",
            "1/1 [==============================] - 0s 12ms/step - loss: 0.2128 - mae: 0.2128\n",
            "Epoch 76/100\n",
            "1/1 [==============================] - 0s 11ms/step - loss: 0.5293 - mae: 0.5293\n",
            "Epoch 77/100\n",
            "1/1 [==============================] - 0s 10ms/step - loss: 0.3801 - mae: 0.3801\n",
            "Epoch 78/100\n",
            "1/1 [==============================] - 0s 10ms/step - loss: 0.3409 - mae: 0.3409\n",
            "Epoch 79/100\n",
            "1/1 [==============================] - 0s 11ms/step - loss: 0.3218 - mae: 0.3218\n",
            "Epoch 80/100\n",
            "1/1 [==============================] - 0s 10ms/step - loss: 0.2656 - mae: 0.2656\n",
            "Epoch 81/100\n",
            "1/1 [==============================] - 0s 10ms/step - loss: 0.3589 - mae: 0.3589\n",
            "Epoch 82/100\n",
            "1/1 [==============================] - 0s 12ms/step - loss: 0.2130 - mae: 0.2130\n",
            "Epoch 83/100\n",
            "1/1 [==============================] - 0s 10ms/step - loss: 0.4011 - mae: 0.4011\n",
            "Epoch 84/100\n",
            "1/1 [==============================] - 0s 11ms/step - loss: 0.1975 - mae: 0.1975\n",
            "Epoch 85/100\n",
            "1/1 [==============================] - 0s 11ms/step - loss: 0.5215 - mae: 0.5215\n",
            "Epoch 86/100\n",
            "1/1 [==============================] - 0s 11ms/step - loss: 0.4570 - mae: 0.4570\n",
            "Epoch 87/100\n",
            "1/1 [==============================] - 0s 15ms/step - loss: 0.1699 - mae: 0.1699\n",
            "Epoch 88/100\n",
            "1/1 [==============================] - 0s 14ms/step - loss: 0.2859 - mae: 0.2859\n",
            "Epoch 89/100\n",
            "1/1 [==============================] - 0s 11ms/step - loss: 0.1173 - mae: 0.1173\n",
            "Epoch 90/100\n",
            "1/1 [==============================] - 0s 11ms/step - loss: 0.1251 - mae: 0.1251\n",
            "Epoch 91/100\n",
            "1/1 [==============================] - 0s 12ms/step - loss: 0.2485 - mae: 0.2485\n",
            "Epoch 92/100\n",
            "1/1 [==============================] - 0s 12ms/step - loss: 0.0671 - mae: 0.0671\n",
            "Epoch 93/100\n",
            "1/1 [==============================] - 0s 12ms/step - loss: 0.3280 - mae: 0.3280\n",
            "Epoch 94/100\n",
            "1/1 [==============================] - 0s 17ms/step - loss: 0.0805 - mae: 0.0805\n",
            "Epoch 95/100\n",
            "1/1 [==============================] - 0s 12ms/step - loss: 0.5484 - mae: 0.5484\n",
            "Epoch 96/100\n",
            "1/1 [==============================] - 0s 11ms/step - loss: 0.5679 - mae: 0.5679\n",
            "Epoch 97/100\n",
            "1/1 [==============================] - 0s 11ms/step - loss: 0.0940 - mae: 0.0940\n",
            "Epoch 98/100\n",
            "1/1 [==============================] - 0s 11ms/step - loss: 0.8794 - mae: 0.8794\n",
            "Epoch 99/100\n",
            "1/1 [==============================] - 0s 14ms/step - loss: 1.1161 - mae: 1.1161\n",
            "Epoch 100/100\n",
            "1/1 [==============================] - 0s 11ms/step - loss: 0.7291 - mae: 0.7291\n"
          ]
        },
        {
          "output_type": "execute_result",
          "data": {
            "text/plain": [
              "<keras.callbacks.History at 0x7f7bad0cc370>"
            ]
          },
          "metadata": {},
          "execution_count": 54
        }
      ]
    },
    {
      "cell_type": "code",
      "source": [
        "# Let's remind ourselves of the data\n",
        "X, y"
      ],
      "metadata": {
        "id": "4luz-p5cFBgl",
        "outputId": "e76e5fc2-8c4e-4aef-f5ea-89d7d34d6bed",
        "colab": {
          "base_uri": "https://localhost:8080/"
        }
      },
      "execution_count": 38,
      "outputs": [
        {
          "output_type": "execute_result",
          "data": {
            "text/plain": [
              "(<tf.Tensor: shape=(8,), dtype=float64, numpy=array([-7., -4., -1.,  2.,  5.,  8., 11., 14.])>,\n",
              " <tf.Tensor: shape=(8,), dtype=float64, numpy=array([ 3.,  6.,  9., 12., 15., 18., 21., 24.])>)"
            ]
          },
          "metadata": {},
          "execution_count": 38
        }
      ]
    },
    {
      "cell_type": "code",
      "source": [
        "# Let's try to make a prediction\n",
        "model.predict([17.0])"
      ],
      "metadata": {
        "id": "eKmmD2IwFYXv",
        "outputId": "bf438cbb-4d18-4737-fa8b-3a1cb9faaa0e",
        "colab": {
          "base_uri": "https://localhost:8080/"
        }
      },
      "execution_count": 55,
      "outputs": [
        {
          "output_type": "stream",
          "name": "stdout",
          "text": [
            "1/1 [==============================] - 0s 86ms/step\n"
          ]
        },
        {
          "output_type": "execute_result",
          "data": {
            "text/plain": [
              "array([[27.076963]], dtype=float32)"
            ]
          },
          "metadata": {},
          "execution_count": 55
        }
      ]
    },
    {
      "cell_type": "code",
      "source": [],
      "metadata": {
        "id": "ElJnFJ41Fd9_"
      },
      "execution_count": 43,
      "outputs": []
    }
  ]
}